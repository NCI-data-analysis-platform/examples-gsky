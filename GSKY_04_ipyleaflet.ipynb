{
 "cells": [
  {
   "cell_type": "markdown",
   "metadata": {},
   "source": [
    "<div>\n",
    "<img src=\"./images/NCI_Australia_logo.png\" width=\"300\" align=\"left\"/>\n",
    "</div>"
   ]
  },
  {
   "cell_type": "markdown",
   "metadata": {
    "extensions": {
     "jupyter_dashboards": {
      "version": 1,
      "views": {
       "grid_default": {
        "col": 0,
        "height": 13,
        "hidden": false,
        "row": 0,
        "width": 12
       },
       "report_default": {}
      }
     }
    }
   },
   "source": [
    "\n",
    "\n",
    "## GSKY WMS with ipyleafet and widgets\n",
    "\n",
    "**Please note:** If the images/maps below are not shown, please click [here](https://nbviewer.jupyter.org/github/nci/gsky-demos/blob/master/Notebook_GSKY_WMS_ipyleaflet.ipynb?flush_cache=true) to see a completed preview of the interactive features of this notebook.\n",
    "\n"
   ]
  },
  {
   "cell_type": "markdown",
   "metadata": {
    "extensions": {
     "jupyter_dashboards": {
      "version": 1,
      "views": {
       "grid_default": {
        "col": 0,
        "height": 4,
        "hidden": false,
        "row": 13,
        "width": 4
       },
       "report_default": {}
      }
     }
    }
   },
   "source": [
    "**The following libraries will need to be imported for the below example.** "
   ]
  },
  {
   "cell_type": "code",
   "execution_count": 1,
   "metadata": {
    "extensions": {
     "jupyter_dashboards": {
      "version": 1,
      "views": {
       "grid_default": {
        "hidden": true
       },
       "report_default": {}
      }
     }
    }
   },
   "outputs": [],
   "source": [
    "from __future__ import print_function\n",
    "from ipyleaflet import WMSLayer, Map, LayersControl\n",
    "from ipywidgets import interact, interactive, fixed, interact_manual\n",
    "import ipywidgets as widgets\n",
    "from IPython.display import display\n",
    "from owslib.wms import WebMapService"
   ]
  },
  {
   "cell_type": "code",
   "execution_count": 2,
   "metadata": {
    "extensions": {
     "jupyter_dashboards": {
      "version": 1,
      "views": {
       "grid_default": {
        "hidden": true
       },
       "report_default": {}
      }
     }
    }
   },
   "outputs": [],
   "source": [
    "gsky_url = 'http://gsky.nci.org.au/ows/dea'\n",
    "wms = WebMapService(gsky_url, version='1.3.0')\n",
    "available_layers = list(wms.contents)"
   ]
  },
  {
   "cell_type": "markdown",
   "metadata": {
    "extensions": {
     "jupyter_dashboards": {
      "version": 1,
      "views": {
       "grid_default": {
        "col": 4,
        "height": 4,
        "hidden": false,
        "row": 13,
        "width": 4
       },
       "report_default": {}
      }
     }
    }
   },
   "source": [
    "### Defining widgets\n",
    "\n",
    "**Let's begin by defining some widgets for GSKY layers, times, latitudes and longitudes:**"
   ]
  },
  {
   "cell_type": "code",
   "execution_count": 3,
   "metadata": {
    "extensions": {
     "jupyter_dashboards": {
      "version": 1,
      "views": {
       "grid_default": {
        "hidden": true
       },
       "report_default": {}
      }
     }
    }
   },
   "outputs": [],
   "source": [
    "# LS5 NBAR & NBART layers\n",
    "\n",
    "layer = widgets.Select(\n",
    "    options = available_layers,\n",
    "    description='Layer:',\n",
    "    disabled=False\n",
    ")\n",
    "\n",
    "\n",
    "# Latitudes\n",
    "\n",
    "lat_slider = widgets.IntSlider(\n",
    "    value=37,\n",
    "    min=-43,\n",
    "    max=-10,\n",
    "    step=1,\n",
    "    description='Lat:',\n",
    "    disabled=False,\n",
    "    continuous_update=False,\n",
    "    orientation='horizontal',\n",
    "    readout=True,\n",
    "    readout_format='d'\n",
    ")\n",
    "\n",
    "# Longitude\n",
    "\n",
    "lon_slider = widgets.IntSlider(\n",
    "    value=89,\n",
    "    min=113,\n",
    "    max=153,\n",
    "    step=1,\n",
    "    description='Lon:',\n",
    "    disabled=False,\n",
    "    continuous_update=False,\n",
    "    orientation='horizontal',\n",
    "    readout=True,\n",
    "    readout_format='d'\n",
    ")"
   ]
  },
  {
   "cell_type": "markdown",
   "metadata": {
    "extensions": {
     "jupyter_dashboards": {
      "version": 1,
      "views": {
       "grid_default": {
        "col": 8,
        "height": 4,
        "hidden": false,
        "row": 13,
        "width": 4
       },
       "report_default": {}
      }
     }
    }
   },
   "source": [
    "### Selecting Layers\n",
    "\n",
    "\n",
    "**Now we can start by first selecting the layer and (lat, lon) region we would like to view:**"
   ]
  },
  {
   "cell_type": "code",
   "execution_count": 4,
   "metadata": {
    "extensions": {
     "jupyter_dashboards": {
      "version": 1,
      "views": {
       "grid_default": {
        "col": 0,
        "height": 7,
        "hidden": false,
        "row": 17,
        "width": 4
       },
       "report_default": {}
      }
     }
    }
   },
   "outputs": [
    {
     "data": {
      "application/vnd.jupyter.widget-view+json": {
       "model_id": "ee5b75588eaf46218f26e32fb2c5a36f",
       "version_major": 2,
       "version_minor": 0
      },
      "text/plain": [
       "Select(description='Layer:', options=('blend_sentinel2_landsat_nbart_daily', 'hltc_high', 'hltc_low', 'item_re…"
      ]
     },
     "metadata": {},
     "output_type": "display_data"
    },
    {
     "data": {
      "application/vnd.jupyter.widget-view+json": {
       "model_id": "631c0bb287fc4cfdaf324e989b5f257f",
       "version_major": 2,
       "version_minor": 0
      },
      "text/plain": [
       "IntSlider(value=-10, continuous_update=False, description='Lat:', max=-10, min=-43)"
      ]
     },
     "metadata": {},
     "output_type": "display_data"
    },
    {
     "data": {
      "application/vnd.jupyter.widget-view+json": {
       "model_id": "0f827890aba44fa588429f5657af4882",
       "version_major": 2,
       "version_minor": 0
      },
      "text/plain": [
       "IntSlider(value=113, continuous_update=False, description='Lon:', max=153, min=113)"
      ]
     },
     "metadata": {},
     "output_type": "display_data"
    }
   ],
   "source": [
    "display(layer)\n",
    "display(lat_slider)\n",
    "display(lon_slider)"
   ]
  },
  {
   "cell_type": "markdown",
   "metadata": {
    "extensions": {
     "jupyter_dashboards": {
      "version": 1,
      "views": {
       "grid_default": {
        "col": 4,
        "height": 4,
        "hidden": false,
        "row": 17,
        "width": 4
       },
       "report_default": {}
      }
     }
    }
   },
   "source": [
    "**Next, we'll ask GSKY what the available time positions are and select one:**"
   ]
  },
  {
   "cell_type": "code",
   "execution_count": 5,
   "metadata": {
    "extensions": {
     "jupyter_dashboards": {
      "version": 1,
      "views": {
       "grid_default": {
        "hidden": true
       },
       "report_default": {}
      }
     }
    }
   },
   "outputs": [],
   "source": [
    "date = widgets.Select(\n",
    "    options=wms[format(layer.value)].timepositions,\n",
    "    description='Date:',\n",
    "    disabled=False\n",
    ")"
   ]
  },
  {
   "cell_type": "code",
   "execution_count": 6,
   "metadata": {
    "extensions": {
     "jupyter_dashboards": {
      "version": 1,
      "views": {
       "grid_default": {
        "col": 8,
        "height": 4,
        "hidden": false,
        "row": 17,
        "width": 4
       },
       "report_default": {}
      }
     }
    }
   },
   "outputs": [
    {
     "data": {
      "application/vnd.jupyter.widget-view+json": {
       "model_id": "52b5e5a0d53241b790cfa03a9a74cae6",
       "version_major": 2,
       "version_minor": 0
      },
      "text/plain": [
       "Select(description='Date:', options=('2013-03-19T00:00:00.000Z', '2013-04-04T00:00:00.000Z', '2013-04-20T00:00…"
      ]
     },
     "metadata": {},
     "output_type": "display_data"
    }
   ],
   "source": [
    "display(date)"
   ]
  },
  {
   "cell_type": "code",
   "execution_count": 7,
   "metadata": {},
   "outputs": [],
   "source": [
    "styles = widgets.Select(\n",
    "    options=wms[layer.value].styles,\n",
    "    description='Style:',\n",
    "    disabled=False\n",
    ")"
   ]
  },
  {
   "cell_type": "code",
   "execution_count": 8,
   "metadata": {},
   "outputs": [
    {
     "data": {
      "application/vnd.jupyter.widget-view+json": {
       "model_id": "d8d3ef573aed41e2be8d43df3a628f04",
       "version_major": 2,
       "version_minor": 0
      },
      "text/plain": [
       "Select(description='Style:', options={'fc': {'title': 'False colour'}, 'tc': {'title': 'True colour'}, 'NDVI':…"
      ]
     },
     "metadata": {},
     "output_type": "display_data"
    }
   ],
   "source": [
    "display(styles)"
   ]
  },
  {
   "cell_type": "markdown",
   "metadata": {
    "extensions": {
     "jupyter_dashboards": {
      "version": 1,
      "views": {
       "grid_default": {
        "col": 4,
        "height": 4,
        "hidden": false,
        "row": 21,
        "width": 4
       },
       "report_default": {}
      }
     }
    }
   },
   "source": [
    "**Let's confirm the variables we have chosen:**"
   ]
  },
  {
   "cell_type": "code",
   "execution_count": 9,
   "metadata": {
    "extensions": {
     "jupyter_dashboards": {
      "version": 1,
      "views": {
       "grid_default": {
        "col": 8,
        "height": 4,
        "hidden": false,
        "row": 21,
        "width": 4
       },
       "report_default": {}
      }
     }
    },
    "scrolled": true
   },
   "outputs": [
    {
     "name": "stdout",
     "output_type": "stream",
     "text": [
      "latitude = -32\n",
      "longitude = 129\n",
      "layer = landsat8_nbar_16day\n",
      "date = 2017-03-30T00:00:00.000Z\n",
      "style = {'title': 'True colour'}\n"
     ]
    }
   ],
   "source": [
    "print('latitude = {0}'.format(lat_slider.value))\n",
    "print('longitude = {0}'.format(lon_slider.value))\n",
    "print('layer = {0}'.format(layer.value))\n",
    "print('date = {0}'.format(date.value))\n",
    "print('style = {0}'.format(styles.value))"
   ]
  },
  {
   "cell_type": "markdown",
   "metadata": {
    "extensions": {
     "jupyter_dashboards": {
      "version": 1,
      "views": {
       "grid_default": {
        "col": 0,
        "height": 4,
        "hidden": false,
        "row": 24,
        "width": 4
       },
       "report_default": {}
      }
     }
    }
   },
   "source": [
    "### Adding layers to the ipyleaflet Map \n",
    "\n",
    "**Let's use the ipyleaflet Map function to plot a map with a center of our lat and lon values.** "
   ]
  },
  {
   "cell_type": "code",
   "execution_count": 10,
   "metadata": {
    "extensions": {
     "jupyter_dashboards": {
      "version": 1,
      "views": {
       "grid_default": {
        "col": 4,
        "height": 15,
        "hidden": false,
        "row": 25,
        "width": 4
       },
       "report_default": {}
      }
     }
    }
   },
   "outputs": [
    {
     "data": {
      "application/vnd.jupyter.widget-view+json": {
       "model_id": "423cb05b25af46d1aa9f2214ee92d43f",
       "version_major": 2,
       "version_minor": 0
      },
      "text/plain": [
       "Map(basemap={'url': 'https://{s}.tile.openstreetmap.org/{z}/{x}/{y}.png', 'max_zoom': 19, 'attribution': 'Map …"
      ]
     },
     "metadata": {},
     "output_type": "display_data"
    }
   ],
   "source": [
    "wms = WMSLayer(url='http://gsky.nci.org.au/ows/dea', \n",
    "                layers=layer.value,\n",
    "                name='True Colour',\n",
    "                time=date.value,\n",
    "                tile_size=35,\n",
    "                transparent=False, \n",
    "                opacity=1,\n",
    "                styles='tc')\n",
    "\n",
    "m = Map(layers=(wms,), center=(lat_slider.value, lon_slider.value), zoom=9)\n",
    "m\n",
    "# Note: we have to zoom in sufficiently so that our gsky wms layer will show. A zoom of 9 should be sufficient for this demonstration."
   ]
  },
  {
   "cell_type": "markdown",
   "metadata": {
    "extensions": {
     "jupyter_dashboards": {
      "version": 1,
      "views": {
       "grid_default": {
        "col": 8,
        "height": 4,
        "hidden": false,
        "row": 25,
        "width": 4
       },
       "report_default": {}
      }
     }
    }
   },
   "source": [
    "**We can add additional layers from the collection and add them to a layer manager.** "
   ]
  },
  {
   "cell_type": "code",
   "execution_count": 11,
   "metadata": {
    "extensions": {
     "jupyter_dashboards": {
      "version": 1,
      "views": {
       "grid_default": {
        "col": 0,
        "height": 15,
        "hidden": false,
        "row": 28,
        "width": 4
       },
       "report_default": {}
      }
     }
    },
    "scrolled": true
   },
   "outputs": [
    {
     "data": {
      "application/vnd.jupyter.widget-view+json": {
       "model_id": "65de1612b2fb4715bafc08b9dbf5aa79",
       "version_major": 2,
       "version_minor": 0
      },
      "text/plain": [
       "Map(basemap={'url': 'https://{s}.tile.openstreetmap.org/{z}/{x}/{y}.png', 'max_zoom': 19, 'attribution': 'Map …"
      ]
     },
     "metadata": {},
     "output_type": "display_data"
    }
   ],
   "source": [
    "wms1 = WMSLayer(url='http://gsky.nci.org.au/ows/dea', \n",
    "                layers='landsat8_nbar_16day',\n",
    "                name='False Colour',\n",
    "                styles='fc',\n",
    "                time=date.value,\n",
    "                transparent=True)\n",
    "\n",
    "wms2 = WMSLayer(url='http://gsky.nci.org.au/ows/dea', \n",
    "                layers='landsat8_nbar_16day',\n",
    "                name='NDVI',\n",
    "                styles='NDVI',\n",
    "                time=date.value,\n",
    "                transparent=True,\n",
    "                opacity=1)\n",
    "\n",
    "m2 = Map(layers=(wms2,wms, wms1), center=(lat_slider.value, lon_slider.value), zoom=9)\n",
    "m2.add_control(LayersControl())\n",
    "m2"
   ]
  },
  {
   "cell_type": "markdown",
   "metadata": {},
   "source": [
    "----\n",
    "**The following material uses Geoscience Australia's Earth Observation Collection. Additional information about this data collection can be found** [here](https://geonetwork.nci.org.au/geonetwork/srv/eng/catalog.search#/metadata/3a2cd509-0e82-4381-98c7-522756da533b)\n",
    "\n",
    "**For this tutorial we will explore the ipyleaflet Jupyter widgets. For information on ipyleaflet and how to clone and installing, please visit** [here](https://github.com/jupyter-widgets/ipyleaflet)"
   ]
  }
 ],
 "metadata": {
  "extensions": {
   "jupyter_dashboards": {
    "activeView": "grid_default",
    "version": 1,
    "views": {
     "grid_default": {
      "cellMargin": 10,
      "defaultCellHeight": 20,
      "maxColumns": 12,
      "name": "grid",
      "type": "grid"
     },
     "report_default": {
      "name": "report",
      "type": "report"
     }
    }
   }
  },
  "kernelspec": {
   "display_name": "Python 3",
   "language": "python",
   "name": "python3"
  },
  "language_info": {
   "codemirror_mode": {
    "name": "ipython",
    "version": 3
   },
   "file_extension": ".py",
   "mimetype": "text/x-python",
   "name": "python",
   "nbconvert_exporter": "python",
   "pygments_lexer": "ipython3",
   "version": "3.6.9"
  },
  "widgets": {
   "application/vnd.jupyter.widget-state+json": {
    "state": {
     "004435725509419fa82e1c2370a1ffb4": {
      "model_module": "@jupyter-widgets/base",
      "model_module_version": "1.1.0",
      "model_name": "LayoutModel",
      "state": {}
     },
     "017876e66b96439eb7002943496bc8f3": {
      "model_module": "jupyter-leaflet",
      "model_module_version": "~0.9.0",
      "model_name": "LeafletWMSLayerModel",
      "state": {
       "_model_module_version": "~0.9.0",
       "_view_count": null,
       "_view_module_version": "~0.9.0",
       "layers": "LS8:GEOMEDIAN:FALSE",
       "name": "LS8:GEOMEDIAN:FALSE",
       "options": [
        "styles",
        "crs",
        "attribution",
        "layers",
        "uppercase",
        "format",
        "max_zoom",
        "detect_retina",
        "min_zoom",
        "tile_size",
        "transparent"
       ],
       "tile_size": 35,
       "transparent": true,
       "url": "http://gsky.nci.org.au/ows"
      }
     },
     "02dba2fe2e904acb8b56e529d5da57f6": {
      "model_module": "@jupyter-widgets/controls",
      "model_module_version": "1.3.0",
      "model_name": "VBoxModel",
      "state": {
       "_dom_classes": [
        "widget-interact"
       ],
       "children": [
        "IPY_MODEL_c5e7853c1add4ecb93df511769e8756c"
       ],
       "layout": "IPY_MODEL_a41b59424b9f48199325c2bae7eb72df"
      }
     },
     "031bba481f9b4e0b97c730cd1725d549": {
      "model_module": "jupyter-leaflet",
      "model_module_version": "~0.9.0",
      "model_name": "LeafletWMSLayerModel",
      "state": {
       "_model_module_version": "~0.9.0",
       "_view_count": null,
       "_view_module_version": "~0.9.0",
       "layers": "hltc:high:fc",
       "name": "hltc:high:fc",
       "options": [
        "styles",
        "crs",
        "attribution",
        "layers",
        "uppercase",
        "format",
        "max_zoom",
        "detect_retina",
        "min_zoom",
        "tile_size",
        "transparent"
       ],
       "url": "http://gsky.nci.org.au/ows"
      }
     },
     "033ba0f9fbe2491cab15b428bf8a0529": {
      "model_module": "@jupyter-widgets/controls",
      "model_module_version": "1.3.0",
      "model_name": "IntSliderModel",
      "state": {
       "continuous_update": false,
       "description": "Lat:",
       "layout": "IPY_MODEL_4776df53ffd344ae9a009867e5ef3805",
       "max": -10,
       "min": -43,
       "style": "IPY_MODEL_e4828374eb124e59823da4cfe5d5eccf",
       "value": -19
      }
     },
     "038d6a8b9e7d43fab0e5c863c1ccbd7b": {
      "model_module": "@jupyter-widgets/controls",
      "model_module_version": "1.3.0",
      "model_name": "DescriptionStyleModel",
      "state": {
       "description_width": ""
      }
     },
     "03bc45fe96774f3aac96f5dfa9ee5eca": {
      "model_module": "@jupyter-widgets/controls",
      "model_module_version": "1.3.0",
      "model_name": "DescriptionStyleModel",
      "state": {
       "description_width": ""
      }
     },
     "03d95be836b14507a47106209c40857f": {
      "model_module": "jupyter-leaflet",
      "model_module_version": "~0.9.0",
      "model_name": "LeafletMapModel",
      "state": {
       "_dom_classes": [],
       "_model_module_version": "~0.9.0",
       "_view_count": null,
       "_view_module_version": "~0.9.0",
       "basemap": {
        "attribution": "Map data (c) <a href=\"https://openstreetmap.org\">OpenStreetMap</a> contributors",
        "max_zoom": 19,
        "url": "https://{s}.tile.openstreetmap.org/{z}/{x}/{y}.png"
       },
       "center": [
        -33.91632640096631,
        151.42438888549808
       ],
       "controls": [
        "IPY_MODEL_aa63a815d6094165beac81bb42cd7bc4"
       ],
       "east": 154.1187858581543,
       "interpolation": "bilinear",
       "layers": [
        "IPY_MODEL_1daf2cefa47f48479e42bb913d6be16b",
        "IPY_MODEL_4062c2182f424b8ba5c2b6799964551d",
        "IPY_MODEL_8504a99376de42d896ba02903ac3b790"
       ],
       "layout": "IPY_MODEL_b8f8cdd6a7514084aa81be0d08a312b1",
       "modisdate": "yesterday",
       "north": -32.99976662531739,
       "options": [
        "keyboard_pan_offset",
        "tap",
        "attribution_control",
        "max_zoom",
        "min_zoom",
        "bounce_at_zoom_limits",
        "keyboard",
        "scroll_wheel_zoom",
        "dragging",
        "inertia_max_speed",
        "close_popup_on_click",
        "zoom_control",
        "box_zoom",
        "double_click_zoom",
        "interpolation",
        "tap_tolerance",
        "zoom_start",
        "keyboard_zoom_offset",
        "inertia_deceleration",
        "inertia",
        "center",
        "zoom",
        "world_copy_jump",
        "zoom_animation_threshold",
        "touch_zoom",
        "basemap"
       ],
       "south": -34.823132641810254,
       "west": 148.72999191284183,
       "zoom": 8
      }
     },
     "042620f3bf874621892073b2797025f1": {
      "model_module": "@jupyter-widgets/base",
      "model_module_version": "1.1.0",
      "model_name": "LayoutModel",
      "state": {}
     },
     "0518b48d139a4673b09eb6e749c22734": {
      "model_module": "@jupyter-widgets/controls",
      "model_module_version": "1.3.0",
      "model_name": "SelectModel",
      "state": {
       "_options_labels": [
        "2014-01-01T00:00:00.000Z",
        "2015-01-01T00:00:00.000Z",
        "2016-01-01T00:00:00.000Z",
        "2017-01-01T00:00:00.000Z"
       ],
       "description": "Date:",
       "index": 3,
       "layout": "IPY_MODEL_0c38c5267f5e47128011c9566222dcf4",
       "style": "IPY_MODEL_c52f83e88bc240f697cab670cc3764d7"
      }
     },
     "057e6dc7c2d7483fb302c36387edcbb5": {
      "model_module": "@jupyter-widgets/base",
      "model_module_version": "1.1.0",
      "model_name": "LayoutModel",
      "state": {}
     },
     "05ee17f5134a49c4a8e9ff0521ffb37d": {
      "model_module": "@jupyter-widgets/base",
      "model_module_version": "1.1.0",
      "model_name": "LayoutModel",
      "state": {}
     },
     "062e8c23152744b0a7fa6628422fd822": {
      "model_module": "jupyter-leaflet",
      "model_module_version": "~0.9.0",
      "model_name": "LeafletWMSLayerModel",
      "state": {
       "_model_module_version": "~0.9.0",
       "_view_count": null,
       "_view_module_version": "~0.9.0",
       "layers": "nasa:bluemarble",
       "name": "nasa:bluemarble",
       "options": [
        "styles",
        "crs",
        "attribution",
        "layers",
        "uppercase",
        "format",
        "max_zoom",
        "detect_retina",
        "min_zoom",
        "tile_size",
        "transparent"
       ],
       "url": "https://demo.boundlessgeo.com/geoserver/ows?"
      }
     },
     "064fba19acfd4df39b3ef68d65a96bca": {
      "model_module": "jupyter-leaflet",
      "model_module_version": "~0.9.0",
      "model_name": "LeafletTileLayerModel",
      "state": {
       "_model_module_version": "~0.9.0",
       "_view_count": null,
       "_view_module_version": "~0.9.0",
       "base": true,
       "max_zoom": 19,
       "min_zoom": 1,
       "options": [
        "attribution",
        "tile_size",
        "min_zoom",
        "max_zoom",
        "detect_retina"
       ]
      }
     },
     "06d1e8fe5d5c4a098214369fa95514f9": {
      "model_module": "@jupyter-widgets/controls",
      "model_module_version": "1.3.0",
      "model_name": "SliderStyleModel",
      "state": {
       "description_width": ""
      }
     },
     "070020bf3f4e4611a4d98d4145d74aa8": {
      "model_module": "@jupyter-widgets/base",
      "model_module_version": "1.1.0",
      "model_name": "LayoutModel",
      "state": {}
     },
     "0718ba8644c64c6882d405a1258dd849": {
      "model_module": "@jupyter-widgets/base",
      "model_module_version": "1.1.0",
      "model_name": "LayoutModel",
      "state": {}
     },
     "076d7144a0484db3a524f5ab04cf271a": {
      "model_module": "jupyter-leaflet",
      "model_module_version": "~0.9.0",
      "model_name": "LeafletTileLayerModel",
      "state": {
       "_model_module_version": "~0.9.0",
       "_view_count": null,
       "_view_module_version": "~0.9.0",
       "base": true,
       "max_zoom": 19,
       "min_zoom": 1,
       "options": [
        "attribution",
        "tile_size",
        "min_zoom",
        "max_zoom",
        "detect_retina"
       ]
      }
     },
     "07848c1f3ed3449cb94ba7055109f1b2": {
      "model_module": "@jupyter-widgets/base",
      "model_module_version": "1.1.0",
      "model_name": "LayoutModel",
      "state": {}
     },
     "07a77d9a9030427386764daf2f555b66": {
      "model_module": "@jupyter-widgets/controls",
      "model_module_version": "1.3.0",
      "model_name": "SelectModel",
      "state": {
       "_options_labels": [
        "LS5:GEOMEDIAN:FALSE",
        "LS5:GEOMEDIAN:TRUE",
        "LS5:NBAR:FALSE",
        "LS5:NBAR:TRUE",
        "LS5:NBART:FALSE",
        "LS5:NBART:TRUE",
        "LS7:GEOMEDIAN:FALSE",
        "LS7:GEOMEDIAN:TRUE",
        "LS7:NBAR:FALSE",
        "LS7:NBAR:TRUE",
        "LS7:NBART:FALSE",
        "LS7:NBART:TRUE",
        "LS8:GEOMEDIAN:FALSE",
        "LS8:GEOMEDIAN:TRUE",
        "LS8:NBAR:FALSE",
        "LS8:NBAR:TRUE",
        "LS8:NBART:FALSE",
        "LS8:NBART:TRUE",
        "hltc:high:fc",
        "hltc:high:tc",
        "hltc:low:fc",
        "hltc:low:tc",
        "item:relative",
        "item:stddev"
       ],
       "description": "Layer:",
       "index": 5,
       "layout": "IPY_MODEL_edc8561667c945f2b4385f3791269523",
       "style": "IPY_MODEL_737f57f195494a3e9fa3e82cca63aba9"
      }
     },
     "0814086e56d744f4ae48d994aeaa336d": {
      "model_module": "@jupyter-widgets/base",
      "model_module_version": "1.1.0",
      "model_name": "LayoutModel",
      "state": {}
     },
     "083444899a554fdea30ae6cf7304aeca": {
      "model_module": "@jupyter-widgets/controls",
      "model_module_version": "1.3.0",
      "model_name": "SelectModel",
      "state": {
       "_options_labels": [
        "LS5:GEOMEDIAN:FALSE",
        "LS5:GEOMEDIAN:TRUE",
        "LS5:NBAR:FALSE",
        "LS5:NBAR:TRUE",
        "LS5:NBART:FALSE",
        "LS5:NBART:TRUE",
        "LS7:GEOMEDIAN:FALSE",
        "LS7:GEOMEDIAN:TRUE",
        "LS7:NBAR:FALSE",
        "LS7:NBAR:TRUE",
        "LS7:NBART:FALSE",
        "LS7:NBART:TRUE",
        "LS8:GEOMEDIAN:FALSE",
        "LS8:GEOMEDIAN:TRUE",
        "LS8:NBAR:FALSE",
        "LS8:NBAR:TRUE",
        "LS8:NBART:FALSE",
        "LS8:NBART:TRUE",
        "hltc:high:fc",
        "hltc:high:tc",
        "hltc:low:fc",
        "hltc:low:tc",
        "item:relative",
        "item:stddev"
       ],
       "description": "Layer:",
       "index": 0,
       "layout": "IPY_MODEL_2536551523a64a3185d345a9e3685db4",
       "style": "IPY_MODEL_0fa9ae7b4d0c4581a94bae86531fdf47"
      }
     },
     "0a42ecf4270c4e98aca46c67a31269fc": {
      "model_module": "@jupyter-widgets/base",
      "model_module_version": "1.1.0",
      "model_name": "LayoutModel",
      "state": {}
     },
     "0aaba3375be9422b9eda155c81c33b28": {
      "model_module": "@jupyter-widgets/controls",
      "model_module_version": "1.3.0",
      "model_name": "SelectModel",
      "state": {
       "_options_labels": [
        "2014-01-01T00:00:00.000Z",
        "2015-01-01T00:00:00.000Z",
        "2016-01-01T00:00:00.000Z",
        "2017-01-01T00:00:00.000Z"
       ],
       "description": "Date:",
       "index": 3,
       "layout": "IPY_MODEL_6e4a695b7d6b4cae9e5068a6eef18251",
       "style": "IPY_MODEL_ff127dcf6abc41e2bf484872c31ca897"
      }
     },
     "0aaccacf42764237aca372f01cc3c798": {
      "model_module": "@jupyter-widgets/base",
      "model_module_version": "1.1.0",
      "model_name": "LayoutModel",
      "state": {}
     },
     "0ae6fc474fbe4acb913d0e674c915d26": {
      "model_module": "jupyter-leaflet",
      "model_module_version": "~0.9.0",
      "model_name": "LeafletMapModel",
      "state": {
       "_dom_classes": [],
       "_model_module_version": "~0.9.0",
       "_view_count": null,
       "_view_module_version": "~0.9.0",
       "basemap": {
        "attribution": "Map data (c) <a href=\"https://openstreetmap.org\">OpenStreetMap</a> contributors",
        "max_zoom": 19,
        "url": "https://{s}.tile.openstreetmap.org/{z}/{x}/{y}.png"
       },
       "center": [
        -43.004647127794435,
        153.00659179687503
       ],
       "east": -180,
       "interpolation": "bilinear",
       "layers": [
        "IPY_MODEL_305eaf077d584015a9e9631d1d22c2bb"
       ],
       "layout": "IPY_MODEL_535c2cdf24494c46890f242b5b9c3145",
       "modisdate": "yesterday",
       "north": -90,
       "options": [
        "keyboard_pan_offset",
        "tap",
        "attribution_control",
        "max_zoom",
        "min_zoom",
        "bounce_at_zoom_limits",
        "keyboard",
        "scroll_wheel_zoom",
        "dragging",
        "inertia_max_speed",
        "close_popup_on_click",
        "zoom_control",
        "box_zoom",
        "double_click_zoom",
        "interpolation",
        "tap_tolerance",
        "zoom_start",
        "keyboard_zoom_offset",
        "inertia_deceleration",
        "inertia",
        "center",
        "zoom",
        "world_copy_jump",
        "zoom_animation_threshold",
        "touch_zoom",
        "basemap"
       ],
       "south": 90,
       "west": 180,
       "zoom": 7
      }
     },
     "0b2186f9ec814a6188be817f58a75017": {
      "model_module": "jupyter-leaflet",
      "model_module_version": "~0.9.0",
      "model_name": "LeafletLayersControlModel",
      "state": {
       "_model_module_version": "~0.9.0",
       "_view_count": null,
       "_view_module_version": "~0.9.0"
      }
     },
     "0bfdee2c6fc94b85a958190c0eab2a71": {
      "model_module": "jupyter-leaflet",
      "model_module_version": "~0.9.0",
      "model_name": "LeafletWMSLayerModel",
      "state": {
       "_model_module_version": "~0.9.0",
       "_view_count": null,
       "_view_module_version": "~0.9.0",
       "layers": "hltc:high:fc",
       "name": "hltc:high:fc",
       "options": [
        "styles",
        "crs",
        "attribution",
        "layers",
        "uppercase",
        "format",
        "max_zoom",
        "detect_retina",
        "min_zoom",
        "tile_size",
        "transparent"
       ],
       "url": "http://gsky.nci.org.au/ows"
      }
     },
     "0c38c5267f5e47128011c9566222dcf4": {
      "model_module": "@jupyter-widgets/base",
      "model_module_version": "1.1.0",
      "model_name": "LayoutModel",
      "state": {}
     },
     "0c79afe668fe491590d63af6880d001e": {
      "model_module": "@jupyter-widgets/controls",
      "model_module_version": "1.3.0",
      "model_name": "SelectModel",
      "state": {
       "_options_labels": [
        "2013-03-19T00:00:00.000Z",
        "2013-04-04T00:00:00.000Z",
        "2013-04-20T00:00:00.000Z",
        "2013-05-06T00:00:00.000Z",
        "2013-05-22T00:00:00.000Z",
        "2013-06-07T00:00:00.000Z",
        "2013-06-23T00:00:00.000Z",
        "2013-07-09T00:00:00.000Z",
        "2013-07-25T00:00:00.000Z",
        "2013-08-10T00:00:00.000Z",
        "2013-08-26T00:00:00.000Z",
        "2013-09-11T00:00:00.000Z",
        "2013-09-27T00:00:00.000Z",
        "2013-10-13T00:00:00.000Z",
        "2013-10-29T00:00:00.000Z",
        "2013-11-14T00:00:00.000Z",
        "2013-11-30T00:00:00.000Z",
        "2013-12-16T00:00:00.000Z",
        "2014-01-01T00:00:00.000Z",
        "2014-01-17T00:00:00.000Z",
        "2014-02-02T00:00:00.000Z",
        "2014-02-18T00:00:00.000Z",
        "2014-03-06T00:00:00.000Z",
        "2014-03-22T00:00:00.000Z",
        "2014-04-07T00:00:00.000Z",
        "2014-04-23T00:00:00.000Z",
        "2014-05-09T00:00:00.000Z",
        "2014-05-25T00:00:00.000Z",
        "2014-06-10T00:00:00.000Z",
        "2014-06-26T00:00:00.000Z",
        "2014-07-12T00:00:00.000Z",
        "2014-07-28T00:00:00.000Z",
        "2014-08-13T00:00:00.000Z",
        "2014-08-29T00:00:00.000Z",
        "2014-09-14T00:00:00.000Z",
        "2014-09-30T00:00:00.000Z",
        "2014-10-16T00:00:00.000Z",
        "2014-11-01T00:00:00.000Z",
        "2014-11-17T00:00:00.000Z",
        "2014-12-03T00:00:00.000Z",
        "2014-12-19T00:00:00.000Z",
        "2015-01-04T00:00:00.000Z",
        "2015-01-20T00:00:00.000Z",
        "2015-02-05T00:00:00.000Z",
        "2015-02-21T00:00:00.000Z",
        "2015-03-09T00:00:00.000Z",
        "2015-03-25T00:00:00.000Z",
        "2015-04-10T00:00:00.000Z",
        "2015-04-26T00:00:00.000Z",
        "2015-05-12T00:00:00.000Z",
        "2015-05-28T00:00:00.000Z",
        "2015-06-13T00:00:00.000Z",
        "2015-06-29T00:00:00.000Z",
        "2015-07-15T00:00:00.000Z",
        "2015-07-31T00:00:00.000Z",
        "2015-08-16T00:00:00.000Z",
        "2015-09-01T00:00:00.000Z",
        "2015-09-17T00:00:00.000Z",
        "2015-10-03T00:00:00.000Z",
        "2015-10-19T00:00:00.000Z",
        "2015-11-04T00:00:00.000Z",
        "2015-11-20T00:00:00.000Z",
        "2015-12-06T00:00:00.000Z",
        "2015-12-22T00:00:00.000Z",
        "2016-01-07T00:00:00.000Z",
        "2016-01-23T00:00:00.000Z",
        "2016-02-08T00:00:00.000Z",
        "2016-02-24T00:00:00.000Z",
        "2016-03-11T00:00:00.000Z",
        "2016-03-27T00:00:00.000Z",
        "2016-04-12T00:00:00.000Z",
        "2016-04-28T00:00:00.000Z",
        "2016-05-14T00:00:00.000Z",
        "2016-05-30T00:00:00.000Z",
        "2016-06-15T00:00:00.000Z",
        "2016-07-01T00:00:00.000Z",
        "2016-07-17T00:00:00.000Z",
        "2016-08-02T00:00:00.000Z",
        "2016-08-18T00:00:00.000Z",
        "2016-09-03T00:00:00.000Z",
        "2016-09-19T00:00:00.000Z",
        "2016-10-05T00:00:00.000Z",
        "2016-10-21T00:00:00.000Z",
        "2016-11-06T00:00:00.000Z",
        "2016-11-22T00:00:00.000Z",
        "2016-12-08T00:00:00.000Z",
        "2016-12-24T00:00:00.000Z",
        "2017-01-09T00:00:00.000Z",
        "2017-01-25T00:00:00.000Z",
        "2017-02-10T00:00:00.000Z",
        "2017-02-26T00:00:00.000Z",
        "2017-03-14T00:00:00.000Z",
        "2017-03-30T00:00:00.000Z",
        "2017-04-15T00:00:00.000Z",
        "2017-05-01T00:00:00.000Z",
        "2017-05-17T00:00:00.000Z",
        "2017-06-02T00:00:00.000Z",
        "2017-06-18T00:00:00.000Z",
        "2017-07-04T00:00:00.000Z",
        "2017-07-20T00:00:00.000Z",
        "2017-08-05T00:00:00.000Z",
        "2017-08-21T00:00:00.000Z",
        "2017-09-06T00:00:00.000Z",
        "2017-09-22T00:00:00.000Z",
        "2017-10-08T00:00:00.000Z",
        "2017-10-24T00:00:00.000Z",
        "2017-11-09T00:00:00.000Z",
        "2017-11-25T00:00:00.000Z",
        "2017-12-11T00:00:00.000Z",
        "2017-12-27T00:00:00.000Z",
        "2018-01-12T00:00:00.000Z",
        "2018-01-28T00:00:00.000Z",
        "2018-02-13T00:00:00.000Z",
        "2018-03-01T00:00:00.000Z",
        "2018-03-17T00:00:00.000Z",
        "2018-04-02T00:00:00.000Z",
        "2018-04-18T00:00:00.000Z",
        "2018-05-04T00:00:00.000Z",
        "2018-05-20T00:00:00.000Z",
        "2018-06-05T00:00:00.000Z",
        "2018-06-21T00:00:00.000Z",
        "2018-07-07T00:00:00.000Z"
       ],
       "description": "Date:",
       "index": 14,
       "layout": "IPY_MODEL_d2b330b51d9847b5b99117fc7df95a3c",
       "style": "IPY_MODEL_81d8b095f27744dd8e8d3a662cc5eef4"
      }
     },
     "0de84fb216b648b5b7030c2ee2ee5f37": {
      "model_module": "jupyter-leaflet",
      "model_module_version": "~0.9.0",
      "model_name": "LeafletWMSLayerModel",
      "state": {
       "_model_module_version": "~0.9.0",
       "_view_count": null,
       "_view_module_version": "~0.9.0",
       "layers": "nasa:bluemarble",
       "name": "nasa:bluemarble",
       "options": [
        "styles",
        "crs",
        "attribution",
        "layers",
        "uppercase",
        "format",
        "max_zoom",
        "detect_retina",
        "min_zoom",
        "tile_size",
        "transparent"
       ],
       "url": "https://demo.boundlessgeo.com/geoserver/ows?"
      }
     },
     "0e12421ebaeb4d778db9d5092940b509": {
      "model_module": "jupyter-leaflet",
      "model_module_version": "~0.9.0",
      "model_name": "LeafletMapModel",
      "state": {
       "_dom_classes": [],
       "_model_module_version": "~0.9.0",
       "_view_count": null,
       "_view_module_version": "~0.9.0",
       "basemap": {
        "attribution": "Map data (c) <a href=\"https://openstreetmap.org\">OpenStreetMap</a> contributors",
        "max_zoom": 19,
        "url": "https://{s}.tile.openstreetmap.org/{z}/{x}/{y}.png"
       },
       "center": [
        -32.02670629333614,
        153.01757812500003
       ],
       "east": -180,
       "interpolation": "bilinear",
       "layers": [
        "IPY_MODEL_4f05923c50504ebc9f14c874f307b553"
       ],
       "layout": "IPY_MODEL_8a389eee6a0c4752ad76a2ab6cf728ed",
       "modisdate": "yesterday",
       "north": -90,
       "options": [
        "keyboard_pan_offset",
        "tap",
        "attribution_control",
        "max_zoom",
        "min_zoom",
        "bounce_at_zoom_limits",
        "keyboard",
        "scroll_wheel_zoom",
        "dragging",
        "inertia_max_speed",
        "close_popup_on_click",
        "zoom_control",
        "box_zoom",
        "double_click_zoom",
        "interpolation",
        "tap_tolerance",
        "zoom_start",
        "keyboard_zoom_offset",
        "inertia_deceleration",
        "inertia",
        "center",
        "zoom",
        "world_copy_jump",
        "zoom_animation_threshold",
        "touch_zoom",
        "basemap"
       ],
       "south": 90,
       "west": 180,
       "zoom": 4
      }
     },
     "0ee02adb1b464393a673b268ded550a1": {
      "model_module": "@jupyter-widgets/controls",
      "model_module_version": "1.3.0",
      "model_name": "IntSliderModel",
      "state": {
       "continuous_update": false,
       "description": "Lat:",
       "layout": "IPY_MODEL_057e6dc7c2d7483fb302c36387edcbb5",
       "max": -10,
       "min": -43,
       "style": "IPY_MODEL_7aa8f13041fd4e8eb5c32d096dfaf410",
       "value": -36
      }
     },
     "0f4f39bdf58e4c4f91480f02b2de0b7b": {
      "model_module": "jupyter-leaflet",
      "model_module_version": "~0.9.0",
      "model_name": "LeafletWMSLayerModel",
      "state": {
       "_model_module_version": "~0.9.0",
       "_view_count": null,
       "_view_module_version": "~0.9.0",
       "layers": "nasa:bluemarble",
       "name": "nasa:bluemarble",
       "options": [
        "styles",
        "crs",
        "attribution",
        "layers",
        "uppercase",
        "format",
        "max_zoom",
        "detect_retina",
        "min_zoom",
        "tile_size",
        "transparent"
       ],
       "url": "https://demo.boundlessgeo.com/geoserver/ows?"
      }
     },
     "0f6ae38b68ac4c85948cd2dc2fa25dc3": {
      "model_module": "@jupyter-widgets/controls",
      "model_module_version": "1.3.0",
      "model_name": "DescriptionStyleModel",
      "state": {
       "description_width": ""
      }
     },
     "0fa9ae7b4d0c4581a94bae86531fdf47": {
      "model_module": "@jupyter-widgets/controls",
      "model_module_version": "1.3.0",
      "model_name": "DescriptionStyleModel",
      "state": {
       "description_width": ""
      }
     },
     "1001d08cb0fb407b9610a5231fdaae28": {
      "model_module": "jupyter-leaflet",
      "model_module_version": "~0.9.0",
      "model_name": "LeafletWMSLayerModel",
      "state": {
       "_model_module_version": "~0.9.0",
       "_view_count": null,
       "_view_module_version": "~0.9.0",
       "layers": "LS8:GEOMEDIAN:FALSE",
       "name": "LS8:GEOMEDIAN:FALSE",
       "options": [
        "styles",
        "crs",
        "attribution",
        "layers",
        "uppercase",
        "format",
        "max_zoom",
        "detect_retina",
        "min_zoom",
        "tile_size",
        "transparent"
       ],
       "tile_size": 35,
       "transparent": true,
       "url": "http://gsky.nci.org.au/ows"
      }
     },
     "1060e36a4cb2412f9568daae83a9928b": {
      "model_module": "@jupyter-widgets/base",
      "model_module_version": "1.1.0",
      "model_name": "LayoutModel",
      "state": {}
     },
     "10ae17ffdf9144edb23cc248a438b415": {
      "model_module": "@jupyter-widgets/controls",
      "model_module_version": "1.3.0",
      "model_name": "IntSliderModel",
      "state": {
       "continuous_update": false,
       "description": "Lat:",
       "layout": "IPY_MODEL_f15bf995eada4f2cb8617b921f2cda4e",
       "max": -10,
       "min": -43,
       "style": "IPY_MODEL_24668fee06fd421284f39aa396b9e530",
       "value": -35
      }
     },
     "10e3456271fa4eb482ba90a19c081469": {
      "model_module": "@jupyter-widgets/base",
      "model_module_version": "1.1.0",
      "model_name": "LayoutModel",
      "state": {}
     },
     "10fac7830a254716985433d526918448": {
      "model_module": "jupyter-leaflet",
      "model_module_version": "~0.9.0",
      "model_name": "LeafletWMSLayerModel",
      "state": {
       "_model_module_version": "~0.9.0",
       "_view_count": null,
       "_view_module_version": "~0.9.0",
       "layers": "nasa:bluemarble",
       "name": "nasa:bluemarble",
       "options": [
        "styles",
        "crs",
        "attribution",
        "layers",
        "uppercase",
        "format",
        "max_zoom",
        "detect_retina",
        "min_zoom",
        "tile_size",
        "transparent"
       ],
       "url": "https://demo.boundlessgeo.com/geoserver/ows?"
      }
     },
     "118cf40a6ca143dbaa9ffcf1bf820cf0": {
      "model_module": "@jupyter-widgets/controls",
      "model_module_version": "1.3.0",
      "model_name": "DescriptionStyleModel",
      "state": {
       "description_width": ""
      }
     },
     "125796d8408a4e69a573963b57b7b4ca": {
      "model_module": "jupyter-leaflet",
      "model_module_version": "~0.9.0",
      "model_name": "LeafletLayersControlModel",
      "state": {
       "_model_module_version": "~0.9.0",
       "_view_count": null,
       "_view_module_version": "~0.9.0"
      }
     },
     "1276b4406b5a49fba893c2360f946d3c": {
      "model_module": "@jupyter-widgets/controls",
      "model_module_version": "1.3.0",
      "model_name": "DescriptionStyleModel",
      "state": {
       "description_width": ""
      }
     },
     "128638fc8a6645ce93e3cf6e078a1f9e": {
      "model_module": "jupyter-leaflet",
      "model_module_version": "~0.9.0",
      "model_name": "LeafletWMSLayerModel",
      "state": {
       "_model_module_version": "~0.9.0",
       "_view_count": null,
       "_view_module_version": "~0.9.0",
       "layers": "hltc:high:fc",
       "name": "hltc:high:fc",
       "options": [
        "styles",
        "crs",
        "attribution",
        "layers",
        "uppercase",
        "format",
        "max_zoom",
        "detect_retina",
        "min_zoom",
        "tile_size",
        "transparent"
       ],
       "url": "http://gsky.nci.org.au/ows"
      }
     },
     "1287c35cb9d44dae86d277444e19c347": {
      "model_module": "jupyter-leaflet",
      "model_module_version": "~0.9.0",
      "model_name": "LeafletWMSLayerModel",
      "state": {
       "_model_module_version": "~0.9.0",
       "_view_count": null,
       "_view_module_version": "~0.9.0",
       "layers": "hltc:high:fc",
       "name": "hltc:high:fc",
       "options": [
        "styles",
        "crs",
        "attribution",
        "layers",
        "uppercase",
        "format",
        "max_zoom",
        "detect_retina",
        "min_zoom",
        "tile_size",
        "transparent"
       ],
       "url": "http://gsky.nci.org.au/ows"
      }
     },
     "13193e87a5cc4386a322752227028a9d": {
      "model_module": "@jupyter-widgets/controls",
      "model_module_version": "1.3.0",
      "model_name": "SliderStyleModel",
      "state": {
       "description_width": ""
      }
     },
     "138f0d0c6a7146089cebff3db67900ac": {
      "model_module": "@jupyter-widgets/base",
      "model_module_version": "1.1.0",
      "model_name": "LayoutModel",
      "state": {}
     },
     "13a63c47a9e04e5691372d29b6357da1": {
      "model_module": "@jupyter-widgets/controls",
      "model_module_version": "1.3.0",
      "model_name": "SelectModel",
      "state": {
       "_options_labels": [
        "LS5:GEOMEDIAN:FALSE",
        "LS5:GEOMEDIAN:TRUE",
        "LS5:NBAR:FALSE",
        "LS5:NBAR:TRUE",
        "LS5:NBART:FALSE",
        "LS5:NBART:TRUE",
        "LS7:GEOMEDIAN:FALSE",
        "LS7:GEOMEDIAN:TRUE",
        "LS7:NBAR:FALSE",
        "LS7:NBAR:TRUE",
        "LS7:NBART:FALSE",
        "LS7:NBART:TRUE",
        "LS8:GEOMEDIAN:FALSE",
        "LS8:GEOMEDIAN:TRUE",
        "LS8:NBAR:FALSE",
        "LS8:NBAR:TRUE",
        "LS8:NBART:FALSE",
        "LS8:NBART:TRUE",
        "hltc:high:fc",
        "hltc:high:tc",
        "hltc:low:fc",
        "hltc:low:tc",
        "item:relative",
        "item:stddev"
       ],
       "description": "Layer:",
       "index": 0,
       "layout": "IPY_MODEL_502410d22dfc44ff9f4d8986467ddb4c",
       "style": "IPY_MODEL_ba10bfefe8594919a36f8f85f194e744"
      }
     },
     "140056a705774c4187422dc0015b1c33": {
      "model_module": "jupyter-leaflet",
      "model_module_version": "~0.9.0",
      "model_name": "LeafletMapModel",
      "state": {
       "_dom_classes": [],
       "_model_module_version": "~0.9.0",
       "_view_count": null,
       "_view_module_version": "~0.9.0",
       "basemap": {
        "attribution": "Map data (c) <a href=\"https://openstreetmap.org\">OpenStreetMap</a> contributors",
        "max_zoom": 19,
        "url": "https://{s}.tile.openstreetmap.org/{z}/{x}/{y}.png"
       },
       "center": [
        -32.00807595929104,
        153.01757812500003
       ],
       "east": -180,
       "interpolation": "bilinear",
       "layers": [
        "IPY_MODEL_064fba19acfd4df39b3ef68d65a96bca",
        "IPY_MODEL_16e67a882a6f463f99c4ac443e8f4a10",
        "IPY_MODEL_c2a2e11205644bddaa717047a8e7ea47"
       ],
       "layout": "IPY_MODEL_98df1566c339421ebdbbacf1e483d430",
       "modisdate": "yesterday",
       "north": -90,
       "options": [
        "keyboard_pan_offset",
        "tap",
        "attribution_control",
        "max_zoom",
        "min_zoom",
        "bounce_at_zoom_limits",
        "keyboard",
        "scroll_wheel_zoom",
        "dragging",
        "inertia_max_speed",
        "close_popup_on_click",
        "zoom_control",
        "box_zoom",
        "double_click_zoom",
        "interpolation",
        "tap_tolerance",
        "zoom_start",
        "keyboard_zoom_offset",
        "inertia_deceleration",
        "inertia",
        "center",
        "zoom",
        "world_copy_jump",
        "zoom_animation_threshold",
        "touch_zoom",
        "basemap"
       ],
       "south": 90,
       "west": 180,
       "zoom": 6
      }
     },
     "141d0816d5804baa814a898a549fb684": {
      "model_module": "@jupyter-widgets/base",
      "model_module_version": "1.1.0",
      "model_name": "LayoutModel",
      "state": {}
     },
     "1444707a8dae459997fae54b74b4c549": {
      "model_module": "jupyter-leaflet",
      "model_module_version": "~0.9.0",
      "model_name": "LeafletMapModel",
      "state": {
       "_dom_classes": [],
       "_model_module_version": "~0.9.0",
       "_view_count": null,
       "_view_module_version": "~0.9.0",
       "basemap": {
        "attribution": "Map data (c) <a href=\"https://openstreetmap.org\">OpenStreetMap</a> contributors",
        "max_zoom": 19,
        "url": "https://{s}.tile.openstreetmap.org/{z}/{x}/{y}.png"
       },
       "center": [
        -34.86422906036339,
        149.83866691589358
       ],
       "controls": [
        "IPY_MODEL_ef99ce6cc85f4f17bf4e91385d8a1dad"
       ],
       "east": -180,
       "interpolation": "bilinear",
       "layers": [
        "IPY_MODEL_d5a6df90386b4f8881850023c6b39c35",
        "IPY_MODEL_4062c2182f424b8ba5c2b6799964551d",
        "IPY_MODEL_e89ee285c92841a48053bfe5e47cb0ed"
       ],
       "layout": "IPY_MODEL_8045a25808a74cbca8b1c619acc10a25",
       "modisdate": "yesterday",
       "north": -90,
       "options": [
        "keyboard_pan_offset",
        "tap",
        "attribution_control",
        "max_zoom",
        "min_zoom",
        "bounce_at_zoom_limits",
        "keyboard",
        "scroll_wheel_zoom",
        "dragging",
        "inertia_max_speed",
        "close_popup_on_click",
        "zoom_control",
        "box_zoom",
        "double_click_zoom",
        "interpolation",
        "tap_tolerance",
        "zoom_start",
        "keyboard_zoom_offset",
        "inertia_deceleration",
        "inertia",
        "center",
        "zoom",
        "world_copy_jump",
        "zoom_animation_threshold",
        "touch_zoom",
        "basemap"
       ],
       "south": 90,
       "west": 180,
       "zoom": 8
      }
     },
     "14af3ae59f8f467e99d7a99ce43f6319": {
      "model_module": "@jupyter-widgets/controls",
      "model_module_version": "1.3.0",
      "model_name": "DescriptionStyleModel",
      "state": {
       "description_width": ""
      }
     },
     "1534b32d368e497d8d236b1d0ae53eb7": {
      "model_module": "@jupyter-widgets/base",
      "model_module_version": "1.1.0",
      "model_name": "LayoutModel",
      "state": {}
     },
     "15a8af287c1c484483505dd300338e6d": {
      "model_module": "@jupyter-widgets/controls",
      "model_module_version": "1.3.0",
      "model_name": "SliderStyleModel",
      "state": {
       "description_width": ""
      }
     },
     "16901f529e4342f6aa4ab77cfb9caac0": {
      "model_module": "@jupyter-widgets/controls",
      "model_module_version": "1.3.0",
      "model_name": "DescriptionStyleModel",
      "state": {
       "description_width": ""
      }
     },
     "16c8a7cf01b2412c8622e15ec46222f2": {
      "model_module": "@jupyter-widgets/base",
      "model_module_version": "1.1.0",
      "model_name": "LayoutModel",
      "state": {}
     },
     "16e67a882a6f463f99c4ac443e8f4a10": {
      "model_module": "jupyter-leaflet",
      "model_module_version": "~0.9.0",
      "model_name": "LeafletWMSLayerModel",
      "state": {
       "_model_module_version": "~0.9.0",
       "_view_count": null,
       "_view_module_version": "~0.9.0",
       "layers": "LS8:GEOMEDIAN:FALSE",
       "options": [
        "styles",
        "crs",
        "attribution",
        "layers",
        "uppercase",
        "format",
        "max_zoom",
        "detect_retina",
        "min_zoom",
        "tile_size",
        "transparent"
       ],
       "tile_size": 35,
       "transparent": true,
       "url": "http://gsky.nci.org.au/ows"
      }
     },
     "18ec048f3b7743af9ccbe13cbf7db506": {
      "model_module": "jupyter-leaflet",
      "model_module_version": "~0.9.0",
      "model_name": "LeafletTileLayerModel",
      "state": {
       "_model_module_version": "~0.9.0",
       "_view_count": null,
       "_view_module_version": "~0.9.0",
       "attribution": "Imagery provided by services from the Global Imagery Browse Services (GIBS), operated by the NASA/GSFC/Earth Science Data and Information System (<a href=\"https://earthdata.nasa.gov\">ESDIS</a>) with funding provided by NASA/HQ.",
       "max_zoom": 9,
       "min_zoom": 1,
       "name": "NASAGIBS.ModisAquaBands721CR",
       "options": [
        "attribution",
        "tile_size",
        "min_zoom",
        "max_zoom",
        "detect_retina"
       ],
       "url": "https://map1.vis.earthdata.nasa.gov/wmts-webmerc/MODIS_Aqua_CorrectedReflectance_Bands721/default/2017-11-11/GoogleMapsCompatible_Level9/{z}/{y}/{x}.jpg"
      }
     },
     "19b862084cd84f9b9e49f60f94e256a4": {
      "model_module": "@jupyter-widgets/controls",
      "model_module_version": "1.3.0",
      "model_name": "SelectModel",
      "state": {
       "_options_labels": [
        "1987-01-01T00:00:00.000Z",
        "1988-01-01T00:00:00.000Z",
        "1989-01-01T00:00:00.000Z",
        "1990-01-01T00:00:00.000Z",
        "1991-01-01T00:00:00.000Z",
        "1992-01-01T00:00:00.000Z",
        "1993-01-01T00:00:00.000Z",
        "1994-01-01T00:00:00.000Z",
        "1995-01-01T00:00:00.000Z",
        "1996-01-01T00:00:00.000Z",
        "1997-01-01T00:00:00.000Z",
        "1998-01-01T00:00:00.000Z",
        "1999-01-01T00:00:00.000Z",
        "2000-01-01T00:00:00.000Z",
        "2001-01-01T00:00:00.000Z",
        "2002-01-01T00:00:00.000Z",
        "2003-01-01T00:00:00.000Z",
        "2004-01-01T00:00:00.000Z",
        "2005-01-01T00:00:00.000Z",
        "2006-01-01T00:00:00.000Z",
        "2007-01-01T00:00:00.000Z",
        "2008-01-01T00:00:00.000Z",
        "2009-01-01T00:00:00.000Z",
        "2010-01-01T00:00:00.000Z",
        "2011-01-01T00:00:00.000Z"
       ],
       "description": "Date:",
       "index": 0,
       "layout": "IPY_MODEL_c6d578f3aa3641a6a08758848d330469",
       "style": "IPY_MODEL_93d2c09070794c169ee8ad31dc194f98"
      }
     },
     "1a1203f093714d30902b4a3ce8d84a0d": {
      "model_module": "jupyter-leaflet",
      "model_module_version": "~0.9.0",
      "model_name": "LeafletMapModel",
      "state": {
       "_dom_classes": [],
       "_model_module_version": "~0.9.0",
       "_view_count": null,
       "_view_module_version": "~0.9.0",
       "basemap": {
        "attribution": "Map data (c) <a href=\"https://openstreetmap.org\">OpenStreetMap</a> contributors",
        "max_zoom": 19,
        "url": "https://{s}.tile.openstreetmap.org/{z}/{x}/{y}.png"
       },
       "center": [
        -21.999081858361517,
        149.50195312500003
       ],
       "east": -180,
       "interpolation": "bilinear",
       "layers": [
        "IPY_MODEL_7cc73e281aa5435d8efdddaa03ea2243",
        "IPY_MODEL_e9a705ea16324982ae0c48cdae069cfc",
        "IPY_MODEL_1fd863a486014c22a3da138666cd76c6"
       ],
       "layout": "IPY_MODEL_c11e7ddf733b4a39b5476e819ea9aced",
       "modisdate": "yesterday",
       "north": -90,
       "options": [
        "keyboard_pan_offset",
        "tap",
        "attribution_control",
        "max_zoom",
        "min_zoom",
        "bounce_at_zoom_limits",
        "keyboard",
        "scroll_wheel_zoom",
        "dragging",
        "inertia_max_speed",
        "close_popup_on_click",
        "zoom_control",
        "box_zoom",
        "double_click_zoom",
        "interpolation",
        "tap_tolerance",
        "zoom_start",
        "keyboard_zoom_offset",
        "inertia_deceleration",
        "inertia",
        "center",
        "zoom",
        "world_copy_jump",
        "zoom_animation_threshold",
        "touch_zoom",
        "basemap"
       ],
       "south": 90,
       "west": 180,
       "zoom": 9
      }
     },
     "1a258acd04114ca29baae605acf0cdbe": {
      "model_module": "jupyter-leaflet",
      "model_module_version": "~0.9.0",
      "model_name": "LeafletWMSLayerModel",
      "state": {
       "_model_module_version": "~0.9.0",
       "_view_count": null,
       "_view_module_version": "~0.9.0",
       "layers": "hltc:high:fc",
       "name": "hltc:high:fc",
       "options": [
        "styles",
        "crs",
        "attribution",
        "layers",
        "uppercase",
        "format",
        "max_zoom",
        "detect_retina",
        "min_zoom",
        "tile_size",
        "transparent"
       ],
       "transparent": true,
       "url": "http://gsky.nci.org.au/ows"
      }
     },
     "1c29436b5d7044e3954dba1e642c2b33": {
      "model_module": "@jupyter-widgets/base",
      "model_module_version": "1.1.0",
      "model_name": "LayoutModel",
      "state": {}
     },
     "1cdab4b4b7e2468bbd044981c93df06c": {
      "model_module": "@jupyter-widgets/controls",
      "model_module_version": "1.3.0",
      "model_name": "DescriptionStyleModel",
      "state": {
       "description_width": ""
      }
     },
     "1ce1b75d525948afa6e1cab3f27ae4b2": {
      "model_module": "@jupyter-widgets/base",
      "model_module_version": "1.1.0",
      "model_name": "LayoutModel",
      "state": {}
     },
     "1da1b88474bd4c8fbe8ad9b4026df60e": {
      "model_module": "jupyter-leaflet",
      "model_module_version": "~0.9.0",
      "model_name": "LeafletTileLayerModel",
      "state": {
       "_model_module_version": "~0.9.0",
       "_view_count": null,
       "_view_module_version": "~0.9.0",
       "base": true,
       "max_zoom": 19,
       "min_zoom": 1,
       "options": [
        "attribution",
        "tile_size",
        "min_zoom",
        "max_zoom",
        "detect_retina"
       ]
      }
     },
     "1da6b89597714472848b0869ecc37b8b": {
      "model_module": "jupyter-leaflet",
      "model_module_version": "~0.9.0",
      "model_name": "LeafletMapModel",
      "state": {
       "_dom_classes": [],
       "_model_module_version": "~0.9.0",
       "_view_count": null,
       "_view_module_version": "~0.9.0",
       "basemap": {
        "attribution": "Map data (c) <a href=\"https://openstreetmap.org\">OpenStreetMap</a> contributors",
        "max_zoom": 19,
        "url": "https://{s}.tile.openstreetmap.org/{z}/{x}/{y}.png"
       },
       "center": [
        -32.00807595929104,
        153.00933837890628
       ],
       "controls": [
        "IPY_MODEL_d2b772825e744bd8b41fcee32bb15e07",
        "IPY_MODEL_44a5368982124942a8180a27e037453b"
       ],
       "east": -180,
       "interpolation": "bilinear",
       "layers": [
        "IPY_MODEL_731b5f518f7144d8a63017606903106d",
        "IPY_MODEL_b494ae1567ad4d779def64879cb73fe1",
        "IPY_MODEL_9227d5889ef3436e8a92637c36b5322c",
        "IPY_MODEL_b2c84b52c1d747ec9102bdc86e0894b0",
        "IPY_MODEL_4047d1be39eb421daa988ecd0549fa26",
        "IPY_MODEL_deffb67766cc4e3e92b9ed6fd37f4254",
        "IPY_MODEL_f262bcc3a7e546c5a6fb2f06c9eef206",
        "IPY_MODEL_de85312b2ab54640a0e7aba93a196591",
        "IPY_MODEL_a4351f77e6eb47c08d7b58dc6e11787b",
        "IPY_MODEL_18ec048f3b7743af9ccbe13cbf7db506",
        "IPY_MODEL_9509a2bb2b344258af403208f7ee6a10",
        "IPY_MODEL_854f4befe0c148d3a3e88c8ff7748914"
       ],
       "layout": "IPY_MODEL_f4c0b9107a094dfabcc6f5870b7bde16",
       "modisdate": "yesterday",
       "north": -90,
       "options": [
        "keyboard_pan_offset",
        "tap",
        "attribution_control",
        "max_zoom",
        "min_zoom",
        "bounce_at_zoom_limits",
        "keyboard",
        "scroll_wheel_zoom",
        "dragging",
        "inertia_max_speed",
        "close_popup_on_click",
        "zoom_control",
        "box_zoom",
        "double_click_zoom",
        "interpolation",
        "tap_tolerance",
        "zoom_start",
        "keyboard_zoom_offset",
        "inertia_deceleration",
        "inertia",
        "center",
        "zoom",
        "world_copy_jump",
        "zoom_animation_threshold",
        "touch_zoom",
        "basemap"
       ],
       "south": 90,
       "west": 180,
       "zoom": 9
      }
     },
     "1daf2cefa47f48479e42bb913d6be16b": {
      "model_module": "jupyter-leaflet",
      "model_module_version": "~0.9.0",
      "model_name": "LeafletWMSLayerModel",
      "state": {
       "_model_module_version": "~0.9.0",
       "_view_count": null,
       "_view_module_version": "~0.9.0",
       "layers": "nasa:bluemarble",
       "name": "nasa:bluemarble",
       "options": [
        "styles",
        "crs",
        "attribution",
        "layers",
        "uppercase",
        "format",
        "max_zoom",
        "detect_retina",
        "min_zoom",
        "tile_size",
        "transparent"
       ],
       "url": "https://demo.boundlessgeo.com/geoserver/ows?"
      }
     },
     "1ee183d5a196429fb57cc8b1dba1947c": {
      "model_module": "jupyter-leaflet",
      "model_module_version": "~0.9.0",
      "model_name": "LeafletWMSLayerModel",
      "state": {
       "_model_module_version": "~0.9.0",
       "_view_count": null,
       "_view_module_version": "~0.9.0",
       "layers": "LS5:GEOMEDIAN:FALSE",
       "options": [
        "styles",
        "crs",
        "attribution",
        "layers",
        "uppercase",
        "format",
        "max_zoom",
        "detect_retina",
        "min_zoom",
        "tile_size",
        "transparent"
       ],
       "tile_size": 35,
       "transparent": true,
       "url": "http://gsky.nci.org.au/ows"
      }
     },
     "1fd863a486014c22a3da138666cd76c6": {
      "model_module": "jupyter-leaflet",
      "model_module_version": "~0.9.0",
      "model_name": "LeafletWMSLayerModel",
      "state": {
       "_model_module_version": "~0.9.0",
       "_view_count": null,
       "_view_module_version": "~0.9.0",
       "layers": "hltc:high:fc",
       "options": [
        "styles",
        "crs",
        "attribution",
        "layers",
        "uppercase",
        "format",
        "max_zoom",
        "detect_retina",
        "min_zoom",
        "tile_size",
        "transparent"
       ],
       "url": "http://gsky.nci.org.au/ows"
      }
     },
     "1fe0510b95e347349951cbad108c4c42": {
      "model_module": "jupyter-leaflet",
      "model_module_version": "~0.9.0",
      "model_name": "LeafletLayersControlModel",
      "state": {
       "_model_module_version": "~0.9.0",
       "_view_count": null,
       "_view_module_version": "~0.9.0"
      }
     },
     "213a601727ff461989d913769639844b": {
      "model_module": "@jupyter-widgets/base",
      "model_module_version": "1.1.0",
      "model_name": "LayoutModel",
      "state": {}
     },
     "2245ec7ec2ae4934b3a7491d2958bcf9": {
      "model_module": "@jupyter-widgets/controls",
      "model_module_version": "1.3.0",
      "model_name": "SelectModel",
      "state": {
       "_options_labels": [
        "LS5:GEOMEDIAN:FALSE",
        "LS5:GEOMEDIAN:TRUE",
        "LS5:NBAR:FALSE",
        "LS5:NBAR:TRUE",
        "LS5:NBART:FALSE",
        "LS5:NBART:TRUE",
        "LS7:GEOMEDIAN:FALSE",
        "LS7:GEOMEDIAN:TRUE",
        "LS7:NBAR:FALSE",
        "LS7:NBAR:TRUE",
        "LS7:NBART:FALSE",
        "LS7:NBART:TRUE",
        "LS8:GEOMEDIAN:FALSE",
        "LS8:GEOMEDIAN:TRUE",
        "LS8:NBAR:FALSE",
        "LS8:NBAR:TRUE",
        "LS8:NBART:FALSE",
        "LS8:NBART:TRUE",
        "hltc:high:fc",
        "hltc:high:tc",
        "hltc:low:fc",
        "hltc:low:tc",
        "item:relative",
        "item:stddev"
       ],
       "description": "Layer:",
       "index": 13,
       "layout": "IPY_MODEL_10e3456271fa4eb482ba90a19c081469",
       "style": "IPY_MODEL_734695401db74128ad65cc02719c8cc1"
      }
     },
     "22ac36dced5b4359956565c9e0be8a48": {
      "model_module": "jupyter-leaflet",
      "model_module_version": "~0.9.0",
      "model_name": "LeafletWMSLayerModel",
      "state": {
       "_model_module_version": "~0.9.0",
       "_view_count": null,
       "_view_module_version": "~0.9.0",
       "layers": "nasa:bluemarble",
       "name": "nasa:bluemarble",
       "options": [
        "styles",
        "crs",
        "attribution",
        "layers",
        "uppercase",
        "format",
        "max_zoom",
        "detect_retina",
        "min_zoom",
        "tile_size",
        "transparent"
       ],
       "url": "https://demo.boundlessgeo.com/geoserver/ows?"
      }
     },
     "23907fc33f024fa18be8a7d12623aa84": {
      "model_module": "jupyter-leaflet",
      "model_module_version": "~0.9.0",
      "model_name": "LeafletWMSLayerModel",
      "state": {
       "_model_module_version": "~0.9.0",
       "_view_count": null,
       "_view_module_version": "~0.9.0",
       "layers": "hltc:high:fc",
       "name": "hltc:high:fc",
       "options": [
        "styles",
        "crs",
        "attribution",
        "layers",
        "uppercase",
        "format",
        "max_zoom",
        "detect_retina",
        "min_zoom",
        "tile_size",
        "transparent"
       ],
       "transparent": true,
       "url": "http://gsky.nci.org.au/ows"
      }
     },
     "23b10fa1089448e4bf59fc5f79fb8634": {
      "model_module": "jupyter-leaflet",
      "model_module_version": "~0.9.0",
      "model_name": "LeafletWMSLayerModel",
      "state": {
       "_model_module_version": "~0.9.0",
       "_view_count": null,
       "_view_module_version": "~0.9.0",
       "layers": "hltc:high:fc",
       "name": "hltc:high:fc",
       "options": [
        "styles",
        "crs",
        "attribution",
        "layers",
        "uppercase",
        "format",
        "max_zoom",
        "detect_retina",
        "min_zoom",
        "tile_size",
        "transparent"
       ],
       "url": "http://gsky.nci.org.au/ows"
      }
     },
     "24668fee06fd421284f39aa396b9e530": {
      "model_module": "@jupyter-widgets/controls",
      "model_module_version": "1.3.0",
      "model_name": "SliderStyleModel",
      "state": {
       "description_width": ""
      }
     },
     "24e97823789e41f89a9d511886152e65": {
      "model_module": "jupyter-leaflet",
      "model_module_version": "~0.9.0",
      "model_name": "LeafletMapModel",
      "state": {
       "_dom_classes": [],
       "_model_module_version": "~0.9.0",
       "_view_count": null,
       "_view_module_version": "~0.9.0",
       "basemap": {
        "attribution": "Map data (c) <a href=\"https://openstreetmap.org\">OpenStreetMap</a> contributors",
        "max_zoom": 19,
        "url": "https://{s}.tile.openstreetmap.org/{z}/{x}/{y}.png"
       },
       "center": [
        -32.00807595929104,
        153.01757812500003
       ],
       "east": -180,
       "interpolation": "bilinear",
       "layers": [
        "IPY_MODEL_96f5a2b7112542c4a756f3267aa31410",
        "IPY_MODEL_31e87cc585584010901969ade6374f0b"
       ],
       "layout": "IPY_MODEL_a7acdbccafe74b02893206226f38f491",
       "modisdate": "yesterday",
       "north": -90,
       "options": [
        "keyboard_pan_offset",
        "tap",
        "attribution_control",
        "max_zoom",
        "min_zoom",
        "bounce_at_zoom_limits",
        "keyboard",
        "scroll_wheel_zoom",
        "dragging",
        "inertia_max_speed",
        "close_popup_on_click",
        "zoom_control",
        "box_zoom",
        "double_click_zoom",
        "interpolation",
        "tap_tolerance",
        "zoom_start",
        "keyboard_zoom_offset",
        "inertia_deceleration",
        "inertia",
        "center",
        "zoom",
        "world_copy_jump",
        "zoom_animation_threshold",
        "touch_zoom",
        "basemap"
       ],
       "south": 90,
       "west": 180,
       "zoom": 6
      }
     },
     "2536551523a64a3185d345a9e3685db4": {
      "model_module": "@jupyter-widgets/base",
      "model_module_version": "1.1.0",
      "model_name": "LayoutModel",
      "state": {}
     },
     "256450381c534155be9746d9c05b17c5": {
      "model_module": "@jupyter-widgets/base",
      "model_module_version": "1.1.0",
      "model_name": "LayoutModel",
      "state": {}
     },
     "25e8dbf5e49743d4b6df411a95fdfd58": {
      "model_module": "@jupyter-widgets/controls",
      "model_module_version": "1.3.0",
      "model_name": "DescriptionStyleModel",
      "state": {
       "description_width": ""
      }
     },
     "261e2d6f40654029b433cfaefeac1475": {
      "model_module": "jupyter-leaflet",
      "model_module_version": "~0.9.0",
      "model_name": "LeafletTileLayerModel",
      "state": {
       "_model_module_version": "~0.9.0",
       "_view_count": null,
       "_view_module_version": "~0.9.0",
       "base": true,
       "max_zoom": 19,
       "min_zoom": 1,
       "options": [
        "attribution",
        "tile_size",
        "min_zoom",
        "max_zoom",
        "detect_retina"
       ]
      }
     },
     "269c40c271e14a8c974826bcc187bce0": {
      "model_module": "jupyter-leaflet",
      "model_module_version": "~0.9.0",
      "model_name": "LeafletWMSLayerModel",
      "state": {
       "_model_module_version": "~0.9.0",
       "_view_count": null,
       "_view_module_version": "~0.9.0",
       "layers": "nasa:bluemarble",
       "name": "nasa:bluemarble",
       "options": [
        "styles",
        "crs",
        "attribution",
        "layers",
        "uppercase",
        "format",
        "max_zoom",
        "detect_retina",
        "min_zoom",
        "tile_size",
        "transparent"
       ],
       "url": "https://demo.boundlessgeo.com/geoserver/ows?"
      }
     },
     "26a6470d6e504d91a208caaff808db9b": {
      "model_module": "jupyter-leaflet",
      "model_module_version": "~0.9.0",
      "model_name": "LeafletMapModel",
      "state": {
       "_dom_classes": [],
       "_model_module_version": "~0.9.0",
       "_view_count": null,
       "_view_module_version": "~0.9.0",
       "basemap": {
        "attribution": "Map data (c) <a href=\"https://openstreetmap.org\">OpenStreetMap</a> contributors",
        "max_zoom": 19,
        "url": "https://{s}.tile.openstreetmap.org/{z}/{x}/{y}.png"
       },
       "center": [
        -32.00807595929104,
        153.01757812500003
       ],
       "east": -180,
       "interpolation": "bilinear",
       "layers": [
        "IPY_MODEL_831a3c1779d8480f9b2dc6691311ff2c",
        "IPY_MODEL_afd8f22ec4574fa38e23790209250022"
       ],
       "layout": "IPY_MODEL_070020bf3f4e4611a4d98d4145d74aa8",
       "modisdate": "yesterday",
       "north": -90,
       "options": [
        "keyboard_pan_offset",
        "tap",
        "attribution_control",
        "max_zoom",
        "min_zoom",
        "bounce_at_zoom_limits",
        "keyboard",
        "scroll_wheel_zoom",
        "dragging",
        "inertia_max_speed",
        "close_popup_on_click",
        "zoom_control",
        "box_zoom",
        "double_click_zoom",
        "interpolation",
        "tap_tolerance",
        "zoom_start",
        "keyboard_zoom_offset",
        "inertia_deceleration",
        "inertia",
        "center",
        "zoom",
        "world_copy_jump",
        "zoom_animation_threshold",
        "touch_zoom",
        "basemap"
       ],
       "south": 90,
       "west": 180,
       "zoom": 6
      }
     },
     "26bd12a0e6a64d8795cec4b12584b08a": {
      "model_module": "@jupyter-widgets/controls",
      "model_module_version": "1.3.0",
      "model_name": "SelectModel",
      "state": {
       "_options_labels": [
        "1999-05-28T00:00:00.000Z",
        "1999-06-13T00:00:00.000Z",
        "1999-06-29T00:00:00.000Z",
        "1999-07-15T00:00:00.000Z",
        "1999-07-31T00:00:00.000Z",
        "1999-08-16T00:00:00.000Z",
        "1999-09-01T00:00:00.000Z",
        "1999-09-17T00:00:00.000Z",
        "1999-10-03T00:00:00.000Z",
        "1999-10-19T00:00:00.000Z",
        "1999-11-04T00:00:00.000Z",
        "1999-11-20T00:00:00.000Z",
        "1999-12-06T00:00:00.000Z",
        "1999-12-22T00:00:00.000Z",
        "2000-01-07T00:00:00.000Z",
        "2000-01-23T00:00:00.000Z",
        "2000-02-08T00:00:00.000Z",
        "2000-02-24T00:00:00.000Z",
        "2000-03-11T00:00:00.000Z",
        "2000-03-27T00:00:00.000Z",
        "2000-04-12T00:00:00.000Z",
        "2000-04-28T00:00:00.000Z",
        "2000-05-14T00:00:00.000Z",
        "2000-05-30T00:00:00.000Z",
        "2000-06-15T00:00:00.000Z",
        "2000-07-01T00:00:00.000Z",
        "2000-07-17T00:00:00.000Z",
        "2000-08-02T00:00:00.000Z",
        "2000-08-18T00:00:00.000Z",
        "2000-09-03T00:00:00.000Z",
        "2000-09-19T00:00:00.000Z",
        "2000-10-05T00:00:00.000Z",
        "2000-10-21T00:00:00.000Z",
        "2000-11-06T00:00:00.000Z",
        "2000-11-22T00:00:00.000Z",
        "2000-12-08T00:00:00.000Z",
        "2000-12-24T00:00:00.000Z",
        "2001-01-09T00:00:00.000Z",
        "2001-01-25T00:00:00.000Z",
        "2001-02-10T00:00:00.000Z",
        "2001-02-26T00:00:00.000Z",
        "2001-03-14T00:00:00.000Z",
        "2001-03-30T00:00:00.000Z",
        "2001-04-15T00:00:00.000Z",
        "2001-05-01T00:00:00.000Z",
        "2001-05-17T00:00:00.000Z",
        "2001-06-02T00:00:00.000Z",
        "2001-06-18T00:00:00.000Z",
        "2001-07-04T00:00:00.000Z",
        "2001-07-20T00:00:00.000Z",
        "2001-08-05T00:00:00.000Z",
        "2001-08-21T00:00:00.000Z",
        "2001-09-06T00:00:00.000Z",
        "2001-09-22T00:00:00.000Z",
        "2001-10-08T00:00:00.000Z",
        "2001-10-24T00:00:00.000Z",
        "2001-11-09T00:00:00.000Z",
        "2001-11-25T00:00:00.000Z",
        "2001-12-11T00:00:00.000Z",
        "2001-12-27T00:00:00.000Z",
        "2002-01-12T00:00:00.000Z",
        "2002-01-28T00:00:00.000Z",
        "2002-02-13T00:00:00.000Z",
        "2002-03-01T00:00:00.000Z",
        "2002-03-17T00:00:00.000Z",
        "2002-04-02T00:00:00.000Z",
        "2002-04-18T00:00:00.000Z",
        "2002-05-04T00:00:00.000Z",
        "2002-05-20T00:00:00.000Z",
        "2002-06-05T00:00:00.000Z",
        "2002-06-21T00:00:00.000Z",
        "2002-07-07T00:00:00.000Z",
        "2002-07-23T00:00:00.000Z",
        "2002-08-08T00:00:00.000Z",
        "2002-08-24T00:00:00.000Z",
        "2002-09-09T00:00:00.000Z",
        "2002-09-25T00:00:00.000Z",
        "2002-10-11T00:00:00.000Z",
        "2002-10-27T00:00:00.000Z",
        "2002-11-12T00:00:00.000Z",
        "2002-11-28T00:00:00.000Z",
        "2002-12-14T00:00:00.000Z",
        "2002-12-30T00:00:00.000Z",
        "2003-01-15T00:00:00.000Z",
        "2003-01-31T00:00:00.000Z",
        "2003-02-16T00:00:00.000Z",
        "2003-03-04T00:00:00.000Z",
        "2003-03-20T00:00:00.000Z",
        "2003-04-05T00:00:00.000Z",
        "2003-04-21T00:00:00.000Z",
        "2003-05-07T00:00:00.000Z",
        "2003-05-23T00:00:00.000Z",
        "2003-06-08T00:00:00.000Z",
        "2003-06-24T00:00:00.000Z",
        "2003-07-10T00:00:00.000Z",
        "2003-07-26T00:00:00.000Z",
        "2003-08-11T00:00:00.000Z",
        "2003-08-27T00:00:00.000Z",
        "2003-09-12T00:00:00.000Z",
        "2003-09-28T00:00:00.000Z",
        "2003-10-14T00:00:00.000Z",
        "2003-10-30T00:00:00.000Z",
        "2003-11-15T00:00:00.000Z",
        "2003-12-01T00:00:00.000Z",
        "2003-12-17T00:00:00.000Z",
        "2004-01-02T00:00:00.000Z",
        "2004-01-18T00:00:00.000Z",
        "2004-02-03T00:00:00.000Z",
        "2004-02-19T00:00:00.000Z",
        "2004-03-06T00:00:00.000Z",
        "2004-03-22T00:00:00.000Z",
        "2004-04-07T00:00:00.000Z",
        "2004-04-23T00:00:00.000Z",
        "2004-05-09T00:00:00.000Z",
        "2004-05-25T00:00:00.000Z",
        "2004-06-10T00:00:00.000Z",
        "2004-06-26T00:00:00.000Z",
        "2004-07-12T00:00:00.000Z",
        "2004-07-28T00:00:00.000Z",
        "2004-08-13T00:00:00.000Z",
        "2004-08-29T00:00:00.000Z",
        "2004-09-14T00:00:00.000Z",
        "2004-09-30T00:00:00.000Z",
        "2004-10-16T00:00:00.000Z",
        "2004-11-01T00:00:00.000Z",
        "2004-11-17T00:00:00.000Z",
        "2004-12-03T00:00:00.000Z",
        "2004-12-19T00:00:00.000Z",
        "2005-01-04T00:00:00.000Z",
        "2005-01-20T00:00:00.000Z",
        "2005-02-05T00:00:00.000Z",
        "2005-02-21T00:00:00.000Z",
        "2005-03-09T00:00:00.000Z",
        "2005-03-25T00:00:00.000Z",
        "2005-04-10T00:00:00.000Z",
        "2005-04-26T00:00:00.000Z",
        "2005-05-12T00:00:00.000Z",
        "2005-05-28T00:00:00.000Z",
        "2005-06-13T00:00:00.000Z",
        "2005-06-29T00:00:00.000Z",
        "2005-07-15T00:00:00.000Z",
        "2005-07-31T00:00:00.000Z",
        "2005-08-16T00:00:00.000Z",
        "2005-09-01T00:00:00.000Z",
        "2005-09-17T00:00:00.000Z",
        "2005-10-03T00:00:00.000Z",
        "2005-10-19T00:00:00.000Z",
        "2005-11-04T00:00:00.000Z",
        "2005-11-20T00:00:00.000Z",
        "2005-12-06T00:00:00.000Z",
        "2005-12-22T00:00:00.000Z",
        "2006-01-07T00:00:00.000Z",
        "2006-01-23T00:00:00.000Z",
        "2006-02-08T00:00:00.000Z",
        "2006-02-24T00:00:00.000Z",
        "2006-03-12T00:00:00.000Z",
        "2006-03-28T00:00:00.000Z",
        "2006-04-13T00:00:00.000Z",
        "2006-04-29T00:00:00.000Z",
        "2006-05-15T00:00:00.000Z",
        "2006-05-31T00:00:00.000Z",
        "2006-06-16T00:00:00.000Z",
        "2006-07-02T00:00:00.000Z",
        "2006-07-18T00:00:00.000Z",
        "2006-08-03T00:00:00.000Z",
        "2006-08-19T00:00:00.000Z",
        "2006-09-04T00:00:00.000Z",
        "2006-09-20T00:00:00.000Z",
        "2006-10-06T00:00:00.000Z",
        "2006-10-22T00:00:00.000Z",
        "2006-11-07T00:00:00.000Z",
        "2006-11-23T00:00:00.000Z",
        "2006-12-09T00:00:00.000Z",
        "2006-12-25T00:00:00.000Z",
        "2007-01-10T00:00:00.000Z",
        "2007-01-26T00:00:00.000Z",
        "2007-02-11T00:00:00.000Z",
        "2007-02-27T00:00:00.000Z",
        "2007-03-15T00:00:00.000Z",
        "2007-03-31T00:00:00.000Z",
        "2007-04-16T00:00:00.000Z",
        "2007-05-02T00:00:00.000Z",
        "2007-05-18T00:00:00.000Z",
        "2007-06-03T00:00:00.000Z",
        "2007-06-19T00:00:00.000Z",
        "2007-07-05T00:00:00.000Z",
        "2007-07-21T00:00:00.000Z",
        "2007-08-06T00:00:00.000Z",
        "2007-08-22T00:00:00.000Z",
        "2007-09-07T00:00:00.000Z",
        "2007-09-23T00:00:00.000Z",
        "2007-10-09T00:00:00.000Z",
        "2007-10-25T00:00:00.000Z",
        "2007-11-10T00:00:00.000Z",
        "2007-11-26T00:00:00.000Z",
        "2007-12-12T00:00:00.000Z",
        "2007-12-28T00:00:00.000Z",
        "2008-01-13T00:00:00.000Z",
        "2008-01-29T00:00:00.000Z",
        "2008-02-14T00:00:00.000Z",
        "2008-03-01T00:00:00.000Z",
        "2008-03-17T00:00:00.000Z",
        "2008-04-02T00:00:00.000Z",
        "2008-04-18T00:00:00.000Z",
        "2008-05-04T00:00:00.000Z",
        "2008-05-20T00:00:00.000Z",
        "2008-06-05T00:00:00.000Z",
        "2008-06-21T00:00:00.000Z",
        "2008-07-07T00:00:00.000Z",
        "2008-07-23T00:00:00.000Z",
        "2008-08-08T00:00:00.000Z",
        "2008-08-24T00:00:00.000Z",
        "2008-09-09T00:00:00.000Z",
        "2008-09-25T00:00:00.000Z",
        "2008-10-11T00:00:00.000Z",
        "2008-10-27T00:00:00.000Z",
        "2008-11-12T00:00:00.000Z",
        "2008-11-28T00:00:00.000Z",
        "2008-12-14T00:00:00.000Z",
        "2008-12-30T00:00:00.000Z",
        "2009-01-15T00:00:00.000Z",
        "2009-01-31T00:00:00.000Z",
        "2009-02-16T00:00:00.000Z",
        "2009-03-04T00:00:00.000Z",
        "2009-03-20T00:00:00.000Z",
        "2009-04-05T00:00:00.000Z",
        "2009-04-21T00:00:00.000Z",
        "2009-05-07T00:00:00.000Z",
        "2009-05-23T00:00:00.000Z",
        "2009-06-08T00:00:00.000Z",
        "2009-06-24T00:00:00.000Z",
        "2009-07-10T00:00:00.000Z",
        "2009-07-26T00:00:00.000Z",
        "2009-08-11T00:00:00.000Z",
        "2009-08-27T00:00:00.000Z",
        "2009-09-12T00:00:00.000Z",
        "2009-09-28T00:00:00.000Z",
        "2009-10-14T00:00:00.000Z",
        "2009-10-30T00:00:00.000Z",
        "2009-11-15T00:00:00.000Z",
        "2009-12-01T00:00:00.000Z",
        "2009-12-17T00:00:00.000Z",
        "2010-01-02T00:00:00.000Z",
        "2010-01-18T00:00:00.000Z",
        "2010-02-03T00:00:00.000Z",
        "2010-02-19T00:00:00.000Z",
        "2010-03-07T00:00:00.000Z",
        "2010-03-23T00:00:00.000Z",
        "2010-04-08T00:00:00.000Z",
        "2010-04-24T00:00:00.000Z",
        "2010-05-10T00:00:00.000Z",
        "2010-05-26T00:00:00.000Z",
        "2010-06-11T00:00:00.000Z",
        "2010-06-27T00:00:00.000Z",
        "2010-07-13T00:00:00.000Z",
        "2010-07-29T00:00:00.000Z",
        "2010-08-14T00:00:00.000Z",
        "2010-08-30T00:00:00.000Z",
        "2010-09-15T00:00:00.000Z",
        "2010-10-01T00:00:00.000Z",
        "2010-10-17T00:00:00.000Z",
        "2010-11-02T00:00:00.000Z",
        "2010-11-18T00:00:00.000Z",
        "2010-12-04T00:00:00.000Z",
        "2010-12-20T00:00:00.000Z",
        "2011-01-05T00:00:00.000Z",
        "2011-01-21T00:00:00.000Z",
        "2011-02-06T00:00:00.000Z",
        "2011-02-22T00:00:00.000Z",
        "2011-03-10T00:00:00.000Z",
        "2011-03-26T00:00:00.000Z",
        "2011-04-11T00:00:00.000Z",
        "2011-04-27T00:00:00.000Z",
        "2011-05-13T00:00:00.000Z",
        "2011-05-29T00:00:00.000Z",
        "2011-06-14T00:00:00.000Z",
        "2011-06-30T00:00:00.000Z",
        "2011-07-16T00:00:00.000Z",
        "2011-08-01T00:00:00.000Z",
        "2011-08-17T00:00:00.000Z",
        "2011-09-02T00:00:00.000Z",
        "2011-09-18T00:00:00.000Z",
        "2011-10-04T00:00:00.000Z",
        "2011-10-20T00:00:00.000Z",
        "2011-11-05T00:00:00.000Z",
        "2011-11-21T00:00:00.000Z",
        "2011-12-07T00:00:00.000Z",
        "2011-12-23T00:00:00.000Z",
        "2012-01-08T00:00:00.000Z",
        "2012-01-24T00:00:00.000Z",
        "2012-02-09T00:00:00.000Z",
        "2012-02-25T00:00:00.000Z",
        "2012-03-12T00:00:00.000Z",
        "2012-03-28T00:00:00.000Z",
        "2012-04-13T00:00:00.000Z",
        "2012-04-29T00:00:00.000Z",
        "2012-05-15T00:00:00.000Z",
        "2012-05-31T00:00:00.000Z",
        "2012-06-16T00:00:00.000Z",
        "2012-07-02T00:00:00.000Z",
        "2012-07-18T00:00:00.000Z",
        "2012-08-03T00:00:00.000Z",
        "2012-08-19T00:00:00.000Z",
        "2012-09-04T00:00:00.000Z",
        "2012-09-20T00:00:00.000Z",
        "2012-10-06T00:00:00.000Z",
        "2012-10-22T00:00:00.000Z",
        "2012-11-07T00:00:00.000Z",
        "2012-11-23T00:00:00.000Z",
        "2012-12-09T00:00:00.000Z",
        "2012-12-25T00:00:00.000Z",
        "2013-01-10T00:00:00.000Z",
        "2013-01-26T00:00:00.000Z",
        "2013-02-11T00:00:00.000Z",
        "2013-02-27T00:00:00.000Z",
        "2013-03-15T00:00:00.000Z",
        "2013-03-31T00:00:00.000Z",
        "2013-04-16T00:00:00.000Z",
        "2013-05-02T00:00:00.000Z",
        "2013-05-18T00:00:00.000Z",
        "2013-06-03T00:00:00.000Z",
        "2013-06-19T00:00:00.000Z",
        "2013-07-05T00:00:00.000Z",
        "2013-07-21T00:00:00.000Z",
        "2013-08-06T00:00:00.000Z",
        "2013-08-22T00:00:00.000Z",
        "2013-09-07T00:00:00.000Z",
        "2013-09-23T00:00:00.000Z",
        "2013-10-09T00:00:00.000Z",
        "2013-10-25T00:00:00.000Z",
        "2013-11-10T00:00:00.000Z",
        "2013-11-26T00:00:00.000Z",
        "2013-12-12T00:00:00.000Z",
        "2013-12-28T00:00:00.000Z",
        "2014-01-13T00:00:00.000Z",
        "2014-01-29T00:00:00.000Z",
        "2014-02-14T00:00:00.000Z",
        "2014-03-02T00:00:00.000Z",
        "2014-03-18T00:00:00.000Z",
        "2014-04-03T00:00:00.000Z",
        "2014-04-19T00:00:00.000Z",
        "2014-05-05T00:00:00.000Z",
        "2014-05-21T00:00:00.000Z",
        "2014-06-06T00:00:00.000Z",
        "2014-06-22T00:00:00.000Z",
        "2014-07-08T00:00:00.000Z",
        "2014-07-24T00:00:00.000Z",
        "2014-08-09T00:00:00.000Z",
        "2014-08-25T00:00:00.000Z",
        "2014-09-10T00:00:00.000Z",
        "2014-09-26T00:00:00.000Z",
        "2014-10-12T00:00:00.000Z",
        "2014-10-28T00:00:00.000Z",
        "2014-11-13T00:00:00.000Z",
        "2014-11-29T00:00:00.000Z",
        "2014-12-15T00:00:00.000Z",
        "2014-12-31T00:00:00.000Z",
        "2015-01-16T00:00:00.000Z",
        "2015-02-01T00:00:00.000Z",
        "2015-02-17T00:00:00.000Z",
        "2015-03-05T00:00:00.000Z",
        "2015-03-21T00:00:00.000Z",
        "2015-04-06T00:00:00.000Z",
        "2015-04-22T00:00:00.000Z",
        "2015-05-08T00:00:00.000Z",
        "2015-05-24T00:00:00.000Z",
        "2015-06-09T00:00:00.000Z",
        "2015-06-25T00:00:00.000Z",
        "2015-07-11T00:00:00.000Z",
        "2015-07-27T00:00:00.000Z",
        "2015-08-12T00:00:00.000Z",
        "2015-08-28T00:00:00.000Z",
        "2015-09-13T00:00:00.000Z",
        "2015-09-29T00:00:00.000Z",
        "2015-10-15T00:00:00.000Z",
        "2015-10-31T00:00:00.000Z",
        "2015-11-16T00:00:00.000Z",
        "2015-12-02T00:00:00.000Z",
        "2015-12-18T00:00:00.000Z",
        "2016-01-03T00:00:00.000Z",
        "2016-01-19T00:00:00.000Z",
        "2016-02-04T00:00:00.000Z",
        "2016-02-20T00:00:00.000Z",
        "2016-03-07T00:00:00.000Z",
        "2016-03-23T00:00:00.000Z",
        "2016-04-08T00:00:00.000Z",
        "2016-04-24T00:00:00.000Z",
        "2016-05-10T00:00:00.000Z",
        "2016-05-26T00:00:00.000Z",
        "2016-06-11T00:00:00.000Z",
        "2016-06-27T00:00:00.000Z",
        "2016-07-13T00:00:00.000Z",
        "2016-07-29T00:00:00.000Z",
        "2016-08-14T00:00:00.000Z",
        "2016-08-30T00:00:00.000Z",
        "2016-09-15T00:00:00.000Z",
        "2016-10-01T00:00:00.000Z",
        "2016-10-17T00:00:00.000Z",
        "2016-11-02T00:00:00.000Z",
        "2016-11-18T00:00:00.000Z",
        "2016-12-04T00:00:00.000Z",
        "2016-12-20T00:00:00.000Z",
        "2017-01-05T00:00:00.000Z",
        "2017-01-21T00:00:00.000Z",
        "2017-02-06T00:00:00.000Z",
        "2017-02-22T00:00:00.000Z",
        "2017-03-10T00:00:00.000Z",
        "2017-03-26T00:00:00.000Z",
        "2017-04-11T00:00:00.000Z",
        "2017-04-27T00:00:00.000Z",
        "2017-05-13T00:00:00.000Z",
        "2017-05-29T00:00:00.000Z",
        "2017-06-14T00:00:00.000Z",
        "2017-06-30T00:00:00.000Z",
        "2017-07-16T00:00:00.000Z",
        "2017-08-01T00:00:00.000Z",
        "2017-08-17T00:00:00.000Z",
        "2017-09-02T00:00:00.000Z",
        "2017-09-18T00:00:00.000Z",
        "2017-10-04T00:00:00.000Z",
        "2017-10-20T00:00:00.000Z",
        "2017-11-05T00:00:00.000Z",
        "2017-11-21T00:00:00.000Z",
        "2017-12-07T00:00:00.000Z",
        "2017-12-23T00:00:00.000Z",
        "2018-01-08T00:00:00.000Z",
        "2018-01-24T00:00:00.000Z",
        "2018-02-09T00:00:00.000Z",
        "2018-02-25T00:00:00.000Z",
        "2018-03-13T00:00:00.000Z",
        "2018-03-29T00:00:00.000Z",
        "2018-04-14T00:00:00.000Z",
        "2018-04-30T00:00:00.000Z"
       ],
       "description": "Date:",
       "index": 0,
       "layout": "IPY_MODEL_bbda4e28c05b4aa2ac2e5a3a552d2100",
       "style": "IPY_MODEL_5d85e26e7df04e3d97a7cb117b88cbd1"
      }
     },
     "26f68b4ed9d445709c2a6b368c6ee472": {
      "model_module": "@jupyter-widgets/controls",
      "model_module_version": "1.3.0",
      "model_name": "DescriptionStyleModel",
      "state": {
       "description_width": ""
      }
     },
     "275dee7b372f4a9d84b843c8a41c4a0c": {
      "model_module": "@jupyter-widgets/base",
      "model_module_version": "1.1.0",
      "model_name": "LayoutModel",
      "state": {}
     },
     "2777e206ddda4b5a8c358fb101bab0be": {
      "model_module": "jupyter-leaflet",
      "model_module_version": "~0.9.0",
      "model_name": "LeafletWMSLayerModel",
      "state": {
       "_model_module_version": "~0.9.0",
       "_view_count": null,
       "_view_module_version": "~0.9.0",
       "layers": "nasa:bluemarble",
       "name": "nasa:bluemarble",
       "options": [
        "styles",
        "crs",
        "attribution",
        "layers",
        "uppercase",
        "format",
        "max_zoom",
        "detect_retina",
        "min_zoom",
        "tile_size",
        "transparent"
       ],
       "url": "https://demo.boundlessgeo.com/geoserver/ows?"
      }
     },
     "27f04db5dba343a9833b55f6691ccec0": {
      "model_module": "@jupyter-widgets/base",
      "model_module_version": "1.1.0",
      "model_name": "LayoutModel",
      "state": {}
     },
     "27f1e006c4a54b4e9676934964653f65": {
      "model_module": "@jupyter-widgets/base",
      "model_module_version": "1.1.0",
      "model_name": "LayoutModel",
      "state": {}
     },
     "2a8657845a2741358eebb0382464d022": {
      "model_module": "@jupyter-widgets/base",
      "model_module_version": "1.1.0",
      "model_name": "LayoutModel",
      "state": {}
     },
     "2ac6feabc03d4f32b0bf243468cd9be1": {
      "model_module": "@jupyter-widgets/controls",
      "model_module_version": "1.3.0",
      "model_name": "SelectModel",
      "state": {
       "_options_labels": [
        "1999-05-28T00:00:00.000Z",
        "1999-06-13T00:00:00.000Z",
        "1999-06-29T00:00:00.000Z",
        "1999-07-15T00:00:00.000Z",
        "1999-07-31T00:00:00.000Z",
        "1999-08-16T00:00:00.000Z",
        "1999-09-01T00:00:00.000Z",
        "1999-09-17T00:00:00.000Z",
        "1999-10-03T00:00:00.000Z",
        "1999-10-19T00:00:00.000Z",
        "1999-11-04T00:00:00.000Z",
        "1999-11-20T00:00:00.000Z",
        "1999-12-06T00:00:00.000Z",
        "1999-12-22T00:00:00.000Z",
        "2000-01-07T00:00:00.000Z",
        "2000-01-23T00:00:00.000Z",
        "2000-02-08T00:00:00.000Z",
        "2000-02-24T00:00:00.000Z",
        "2000-03-11T00:00:00.000Z",
        "2000-03-27T00:00:00.000Z",
        "2000-04-12T00:00:00.000Z",
        "2000-04-28T00:00:00.000Z",
        "2000-05-14T00:00:00.000Z",
        "2000-05-30T00:00:00.000Z",
        "2000-06-15T00:00:00.000Z",
        "2000-07-01T00:00:00.000Z",
        "2000-07-17T00:00:00.000Z",
        "2000-08-02T00:00:00.000Z",
        "2000-08-18T00:00:00.000Z",
        "2000-09-03T00:00:00.000Z",
        "2000-09-19T00:00:00.000Z",
        "2000-10-05T00:00:00.000Z",
        "2000-10-21T00:00:00.000Z",
        "2000-11-06T00:00:00.000Z",
        "2000-11-22T00:00:00.000Z",
        "2000-12-08T00:00:00.000Z",
        "2000-12-24T00:00:00.000Z",
        "2001-01-09T00:00:00.000Z",
        "2001-01-25T00:00:00.000Z",
        "2001-02-10T00:00:00.000Z",
        "2001-02-26T00:00:00.000Z",
        "2001-03-14T00:00:00.000Z",
        "2001-03-30T00:00:00.000Z",
        "2001-04-15T00:00:00.000Z",
        "2001-05-01T00:00:00.000Z",
        "2001-05-17T00:00:00.000Z",
        "2001-06-02T00:00:00.000Z",
        "2001-06-18T00:00:00.000Z",
        "2001-07-04T00:00:00.000Z",
        "2001-07-20T00:00:00.000Z",
        "2001-08-05T00:00:00.000Z",
        "2001-08-21T00:00:00.000Z",
        "2001-09-06T00:00:00.000Z",
        "2001-09-22T00:00:00.000Z",
        "2001-10-08T00:00:00.000Z",
        "2001-10-24T00:00:00.000Z",
        "2001-11-09T00:00:00.000Z",
        "2001-11-25T00:00:00.000Z",
        "2001-12-11T00:00:00.000Z",
        "2001-12-27T00:00:00.000Z",
        "2002-01-12T00:00:00.000Z",
        "2002-01-28T00:00:00.000Z",
        "2002-02-13T00:00:00.000Z",
        "2002-03-01T00:00:00.000Z",
        "2002-03-17T00:00:00.000Z",
        "2002-04-02T00:00:00.000Z",
        "2002-04-18T00:00:00.000Z",
        "2002-05-04T00:00:00.000Z",
        "2002-05-20T00:00:00.000Z",
        "2002-06-05T00:00:00.000Z",
        "2002-06-21T00:00:00.000Z",
        "2002-07-07T00:00:00.000Z",
        "2002-07-23T00:00:00.000Z",
        "2002-08-08T00:00:00.000Z",
        "2002-08-24T00:00:00.000Z",
        "2002-09-09T00:00:00.000Z",
        "2002-09-25T00:00:00.000Z",
        "2002-10-11T00:00:00.000Z",
        "2002-10-27T00:00:00.000Z",
        "2002-11-12T00:00:00.000Z",
        "2002-11-28T00:00:00.000Z",
        "2002-12-14T00:00:00.000Z",
        "2002-12-30T00:00:00.000Z",
        "2003-01-15T00:00:00.000Z",
        "2003-01-31T00:00:00.000Z",
        "2003-02-16T00:00:00.000Z",
        "2003-03-04T00:00:00.000Z",
        "2003-03-20T00:00:00.000Z",
        "2003-04-05T00:00:00.000Z",
        "2003-04-21T00:00:00.000Z",
        "2003-05-07T00:00:00.000Z",
        "2003-05-23T00:00:00.000Z",
        "2003-06-08T00:00:00.000Z",
        "2003-06-24T00:00:00.000Z",
        "2003-07-10T00:00:00.000Z",
        "2003-07-26T00:00:00.000Z",
        "2003-08-11T00:00:00.000Z",
        "2003-08-27T00:00:00.000Z",
        "2003-09-12T00:00:00.000Z",
        "2003-09-28T00:00:00.000Z",
        "2003-10-14T00:00:00.000Z",
        "2003-10-30T00:00:00.000Z",
        "2003-11-15T00:00:00.000Z",
        "2003-12-01T00:00:00.000Z",
        "2003-12-17T00:00:00.000Z",
        "2004-01-02T00:00:00.000Z",
        "2004-01-18T00:00:00.000Z",
        "2004-02-03T00:00:00.000Z",
        "2004-02-19T00:00:00.000Z",
        "2004-03-06T00:00:00.000Z",
        "2004-03-22T00:00:00.000Z",
        "2004-04-07T00:00:00.000Z",
        "2004-04-23T00:00:00.000Z",
        "2004-05-09T00:00:00.000Z",
        "2004-05-25T00:00:00.000Z",
        "2004-06-10T00:00:00.000Z",
        "2004-06-26T00:00:00.000Z",
        "2004-07-12T00:00:00.000Z",
        "2004-07-28T00:00:00.000Z",
        "2004-08-13T00:00:00.000Z",
        "2004-08-29T00:00:00.000Z",
        "2004-09-14T00:00:00.000Z",
        "2004-09-30T00:00:00.000Z",
        "2004-10-16T00:00:00.000Z",
        "2004-11-01T00:00:00.000Z",
        "2004-11-17T00:00:00.000Z",
        "2004-12-03T00:00:00.000Z",
        "2004-12-19T00:00:00.000Z",
        "2005-01-04T00:00:00.000Z",
        "2005-01-20T00:00:00.000Z",
        "2005-02-05T00:00:00.000Z",
        "2005-02-21T00:00:00.000Z",
        "2005-03-09T00:00:00.000Z",
        "2005-03-25T00:00:00.000Z",
        "2005-04-10T00:00:00.000Z",
        "2005-04-26T00:00:00.000Z",
        "2005-05-12T00:00:00.000Z",
        "2005-05-28T00:00:00.000Z",
        "2005-06-13T00:00:00.000Z",
        "2005-06-29T00:00:00.000Z",
        "2005-07-15T00:00:00.000Z",
        "2005-07-31T00:00:00.000Z",
        "2005-08-16T00:00:00.000Z",
        "2005-09-01T00:00:00.000Z",
        "2005-09-17T00:00:00.000Z",
        "2005-10-03T00:00:00.000Z",
        "2005-10-19T00:00:00.000Z",
        "2005-11-04T00:00:00.000Z",
        "2005-11-20T00:00:00.000Z",
        "2005-12-06T00:00:00.000Z",
        "2005-12-22T00:00:00.000Z",
        "2006-01-07T00:00:00.000Z",
        "2006-01-23T00:00:00.000Z",
        "2006-02-08T00:00:00.000Z",
        "2006-02-24T00:00:00.000Z",
        "2006-03-12T00:00:00.000Z",
        "2006-03-28T00:00:00.000Z",
        "2006-04-13T00:00:00.000Z",
        "2006-04-29T00:00:00.000Z",
        "2006-05-15T00:00:00.000Z",
        "2006-05-31T00:00:00.000Z",
        "2006-06-16T00:00:00.000Z",
        "2006-07-02T00:00:00.000Z",
        "2006-07-18T00:00:00.000Z",
        "2006-08-03T00:00:00.000Z",
        "2006-08-19T00:00:00.000Z",
        "2006-09-04T00:00:00.000Z",
        "2006-09-20T00:00:00.000Z",
        "2006-10-06T00:00:00.000Z",
        "2006-10-22T00:00:00.000Z",
        "2006-11-07T00:00:00.000Z",
        "2006-11-23T00:00:00.000Z",
        "2006-12-09T00:00:00.000Z",
        "2006-12-25T00:00:00.000Z",
        "2007-01-10T00:00:00.000Z",
        "2007-01-26T00:00:00.000Z",
        "2007-02-11T00:00:00.000Z",
        "2007-02-27T00:00:00.000Z",
        "2007-03-15T00:00:00.000Z",
        "2007-03-31T00:00:00.000Z",
        "2007-04-16T00:00:00.000Z",
        "2007-05-02T00:00:00.000Z",
        "2007-05-18T00:00:00.000Z",
        "2007-06-03T00:00:00.000Z",
        "2007-06-19T00:00:00.000Z",
        "2007-07-05T00:00:00.000Z",
        "2007-07-21T00:00:00.000Z",
        "2007-08-06T00:00:00.000Z",
        "2007-08-22T00:00:00.000Z",
        "2007-09-07T00:00:00.000Z",
        "2007-09-23T00:00:00.000Z",
        "2007-10-09T00:00:00.000Z",
        "2007-10-25T00:00:00.000Z",
        "2007-11-10T00:00:00.000Z",
        "2007-11-26T00:00:00.000Z",
        "2007-12-12T00:00:00.000Z",
        "2007-12-28T00:00:00.000Z",
        "2008-01-13T00:00:00.000Z",
        "2008-01-29T00:00:00.000Z",
        "2008-02-14T00:00:00.000Z",
        "2008-03-01T00:00:00.000Z",
        "2008-03-17T00:00:00.000Z",
        "2008-04-02T00:00:00.000Z",
        "2008-04-18T00:00:00.000Z",
        "2008-05-04T00:00:00.000Z",
        "2008-05-20T00:00:00.000Z",
        "2008-06-05T00:00:00.000Z",
        "2008-06-21T00:00:00.000Z",
        "2008-07-07T00:00:00.000Z",
        "2008-07-23T00:00:00.000Z",
        "2008-08-08T00:00:00.000Z",
        "2008-08-24T00:00:00.000Z",
        "2008-09-09T00:00:00.000Z",
        "2008-09-25T00:00:00.000Z",
        "2008-10-11T00:00:00.000Z",
        "2008-10-27T00:00:00.000Z",
        "2008-11-12T00:00:00.000Z",
        "2008-11-28T00:00:00.000Z",
        "2008-12-14T00:00:00.000Z",
        "2008-12-30T00:00:00.000Z",
        "2009-01-15T00:00:00.000Z",
        "2009-01-31T00:00:00.000Z",
        "2009-02-16T00:00:00.000Z",
        "2009-03-04T00:00:00.000Z",
        "2009-03-20T00:00:00.000Z",
        "2009-04-05T00:00:00.000Z",
        "2009-04-21T00:00:00.000Z",
        "2009-05-07T00:00:00.000Z",
        "2009-05-23T00:00:00.000Z",
        "2009-06-08T00:00:00.000Z",
        "2009-06-24T00:00:00.000Z",
        "2009-07-10T00:00:00.000Z",
        "2009-07-26T00:00:00.000Z",
        "2009-08-11T00:00:00.000Z",
        "2009-08-27T00:00:00.000Z",
        "2009-09-12T00:00:00.000Z",
        "2009-09-28T00:00:00.000Z",
        "2009-10-14T00:00:00.000Z",
        "2009-10-30T00:00:00.000Z",
        "2009-11-15T00:00:00.000Z",
        "2009-12-01T00:00:00.000Z",
        "2009-12-17T00:00:00.000Z",
        "2010-01-02T00:00:00.000Z",
        "2010-01-18T00:00:00.000Z",
        "2010-02-03T00:00:00.000Z",
        "2010-02-19T00:00:00.000Z",
        "2010-03-07T00:00:00.000Z",
        "2010-03-23T00:00:00.000Z",
        "2010-04-08T00:00:00.000Z",
        "2010-04-24T00:00:00.000Z",
        "2010-05-10T00:00:00.000Z",
        "2010-05-26T00:00:00.000Z",
        "2010-06-11T00:00:00.000Z",
        "2010-06-27T00:00:00.000Z",
        "2010-07-13T00:00:00.000Z",
        "2010-07-29T00:00:00.000Z",
        "2010-08-14T00:00:00.000Z",
        "2010-08-30T00:00:00.000Z",
        "2010-09-15T00:00:00.000Z",
        "2010-10-01T00:00:00.000Z",
        "2010-10-17T00:00:00.000Z",
        "2010-11-02T00:00:00.000Z",
        "2010-11-18T00:00:00.000Z",
        "2010-12-04T00:00:00.000Z",
        "2010-12-20T00:00:00.000Z",
        "2011-01-05T00:00:00.000Z",
        "2011-01-21T00:00:00.000Z",
        "2011-02-06T00:00:00.000Z",
        "2011-02-22T00:00:00.000Z",
        "2011-03-10T00:00:00.000Z",
        "2011-03-26T00:00:00.000Z",
        "2011-04-11T00:00:00.000Z",
        "2011-04-27T00:00:00.000Z",
        "2011-05-13T00:00:00.000Z",
        "2011-05-29T00:00:00.000Z",
        "2011-06-14T00:00:00.000Z",
        "2011-06-30T00:00:00.000Z",
        "2011-07-16T00:00:00.000Z",
        "2011-08-01T00:00:00.000Z",
        "2011-08-17T00:00:00.000Z",
        "2011-09-02T00:00:00.000Z",
        "2011-09-18T00:00:00.000Z",
        "2011-10-04T00:00:00.000Z",
        "2011-10-20T00:00:00.000Z",
        "2011-11-05T00:00:00.000Z",
        "2011-11-21T00:00:00.000Z",
        "2011-12-07T00:00:00.000Z",
        "2011-12-23T00:00:00.000Z",
        "2012-01-08T00:00:00.000Z",
        "2012-01-24T00:00:00.000Z",
        "2012-02-09T00:00:00.000Z",
        "2012-02-25T00:00:00.000Z",
        "2012-03-12T00:00:00.000Z",
        "2012-03-28T00:00:00.000Z",
        "2012-04-13T00:00:00.000Z",
        "2012-04-29T00:00:00.000Z",
        "2012-05-15T00:00:00.000Z",
        "2012-05-31T00:00:00.000Z",
        "2012-06-16T00:00:00.000Z",
        "2012-07-02T00:00:00.000Z",
        "2012-07-18T00:00:00.000Z",
        "2012-08-03T00:00:00.000Z",
        "2012-08-19T00:00:00.000Z",
        "2012-09-04T00:00:00.000Z",
        "2012-09-20T00:00:00.000Z",
        "2012-10-06T00:00:00.000Z",
        "2012-10-22T00:00:00.000Z",
        "2012-11-07T00:00:00.000Z",
        "2012-11-23T00:00:00.000Z",
        "2012-12-09T00:00:00.000Z",
        "2012-12-25T00:00:00.000Z",
        "2013-01-10T00:00:00.000Z",
        "2013-01-26T00:00:00.000Z",
        "2013-02-11T00:00:00.000Z",
        "2013-02-27T00:00:00.000Z",
        "2013-03-15T00:00:00.000Z",
        "2013-03-31T00:00:00.000Z",
        "2013-04-16T00:00:00.000Z",
        "2013-05-02T00:00:00.000Z",
        "2013-05-18T00:00:00.000Z",
        "2013-06-03T00:00:00.000Z",
        "2013-06-19T00:00:00.000Z",
        "2013-07-05T00:00:00.000Z",
        "2013-07-21T00:00:00.000Z",
        "2013-08-06T00:00:00.000Z",
        "2013-08-22T00:00:00.000Z",
        "2013-09-07T00:00:00.000Z",
        "2013-09-23T00:00:00.000Z",
        "2013-10-09T00:00:00.000Z",
        "2013-10-25T00:00:00.000Z",
        "2013-11-10T00:00:00.000Z",
        "2013-11-26T00:00:00.000Z",
        "2013-12-12T00:00:00.000Z",
        "2013-12-28T00:00:00.000Z",
        "2014-01-13T00:00:00.000Z",
        "2014-01-29T00:00:00.000Z",
        "2014-02-14T00:00:00.000Z",
        "2014-03-02T00:00:00.000Z",
        "2014-03-18T00:00:00.000Z",
        "2014-04-03T00:00:00.000Z",
        "2014-04-19T00:00:00.000Z",
        "2014-05-05T00:00:00.000Z",
        "2014-05-21T00:00:00.000Z",
        "2014-06-06T00:00:00.000Z",
        "2014-06-22T00:00:00.000Z",
        "2014-07-08T00:00:00.000Z",
        "2014-07-24T00:00:00.000Z",
        "2014-08-09T00:00:00.000Z",
        "2014-08-25T00:00:00.000Z",
        "2014-09-10T00:00:00.000Z",
        "2014-09-26T00:00:00.000Z",
        "2014-10-12T00:00:00.000Z",
        "2014-10-28T00:00:00.000Z",
        "2014-11-13T00:00:00.000Z",
        "2014-11-29T00:00:00.000Z",
        "2014-12-15T00:00:00.000Z",
        "2014-12-31T00:00:00.000Z",
        "2015-01-16T00:00:00.000Z",
        "2015-02-01T00:00:00.000Z",
        "2015-02-17T00:00:00.000Z",
        "2015-03-05T00:00:00.000Z",
        "2015-03-21T00:00:00.000Z",
        "2015-04-06T00:00:00.000Z",
        "2015-04-22T00:00:00.000Z",
        "2015-05-08T00:00:00.000Z",
        "2015-05-24T00:00:00.000Z",
        "2015-06-09T00:00:00.000Z",
        "2015-06-25T00:00:00.000Z",
        "2015-07-11T00:00:00.000Z",
        "2015-07-27T00:00:00.000Z",
        "2015-08-12T00:00:00.000Z",
        "2015-08-28T00:00:00.000Z",
        "2015-09-13T00:00:00.000Z",
        "2015-09-29T00:00:00.000Z",
        "2015-10-15T00:00:00.000Z",
        "2015-10-31T00:00:00.000Z",
        "2015-11-16T00:00:00.000Z",
        "2015-12-02T00:00:00.000Z",
        "2015-12-18T00:00:00.000Z",
        "2016-01-03T00:00:00.000Z",
        "2016-01-19T00:00:00.000Z",
        "2016-02-04T00:00:00.000Z",
        "2016-02-20T00:00:00.000Z",
        "2016-03-07T00:00:00.000Z",
        "2016-03-23T00:00:00.000Z",
        "2016-04-08T00:00:00.000Z",
        "2016-04-24T00:00:00.000Z",
        "2016-05-10T00:00:00.000Z",
        "2016-05-26T00:00:00.000Z",
        "2016-06-11T00:00:00.000Z",
        "2016-06-27T00:00:00.000Z",
        "2016-07-13T00:00:00.000Z",
        "2016-07-29T00:00:00.000Z",
        "2016-08-14T00:00:00.000Z",
        "2016-08-30T00:00:00.000Z",
        "2016-09-15T00:00:00.000Z",
        "2016-10-01T00:00:00.000Z",
        "2016-10-17T00:00:00.000Z",
        "2016-11-02T00:00:00.000Z",
        "2016-11-18T00:00:00.000Z",
        "2016-12-04T00:00:00.000Z",
        "2016-12-20T00:00:00.000Z",
        "2017-01-05T00:00:00.000Z",
        "2017-01-21T00:00:00.000Z",
        "2017-02-06T00:00:00.000Z",
        "2017-02-22T00:00:00.000Z",
        "2017-03-10T00:00:00.000Z",
        "2017-03-26T00:00:00.000Z",
        "2017-04-11T00:00:00.000Z",
        "2017-04-27T00:00:00.000Z",
        "2017-05-13T00:00:00.000Z",
        "2017-05-29T00:00:00.000Z",
        "2017-06-14T00:00:00.000Z",
        "2017-06-30T00:00:00.000Z",
        "2017-07-16T00:00:00.000Z",
        "2017-08-01T00:00:00.000Z",
        "2017-08-17T00:00:00.000Z",
        "2017-09-02T00:00:00.000Z",
        "2017-09-18T00:00:00.000Z",
        "2017-10-04T00:00:00.000Z",
        "2017-10-20T00:00:00.000Z",
        "2017-11-05T00:00:00.000Z",
        "2017-11-21T00:00:00.000Z",
        "2017-12-07T00:00:00.000Z",
        "2017-12-23T00:00:00.000Z",
        "2018-01-08T00:00:00.000Z",
        "2018-01-24T00:00:00.000Z",
        "2018-02-09T00:00:00.000Z",
        "2018-02-25T00:00:00.000Z",
        "2018-03-13T00:00:00.000Z",
        "2018-03-29T00:00:00.000Z",
        "2018-04-14T00:00:00.000Z",
        "2018-04-30T00:00:00.000Z"
       ],
       "description": "Date:",
       "index": 0,
       "layout": "IPY_MODEL_7539daa8f2aa44a29f3e0ab3a7475439",
       "style": "IPY_MODEL_58c7699e3f2847db91cb8df60e3bf5c9"
      }
     },
     "2af2e931d1124d338934ee87a567e197": {
      "model_module": "jupyter-leaflet",
      "model_module_version": "~0.9.0",
      "model_name": "LeafletLayersControlModel",
      "state": {
       "_model_module_version": "~0.9.0",
       "_view_count": null,
       "_view_module_version": "~0.9.0"
      }
     },
     "2b1c22a87cc848a7866f8692bb332647": {
      "model_module": "@jupyter-widgets/controls",
      "model_module_version": "1.3.0",
      "model_name": "DescriptionStyleModel",
      "state": {
       "description_width": ""
      }
     },
     "2b7778a9b99c4968891a0298a81d208a": {
      "model_module": "jupyter-leaflet",
      "model_module_version": "~0.9.0",
      "model_name": "LeafletWMSLayerModel",
      "state": {
       "_model_module_version": "~0.9.0",
       "_view_count": null,
       "_view_module_version": "~0.9.0",
       "layers": "nasa:bluemarble",
       "name": "nasa:bluemarble",
       "options": [
        "styles",
        "crs",
        "attribution",
        "layers",
        "uppercase",
        "format",
        "max_zoom",
        "detect_retina",
        "min_zoom",
        "tile_size",
        "transparent"
       ],
       "url": "https://demo.boundlessgeo.com/geoserver/ows?"
      }
     },
     "2bb44aebcc1342e18cb4c595544b5645": {
      "model_module": "jupyter-leaflet",
      "model_module_version": "~0.9.0",
      "model_name": "LeafletMapModel",
      "state": {
       "_dom_classes": [],
       "_model_module_version": "~0.9.0",
       "_view_count": null,
       "_view_module_version": "~0.9.0",
       "basemap": {
        "attribution": "Map data (c) <a href=\"https://openstreetmap.org\">OpenStreetMap</a> contributors",
        "max_zoom": 19,
        "url": "https://{s}.tile.openstreetmap.org/{z}/{x}/{y}.png"
       },
       "center": [
        -35,
        151
       ],
       "controls": [
        "IPY_MODEL_9e20c6054167492f85b45e439b917695"
       ],
       "east": 161.78466796875003,
       "interpolation": "bilinear",
       "layers": [
        "IPY_MODEL_43ce0ac35fb54fc9830a0fbb61835b1f",
        "IPY_MODEL_73804a8c5361402d87fe5a9aef70bd62",
        "IPY_MODEL_2e7e04bf65244433aa9176c69670d8ef"
       ],
       "layout": "IPY_MODEL_9f838e4c9d574941ac9ebd66f82e9859",
       "modisdate": "yesterday",
       "north": -31.316101383495635,
       "options": [
        "keyboard_pan_offset",
        "tap",
        "attribution_control",
        "max_zoom",
        "min_zoom",
        "bounce_at_zoom_limits",
        "keyboard",
        "scroll_wheel_zoom",
        "dragging",
        "inertia_max_speed",
        "close_popup_on_click",
        "zoom_control",
        "box_zoom",
        "double_click_zoom",
        "interpolation",
        "tap_tolerance",
        "zoom_start",
        "keyboard_zoom_offset",
        "inertia_deceleration",
        "inertia",
        "center",
        "zoom",
        "world_copy_jump",
        "zoom_animation_threshold",
        "touch_zoom",
        "basemap"
       ],
       "south": -38.51378825951164,
       "west": 140.22949218750003,
       "zoom": 6
      }
     },
     "2d0abe3cd5d44dea9ec0fe4fc8ef4776": {
      "model_module": "@jupyter-widgets/base",
      "model_module_version": "1.1.0",
      "model_name": "LayoutModel",
      "state": {}
     },
     "2dec59c7e5344990a00021c9ef6be86c": {
      "model_module": "@jupyter-widgets/controls",
      "model_module_version": "1.3.0",
      "model_name": "IntSliderModel",
      "state": {
       "continuous_update": false,
       "description": "Lon:",
       "layout": "IPY_MODEL_bb41f2d8b6064bf7a182387d0ecab071",
       "max": 153,
       "min": 113,
       "style": "IPY_MODEL_b45b74de8c3d4f9fb1a7de55be4bdc37",
       "value": 153
      }
     },
     "2e7e04bf65244433aa9176c69670d8ef": {
      "model_module": "jupyter-leaflet",
      "model_module_version": "~0.9.0",
      "model_name": "LeafletWMSLayerModel",
      "state": {
       "_model_module_version": "~0.9.0",
       "_view_count": null,
       "_view_module_version": "~0.9.0",
       "layers": "LS8:GEOMEDIAN:FALSE",
       "name": "LS8:GEOMEDIAN:FALSE",
       "options": [
        "styles",
        "crs",
        "attribution",
        "layers",
        "uppercase",
        "format",
        "max_zoom",
        "detect_retina",
        "min_zoom",
        "tile_size",
        "transparent"
       ],
       "url": "http://gsky.nci.org.au/ows"
      }
     },
     "2eb242f7175540cd9316dab6f088d7cc": {
      "model_module": "@jupyter-widgets/controls",
      "model_module_version": "1.3.0",
      "model_name": "SliderStyleModel",
      "state": {
       "description_width": ""
      }
     },
     "2ed3e0a0643a4a0ca3ef33fdbe27bf2f": {
      "model_module": "jupyter-leaflet",
      "model_module_version": "~0.9.0",
      "model_name": "LeafletWMSLayerModel",
      "state": {
       "_model_module_version": "~0.9.0",
       "_view_count": null,
       "_view_module_version": "~0.9.0",
       "layers": "hltc:high:fc",
       "name": "hltc:high:fc",
       "options": [
        "styles",
        "crs",
        "attribution",
        "layers",
        "uppercase",
        "format",
        "max_zoom",
        "detect_retina",
        "min_zoom",
        "tile_size",
        "transparent"
       ],
       "url": "http://gsky.nci.org.au/ows"
      }
     },
     "2f4523e2dab9416992221d7b14711432": {
      "model_module": "@jupyter-widgets/base",
      "model_module_version": "1.1.0",
      "model_name": "LayoutModel",
      "state": {}
     },
     "2fe5f29ab6664b17bf7ce5ee2d89fbf4": {
      "model_module": "@jupyter-widgets/base",
      "model_module_version": "1.1.0",
      "model_name": "LayoutModel",
      "state": {}
     },
     "305eaf077d584015a9e9631d1d22c2bb": {
      "model_module": "jupyter-leaflet",
      "model_module_version": "~0.9.0",
      "model_name": "LeafletTileLayerModel",
      "state": {
       "_model_module_version": "~0.9.0",
       "_view_count": null,
       "_view_module_version": "~0.9.0",
       "base": true,
       "max_zoom": 19,
       "min_zoom": 1,
       "options": [
        "attribution",
        "tile_size",
        "min_zoom",
        "max_zoom",
        "detect_retina"
       ]
      }
     },
     "30f24384eac24dafb58302ee3d91fb81": {
      "model_module": "@jupyter-widgets/base",
      "model_module_version": "1.1.0",
      "model_name": "LayoutModel",
      "state": {}
     },
     "315bebf7a7e54a01b6d26da3b98b5988": {
      "model_module": "@jupyter-widgets/base",
      "model_module_version": "1.1.0",
      "model_name": "LayoutModel",
      "state": {}
     },
     "3185bb2327ca4ce78c170bda1a97b1dc": {
      "model_module": "@jupyter-widgets/controls",
      "model_module_version": "1.3.0",
      "model_name": "IntSliderModel",
      "state": {
       "continuous_update": false,
       "description": "Lat:",
       "layout": "IPY_MODEL_f5c1a36a2c544c6d841e98d62217f543",
       "max": -10,
       "min": -43,
       "orientation": "vertical",
       "style": "IPY_MODEL_a86ab647b8594d37a630e0554c94a98c",
       "value": -27
      }
     },
     "31e87cc585584010901969ade6374f0b": {
      "model_module": "jupyter-leaflet",
      "model_module_version": "~0.9.0",
      "model_name": "LeafletWMSLayerModel",
      "state": {
       "_model_module_version": "~0.9.0",
       "_view_count": null,
       "_view_module_version": "~0.9.0",
       "layers": "LS8:GEOMEDIAN:FALSE",
       "name": "LS8:GEOMEDIAN:FALSE",
       "opacity": 0.75,
       "options": [
        "styles",
        "crs",
        "attribution",
        "layers",
        "uppercase",
        "format",
        "max_zoom",
        "detect_retina",
        "min_zoom",
        "tile_size",
        "transparent"
       ],
       "tile_size": 35,
       "transparent": true,
       "url": "http://gsky.nci.org.au/ows"
      }
     },
     "31f515333d1840c0975bfcb563617312": {
      "model_module": "@jupyter-widgets/controls",
      "model_module_version": "1.3.0",
      "model_name": "SelectModel",
      "state": {
       "_options_labels": [
        "LS5:GEOMEDIAN:FALSE",
        "LS5:GEOMEDIAN:TRUE",
        "LS5:NBAR:FALSE",
        "LS5:NBAR:TRUE",
        "LS5:NBART:FALSE",
        "LS5:NBART:TRUE",
        "LS7:GEOMEDIAN:FALSE",
        "LS7:GEOMEDIAN:TRUE",
        "LS7:NBAR:FALSE",
        "LS7:NBAR:TRUE",
        "LS7:NBART:FALSE",
        "LS7:NBART:TRUE",
        "LS8:GEOMEDIAN:FALSE",
        "LS8:GEOMEDIAN:TRUE",
        "LS8:NBAR:FALSE",
        "LS8:NBAR:TRUE",
        "LS8:NBART:FALSE",
        "LS8:NBART:TRUE",
        "hltc:high:fc",
        "hltc:high:tc",
        "hltc:low:fc",
        "hltc:low:tc",
        "item:relative",
        "item:stddev"
       ],
       "description": "Layer:",
       "index": 15,
       "layout": "IPY_MODEL_7121b68d80ae491f9b966fae2d47a2c1",
       "style": "IPY_MODEL_86d3ee3372da4ffb959a659f3a7beabb"
      }
     },
     "337165268c584f92b6a43a0e046c510b": {
      "model_module": "@jupyter-widgets/controls",
      "model_module_version": "1.3.0",
      "model_name": "SelectModel",
      "state": {
       "_options_labels": [
        "LS5:GEOMEDIAN:FALSE",
        "LS5:GEOMEDIAN:TRUE",
        "LS5:NBAR:FALSE",
        "LS5:NBAR:TRUE",
        "LS5:NBART:FALSE",
        "LS5:NBART:TRUE",
        "LS7:GEOMEDIAN:FALSE",
        "LS7:GEOMEDIAN:TRUE",
        "LS7:NBAR:FALSE",
        "LS7:NBAR:TRUE",
        "LS7:NBART:FALSE",
        "LS7:NBART:TRUE",
        "LS8:GEOMEDIAN:FALSE",
        "LS8:GEOMEDIAN:TRUE",
        "LS8:NBAR:FALSE",
        "LS8:NBAR:TRUE",
        "LS8:NBART:FALSE",
        "LS8:NBART:TRUE",
        "hltc:high:fc",
        "hltc:high:tc",
        "hltc:low:fc",
        "hltc:low:tc",
        "item:relative",
        "item:stddev"
       ],
       "description": "Layer:",
       "index": 0,
       "layout": "IPY_MODEL_fb0dbf3fe8b94f5bb6876c748b04745b",
       "style": "IPY_MODEL_1276b4406b5a49fba893c2360f946d3c"
      }
     },
     "35a80c08fb4445218b47496a176222fc": {
      "model_module": "jupyter-leaflet",
      "model_module_version": "~0.9.0",
      "model_name": "LeafletMapModel",
      "state": {
       "_dom_classes": [],
       "_model_module_version": "~0.9.0",
       "_view_count": null,
       "_view_module_version": "~0.9.0",
       "basemap": {
        "attribution": "Map data (c) <a href=\"https://openstreetmap.org\">OpenStreetMap</a> contributors",
        "max_zoom": 19,
        "url": "https://{s}.tile.openstreetmap.org/{z}/{x}/{y}.png"
       },
       "center": [
        -10,
        113
       ],
       "east": 123.77197265625001,
       "interpolation": "bilinear",
       "layers": [
        "IPY_MODEL_d780229471b340ba939831d8f634bb88"
       ],
       "layout": "IPY_MODEL_79983d6522794c7aa7eca89f1c57c6b6",
       "modisdate": "yesterday",
       "north": -5.637852598770853,
       "options": [
        "keyboard_pan_offset",
        "tap",
        "attribution_control",
        "max_zoom",
        "min_zoom",
        "bounce_at_zoom_limits",
        "keyboard",
        "scroll_wheel_zoom",
        "dragging",
        "inertia_max_speed",
        "close_popup_on_click",
        "zoom_control",
        "box_zoom",
        "double_click_zoom",
        "interpolation",
        "tap_tolerance",
        "zoom_start",
        "keyboard_zoom_offset",
        "inertia_deceleration",
        "inertia",
        "center",
        "zoom",
        "world_copy_jump",
        "zoom_animation_threshold",
        "touch_zoom",
        "basemap"
       ],
       "south": -14.285677300182577,
       "west": 102.216796875,
       "zoom": 6
      }
     },
     "35ab489aacf14570a8eda4342004cdb5": {
      "model_module": "@jupyter-widgets/base",
      "model_module_version": "1.1.0",
      "model_name": "LayoutModel",
      "state": {}
     },
     "35d19e44232e4cfb9aad084ffb6d3f01": {
      "model_module": "@jupyter-widgets/controls",
      "model_module_version": "1.3.0",
      "model_name": "SelectModel",
      "state": {
       "_options_labels": [
        "2014-01-01T00:00:00.000Z",
        "2015-01-01T00:00:00.000Z",
        "2016-01-01T00:00:00.000Z",
        "2017-01-01T00:00:00.000Z"
       ],
       "description": "Date:",
       "index": 3,
       "layout": "IPY_MODEL_1ce1b75d525948afa6e1cab3f27ae4b2",
       "style": "IPY_MODEL_841d35f1c52946cda66f1dca072be0c2"
      }
     },
     "35d7a24b0f174563857fef2671bdd586": {
      "model_module": "jupyter-leaflet",
      "model_module_version": "~0.9.0",
      "model_name": "LeafletMapModel",
      "state": {
       "_dom_classes": [],
       "_model_module_version": "~0.9.0",
       "_view_count": null,
       "_view_module_version": "~0.9.0",
       "basemap": {
        "attribution": "Map data (c) <a href=\"https://openstreetmap.org\">OpenStreetMap</a> contributors",
        "max_zoom": 19,
        "url": "https://{s}.tile.openstreetmap.org/{z}/{x}/{y}.png"
       },
       "center": [
        -35.99578538642033,
        149.01855468750003
       ],
       "east": -180,
       "interpolation": "bilinear",
       "layers": [
        "IPY_MODEL_8b6999f91b3e43e1927df52c8ef2ccbf"
       ],
       "layout": "IPY_MODEL_f95996efe94f42ec9b7f1f3385d6b5e5",
       "modisdate": "yesterday",
       "north": -90,
       "options": [
        "keyboard_pan_offset",
        "tap",
        "attribution_control",
        "max_zoom",
        "min_zoom",
        "bounce_at_zoom_limits",
        "keyboard",
        "scroll_wheel_zoom",
        "dragging",
        "inertia_max_speed",
        "close_popup_on_click",
        "zoom_control",
        "box_zoom",
        "double_click_zoom",
        "interpolation",
        "tap_tolerance",
        "zoom_start",
        "keyboard_zoom_offset",
        "inertia_deceleration",
        "inertia",
        "center",
        "zoom",
        "world_copy_jump",
        "zoom_animation_threshold",
        "touch_zoom",
        "basemap"
       ],
       "south": 90,
       "west": 180,
       "zoom": 6
      }
     },
     "372a41114a8948e8aee51c55495d4f8a": {
      "model_module": "jupyter-leaflet",
      "model_module_version": "~0.9.0",
      "model_name": "LeafletMapModel",
      "state": {
       "_dom_classes": [],
       "_model_module_version": "~0.9.0",
       "_view_count": null,
       "_view_module_version": "~0.9.0",
       "basemap": {
        "attribution": "Map data (c) <a href=\"https://openstreetmap.org\">OpenStreetMap</a> contributors",
        "max_zoom": 19,
        "url": "https://{s}.tile.openstreetmap.org/{z}/{x}/{y}.png"
       },
       "center": [
        -32.00108860754043,
        153.00109863281253
       ],
       "controls": [
        "IPY_MODEL_be7e192587a2446d9d6dad8bdd73c058"
       ],
       "east": -180,
       "interpolation": "bilinear",
       "layers": [
        "IPY_MODEL_5ffa263e4b4d4772b4ad55da5ac55339",
        "IPY_MODEL_23b10fa1089448e4bf59fc5f79fb8634",
        "IPY_MODEL_2777e206ddda4b5a8c358fb101bab0be"
       ],
       "layout": "IPY_MODEL_463d8e3f993d451c86c245e848a0868b",
       "modisdate": "yesterday",
       "north": -90,
       "options": [
        "keyboard_pan_offset",
        "tap",
        "attribution_control",
        "max_zoom",
        "min_zoom",
        "bounce_at_zoom_limits",
        "keyboard",
        "scroll_wheel_zoom",
        "dragging",
        "inertia_max_speed",
        "close_popup_on_click",
        "zoom_control",
        "box_zoom",
        "double_click_zoom",
        "interpolation",
        "tap_tolerance",
        "zoom_start",
        "keyboard_zoom_offset",
        "inertia_deceleration",
        "inertia",
        "center",
        "zoom",
        "world_copy_jump",
        "zoom_animation_threshold",
        "touch_zoom",
        "basemap"
       ],
       "south": 90,
       "west": 180,
       "zoom": 9
      }
     },
     "37dbf37b563f47198e5202118216febf": {
      "model_module": "jupyter-leaflet",
      "model_module_version": "~0.9.0",
      "model_name": "LeafletMapModel",
      "state": {
       "_dom_classes": [],
       "_model_module_version": "~0.9.0",
       "_view_count": null,
       "_view_module_version": "~0.9.0",
       "basemap": {
        "attribution": "Map data (c) <a href=\"https://openstreetmap.org\">OpenStreetMap</a> contributors",
        "max_zoom": 19,
        "url": "https://{s}.tile.openstreetmap.org/{z}/{x}/{y}.png"
       },
       "center": [
        -10,
        113
       ],
       "controls": [
        "IPY_MODEL_e9ec3a2b751e4a87b6c154f1975a077d"
       ],
       "east": 123.77197265625001,
       "interpolation": "bilinear",
       "layers": [
        "IPY_MODEL_6b0e6c67706b40d68cfe0aaca10e663f",
        "IPY_MODEL_d780229471b340ba939831d8f634bb88",
        "IPY_MODEL_77c8d954ea994bb5a4b629df2a6af1a9"
       ],
       "layout": "IPY_MODEL_d4b21768348a45978034a6af283c0106",
       "modisdate": "yesterday",
       "north": -5.637852598770853,
       "options": [
        "keyboard_pan_offset",
        "tap",
        "attribution_control",
        "max_zoom",
        "min_zoom",
        "bounce_at_zoom_limits",
        "keyboard",
        "scroll_wheel_zoom",
        "dragging",
        "inertia_max_speed",
        "close_popup_on_click",
        "zoom_control",
        "box_zoom",
        "double_click_zoom",
        "interpolation",
        "tap_tolerance",
        "zoom_start",
        "keyboard_zoom_offset",
        "inertia_deceleration",
        "inertia",
        "center",
        "zoom",
        "world_copy_jump",
        "zoom_animation_threshold",
        "touch_zoom",
        "basemap"
       ],
       "south": -14.285677300182577,
       "west": 102.216796875,
       "zoom": 6
      }
     },
     "381808cc254e4a8ba84e1f377eec75d2": {
      "model_module": "jupyter-leaflet",
      "model_module_version": "~0.9.0",
      "model_name": "LeafletWMSLayerModel",
      "state": {
       "_model_module_version": "~0.9.0",
       "_view_count": null,
       "_view_module_version": "~0.9.0",
       "layers": "nasa:bluemarble",
       "name": "nasa:bluemarble",
       "options": [
        "styles",
        "crs",
        "attribution",
        "layers",
        "uppercase",
        "format",
        "max_zoom",
        "detect_retina",
        "min_zoom",
        "tile_size",
        "transparent"
       ],
       "url": "https://demo.boundlessgeo.com/geoserver/ows?"
      }
     },
     "3820a7f2f924482c9950c59033d83e72": {
      "model_module": "jupyter-leaflet",
      "model_module_version": "~0.9.0",
      "model_name": "LeafletLayersControlModel",
      "state": {
       "_model_module_version": "~0.9.0",
       "_view_count": null,
       "_view_module_version": "~0.9.0"
      }
     },
     "386d446fdd9a4938a31e850a4d53b5c3": {
      "model_module": "@jupyter-widgets/base",
      "model_module_version": "1.1.0",
      "model_name": "LayoutModel",
      "state": {}
     },
     "387bd8801d3a440da2f10a63c2dc0eb8": {
      "model_module": "@jupyter-widgets/base",
      "model_module_version": "1.1.0",
      "model_name": "LayoutModel",
      "state": {}
     },
     "38ec063f1619499bb2e3ed2fee5d0bc0": {
      "model_module": "jupyter-leaflet",
      "model_module_version": "~0.9.0",
      "model_name": "LeafletLayersControlModel",
      "state": {
       "_model_module_version": "~0.9.0",
       "_view_count": null,
       "_view_module_version": "~0.9.0"
      }
     },
     "38f591b9248c4377b89e4629197d68d0": {
      "model_module": "@jupyter-widgets/base",
      "model_module_version": "1.1.0",
      "model_name": "LayoutModel",
      "state": {}
     },
     "39de7571c80a4012a35755c9156d7928": {
      "model_module": "@jupyter-widgets/controls",
      "model_module_version": "1.3.0",
      "model_name": "DescriptionStyleModel",
      "state": {
       "description_width": ""
      }
     },
     "3af1382c45a94b55983c8609905ab1cf": {
      "model_module": "@jupyter-widgets/controls",
      "model_module_version": "1.3.0",
      "model_name": "SelectModel",
      "state": {
       "_options_labels": [
        "LS5:GEOMEDIAN:FALSE",
        "LS5:GEOMEDIAN:TRUE",
        "LS5:NBAR:FALSE",
        "LS5:NBAR:TRUE",
        "LS5:NBART:FALSE",
        "LS5:NBART:TRUE",
        "LS7:GEOMEDIAN:FALSE",
        "LS7:GEOMEDIAN:TRUE",
        "LS7:NBAR:FALSE",
        "LS7:NBAR:TRUE",
        "LS7:NBART:FALSE",
        "LS7:NBART:TRUE",
        "LS8:GEOMEDIAN:FALSE",
        "LS8:GEOMEDIAN:TRUE",
        "LS8:NBAR:FALSE",
        "LS8:NBAR:TRUE",
        "LS8:NBART:FALSE",
        "LS8:NBART:TRUE",
        "hltc:high:fc",
        "hltc:high:tc",
        "hltc:low:fc",
        "hltc:low:tc",
        "item:relative",
        "item:stddev"
       ],
       "description": "Layer:",
       "index": 12,
       "layout": "IPY_MODEL_f152b68075de4dad85fe43c765561969",
       "style": "IPY_MODEL_bf92f96625c14455849be008ce9e4b3b"
      }
     },
     "3c499b0cb2954d408d360678d397e04d": {
      "model_module": "@jupyter-widgets/base",
      "model_module_version": "1.1.0",
      "model_name": "LayoutModel",
      "state": {}
     },
     "3cc42288739241c1a31861fc35a93314": {
      "model_module": "jupyter-leaflet",
      "model_module_version": "~0.9.0",
      "model_name": "LeafletMapModel",
      "state": {
       "_dom_classes": [],
       "_model_module_version": "~0.9.0",
       "_view_count": null,
       "_view_module_version": "~0.9.0",
       "basemap": {
        "attribution": "Map data (c) <a href=\"https://openstreetmap.org\">OpenStreetMap</a> contributors",
        "max_zoom": 19,
        "url": "https://{s}.tile.openstreetmap.org/{z}/{x}/{y}.png"
       },
       "center": [
        -27.000408003521738,
        135.00274658203128
       ],
       "east": -180,
       "interpolation": "bilinear",
       "layers": [
        "IPY_MODEL_c49efe1c1ee744eca50ab732fb5a0a60",
        "IPY_MODEL_9d2b6b4b03d545df912be749182bcabe"
       ],
       "layout": "IPY_MODEL_7365bbba7167429686e550b173103b5d",
       "modisdate": "yesterday",
       "north": -90,
       "options": [
        "keyboard_pan_offset",
        "tap",
        "attribution_control",
        "max_zoom",
        "min_zoom",
        "bounce_at_zoom_limits",
        "keyboard",
        "scroll_wheel_zoom",
        "dragging",
        "inertia_max_speed",
        "close_popup_on_click",
        "zoom_control",
        "box_zoom",
        "double_click_zoom",
        "interpolation",
        "tap_tolerance",
        "zoom_start",
        "keyboard_zoom_offset",
        "inertia_deceleration",
        "inertia",
        "center",
        "zoom",
        "world_copy_jump",
        "zoom_animation_threshold",
        "touch_zoom",
        "basemap"
       ],
       "south": 90,
       "west": 180,
       "zoom": 9
      }
     },
     "3eb0a2e314af4e8cb2e51662988efbf7": {
      "model_module": "@jupyter-widgets/controls",
      "model_module_version": "1.3.0",
      "model_name": "SelectModel",
      "state": {
       "_options_labels": [
        "LS5:GEOMEDIAN:FALSE",
        "LS5:GEOMEDIAN:TRUE",
        "LS5:NBAR:FALSE",
        "LS5:NBAR:TRUE",
        "LS5:NBART:FALSE",
        "LS5:NBART:TRUE",
        "LS7:GEOMEDIAN:FALSE",
        "LS7:GEOMEDIAN:TRUE",
        "LS7:NBAR:FALSE",
        "LS7:NBAR:TRUE",
        "LS7:NBART:FALSE",
        "LS7:NBART:TRUE",
        "LS8:GEOMEDIAN:FALSE",
        "LS8:GEOMEDIAN:TRUE",
        "LS8:NBAR:FALSE",
        "LS8:NBAR:TRUE",
        "LS8:NBART:FALSE",
        "LS8:NBART:TRUE",
        "hltc:high:fc",
        "hltc:high:tc",
        "hltc:low:fc",
        "hltc:low:tc",
        "item:relative",
        "item:stddev"
       ],
       "description": "Layer:",
       "index": 6,
       "layout": "IPY_MODEL_51fd1688d6794f2a86a0d44bb1a489be",
       "style": "IPY_MODEL_e2100a5e503440e7b6564a6aaa7a670f"
      }
     },
     "3edf08e31d124840acbe89789dd29880": {
      "model_module": "jupyter-leaflet",
      "model_module_version": "~0.9.0",
      "model_name": "LeafletTileLayerModel",
      "state": {
       "_model_module_version": "~0.9.0",
       "_view_count": null,
       "_view_module_version": "~0.9.0",
       "base": true,
       "max_zoom": 19,
       "min_zoom": 1,
       "options": [
        "attribution",
        "tile_size",
        "min_zoom",
        "max_zoom",
        "detect_retina"
       ]
      }
     },
     "3ee2b9b11eae491a88675296c62fbfb7": {
      "model_module": "@jupyter-widgets/base",
      "model_module_version": "1.1.0",
      "model_name": "LayoutModel",
      "state": {}
     },
     "3efc038416fd41018d2770c4b72b9557": {
      "model_module": "@jupyter-widgets/controls",
      "model_module_version": "1.3.0",
      "model_name": "SliderStyleModel",
      "state": {
       "description_width": ""
      }
     },
     "3f2360d252054531864f637d1be3bb51": {
      "model_module": "@jupyter-widgets/controls",
      "model_module_version": "1.3.0",
      "model_name": "DescriptionStyleModel",
      "state": {
       "description_width": ""
      }
     },
     "3f43dfeed3a842839e9a1b4c48f5299f": {
      "model_module": "@jupyter-widgets/controls",
      "model_module_version": "1.3.0",
      "model_name": "IntSliderModel",
      "state": {
       "continuous_update": false,
       "description": "Lon:",
       "layout": "IPY_MODEL_d9350ee2db9649a7b4f9d301b377cf55",
       "max": 153,
       "min": 113,
       "style": "IPY_MODEL_d175ce1fae5e411b8d18ec92e810c6fd",
       "value": 153
      }
     },
     "3f63e9f4b41747afbdc77cf4bd0de631": {
      "model_module": "@jupyter-widgets/base",
      "model_module_version": "1.1.0",
      "model_name": "LayoutModel",
      "state": {}
     },
     "3fcf503a557c40bfadb9861396eeb206": {
      "model_module": "@jupyter-widgets/base",
      "model_module_version": "1.1.0",
      "model_name": "LayoutModel",
      "state": {}
     },
     "4047d1be39eb421daa988ecd0549fa26": {
      "model_module": "jupyter-leaflet",
      "model_module_version": "~0.9.0",
      "model_name": "LeafletWMSLayerModel",
      "state": {
       "_model_module_version": "~0.9.0",
       "_view_count": null,
       "_view_module_version": "~0.9.0",
       "layers": "hltc:high:fc",
       "options": [
        "styles",
        "crs",
        "attribution",
        "layers",
        "uppercase",
        "format",
        "max_zoom",
        "detect_retina",
        "min_zoom",
        "tile_size",
        "transparent"
       ],
       "url": "http://gsky.nci.org.au/ows"
      }
     },
     "4062c2182f424b8ba5c2b6799964551d": {
      "model_module": "jupyter-leaflet",
      "model_module_version": "~0.9.0",
      "model_name": "LeafletWMSLayerModel",
      "state": {
       "_model_module_version": "~0.9.0",
       "_view_count": null,
       "_view_module_version": "~0.9.0",
       "layers": "LS8:GEOMEDIAN:TRUE",
       "name": "LS8:GEOMEDIAN:TRUE",
       "options": [
        "styles",
        "crs",
        "attribution",
        "layers",
        "uppercase",
        "format",
        "max_zoom",
        "detect_retina",
        "min_zoom",
        "tile_size",
        "transparent"
       ],
       "tile_size": 35,
       "transparent": true,
       "url": "http://gsky.nci.org.au/ows"
      }
     },
     "40eb45559eb349a49060703540447d41": {
      "model_module": "@jupyter-widgets/controls",
      "model_module_version": "1.3.0",
      "model_name": "DescriptionStyleModel",
      "state": {
       "description_width": ""
      }
     },
     "41215b588252494aae585112f2a2f602": {
      "model_module": "@jupyter-widgets/controls",
      "model_module_version": "1.3.0",
      "model_name": "DescriptionStyleModel",
      "state": {
       "description_width": ""
      }
     },
     "41c08e7b50e44788a124875a7240550e": {
      "model_module": "@jupyter-widgets/base",
      "model_module_version": "1.1.0",
      "model_name": "LayoutModel",
      "state": {}
     },
     "424d48192d284268b9d7978e93cd6652": {
      "model_module": "@jupyter-widgets/controls",
      "model_module_version": "1.3.0",
      "model_name": "SelectModel",
      "state": {
       "_options_labels": [
        "LS5:GEOMEDIAN:FALSE",
        "LS5:GEOMEDIAN:TRUE",
        "LS5:NBAR:FALSE",
        "LS5:NBAR:TRUE",
        "LS5:NBART:FALSE",
        "LS5:NBART:TRUE",
        "LS7:GEOMEDIAN:FALSE",
        "LS7:GEOMEDIAN:TRUE",
        "LS7:NBAR:FALSE",
        "LS7:NBAR:TRUE",
        "LS7:NBART:FALSE",
        "LS7:NBART:TRUE",
        "LS8:GEOMEDIAN:FALSE",
        "LS8:GEOMEDIAN:TRUE",
        "LS8:NBAR:FALSE",
        "LS8:NBAR:TRUE",
        "LS8:NBART:FALSE",
        "LS8:NBART:TRUE",
        "hltc:high:fc",
        "hltc:high:tc",
        "hltc:low:fc",
        "hltc:low:tc",
        "item:relative",
        "item:stddev"
       ],
       "description": "Layer:",
       "index": 12,
       "layout": "IPY_MODEL_870b0e9079f641bfac344c06b6309f12",
       "style": "IPY_MODEL_450d59af3e9f453c9e0c218d7b86411d"
      }
     },
     "42f317064e0e45eebda6faaea5e10387": {
      "model_module": "@jupyter-widgets/base",
      "model_module_version": "1.1.0",
      "model_name": "LayoutModel",
      "state": {}
     },
     "43ce0ac35fb54fc9830a0fbb61835b1f": {
      "model_module": "jupyter-leaflet",
      "model_module_version": "~0.9.0",
      "model_name": "LeafletWMSLayerModel",
      "state": {
       "_model_module_version": "~0.9.0",
       "_view_count": null,
       "_view_module_version": "~0.9.0",
       "layers": "nasa:bluemarble",
       "name": "nasa:bluemarble",
       "options": [
        "styles",
        "crs",
        "attribution",
        "layers",
        "uppercase",
        "format",
        "max_zoom",
        "detect_retina",
        "min_zoom",
        "tile_size",
        "transparent"
       ],
       "url": "https://demo.boundlessgeo.com/geoserver/ows?"
      }
     },
     "44a5368982124942a8180a27e037453b": {
      "model_module": "jupyter-leaflet",
      "model_module_version": "~0.9.0",
      "model_name": "LeafletLayersControlModel",
      "state": {
       "_model_module_version": "~0.9.0",
       "_view_count": null,
       "_view_module_version": "~0.9.0"
      }
     },
     "44d60f8c79e242efaa0030dbd169050a": {
      "model_module": "jupyter-leaflet",
      "model_module_version": "~0.9.0",
      "model_name": "LeafletLayersControlModel",
      "state": {
       "_model_module_version": "~0.9.0",
       "_view_count": null,
       "_view_module_version": "~0.9.0"
      }
     },
     "450d59af3e9f453c9e0c218d7b86411d": {
      "model_module": "@jupyter-widgets/controls",
      "model_module_version": "1.3.0",
      "model_name": "DescriptionStyleModel",
      "state": {
       "description_width": ""
      }
     },
     "45bdf5f9b09146708c37bae119366151": {
      "model_module": "@jupyter-widgets/controls",
      "model_module_version": "1.3.0",
      "model_name": "SelectModel",
      "state": {
       "_options_labels": [
        "2014-01-01T00:00:00.000Z",
        "2015-01-01T00:00:00.000Z",
        "2016-01-01T00:00:00.000Z",
        "2017-01-01T00:00:00.000Z"
       ],
       "description": "Date:",
       "index": 0,
       "layout": "IPY_MODEL_5c9b0d609400479f888754aac66c759c",
       "style": "IPY_MODEL_bb4328555a5e43bebd126ce8d6b01580"
      }
     },
     "463d8e3f993d451c86c245e848a0868b": {
      "model_module": "@jupyter-widgets/base",
      "model_module_version": "1.1.0",
      "model_name": "LayoutModel",
      "state": {}
     },
     "469e9acf019a4d67b570c85569aed8c5": {
      "model_module": "@jupyter-widgets/base",
      "model_module_version": "1.1.0",
      "model_name": "LayoutModel",
      "state": {}
     },
     "46b45326401c48968cddde8637ea221e": {
      "model_module": "@jupyter-widgets/controls",
      "model_module_version": "1.3.0",
      "model_name": "SelectModel",
      "state": {
       "_options_labels": [
        "2014-01-01T00:00:00.000Z",
        "2015-01-01T00:00:00.000Z",
        "2016-01-01T00:00:00.000Z",
        "2017-01-01T00:00:00.000Z"
       ],
       "description": "Date:",
       "index": 0,
       "layout": "IPY_MODEL_adbd36452a894acdad06bf82127f8ae6",
       "style": "IPY_MODEL_f1a18ec5401b4dfaae811b59da3f125c"
      }
     },
     "47358773fb204f6fb5c9dffd376b09f1": {
      "model_module": "jupyter-leaflet",
      "model_module_version": "~0.9.0",
      "model_name": "LeafletWMSLayerModel",
      "state": {
       "_model_module_version": "~0.9.0",
       "_view_count": null,
       "_view_module_version": "~0.9.0",
       "layers": "hltc:high:tc",
       "name": "hltc:high:tc",
       "options": [
        "styles",
        "crs",
        "attribution",
        "layers",
        "uppercase",
        "format",
        "max_zoom",
        "detect_retina",
        "min_zoom",
        "tile_size",
        "transparent"
       ],
       "url": "http://gsky.nci.org.au/ows"
      }
     },
     "47454c4f6045477bb9ebf379b0ba7cc2": {
      "model_module": "jupyter-leaflet",
      "model_module_version": "~0.9.0",
      "model_name": "LeafletTileLayerModel",
      "state": {
       "_model_module_version": "~0.9.0",
       "_view_count": null,
       "_view_module_version": "~0.9.0",
       "options": [
        "attribution",
        "tile_size",
        "min_zoom",
        "max_zoom",
        "detect_retina"
       ]
      }
     },
     "4776df53ffd344ae9a009867e5ef3805": {
      "model_module": "@jupyter-widgets/base",
      "model_module_version": "1.1.0",
      "model_name": "LayoutModel",
      "state": {}
     },
     "477ac47d2fac4efdbc48729f9e85efa2": {
      "model_module": "jupyter-leaflet",
      "model_module_version": "~0.9.0",
      "model_name": "LeafletTileLayerModel",
      "state": {
       "_model_module_version": "~0.9.0",
       "_view_count": null,
       "_view_module_version": "~0.9.0",
       "base": true,
       "max_zoom": 19,
       "min_zoom": 1,
       "options": [
        "attribution",
        "tile_size",
        "min_zoom",
        "max_zoom",
        "detect_retina"
       ]
      }
     },
     "48a715203bc64403bd0cbb1c5ec5f770": {
      "model_module": "jupyter-leaflet",
      "model_module_version": "~0.9.0",
      "model_name": "LeafletMapModel",
      "state": {
       "_dom_classes": [],
       "_model_module_version": "~0.9.0",
       "_view_count": null,
       "_view_module_version": "~0.9.0",
       "basemap": {
        "attribution": "Map data (c) <a href=\"https://openstreetmap.org\">OpenStreetMap</a> contributors",
        "max_zoom": 19,
        "url": "https://{s}.tile.openstreetmap.org/{z}/{x}/{y}.png"
       },
       "center": [
        -40.000267972646796,
        148.00231933593753
       ],
       "controls": [
        "IPY_MODEL_7d9d71bf4cca4e638bc0a07bf693da1f"
       ],
       "east": -180,
       "interpolation": "bilinear",
       "layers": [
        "IPY_MODEL_75e467ae23d84dcd896b827d2540007e",
        "IPY_MODEL_7740241892944d9eb0fdf375655e8af4",
        "IPY_MODEL_78ca2b88faa546a4a1a392e814281772"
       ],
       "layout": "IPY_MODEL_9d48ee11b4c54bbeb39b0e40fad8f147",
       "modisdate": "yesterday",
       "north": -90,
       "options": [
        "keyboard_pan_offset",
        "tap",
        "attribution_control",
        "max_zoom",
        "min_zoom",
        "bounce_at_zoom_limits",
        "keyboard",
        "scroll_wheel_zoom",
        "dragging",
        "inertia_max_speed",
        "close_popup_on_click",
        "zoom_control",
        "box_zoom",
        "double_click_zoom",
        "interpolation",
        "tap_tolerance",
        "zoom_start",
        "keyboard_zoom_offset",
        "inertia_deceleration",
        "inertia",
        "center",
        "zoom",
        "world_copy_jump",
        "zoom_animation_threshold",
        "touch_zoom",
        "basemap"
       ],
       "south": 90,
       "west": 180,
       "zoom": 9
      }
     },
     "49026da26fb84a0aaa8b547fc4b30611": {
      "model_module": "@jupyter-widgets/controls",
      "model_module_version": "1.3.0",
      "model_name": "IntSliderModel",
      "state": {
       "continuous_update": false,
       "description": "Lon:",
       "layout": "IPY_MODEL_a7e8bf8f9c0047c48cd67228df1d7d1d",
       "max": 153,
       "min": 113,
       "style": "IPY_MODEL_750997dd0fdb487c9a344375baf0d68d",
       "value": 141
      }
     },
     "4986e6ec35a8493b99b58229fbbbe8fc": {
      "model_module": "@jupyter-widgets/controls",
      "model_module_version": "1.3.0",
      "model_name": "DescriptionStyleModel",
      "state": {
       "description_width": ""
      }
     },
     "49c0ff60192a4b10abf9b27f64ee8091": {
      "model_module": "jupyter-leaflet",
      "model_module_version": "~0.9.0",
      "model_name": "LeafletMapModel",
      "state": {
       "_dom_classes": [],
       "_model_module_version": "~0.9.0",
       "_view_count": null,
       "_view_module_version": "~0.9.0",
       "basemap": {
        "attribution": "Map data (c) <a href=\"https://openstreetmap.org\">OpenStreetMap</a> contributors",
        "max_zoom": 19,
        "url": "https://{s}.tile.openstreetmap.org/{z}/{x}/{y}.png"
       },
       "center": [
        -37.50367273078158,
        148.92815795727077
       ],
       "controls": [
        "IPY_MODEL_2af2e931d1124d338934ee87a567e197"
       ],
       "east": -180,
       "interpolation": "bilinear",
       "layers": [
        "IPY_MODEL_f0b524f1398243cba0e390a4c607eb97",
        "IPY_MODEL_7740241892944d9eb0fdf375655e8af4",
        "IPY_MODEL_4e0d3b6dd3074acb80d813c4d0cdce14"
       ],
       "layout": "IPY_MODEL_4e2a1d677c6c4ff0be8c5468e87bcf2b",
       "modisdate": "yesterday",
       "north": -90,
       "options": [
        "keyboard_pan_offset",
        "tap",
        "attribution_control",
        "max_zoom",
        "min_zoom",
        "bounce_at_zoom_limits",
        "keyboard",
        "scroll_wheel_zoom",
        "dragging",
        "inertia_max_speed",
        "close_popup_on_click",
        "zoom_control",
        "box_zoom",
        "double_click_zoom",
        "interpolation",
        "tap_tolerance",
        "zoom_start",
        "keyboard_zoom_offset",
        "inertia_deceleration",
        "inertia",
        "center",
        "zoom",
        "world_copy_jump",
        "zoom_animation_threshold",
        "touch_zoom",
        "basemap"
       ],
       "south": 90,
       "west": 180,
       "zoom": 9
      }
     },
     "4a8080ab79f846c08793ecb966b3104c": {
      "model_module": "@jupyter-widgets/base",
      "model_module_version": "1.1.0",
      "model_name": "LayoutModel",
      "state": {}
     },
     "4a867b0f08404b37b96a5bbf6daea26c": {
      "model_module": "@jupyter-widgets/controls",
      "model_module_version": "1.3.0",
      "model_name": "IntSliderModel",
      "state": {
       "continuous_update": false,
       "description": "Lat:",
       "layout": "IPY_MODEL_9bdd55b6a42644d2be518a02a800d544",
       "max": -10,
       "min": -43,
       "style": "IPY_MODEL_acc79abc2c7d43d5bc98cb35112f2b88",
       "value": -30
      }
     },
     "4b357bd135af4d229cf6ee2e8bf798e6": {
      "model_module": "@jupyter-widgets/controls",
      "model_module_version": "1.3.0",
      "model_name": "DescriptionStyleModel",
      "state": {
       "description_width": ""
      }
     },
     "4bec589ba1e4484f842697776aea274e": {
      "model_module": "@jupyter-widgets/controls",
      "model_module_version": "1.3.0",
      "model_name": "SliderStyleModel",
      "state": {
       "description_width": ""
      }
     },
     "4bfad03c25534a1494b0402d8d9d30f8": {
      "model_module": "@jupyter-widgets/base",
      "model_module_version": "1.1.0",
      "model_name": "LayoutModel",
      "state": {}
     },
     "4d2b5c6502f94687ac6845a3a12088cf": {
      "model_module": "jupyter-leaflet",
      "model_module_version": "~0.9.0",
      "model_name": "LeafletWMSLayerModel",
      "state": {
       "_model_module_version": "~0.9.0",
       "_view_count": null,
       "_view_module_version": "~0.9.0",
       "layers": "hltc:high:fc",
       "name": "hltc:high:fc",
       "options": [
        "styles",
        "crs",
        "attribution",
        "layers",
        "uppercase",
        "format",
        "max_zoom",
        "detect_retina",
        "min_zoom",
        "tile_size",
        "transparent"
       ],
       "transparent": true,
       "url": "http://gsky.nci.org.au/ows"
      }
     },
     "4d9529325f7943beada4899d921b3424": {
      "model_module": "@jupyter-widgets/controls",
      "model_module_version": "1.3.0",
      "model_name": "SelectModel",
      "state": {
       "_options_labels": [
        "2014-01-01T00:00:00.000Z",
        "2015-01-01T00:00:00.000Z",
        "2016-01-01T00:00:00.000Z",
        "2017-01-01T00:00:00.000Z"
       ],
       "description": "Date:",
       "index": 2,
       "layout": "IPY_MODEL_ec8d223627144f34918036ad62bdbac9",
       "style": "IPY_MODEL_41215b588252494aae585112f2a2f602"
      }
     },
     "4e0d3b6dd3074acb80d813c4d0cdce14": {
      "model_module": "jupyter-leaflet",
      "model_module_version": "~0.9.0",
      "model_name": "LeafletWMSLayerModel",
      "state": {
       "_model_module_version": "~0.9.0",
       "_view_count": null,
       "_view_module_version": "~0.9.0",
       "layers": "hltc:high:fc",
       "name": "hltc:high:fc",
       "options": [
        "styles",
        "crs",
        "attribution",
        "layers",
        "uppercase",
        "format",
        "max_zoom",
        "detect_retina",
        "min_zoom",
        "tile_size",
        "transparent"
       ],
       "transparent": true,
       "url": "http://gsky.nci.org.au/ows"
      }
     },
     "4e2a1d677c6c4ff0be8c5468e87bcf2b": {
      "model_module": "@jupyter-widgets/base",
      "model_module_version": "1.1.0",
      "model_name": "LayoutModel",
      "state": {}
     },
     "4e39328434d6419e81c6eb9ff7372fe1": {
      "model_module": "@jupyter-widgets/controls",
      "model_module_version": "1.3.0",
      "model_name": "DescriptionStyleModel",
      "state": {
       "description_width": ""
      }
     },
     "4e93d07083544c6f9c89b618bfa99af7": {
      "model_module": "@jupyter-widgets/controls",
      "model_module_version": "1.3.0",
      "model_name": "SelectModel",
      "state": {
       "_options_labels": [
        "1990-04-20T00:00:00.000Z",
        "1995-04-02T00:00:00.000Z",
        "2000-04-15T00:00:00.000Z",
        "2005-04-13T00:00:00.000Z",
        "2010-04-11T00:00:00.000Z"
       ],
       "description": "Date:",
       "index": 0,
       "layout": "IPY_MODEL_b2307375874c47989f7e5c5a28b8d92c",
       "style": "IPY_MODEL_7f9b2868c1c6491c8116ffe36ba56fbf"
      }
     },
     "4ea6c6bed0ac4ebf8d7aba248c8e896f": {
      "model_module": "jupyter-leaflet",
      "model_module_version": "~0.9.0",
      "model_name": "LeafletWMSLayerModel",
      "state": {
       "_model_module_version": "~0.9.0",
       "_view_count": null,
       "_view_module_version": "~0.9.0",
       "layers": "LS8:GEOMEDIAN:FALSE",
       "name": "LS8:GEOMEDIAN:FALSE",
       "options": [
        "styles",
        "crs",
        "attribution",
        "layers",
        "uppercase",
        "format",
        "max_zoom",
        "detect_retina",
        "min_zoom",
        "tile_size",
        "transparent"
       ],
       "tile_size": 35,
       "transparent": true,
       "url": "http://gsky.nci.org.au/ows"
      }
     },
     "4f05923c50504ebc9f14c874f307b553": {
      "model_module": "jupyter-leaflet",
      "model_module_version": "~0.9.0",
      "model_name": "LeafletTileLayerModel",
      "state": {
       "_model_module_version": "~0.9.0",
       "_view_count": null,
       "_view_module_version": "~0.9.0",
       "base": true,
       "max_zoom": 19,
       "min_zoom": 1,
       "options": [
        "attribution",
        "tile_size",
        "min_zoom",
        "max_zoom",
        "detect_retina"
       ]
      }
     },
     "4f72e168db0c4d17afef515a5ae058ca": {
      "model_module": "@jupyter-widgets/controls",
      "model_module_version": "1.3.0",
      "model_name": "SliderStyleModel",
      "state": {
       "description_width": ""
      }
     },
     "502410d22dfc44ff9f4d8986467ddb4c": {
      "model_module": "@jupyter-widgets/base",
      "model_module_version": "1.1.0",
      "model_name": "LayoutModel",
      "state": {}
     },
     "5043a685ba9741e7b1e39bb65bd42731": {
      "model_module": "@jupyter-widgets/controls",
      "model_module_version": "1.3.0",
      "model_name": "SelectModel",
      "state": {
       "_options_labels": [
        "LS5:GEOMEDIAN:FALSE",
        "LS5:GEOMEDIAN:TRUE",
        "LS5:NBAR:FALSE",
        "LS5:NBAR:TRUE",
        "LS5:NBART:FALSE",
        "LS5:NBART:TRUE",
        "LS7:GEOMEDIAN:FALSE",
        "LS7:GEOMEDIAN:TRUE",
        "LS7:NBAR:FALSE",
        "LS7:NBAR:TRUE",
        "LS7:NBART:FALSE",
        "LS7:NBART:TRUE",
        "LS8:GEOMEDIAN:FALSE",
        "LS8:GEOMEDIAN:TRUE",
        "LS8:NBAR:FALSE",
        "LS8:NBAR:TRUE",
        "LS8:NBART:FALSE",
        "LS8:NBART:TRUE",
        "hltc:high:fc",
        "hltc:high:tc",
        "hltc:low:fc",
        "hltc:low:tc",
        "item:relative",
        "item:stddev"
       ],
       "description": "Layer:",
       "index": 5,
       "layout": "IPY_MODEL_de2e627589cd4cff8833521cb24679cd",
       "style": "IPY_MODEL_f5a571462ad24b53b7c0c5f2ecff8273"
      }
     },
     "504ad8b061944ee095faffa41c6d63ac": {
      "model_module": "jupyter-leaflet",
      "model_module_version": "~0.9.0",
      "model_name": "LeafletWMSLayerModel",
      "state": {
       "_model_module_version": "~0.9.0",
       "_view_count": null,
       "_view_module_version": "~0.9.0",
       "layers": "hltc:high:fc",
       "options": [
        "styles",
        "crs",
        "attribution",
        "layers",
        "uppercase",
        "format",
        "max_zoom",
        "detect_retina",
        "min_zoom",
        "tile_size",
        "transparent"
       ],
       "url": "http://gsky.nci.org.au/ows"
      }
     },
     "51e89b9cd19348a0a36e64b15e8dd383": {
      "model_module": "@jupyter-widgets/controls",
      "model_module_version": "1.3.0",
      "model_name": "SelectModel",
      "state": {
       "_options_labels": [
        "LS5:GEOMEDIAN:FALSE",
        "LS5:GEOMEDIAN:TRUE",
        "LS5:NBAR:FALSE",
        "LS5:NBAR:TRUE",
        "LS5:NBART:FALSE",
        "LS5:NBART:TRUE",
        "LS7:GEOMEDIAN:FALSE",
        "LS7:GEOMEDIAN:TRUE",
        "LS7:NBAR:FALSE",
        "LS7:NBAR:TRUE",
        "LS7:NBART:FALSE",
        "LS7:NBART:TRUE",
        "LS8:GEOMEDIAN:FALSE",
        "LS8:GEOMEDIAN:TRUE",
        "LS8:NBAR:FALSE",
        "LS8:NBAR:TRUE",
        "LS8:NBART:FALSE",
        "LS8:NBART:TRUE",
        "hltc:high:fc",
        "hltc:high:tc",
        "hltc:low:fc",
        "hltc:low:tc",
        "item:relative",
        "item:stddev"
       ],
       "description": "Layer:",
       "index": 13,
       "layout": "IPY_MODEL_16c8a7cf01b2412c8622e15ec46222f2",
       "style": "IPY_MODEL_b3d118da70f74cf283a942261d0b9d78"
      }
     },
     "51fd1688d6794f2a86a0d44bb1a489be": {
      "model_module": "@jupyter-widgets/base",
      "model_module_version": "1.1.0",
      "model_name": "LayoutModel",
      "state": {}
     },
     "52be29e8f2a74d07813ec51d577df5a0": {
      "model_module": "@jupyter-widgets/controls",
      "model_module_version": "1.3.0",
      "model_name": "SelectModel",
      "state": {
       "_options_labels": [
        "LS5:GEOMEDIAN:FALSE",
        "LS5:GEOMEDIAN:TRUE",
        "LS5:NBAR:FALSE",
        "LS5:NBAR:TRUE",
        "LS5:NBART:FALSE",
        "LS5:NBART:TRUE",
        "LS7:GEOMEDIAN:FALSE",
        "LS7:GEOMEDIAN:TRUE",
        "LS7:NBAR:FALSE",
        "LS7:NBAR:TRUE",
        "LS7:NBART:FALSE",
        "LS7:NBART:TRUE",
        "LS8:GEOMEDIAN:FALSE",
        "LS8:GEOMEDIAN:TRUE",
        "LS8:NBAR:FALSE",
        "LS8:NBAR:TRUE",
        "LS8:NBART:FALSE",
        "LS8:NBART:TRUE",
        "hltc:high:fc",
        "hltc:high:tc",
        "hltc:low:fc",
        "hltc:low:tc",
        "item:relative",
        "item:stddev"
       ],
       "description": "Layer:",
       "index": 13,
       "layout": "IPY_MODEL_7dbae834b7794acb8bfbd67532ba07ad",
       "style": "IPY_MODEL_8a5f15271a6141bd84f9222e4874bcc2"
      }
     },
     "52de0234edb142dc86d53a3c0529be3b": {
      "model_module": "jupyter-leaflet",
      "model_module_version": "~0.9.0",
      "model_name": "LeafletWMSLayerModel",
      "state": {
       "_model_module_version": "~0.9.0",
       "_view_count": null,
       "_view_module_version": "~0.9.0",
       "layers": "LS5:GEOMEDIAN:FALSE",
       "options": [
        "styles",
        "crs",
        "attribution",
        "layers",
        "uppercase",
        "format",
        "max_zoom",
        "detect_retina",
        "min_zoom",
        "tile_size",
        "transparent"
       ],
       "tile_size": 35,
       "transparent": true,
       "url": "http://gsky.nci.org.au/ows"
      }
     },
     "53217d7a90ab409fada42a79376e1dbc": {
      "model_module": "@jupyter-widgets/controls",
      "model_module_version": "1.3.0",
      "model_name": "DescriptionStyleModel",
      "state": {
       "description_width": ""
      }
     },
     "535c2cdf24494c46890f242b5b9c3145": {
      "model_module": "@jupyter-widgets/base",
      "model_module_version": "1.1.0",
      "model_name": "LayoutModel",
      "state": {}
     },
     "539d1e7e29fc45a28a9eaa00405b3257": {
      "model_module": "@jupyter-widgets/controls",
      "model_module_version": "1.3.0",
      "model_name": "SelectModel",
      "state": {
       "_options_labels": [
        "LS5:GEOMEDIAN:FALSE",
        "LS5:GEOMEDIAN:TRUE",
        "LS5:NBAR:FALSE",
        "LS5:NBAR:TRUE",
        "LS5:NBART:FALSE",
        "LS5:NBART:TRUE",
        "LS7:GEOMEDIAN:FALSE",
        "LS7:GEOMEDIAN:TRUE",
        "LS7:NBAR:FALSE",
        "LS7:NBAR:TRUE",
        "LS7:NBART:FALSE",
        "LS7:NBART:TRUE",
        "LS8:GEOMEDIAN:FALSE",
        "LS8:GEOMEDIAN:TRUE",
        "LS8:NBAR:FALSE",
        "LS8:NBAR:TRUE",
        "LS8:NBART:FALSE",
        "LS8:NBART:TRUE",
        "hltc:high:fc",
        "hltc:high:tc",
        "hltc:low:fc",
        "hltc:low:tc",
        "item:relative",
        "item:stddev"
       ],
       "description": "Layer:",
       "index": 2,
       "layout": "IPY_MODEL_d6ac34bdfb0c4bcb8e72465e11e223dd",
       "style": "IPY_MODEL_25e8dbf5e49743d4b6df411a95fdfd58"
      }
     },
     "53d582e61dc24120a1ad46f6b9663770": {
      "model_module": "jupyter-leaflet",
      "model_module_version": "~0.9.0",
      "model_name": "LeafletTileLayerModel",
      "state": {
       "_model_module_version": "~0.9.0",
       "_view_count": null,
       "_view_module_version": "~0.9.0",
       "attribution": "Imagery provided by services from the Global Imagery Browse Services (GIBS), operated by the NASA/GSFC/Earth Science Data and Information System (<a href=\"https://earthdata.nasa.gov\">ESDIS</a>) with funding provided by NASA/HQ.",
       "max_zoom": 9,
       "min_zoom": 1,
       "name": "NASAGIBS.ModisTerraTrueColorCR",
       "options": [
        "attribution",
        "tile_size",
        "min_zoom",
        "max_zoom",
        "detect_retina"
       ],
       "url": "https://map1.vis.earthdata.nasa.gov/wmts-webmerc/MODIS_Terra_CorrectedReflectance_TrueColor/default/2017-11-11/GoogleMapsCompatible_Level9/{z}/{y}/{x}.jpg"
      }
     },
     "54475501eacc4726b43bf144ea7faa29": {
      "model_module": "@jupyter-widgets/base",
      "model_module_version": "1.1.0",
      "model_name": "LayoutModel",
      "state": {}
     },
     "5450bf19426649c1bd4968590fa2b98b": {
      "model_module": "@jupyter-widgets/base",
      "model_module_version": "1.1.0",
      "model_name": "LayoutModel",
      "state": {}
     },
     "54a9468547e14c099645c1d47f8e55f4": {
      "model_module": "jupyter-leaflet",
      "model_module_version": "~0.9.0",
      "model_name": "LeafletWMSLayerModel",
      "state": {
       "_model_module_version": "~0.9.0",
       "_view_count": null,
       "_view_module_version": "~0.9.0",
       "layers": "hltc:high:fc",
       "name": "hltc:high:fc",
       "options": [
        "styles",
        "crs",
        "attribution",
        "layers",
        "uppercase",
        "format",
        "max_zoom",
        "detect_retina",
        "min_zoom",
        "tile_size",
        "transparent"
       ],
       "url": "http://gsky.nci.org.au/ows"
      }
     },
     "55e5777e69974cf598bc3fae638f8ba3": {
      "model_module": "@jupyter-widgets/controls",
      "model_module_version": "1.3.0",
      "model_name": "SelectModel",
      "state": {
       "_options_labels": [
        "LS5:GEOMEDIAN:FALSE",
        "LS5:GEOMEDIAN:TRUE",
        "LS5:NBAR:FALSE",
        "LS5:NBAR:TRUE",
        "LS5:NBART:FALSE",
        "LS5:NBART:TRUE",
        "LS7:GEOMEDIAN:FALSE",
        "LS7:GEOMEDIAN:TRUE",
        "LS7:NBAR:FALSE",
        "LS7:NBAR:TRUE",
        "LS7:NBART:FALSE",
        "LS7:NBART:TRUE",
        "LS8:GEOMEDIAN:FALSE",
        "LS8:GEOMEDIAN:TRUE",
        "LS8:NBAR:FALSE",
        "LS8:NBAR:TRUE",
        "LS8:NBART:FALSE",
        "LS8:NBART:TRUE",
        "hltc:high:fc",
        "hltc:high:tc",
        "hltc:low:fc",
        "hltc:low:tc",
        "item:relative",
        "item:stddev"
       ],
       "description": "Layer:",
       "index": 13,
       "layout": "IPY_MODEL_9f2b3688244442aa973f9bf0516eac65",
       "style": "IPY_MODEL_5d68f450b6da44d2b9daf72b1e958450"
      }
     },
     "57788fa4404a41cfbd58192fee5d400c": {
      "model_module": "jupyter-leaflet",
      "model_module_version": "~0.9.0",
      "model_name": "LeafletLayersControlModel",
      "state": {
       "_model_module_version": "~0.9.0",
       "_view_count": null,
       "_view_module_version": "~0.9.0"
      }
     },
     "57829b34e3ee481dbc14126c18dc8da4": {
      "model_module": "jupyter-leaflet",
      "model_module_version": "~0.9.0",
      "model_name": "LeafletTileLayerModel",
      "state": {
       "_model_module_version": "~0.9.0",
       "_view_count": null,
       "_view_module_version": "~0.9.0",
       "attribution": "Imagery provided by services from the Global Imagery Browse Services (GIBS), operated by the NASA/GSFC/Earth Science Data and Information System (<a href=\"https://earthdata.nasa.gov\">ESDIS</a>) with funding provided by NASA/HQ.",
       "max_zoom": 9,
       "min_zoom": 1,
       "name": "NASAGIBS.ModisTerraTrueColorCR",
       "options": [
        "attribution",
        "tile_size",
        "min_zoom",
        "max_zoom",
        "detect_retina"
       ],
       "url": "https://map1.vis.earthdata.nasa.gov/wmts-webmerc/MODIS_Terra_CorrectedReflectance_TrueColor/default/2017-11-11/GoogleMapsCompatible_Level9/{z}/{y}/{x}.jpg"
      }
     },
     "57f9d28f07e04741aef524ab679dd00d": {
      "model_module": "@jupyter-widgets/controls",
      "model_module_version": "1.3.0",
      "model_name": "FloatSliderModel",
      "state": {
       "layout": "IPY_MODEL_275dee7b372f4a9d84b843c8a41c4a0c",
       "step": 0.1,
       "style": "IPY_MODEL_2eb242f7175540cd9316dab6f088d7cc"
      }
     },
     "584edee254b4494b80d918718c2b5d64": {
      "model_module": "@jupyter-widgets/controls",
      "model_module_version": "1.3.0",
      "model_name": "SelectModel",
      "state": {
       "_options_labels": [
        "LS5:GEOMEDIAN:FALSE",
        "LS5:GEOMEDIAN:TRUE",
        "LS5:NBAR:FALSE",
        "LS5:NBAR:TRUE",
        "LS5:NBART:FALSE",
        "LS5:NBART:TRUE",
        "LS7:GEOMEDIAN:FALSE",
        "LS7:GEOMEDIAN:TRUE",
        "LS7:NBAR:FALSE",
        "LS7:NBAR:TRUE",
        "LS7:NBART:FALSE",
        "LS7:NBART:TRUE",
        "LS8:GEOMEDIAN:FALSE",
        "LS8:GEOMEDIAN:TRUE",
        "LS8:NBAR:FALSE",
        "LS8:NBAR:TRUE",
        "LS8:NBART:FALSE",
        "LS8:NBART:TRUE",
        "hltc:high:fc",
        "hltc:high:tc",
        "hltc:low:fc",
        "hltc:low:tc",
        "item:relative",
        "item:stddev"
       ],
       "description": "Layer:",
       "index": 19,
       "layout": "IPY_MODEL_e82b62f39dd04413b5077b425e820bad",
       "style": "IPY_MODEL_a2348ae81f1d41bcab25ae72782d6753"
      }
     },
     "58c7699e3f2847db91cb8df60e3bf5c9": {
      "model_module": "@jupyter-widgets/controls",
      "model_module_version": "1.3.0",
      "model_name": "DescriptionStyleModel",
      "state": {
       "description_width": ""
      }
     },
     "592be16eecad42ab891a0c5abf87718e": {
      "model_module": "@jupyter-widgets/controls",
      "model_module_version": "1.3.0",
      "model_name": "SelectModel",
      "state": {
       "_options_labels": [
        "LS5:GEOMEDIAN:FALSE",
        "LS5:GEOMEDIAN:TRUE",
        "LS5:NBAR:FALSE",
        "LS5:NBAR:TRUE",
        "LS5:NBART:FALSE",
        "LS5:NBART:TRUE",
        "LS7:GEOMEDIAN:FALSE",
        "LS7:GEOMEDIAN:TRUE",
        "LS7:NBAR:FALSE",
        "LS7:NBAR:TRUE",
        "LS7:NBART:FALSE",
        "LS7:NBART:TRUE",
        "LS8:GEOMEDIAN:FALSE",
        "LS8:GEOMEDIAN:TRUE",
        "LS8:NBAR:FALSE",
        "LS8:NBAR:TRUE",
        "LS8:NBART:FALSE",
        "LS8:NBART:TRUE",
        "hltc:high:fc",
        "hltc:high:tc",
        "hltc:low:fc",
        "hltc:low:tc",
        "item:relative",
        "item:stddev"
       ],
       "description": "Layer:",
       "index": 3,
       "layout": "IPY_MODEL_9b89f629427e41beb7f57fbcf2c15f52",
       "style": "IPY_MODEL_3f2360d252054531864f637d1be3bb51"
      }
     },
     "593daaae33f5423da642c7a52f2da49c": {
      "model_module": "@jupyter-widgets/base",
      "model_module_version": "1.1.0",
      "model_name": "LayoutModel",
      "state": {}
     },
     "5b01a194de5f4e4c840d16d6ba40c1ff": {
      "model_module": "@jupyter-widgets/controls",
      "model_module_version": "1.3.0",
      "model_name": "IntSliderModel",
      "state": {
       "continuous_update": false,
       "description": "Lon:",
       "layout": "IPY_MODEL_d2b1be85eea3467fbd0be6ca2fd31136",
       "max": 153,
       "min": 113,
       "style": "IPY_MODEL_b9360279f6b84b0e8eea2a19f7d69363",
       "value": 149
      }
     },
     "5c0fffb88fae41f98175b690af84795b": {
      "model_module": "jupyter-leaflet",
      "model_module_version": "~0.9.0",
      "model_name": "LeafletWMSLayerModel",
      "state": {
       "_model_module_version": "~0.9.0",
       "_view_count": null,
       "_view_module_version": "~0.9.0",
       "layers": "LS8:GEOMEDIAN:TRUE",
       "name": "LS8:GEOMEDIAN:TRUE",
       "options": [
        "styles",
        "crs",
        "attribution",
        "layers",
        "uppercase",
        "format",
        "max_zoom",
        "detect_retina",
        "min_zoom",
        "tile_size",
        "transparent"
       ],
       "tile_size": 35,
       "transparent": true,
       "url": "http://gsky.nci.org.au/ows"
      }
     },
     "5c9b0d609400479f888754aac66c759c": {
      "model_module": "@jupyter-widgets/base",
      "model_module_version": "1.1.0",
      "model_name": "LayoutModel",
      "state": {}
     },
     "5cbdf6c843ed45229e7be47528d807c7": {
      "model_module": "@jupyter-widgets/controls",
      "model_module_version": "1.3.0",
      "model_name": "SelectModel",
      "state": {
       "_options_labels": [
        "LS5:GEOMEDIAN:FALSE",
        "LS5:GEOMEDIAN:TRUE",
        "LS5:NBAR:FALSE",
        "LS5:NBAR:TRUE",
        "LS5:NBART:FALSE",
        "LS5:NBART:TRUE",
        "LS7:GEOMEDIAN:FALSE",
        "LS7:GEOMEDIAN:TRUE",
        "LS7:NBAR:FALSE",
        "LS7:NBAR:TRUE",
        "LS7:NBART:FALSE",
        "LS7:NBART:TRUE",
        "LS8:GEOMEDIAN:FALSE",
        "LS8:GEOMEDIAN:TRUE",
        "LS8:NBAR:FALSE",
        "LS8:NBAR:TRUE",
        "LS8:NBART:FALSE",
        "LS8:NBART:TRUE",
        "hltc:high:fc",
        "hltc:high:tc",
        "hltc:low:fc",
        "hltc:low:tc",
        "item:relative",
        "item:stddev"
       ],
       "description": "Layer:",
       "index": 13,
       "layout": "IPY_MODEL_f6ecb344d7e14028ba6aaeb3ce4b81a8",
       "style": "IPY_MODEL_cc7ec655aaad40e3bb585ca91facbce4"
      }
     },
     "5cf439d7f5c94a0e886b4d1e41e7abfa": {
      "model_module": "@jupyter-widgets/controls",
      "model_module_version": "1.3.0",
      "model_name": "IntSliderModel",
      "state": {
       "continuous_update": false,
       "description": "Lon:",
       "layout": "IPY_MODEL_27f1e006c4a54b4e9676934964653f65",
       "max": 153,
       "min": 113,
       "style": "IPY_MODEL_06d1e8fe5d5c4a098214369fa95514f9",
       "value": 135
      }
     },
     "5d68f450b6da44d2b9daf72b1e958450": {
      "model_module": "@jupyter-widgets/controls",
      "model_module_version": "1.3.0",
      "model_name": "DescriptionStyleModel",
      "state": {
       "description_width": ""
      }
     },
     "5d6bae2c1c2943be919c7351e59587ce": {
      "model_module": "jupyter-leaflet",
      "model_module_version": "~0.9.0",
      "model_name": "LeafletSplitMapControlModel",
      "state": {
       "_model_module_version": "~0.9.0",
       "_model_name": "LeafletSplitMapControlModel",
       "_view_count": null,
       "_view_module_version": "~0.9.0",
       "_view_name": "LeafletSplitMapControlView",
       "left_layer": "IPY_MODEL_e5ee85d7aa48485dbd0a7c1e013bb389",
       "right_layer": "IPY_MODEL_57829b34e3ee481dbc14126c18dc8da4"
      }
     },
     "5d85e26e7df04e3d97a7cb117b88cbd1": {
      "model_module": "@jupyter-widgets/controls",
      "model_module_version": "1.3.0",
      "model_name": "DescriptionStyleModel",
      "state": {
       "description_width": ""
      }
     },
     "5e0e0b33d02a4ddbaafec54ae4c81463": {
      "model_module": "@jupyter-widgets/controls",
      "model_module_version": "1.3.0",
      "model_name": "SelectModel",
      "state": {
       "_options_labels": [
        "2014-01-01T00:00:00.000Z",
        "2015-01-01T00:00:00.000Z",
        "2016-01-01T00:00:00.000Z",
        "2017-01-01T00:00:00.000Z"
       ],
       "description": "Date:",
       "index": 3,
       "layout": "IPY_MODEL_07848c1f3ed3449cb94ba7055109f1b2",
       "style": "IPY_MODEL_e04098fb46f44834ac26be9b9085558d"
      }
     },
     "5e3e5ec9c51d46cda1fcb6ae5674a930": {
      "model_module": "@jupyter-widgets/base",
      "model_module_version": "1.1.0",
      "model_name": "LayoutModel",
      "state": {}
     },
     "5f80ec175c034473a7bb4f2466ebff85": {
      "model_module": "jupyter-leaflet",
      "model_module_version": "~0.9.0",
      "model_name": "LeafletWMSLayerModel",
      "state": {
       "_model_module_version": "~0.9.0",
       "_view_count": null,
       "_view_module_version": "~0.9.0",
       "layers": "LS8:GEOMEDIAN:FALSE",
       "name": "LS8:GEOMEDIAN:FALSE",
       "options": [
        "styles",
        "crs",
        "attribution",
        "layers",
        "uppercase",
        "format",
        "max_zoom",
        "detect_retina",
        "min_zoom",
        "tile_size",
        "transparent"
       ],
       "tile_size": 35,
       "transparent": true,
       "url": "http://gsky.nci.org.au/ows"
      }
     },
     "5f8322c823c04d78a61b3af74f0b7df7": {
      "model_module": "@jupyter-widgets/base",
      "model_module_version": "1.1.0",
      "model_name": "LayoutModel",
      "state": {}
     },
     "5ffa263e4b4d4772b4ad55da5ac55339": {
      "model_module": "jupyter-leaflet",
      "model_module_version": "~0.9.0",
      "model_name": "LeafletWMSLayerModel",
      "state": {
       "_model_module_version": "~0.9.0",
       "_view_count": null,
       "_view_module_version": "~0.9.0",
       "layers": "LS8:GEOMEDIAN:FALSE",
       "name": "LS8:GEOMEDIAN:FALSE",
       "options": [
        "styles",
        "crs",
        "attribution",
        "layers",
        "uppercase",
        "format",
        "max_zoom",
        "detect_retina",
        "min_zoom",
        "tile_size",
        "transparent"
       ],
       "tile_size": 35,
       "transparent": true,
       "url": "http://gsky.nci.org.au/ows"
      }
     },
     "6032da1e87d5457cba0020fa9e9396c7": {
      "model_module": "jupyter-leaflet",
      "model_module_version": "~0.9.0",
      "model_name": "LeafletMapModel",
      "state": {
       "_dom_classes": [],
       "_model_module_version": "~0.9.0",
       "_view_count": null,
       "_view_module_version": "~0.9.0",
       "basemap": {
        "attribution": "Map data (c) <a href=\"https://openstreetmap.org\">OpenStreetMap</a> contributors",
        "max_zoom": 19,
        "url": "https://{s}.tile.openstreetmap.org/{z}/{x}/{y}.png"
       },
       "center": [
        -34.99400375757576,
        149.01855468750003
       ],
       "controls": [
        "IPY_MODEL_125796d8408a4e69a573963b57b7b4ca"
       ],
       "east": -180,
       "interpolation": "bilinear",
       "layers": [
        "IPY_MODEL_269c40c271e14a8c974826bcc187bce0",
        "IPY_MODEL_4062c2182f424b8ba5c2b6799964551d",
        "IPY_MODEL_96e94bc35c6c479daf3882acb01ba124"
       ],
       "layout": "IPY_MODEL_4a8080ab79f846c08793ecb966b3104c",
       "modisdate": "yesterday",
       "north": -90,
       "options": [
        "keyboard_pan_offset",
        "tap",
        "attribution_control",
        "max_zoom",
        "min_zoom",
        "bounce_at_zoom_limits",
        "keyboard",
        "scroll_wheel_zoom",
        "dragging",
        "inertia_max_speed",
        "close_popup_on_click",
        "zoom_control",
        "box_zoom",
        "double_click_zoom",
        "interpolation",
        "tap_tolerance",
        "zoom_start",
        "keyboard_zoom_offset",
        "inertia_deceleration",
        "inertia",
        "center",
        "zoom",
        "world_copy_jump",
        "zoom_animation_threshold",
        "touch_zoom",
        "basemap"
       ],
       "south": 90,
       "west": 180,
       "zoom": 6
      }
     },
     "61018c89161f49eabcd25500d737549f": {
      "model_module": "@jupyter-widgets/base",
      "model_module_version": "1.1.0",
      "model_name": "LayoutModel",
      "state": {}
     },
     "61061ce4495f4d02829df444d067a01b": {
      "model_module": "@jupyter-widgets/controls",
      "model_module_version": "1.3.0",
      "model_name": "SelectModel",
      "state": {
       "_options_labels": [
        "1990-04-20T00:00:00.000Z",
        "1995-04-02T00:00:00.000Z",
        "2000-04-15T00:00:00.000Z",
        "2005-04-13T00:00:00.000Z",
        "2010-04-11T00:00:00.000Z"
       ],
       "description": "Date:",
       "index": 3,
       "layout": "IPY_MODEL_5f8322c823c04d78a61b3af74f0b7df7",
       "style": "IPY_MODEL_627cedf4297845a6846233ac3e98e4a0"
      }
     },
     "612e49e3fa0440bc80f013e78b30a655": {
      "model_module": "jupyter-leaflet",
      "model_module_version": "~0.9.0",
      "model_name": "LeafletWMSLayerModel",
      "state": {
       "_model_module_version": "~0.9.0",
       "_view_count": null,
       "_view_module_version": "~0.9.0",
       "layers": "nasa:bluemarble",
       "name": "nasa:bluemarble",
       "options": [
        "styles",
        "crs",
        "attribution",
        "layers",
        "uppercase",
        "format",
        "max_zoom",
        "detect_retina",
        "min_zoom",
        "tile_size",
        "transparent"
       ],
       "url": "https://demo.boundlessgeo.com/geoserver/ows?"
      }
     },
     "61ed2cda118546d28b8f2f5b33d1f6e6": {
      "model_module": "@jupyter-widgets/controls",
      "model_module_version": "1.3.0",
      "model_name": "IntSliderModel",
      "state": {
       "continuous_update": false,
       "description": "Lon:",
       "layout": "IPY_MODEL_7fadadc0c0c04d119d4835f9c13cb265",
       "max": 153,
       "min": 113,
       "style": "IPY_MODEL_b79a779de7b744758f9fed552188f03d",
       "value": 113
      }
     },
     "627cedf4297845a6846233ac3e98e4a0": {
      "model_module": "@jupyter-widgets/controls",
      "model_module_version": "1.3.0",
      "model_name": "DescriptionStyleModel",
      "state": {
       "description_width": ""
      }
     },
     "62c30cc42e094778bbd41a15f3d58ff9": {
      "model_module": "@jupyter-widgets/controls",
      "model_module_version": "1.3.0",
      "model_name": "DescriptionStyleModel",
      "state": {
       "description_width": ""
      }
     },
     "6398594c0d18430f8eb9db95aa311e54": {
      "model_module": "@jupyter-widgets/controls",
      "model_module_version": "1.3.0",
      "model_name": "FloatSliderModel",
      "state": {
       "layout": "IPY_MODEL_004435725509419fa82e1c2370a1ffb4",
       "step": 0.1,
       "style": "IPY_MODEL_c6f529857ff447ac992ba8a79282ce3c"
      }
     },
     "63fc7a4a63114752a303ddf0c9b0bd49": {
      "model_module": "jupyter-leaflet",
      "model_module_version": "~0.9.0",
      "model_name": "LeafletSplitMapControlModel",
      "state": {
       "_model_module_version": "~0.9.0",
       "_model_name": "LeafletSplitMapControlModel",
       "_view_count": null,
       "_view_module_version": "~0.9.0",
       "_view_name": "LeafletSplitMapControlView",
       "left_layer": "IPY_MODEL_47454c4f6045477bb9ebf379b0ba7cc2",
       "right_layer": "IPY_MODEL_53d582e61dc24120a1ad46f6b9663770"
      }
     },
     "6446526cc7ee45ec956ee0b9f2de831e": {
      "model_module": "jupyter-leaflet",
      "model_module_version": "~0.9.0",
      "model_name": "LeafletMapModel",
      "state": {
       "_dom_classes": [],
       "_model_module_version": "~0.9.0",
       "_view_count": null,
       "_view_module_version": "~0.9.0",
       "basemap": {
        "attribution": "Map data (c) <a href=\"https://openstreetmap.org\">OpenStreetMap</a> contributors",
        "max_zoom": 19,
        "url": "https://{s}.tile.openstreetmap.org/{z}/{x}/{y}.png"
       },
       "center": [
        -30.00013836058067,
        141.00128173828128
       ],
       "east": -180,
       "interpolation": "bilinear",
       "layers": [
        "IPY_MODEL_fa7ac12991ee498ca7b0d4785809ef51"
       ],
       "layout": "IPY_MODEL_e0ea17e7781b425d9cfe1e52ae0cdcb7",
       "modisdate": "yesterday",
       "north": -90,
       "options": [
        "keyboard_pan_offset",
        "tap",
        "attribution_control",
        "max_zoom",
        "min_zoom",
        "bounce_at_zoom_limits",
        "keyboard",
        "scroll_wheel_zoom",
        "dragging",
        "inertia_max_speed",
        "close_popup_on_click",
        "zoom_control",
        "box_zoom",
        "double_click_zoom",
        "interpolation",
        "tap_tolerance",
        "zoom_start",
        "keyboard_zoom_offset",
        "inertia_deceleration",
        "inertia",
        "center",
        "zoom",
        "world_copy_jump",
        "zoom_animation_threshold",
        "touch_zoom",
        "basemap"
       ],
       "south": 90,
       "west": 180,
       "zoom": 9
      }
     },
     "663d2d66a817446f870e17c92056e5ad": {
      "model_module": "@jupyter-widgets/controls",
      "model_module_version": "1.3.0",
      "model_name": "DescriptionStyleModel",
      "state": {
       "description_width": ""
      }
     },
     "66b7e9b65f5b46589e7d4943059083f3": {
      "model_module": "@jupyter-widgets/controls",
      "model_module_version": "1.3.0",
      "model_name": "DescriptionStyleModel",
      "state": {
       "description_width": ""
      }
     },
     "66faf9cb3e4b4cc8afbcf5bb0a2fbe0c": {
      "model_module": "@jupyter-widgets/base",
      "model_module_version": "1.1.0",
      "model_name": "LayoutModel",
      "state": {}
     },
     "67003012c3404884858d7dc18c17597f": {
      "model_module": "@jupyter-widgets/controls",
      "model_module_version": "1.3.0",
      "model_name": "DescriptionStyleModel",
      "state": {
       "description_width": ""
      }
     },
     "6758f56399f84937b7e81095a2af5942": {
      "model_module": "@jupyter-widgets/base",
      "model_module_version": "1.1.0",
      "model_name": "LayoutModel",
      "state": {}
     },
     "67d3b5065d054440b8a5f845f185d643": {
      "model_module": "@jupyter-widgets/controls",
      "model_module_version": "1.3.0",
      "model_name": "IntSliderModel",
      "state": {
       "continuous_update": false,
       "description": "Lon:",
       "layout": "IPY_MODEL_0718ba8644c64c6882d405a1258dd849",
       "max": 153,
       "min": 113,
       "style": "IPY_MODEL_c871a19147404c369590684e4da9173f",
       "value": 143
      }
     },
     "69067fc143494e4dae661a51da166c15": {
      "model_module": "@jupyter-widgets/controls",
      "model_module_version": "1.3.0",
      "model_name": "SliderStyleModel",
      "state": {
       "description_width": ""
      }
     },
     "698e62da8b9f470d8f74d78288f88c31": {
      "model_module": "jupyter-leaflet",
      "model_module_version": "~0.9.0",
      "model_name": "LeafletLayersControlModel",
      "state": {
       "_model_module_version": "~0.9.0",
       "_view_count": null,
       "_view_module_version": "~0.9.0"
      }
     },
     "69987e4671ff400d91530bac5228c501": {
      "model_module": "@jupyter-widgets/controls",
      "model_module_version": "1.3.0",
      "model_name": "SelectModel",
      "state": {
       "_options_labels": [
        "2014-01-01T00:00:00.000Z",
        "2015-01-01T00:00:00.000Z",
        "2016-01-01T00:00:00.000Z",
        "2017-01-01T00:00:00.000Z"
       ],
       "description": "Date:",
       "index": 0,
       "layout": "IPY_MODEL_5e3e5ec9c51d46cda1fcb6ae5674a930",
       "style": "IPY_MODEL_53217d7a90ab409fada42a79376e1dbc"
      }
     },
     "69d661d3e58344228e6c6b1eb49f1297": {
      "model_module": "@jupyter-widgets/controls",
      "model_module_version": "1.3.0",
      "model_name": "IntSliderModel",
      "state": {
       "continuous_update": false,
       "description": "Lat:",
       "layout": "IPY_MODEL_042620f3bf874621892073b2797025f1",
       "max": -10,
       "min": -43,
       "style": "IPY_MODEL_e2daa38a149549be90f7834fedcbdc65",
       "value": -43
      }
     },
     "6b0e6c67706b40d68cfe0aaca10e663f": {
      "model_module": "jupyter-leaflet",
      "model_module_version": "~0.9.0",
      "model_name": "LeafletWMSLayerModel",
      "state": {
       "_model_module_version": "~0.9.0",
       "_view_count": null,
       "_view_module_version": "~0.9.0",
       "layers": "nasa:bluemarble",
       "name": "nasa:bluemarble",
       "options": [
        "styles",
        "crs",
        "attribution",
        "layers",
        "uppercase",
        "format",
        "max_zoom",
        "detect_retina",
        "min_zoom",
        "tile_size",
        "transparent"
       ],
       "url": "https://demo.boundlessgeo.com/geoserver/ows?"
      }
     },
     "6b0f0ae1b0f14ae4bdb03d1a262452be": {
      "model_module": "@jupyter-widgets/controls",
      "model_module_version": "1.3.0",
      "model_name": "DescriptionStyleModel",
      "state": {
       "description_width": ""
      }
     },
     "6c492a0024a14d699b7e72381135155c": {
      "model_module": "@jupyter-widgets/controls",
      "model_module_version": "1.3.0",
      "model_name": "IntSliderModel",
      "state": {
       "continuous_update": false,
       "description": "Lat:",
       "layout": "IPY_MODEL_c008878332f1491f9d4eba91f91b27f1",
       "max": -10,
       "min": -43,
       "style": "IPY_MODEL_cbdc60e6732a4de6bcc5adec060ca834",
       "value": -10
      }
     },
     "6c8f3799bbb24f39915b085cc8ed7f1a": {
      "model_module": "@jupyter-widgets/base",
      "model_module_version": "1.1.0",
      "model_name": "LayoutModel",
      "state": {}
     },
     "6d47dd988c604d10b372daf7243648a2": {
      "model_module": "jupyter-leaflet",
      "model_module_version": "~0.9.0",
      "model_name": "LeafletMapModel",
      "state": {
       "_dom_classes": [],
       "_model_module_version": "~0.9.0",
       "_view_count": null,
       "_view_module_version": "~0.9.0",
       "basemap": {
        "attribution": "Map data (c) <a href=\"https://openstreetmap.org\">OpenStreetMap</a> contributors",
        "max_zoom": 19,
        "url": "https://{s}.tile.openstreetmap.org/{z}/{x}/{y}.png"
       },
       "center": [
        -35.99232011757184,
        149.82774915173653
       ],
       "controls": [
        "IPY_MODEL_cf24e5da7a8d434cb38f26e24588dc55",
        "IPY_MODEL_aedf13062bce4547be4974e8a2757b3e",
        "IPY_MODEL_5d6bae2c1c2943be919c7351e59587ce"
       ],
       "east": -180,
       "interpolation": "bilinear",
       "layers": [
        "IPY_MODEL_f9eb4eb803984382888d213898a138fa",
        "IPY_MODEL_8b6999f91b3e43e1927df52c8ef2ccbf",
        "IPY_MODEL_f629435ea240413f97ecc0429e915ad8"
       ],
       "layout": "IPY_MODEL_da1d9d55bcd54619b68bbad6f0f55741",
       "modisdate": "yesterday",
       "north": -90,
       "options": [
        "keyboard_pan_offset",
        "tap",
        "attribution_control",
        "max_zoom",
        "min_zoom",
        "bounce_at_zoom_limits",
        "keyboard",
        "scroll_wheel_zoom",
        "dragging",
        "inertia_max_speed",
        "close_popup_on_click",
        "zoom_control",
        "box_zoom",
        "double_click_zoom",
        "interpolation",
        "tap_tolerance",
        "zoom_start",
        "keyboard_zoom_offset",
        "inertia_deceleration",
        "inertia",
        "center",
        "zoom",
        "world_copy_jump",
        "zoom_animation_threshold",
        "touch_zoom",
        "basemap"
       ],
       "south": 90,
       "west": 180,
       "zoom": 9
      }
     },
     "6d93c38e738841a5916aca9bcf6a43d7": {
      "model_module": "@jupyter-widgets/base",
      "model_module_version": "1.1.0",
      "model_name": "LayoutModel",
      "state": {}
     },
     "6ddba8632c87483d92a4dbc1f91465fa": {
      "model_module": "jupyter-leaflet",
      "model_module_version": "~0.9.0",
      "model_name": "LeafletMapModel",
      "state": {
       "_dom_classes": [],
       "_model_module_version": "~0.9.0",
       "_view_count": null,
       "_view_module_version": "~0.9.0",
       "basemap": {
        "attribution": "Map data (c) <a href=\"https://openstreetmap.org\">OpenStreetMap</a> contributors",
        "max_zoom": 19,
        "url": "https://{s}.tile.openstreetmap.org/{z}/{x}/{y}.png"
       },
       "center": [
        -27.05550280487938,
        132.23510149866345
       ],
       "east": -180,
       "interpolation": "bilinear",
       "layers": [
        "IPY_MODEL_d517f76b777544a5b46da4565ed13fa8",
        "IPY_MODEL_af2215fbb67b45edb096af0aeb01f61c"
       ],
       "layout": "IPY_MODEL_84ab9715a79b4daf9c6edef40a5ee84d",
       "modisdate": "yesterday",
       "north": -90,
       "options": [
        "keyboard_pan_offset",
        "tap",
        "attribution_control",
        "max_zoom",
        "min_zoom",
        "bounce_at_zoom_limits",
        "keyboard",
        "scroll_wheel_zoom",
        "dragging",
        "inertia_max_speed",
        "close_popup_on_click",
        "zoom_control",
        "box_zoom",
        "double_click_zoom",
        "interpolation",
        "tap_tolerance",
        "zoom_start",
        "keyboard_zoom_offset",
        "inertia_deceleration",
        "inertia",
        "center",
        "zoom",
        "world_copy_jump",
        "zoom_animation_threshold",
        "touch_zoom",
        "basemap"
       ],
       "south": 90,
       "west": 180,
       "zoom": 8
      }
     },
     "6e4a695b7d6b4cae9e5068a6eef18251": {
      "model_module": "@jupyter-widgets/base",
      "model_module_version": "1.1.0",
      "model_name": "LayoutModel",
      "state": {}
     },
     "6e6d9a367a4a4902a60749d069d44c1f": {
      "model_module": "jupyter-leaflet",
      "model_module_version": "~0.9.0",
      "model_name": "LeafletLayersControlModel",
      "state": {
       "_model_module_version": "~0.9.0",
       "_view_count": null,
       "_view_module_version": "~0.9.0"
      }
     },
     "6e803c6218224942844f8b5e38a4f79e": {
      "model_module": "@jupyter-widgets/controls",
      "model_module_version": "1.3.0",
      "model_name": "DescriptionStyleModel",
      "state": {
       "description_width": ""
      }
     },
     "7072b2f264c247a696a8e608dbd9c34f": {
      "model_module": "jupyter-leaflet",
      "model_module_version": "~0.9.0",
      "model_name": "LeafletLayersControlModel",
      "state": {
       "_model_module_version": "~0.9.0",
       "_view_count": null,
       "_view_module_version": "~0.9.0"
      }
     },
     "70cc7adb1db04ce9982c5f23b15c6009": {
      "model_module": "@jupyter-widgets/controls",
      "model_module_version": "1.3.0",
      "model_name": "FloatTextModel",
      "state": {
       "layout": "IPY_MODEL_f1f3a8f5c98249e79ad84a5e9efa7514",
       "step": null,
       "style": "IPY_MODEL_4b357bd135af4d229cf6ee2e8bf798e6"
      }
     },
     "70dff757b9fc497c836622ade3f388b7": {
      "model_module": "@jupyter-widgets/controls",
      "model_module_version": "1.3.0",
      "model_name": "DescriptionStyleModel",
      "state": {
       "description_width": ""
      }
     },
     "7121b68d80ae491f9b966fae2d47a2c1": {
      "model_module": "@jupyter-widgets/base",
      "model_module_version": "1.1.0",
      "model_name": "LayoutModel",
      "state": {}
     },
     "71daad01455344699c41275c3ce69413": {
      "model_module": "@jupyter-widgets/controls",
      "model_module_version": "1.3.0",
      "model_name": "IntSliderModel",
      "state": {
       "continuous_update": false,
       "description": "Lon:",
       "layout": "IPY_MODEL_1060e36a4cb2412f9568daae83a9928b",
       "max": 153,
       "min": 113,
       "style": "IPY_MODEL_ba664d2ef40b40eab2845ff1b6e6179e",
       "value": 113
      }
     },
     "721ffb6790dd464a84589d6979f18251": {
      "model_module": "@jupyter-widgets/base",
      "model_module_version": "1.1.0",
      "model_name": "LayoutModel",
      "state": {}
     },
     "72cb4df6cc5846da8295318a5d9cdd85": {
      "model_module": "@jupyter-widgets/controls",
      "model_module_version": "1.3.0",
      "model_name": "SelectModel",
      "state": {
       "_options_labels": [
        "LS5:GEOMEDIAN:FALSE",
        "LS5:GEOMEDIAN:TRUE",
        "LS5:NBAR:FALSE",
        "LS5:NBAR:TRUE",
        "LS5:NBART:FALSE",
        "LS5:NBART:TRUE",
        "LS7:GEOMEDIAN:FALSE",
        "LS7:GEOMEDIAN:TRUE",
        "LS7:NBAR:FALSE",
        "LS7:NBAR:TRUE",
        "LS7:NBART:FALSE",
        "LS7:NBART:TRUE",
        "LS8:GEOMEDIAN:FALSE",
        "LS8:GEOMEDIAN:TRUE",
        "LS8:NBAR:FALSE",
        "LS8:NBAR:TRUE",
        "LS8:NBART:FALSE",
        "LS8:NBART:TRUE",
        "hltc:high:fc",
        "hltc:high:tc",
        "hltc:low:fc",
        "hltc:low:tc",
        "item:relative",
        "item:stddev"
       ],
       "description": "Layer:",
       "index": 0,
       "layout": "IPY_MODEL_b32434cdefc046f4af58f09a6af10e83",
       "style": "IPY_MODEL_c43b6ff952184651abf8757ddcd1afa3"
      }
     },
     "72cfdd9b4bbd4ca8b0fd20b527fc75ba": {
      "model_module": "jupyter-leaflet",
      "model_module_version": "~0.9.0",
      "model_name": "LeafletWMSLayerModel",
      "state": {
       "_model_module_version": "~0.9.0",
       "_view_count": null,
       "_view_module_version": "~0.9.0",
       "layers": "LS8:GEOMEDIAN:FALSE",
       "name": "LS8:GEOMEDIAN:FALSE",
       "options": [
        "styles",
        "crs",
        "attribution",
        "layers",
        "uppercase",
        "format",
        "max_zoom",
        "detect_retina",
        "min_zoom",
        "tile_size",
        "transparent"
       ],
       "url": "http://gsky.nci.org.au/ows"
      }
     },
     "731b5f518f7144d8a63017606903106d": {
      "model_module": "jupyter-leaflet",
      "model_module_version": "~0.9.0",
      "model_name": "LeafletTileLayerModel",
      "state": {
       "_model_module_version": "~0.9.0",
       "_view_count": null,
       "_view_module_version": "~0.9.0",
       "base": true,
       "max_zoom": 19,
       "min_zoom": 1,
       "options": [
        "attribution",
        "tile_size",
        "min_zoom",
        "max_zoom",
        "detect_retina"
       ]
      }
     },
     "734695401db74128ad65cc02719c8cc1": {
      "model_module": "@jupyter-widgets/controls",
      "model_module_version": "1.3.0",
      "model_name": "DescriptionStyleModel",
      "state": {
       "description_width": ""
      }
     },
     "7365bbba7167429686e550b173103b5d": {
      "model_module": "@jupyter-widgets/base",
      "model_module_version": "1.1.0",
      "model_name": "LayoutModel",
      "state": {}
     },
     "737f57f195494a3e9fa3e82cca63aba9": {
      "model_module": "@jupyter-widgets/controls",
      "model_module_version": "1.3.0",
      "model_name": "DescriptionStyleModel",
      "state": {
       "description_width": ""
      }
     },
     "73804a8c5361402d87fe5a9aef70bd62": {
      "model_module": "jupyter-leaflet",
      "model_module_version": "~0.9.0",
      "model_name": "LeafletWMSLayerModel",
      "state": {
       "_model_module_version": "~0.9.0",
       "_view_count": null,
       "_view_module_version": "~0.9.0",
       "layers": "LS8:GEOMEDIAN:TRUE",
       "name": "LS8:GEOMEDIAN:TRUE",
       "options": [
        "styles",
        "crs",
        "attribution",
        "layers",
        "uppercase",
        "format",
        "max_zoom",
        "detect_retina",
        "min_zoom",
        "tile_size",
        "transparent"
       ],
       "tile_size": 35,
       "transparent": true,
       "url": "http://gsky.nci.org.au/ows"
      }
     },
     "74d1469d52084aad846dc28c3f88b782": {
      "model_module": "jupyter-leaflet",
      "model_module_version": "~0.9.0",
      "model_name": "LeafletMapModel",
      "state": {
       "_dom_classes": [],
       "_model_module_version": "~0.9.0",
       "_view_count": null,
       "_view_module_version": "~0.9.0",
       "basemap": {
        "attribution": "Map data (c) <a href=\"https://openstreetmap.org\">OpenStreetMap</a> contributors",
        "max_zoom": 19,
        "url": "https://{s}.tile.openstreetmap.org/{z}/{x}/{y}.png"
       },
       "center": [
        -39.99395569397329,
        148.00781250000003
       ],
       "east": -180,
       "interpolation": "bilinear",
       "layers": [
        "IPY_MODEL_7740241892944d9eb0fdf375655e8af4"
       ],
       "layout": "IPY_MODEL_42f317064e0e45eebda6faaea5e10387",
       "modisdate": "yesterday",
       "north": -90,
       "options": [
        "keyboard_pan_offset",
        "tap",
        "attribution_control",
        "max_zoom",
        "min_zoom",
        "bounce_at_zoom_limits",
        "keyboard",
        "scroll_wheel_zoom",
        "dragging",
        "inertia_max_speed",
        "close_popup_on_click",
        "zoom_control",
        "box_zoom",
        "double_click_zoom",
        "interpolation",
        "tap_tolerance",
        "zoom_start",
        "keyboard_zoom_offset",
        "inertia_deceleration",
        "inertia",
        "center",
        "zoom",
        "world_copy_jump",
        "zoom_animation_threshold",
        "touch_zoom",
        "basemap"
       ],
       "south": 90,
       "west": 180,
       "zoom": 6
      }
     },
     "74d3d7e7712847d5b69795381083ac48": {
      "model_module": "jupyter-leaflet",
      "model_module_version": "~0.9.0",
      "model_name": "LeafletWMSLayerModel",
      "state": {
       "_model_module_version": "~0.9.0",
       "_view_count": null,
       "_view_module_version": "~0.9.0",
       "layers": "hltc:high:fc",
       "options": [
        "styles",
        "crs",
        "attribution",
        "layers",
        "uppercase",
        "format",
        "max_zoom",
        "detect_retina",
        "min_zoom",
        "tile_size",
        "transparent"
       ],
       "url": "http://gsky.nci.org.au/ows"
      }
     },
     "750997dd0fdb487c9a344375baf0d68d": {
      "model_module": "@jupyter-widgets/controls",
      "model_module_version": "1.3.0",
      "model_name": "SliderStyleModel",
      "state": {
       "description_width": ""
      }
     },
     "7539daa8f2aa44a29f3e0ab3a7475439": {
      "model_module": "@jupyter-widgets/base",
      "model_module_version": "1.1.0",
      "model_name": "LayoutModel",
      "state": {}
     },
     "75e467ae23d84dcd896b827d2540007e": {
      "model_module": "jupyter-leaflet",
      "model_module_version": "~0.9.0",
      "model_name": "LeafletWMSLayerModel",
      "state": {
       "_model_module_version": "~0.9.0",
       "_view_count": null,
       "_view_module_version": "~0.9.0",
       "layers": "nasa:bluemarble",
       "name": "nasa:bluemarble",
       "options": [
        "styles",
        "crs",
        "attribution",
        "layers",
        "uppercase",
        "format",
        "max_zoom",
        "detect_retina",
        "min_zoom",
        "tile_size",
        "transparent"
       ],
       "url": "https://demo.boundlessgeo.com/geoserver/ows?"
      }
     },
     "7721a74358454ff29668fcb6429046e6": {
      "model_module": "jupyter-leaflet",
      "model_module_version": "~0.9.0",
      "model_name": "LeafletMapModel",
      "state": {
       "_dom_classes": [],
       "_model_module_version": "~0.9.0",
       "_view_count": null,
       "_view_module_version": "~0.9.0",
       "basemap": {
        "attribution": "Map data (c) <a href=\"https://openstreetmap.org\">OpenStreetMap</a> contributors",
        "max_zoom": 19,
        "url": "https://{s}.tile.openstreetmap.org/{z}/{x}/{y}.png"
       },
       "center": [
        -32.00108860754043,
        153.00109863281253
       ],
       "controls": [
        "IPY_MODEL_698e62da8b9f470d8f74d78288f88c31"
       ],
       "east": -180,
       "interpolation": "bilinear",
       "layers": [
        "IPY_MODEL_0de84fb216b648b5b7030c2ee2ee5f37",
        "IPY_MODEL_5ffa263e4b4d4772b4ad55da5ac55339",
        "IPY_MODEL_0bfdee2c6fc94b85a958190c0eab2a71"
       ],
       "layout": "IPY_MODEL_35ab489aacf14570a8eda4342004cdb5",
       "modisdate": "yesterday",
       "north": -90,
       "options": [
        "keyboard_pan_offset",
        "tap",
        "attribution_control",
        "max_zoom",
        "min_zoom",
        "bounce_at_zoom_limits",
        "keyboard",
        "scroll_wheel_zoom",
        "dragging",
        "inertia_max_speed",
        "close_popup_on_click",
        "zoom_control",
        "box_zoom",
        "double_click_zoom",
        "interpolation",
        "tap_tolerance",
        "zoom_start",
        "keyboard_zoom_offset",
        "inertia_deceleration",
        "inertia",
        "center",
        "zoom",
        "world_copy_jump",
        "zoom_animation_threshold",
        "touch_zoom",
        "basemap"
       ],
       "south": 90,
       "west": 180,
       "zoom": 9
      }
     },
     "7740241892944d9eb0fdf375655e8af4": {
      "model_module": "jupyter-leaflet",
      "model_module_version": "~0.9.0",
      "model_name": "LeafletWMSLayerModel",
      "state": {
       "_model_module_version": "~0.9.0",
       "_view_count": null,
       "_view_module_version": "~0.9.0",
       "layers": "LS8:GEOMEDIAN:TRUE",
       "name": "LS8:GEOMEDIAN:TRUE",
       "options": [
        "styles",
        "crs",
        "attribution",
        "layers",
        "uppercase",
        "format",
        "max_zoom",
        "detect_retina",
        "min_zoom",
        "tile_size",
        "transparent"
       ],
       "tile_size": 35,
       "transparent": true,
       "url": "http://gsky.nci.org.au/ows"
      }
     },
     "77c8d954ea994bb5a4b629df2a6af1a9": {
      "model_module": "jupyter-leaflet",
      "model_module_version": "~0.9.0",
      "model_name": "LeafletWMSLayerModel",
      "state": {
       "_model_module_version": "~0.9.0",
       "_view_count": null,
       "_view_module_version": "~0.9.0",
       "layers": "hltc:high:fc",
       "name": "hltc:high:fc",
       "options": [
        "styles",
        "crs",
        "attribution",
        "layers",
        "uppercase",
        "format",
        "max_zoom",
        "detect_retina",
        "min_zoom",
        "tile_size",
        "transparent"
       ],
       "url": "http://gsky.nci.org.au/ows"
      }
     },
     "783887d23d4d4804bf2051c1bae2d009": {
      "model_module": "@jupyter-widgets/controls",
      "model_module_version": "1.3.0",
      "model_name": "SelectModel",
      "state": {
       "_options_labels": [
        "1987-01-01T00:00:00.000Z",
        "1988-01-01T00:00:00.000Z",
        "1989-01-01T00:00:00.000Z",
        "1990-01-01T00:00:00.000Z",
        "1991-01-01T00:00:00.000Z",
        "1992-01-01T00:00:00.000Z",
        "1993-01-01T00:00:00.000Z",
        "1994-01-01T00:00:00.000Z",
        "1995-01-01T00:00:00.000Z",
        "1996-01-01T00:00:00.000Z",
        "1997-01-01T00:00:00.000Z",
        "1998-01-01T00:00:00.000Z",
        "1999-01-01T00:00:00.000Z",
        "2000-01-01T00:00:00.000Z",
        "2001-01-01T00:00:00.000Z",
        "2002-01-01T00:00:00.000Z",
        "2003-01-01T00:00:00.000Z",
        "2004-01-01T00:00:00.000Z",
        "2005-01-01T00:00:00.000Z",
        "2006-01-01T00:00:00.000Z",
        "2007-01-01T00:00:00.000Z",
        "2008-01-01T00:00:00.000Z",
        "2009-01-01T00:00:00.000Z",
        "2010-01-01T00:00:00.000Z",
        "2011-01-01T00:00:00.000Z"
       ],
       "description": "Date:",
       "index": 24,
       "layout": "IPY_MODEL_e2eb0e4824724a9fb0325b48990be1c0",
       "style": "IPY_MODEL_c512daf6570e418a8b1de6f11fbfac7a"
      }
     },
     "78ca2b88faa546a4a1a392e814281772": {
      "model_module": "jupyter-leaflet",
      "model_module_version": "~0.9.0",
      "model_name": "LeafletWMSLayerModel",
      "state": {
       "_model_module_version": "~0.9.0",
       "_view_count": null,
       "_view_module_version": "~0.9.0",
       "layers": "hltc:high:fc",
       "name": "hltc:high:fc",
       "options": [
        "styles",
        "crs",
        "attribution",
        "layers",
        "uppercase",
        "format",
        "max_zoom",
        "detect_retina",
        "min_zoom",
        "tile_size",
        "transparent"
       ],
       "transparent": true,
       "url": "http://gsky.nci.org.au/ows"
      }
     },
     "79983d6522794c7aa7eca89f1c57c6b6": {
      "model_module": "@jupyter-widgets/base",
      "model_module_version": "1.1.0",
      "model_name": "LayoutModel",
      "state": {}
     },
     "79bb44b17b644b03abdf3eb7da1fdab4": {
      "model_module": "@jupyter-widgets/controls",
      "model_module_version": "1.3.0",
      "model_name": "IntSliderModel",
      "state": {
       "continuous_update": false,
       "description": "Lat:",
       "layout": "IPY_MODEL_6758f56399f84937b7e81095a2af5942",
       "max": -10,
       "min": -43,
       "style": "IPY_MODEL_87dbfe57555c458098fc0ccfdaf5fbc6",
       "value": -35
      }
     },
     "7aa54e55a06e4822a554740868d1c9a1": {
      "model_module": "jupyter-leaflet",
      "model_module_version": "~0.9.0",
      "model_name": "LeafletWMSLayerModel",
      "state": {
       "_model_module_version": "~0.9.0",
       "_view_count": null,
       "_view_module_version": "~0.9.0",
       "layers": "hltc:high:fc",
       "name": "hltc:high:fc",
       "options": [
        "styles",
        "crs",
        "attribution",
        "layers",
        "uppercase",
        "format",
        "max_zoom",
        "detect_retina",
        "min_zoom",
        "tile_size",
        "transparent"
       ],
       "url": "http://gsky.nci.org.au/ows"
      }
     },
     "7aa8f13041fd4e8eb5c32d096dfaf410": {
      "model_module": "@jupyter-widgets/controls",
      "model_module_version": "1.3.0",
      "model_name": "SliderStyleModel",
      "state": {
       "description_width": ""
      }
     },
     "7b20e62ab24f473896ee55b9bcc8e90c": {
      "model_module": "@jupyter-widgets/controls",
      "model_module_version": "1.3.0",
      "model_name": "SelectModel",
      "state": {
       "_options_labels": [
        "LS5:GEOMEDIAN:FALSE",
        "LS5:GEOMEDIAN:TRUE",
        "LS5:NBAR:FALSE",
        "LS5:NBAR:TRUE",
        "LS5:NBART:FALSE",
        "LS5:NBART:TRUE",
        "LS7:GEOMEDIAN:FALSE",
        "LS7:GEOMEDIAN:TRUE",
        "LS7:NBAR:FALSE",
        "LS7:NBAR:TRUE",
        "LS7:NBART:FALSE",
        "LS7:NBART:TRUE",
        "LS8:GEOMEDIAN:FALSE",
        "LS8:GEOMEDIAN:TRUE",
        "LS8:NBAR:FALSE",
        "LS8:NBAR:TRUE",
        "LS8:NBART:FALSE",
        "LS8:NBART:TRUE",
        "hltc:high:fc",
        "hltc:high:tc",
        "hltc:low:fc",
        "hltc:low:tc",
        "item:relative",
        "item:stddev"
       ],
       "description": "Layer:",
       "index": 0,
       "layout": "IPY_MODEL_593daaae33f5423da642c7a52f2da49c",
       "style": "IPY_MODEL_038d6a8b9e7d43fab0e5c863c1ccbd7b"
      }
     },
     "7c3a9b9858fd41eb9f43221d1dcd84b1": {
      "model_module": "jupyter-leaflet",
      "model_module_version": "~0.9.0",
      "model_name": "LeafletWMSLayerModel",
      "state": {
       "_model_module_version": "~0.9.0",
       "_view_count": null,
       "_view_module_version": "~0.9.0",
       "layers": "hltc:high:tc",
       "name": "hltc:high:tc",
       "options": [
        "styles",
        "crs",
        "attribution",
        "layers",
        "uppercase",
        "format",
        "max_zoom",
        "detect_retina",
        "min_zoom",
        "tile_size",
        "transparent"
       ],
       "transparent": true,
       "url": "http://gsky.nci.org.au/ows"
      }
     },
     "7cc73e281aa5435d8efdddaa03ea2243": {
      "model_module": "jupyter-leaflet",
      "model_module_version": "~0.9.0",
      "model_name": "LeafletTileLayerModel",
      "state": {
       "_model_module_version": "~0.9.0",
       "_view_count": null,
       "_view_module_version": "~0.9.0",
       "base": true,
       "max_zoom": 19,
       "min_zoom": 1,
       "options": [
        "attribution",
        "tile_size",
        "min_zoom",
        "max_zoom",
        "detect_retina"
       ]
      }
     },
     "7cc787520a85449a98773e018fd9099c": {
      "model_module": "jupyter-leaflet",
      "model_module_version": "~0.9.0",
      "model_name": "LeafletWMSLayerModel",
      "state": {
       "_model_module_version": "~0.9.0",
       "_view_count": null,
       "_view_module_version": "~0.9.0",
       "layers": "LS8:GEOMEDIAN:FALSE",
       "options": [
        "styles",
        "crs",
        "attribution",
        "layers",
        "uppercase",
        "format",
        "max_zoom",
        "detect_retina",
        "min_zoom",
        "tile_size",
        "transparent"
       ],
       "tile_size": 35,
       "transparent": true,
       "url": "http://gsky.nci.org.au/ows"
      }
     },
     "7cd29eeffdca44e890e8a828e143d2b5": {
      "model_module": "@jupyter-widgets/base",
      "model_module_version": "1.1.0",
      "model_name": "LayoutModel",
      "state": {}
     },
     "7d9d71bf4cca4e638bc0a07bf693da1f": {
      "model_module": "jupyter-leaflet",
      "model_module_version": "~0.9.0",
      "model_name": "LeafletLayersControlModel",
      "state": {
       "_model_module_version": "~0.9.0",
       "_view_count": null,
       "_view_module_version": "~0.9.0"
      }
     },
     "7dbae834b7794acb8bfbd67532ba07ad": {
      "model_module": "@jupyter-widgets/base",
      "model_module_version": "1.1.0",
      "model_name": "LayoutModel",
      "state": {}
     },
     "7ea8c4bb473949adb1b9b8eab6b1ec35": {
      "model_module": "@jupyter-widgets/base",
      "model_module_version": "1.1.0",
      "model_name": "LayoutModel",
      "state": {}
     },
     "7f0c3997ffa54f738b46caea605ae923": {
      "model_module": "@jupyter-widgets/base",
      "model_module_version": "1.1.0",
      "model_name": "LayoutModel",
      "state": {}
     },
     "7f701334619f49879eff8b70bcca572b": {
      "model_module": "jupyter-leaflet",
      "model_module_version": "~0.9.0",
      "model_name": "LeafletMapModel",
      "state": {
       "_dom_classes": [],
       "_model_module_version": "~0.9.0",
       "_view_count": null,
       "_view_module_version": "~0.9.0",
       "basemap": {
        "attribution": "Map data (c) <a href=\"https://openstreetmap.org\">OpenStreetMap</a> contributors",
        "max_zoom": 19,
        "url": "https://{s}.tile.openstreetmap.org/{z}/{x}/{y}.png"
       },
       "center": [
        -39.99395569397329,
        149.01855468750003
       ],
       "east": -180,
       "interpolation": "bilinear",
       "layers": [
        "IPY_MODEL_4ea6c6bed0ac4ebf8d7aba248c8e896f"
       ],
       "layout": "IPY_MODEL_dff7b157c8b74da885e83678b8a396d1",
       "modisdate": "yesterday",
       "north": -90,
       "options": [
        "keyboard_pan_offset",
        "tap",
        "attribution_control",
        "max_zoom",
        "min_zoom",
        "bounce_at_zoom_limits",
        "keyboard",
        "scroll_wheel_zoom",
        "dragging",
        "inertia_max_speed",
        "close_popup_on_click",
        "zoom_control",
        "box_zoom",
        "double_click_zoom",
        "interpolation",
        "tap_tolerance",
        "zoom_start",
        "keyboard_zoom_offset",
        "inertia_deceleration",
        "inertia",
        "center",
        "zoom",
        "world_copy_jump",
        "zoom_animation_threshold",
        "touch_zoom",
        "basemap"
       ],
       "south": 90,
       "west": 180,
       "zoom": 6
      }
     },
     "7f9b2868c1c6491c8116ffe36ba56fbf": {
      "model_module": "@jupyter-widgets/controls",
      "model_module_version": "1.3.0",
      "model_name": "DescriptionStyleModel",
      "state": {
       "description_width": ""
      }
     },
     "7fadadc0c0c04d119d4835f9c13cb265": {
      "model_module": "@jupyter-widgets/base",
      "model_module_version": "1.1.0",
      "model_name": "LayoutModel",
      "state": {}
     },
     "7fc75028f4424d0dbdba98afdb27b9c3": {
      "model_module": "jupyter-leaflet",
      "model_module_version": "~0.9.0",
      "model_name": "LeafletMapModel",
      "state": {
       "_dom_classes": [],
       "_model_module_version": "~0.9.0",
       "_view_count": null,
       "_view_module_version": "~0.9.0",
       "basemap": {
        "attribution": "Map data (c) <a href=\"https://openstreetmap.org\">OpenStreetMap</a> contributors",
        "max_zoom": 19,
        "url": "https://{s}.tile.openstreetmap.org/{z}/{x}/{y}.png"
       },
       "center": [
        -33.44066651751456,
        147.3817285895348
       ],
       "east": -180,
       "interpolation": "bilinear",
       "layers": [
        "IPY_MODEL_3edf08e31d124840acbe89789dd29880",
        "IPY_MODEL_52de0234edb142dc86d53a3c0529be3b"
       ],
       "layout": "IPY_MODEL_de969b8044b5489b8c14947300421a58",
       "modisdate": "yesterday",
       "north": -90,
       "options": [
        "keyboard_pan_offset",
        "tap",
        "attribution_control",
        "max_zoom",
        "min_zoom",
        "bounce_at_zoom_limits",
        "keyboard",
        "scroll_wheel_zoom",
        "dragging",
        "inertia_max_speed",
        "close_popup_on_click",
        "zoom_control",
        "box_zoom",
        "double_click_zoom",
        "interpolation",
        "tap_tolerance",
        "zoom_start",
        "keyboard_zoom_offset",
        "inertia_deceleration",
        "inertia",
        "center",
        "zoom",
        "world_copy_jump",
        "zoom_animation_threshold",
        "touch_zoom",
        "basemap"
       ],
       "south": 90,
       "west": 180,
       "zoom": 6
      }
     },
     "8019042cfee2491a8e290a8824da6ff3": {
      "model_module": "jupyter-leaflet",
      "model_module_version": "~0.9.0",
      "model_name": "LeafletMapModel",
      "state": {
       "_dom_classes": [],
       "_model_module_version": "~0.9.0",
       "_view_count": null,
       "_view_module_version": "~0.9.0",
       "basemap": {
        "attribution": "Map data (c) <a href=\"https://openstreetmap.org\">OpenStreetMap</a> contributors",
        "max_zoom": 19,
        "url": "https://{s}.tile.openstreetmap.org/{z}/{x}/{y}.png"
       },
       "center": [
        -27.000408003521738,
        132.00073242187503
       ],
       "east": -180,
       "interpolation": "bilinear",
       "layers": [
        "IPY_MODEL_cc5caf74b1c54b0fa3593d2ea3bafaa0"
       ],
       "layout": "IPY_MODEL_c257caf003f44f61ba09bcdb127aa055",
       "modisdate": "yesterday",
       "north": -90,
       "options": [
        "keyboard_pan_offset",
        "tap",
        "attribution_control",
        "max_zoom",
        "min_zoom",
        "bounce_at_zoom_limits",
        "keyboard",
        "scroll_wheel_zoom",
        "dragging",
        "inertia_max_speed",
        "close_popup_on_click",
        "zoom_control",
        "box_zoom",
        "double_click_zoom",
        "interpolation",
        "tap_tolerance",
        "zoom_start",
        "keyboard_zoom_offset",
        "inertia_deceleration",
        "inertia",
        "center",
        "zoom",
        "world_copy_jump",
        "zoom_animation_threshold",
        "touch_zoom",
        "basemap"
       ],
       "south": 90,
       "west": 180,
       "zoom": 9
      }
     },
     "8045a25808a74cbca8b1c619acc10a25": {
      "model_module": "@jupyter-widgets/base",
      "model_module_version": "1.1.0",
      "model_name": "LayoutModel",
      "state": {}
     },
     "8084742f7458490c9d87a8979978fb96": {
      "model_module": "@jupyter-widgets/controls",
      "model_module_version": "1.3.0",
      "model_name": "SelectModel",
      "state": {
       "_options_labels": [
        "LS5:GEOMEDIAN:FALSE",
        "LS5:GEOMEDIAN:TRUE",
        "LS5:NBAR:FALSE",
        "LS5:NBAR:TRUE",
        "LS5:NBART:FALSE",
        "LS5:NBART:TRUE",
        "LS7:GEOMEDIAN:FALSE",
        "LS7:GEOMEDIAN:TRUE",
        "LS7:NBAR:FALSE",
        "LS7:NBAR:TRUE",
        "LS7:NBART:FALSE",
        "LS7:NBART:TRUE",
        "LS8:GEOMEDIAN:FALSE",
        "LS8:GEOMEDIAN:TRUE",
        "LS8:NBAR:FALSE",
        "LS8:NBAR:TRUE",
        "LS8:NBART:FALSE",
        "LS8:NBART:TRUE",
        "hltc:high:fc",
        "hltc:high:tc",
        "hltc:low:fc",
        "hltc:low:tc",
        "item:relative",
        "item:stddev"
       ],
       "description": "Layer:",
       "index": 3,
       "layout": "IPY_MODEL_8ccfaacfb9f84671844132c8c4728a5c",
       "style": "IPY_MODEL_6e803c6218224942844f8b5e38a4f79e"
      }
     },
     "808a907be8d3424792566724aad205d0": {
      "model_module": "@jupyter-widgets/base",
      "model_module_version": "1.1.0",
      "model_name": "LayoutModel",
      "state": {}
     },
     "80ffb21fe0034704856a4869bcf40629": {
      "model_module": "@jupyter-widgets/controls",
      "model_module_version": "1.3.0",
      "model_name": "SelectModel",
      "state": {
       "_options_labels": [
        "2013-03-19T00:00:00.000Z",
        "2013-04-04T00:00:00.000Z",
        "2013-04-20T00:00:00.000Z",
        "2013-05-06T00:00:00.000Z",
        "2013-05-22T00:00:00.000Z",
        "2013-06-07T00:00:00.000Z",
        "2013-06-23T00:00:00.000Z",
        "2013-07-09T00:00:00.000Z",
        "2013-07-25T00:00:00.000Z",
        "2013-08-10T00:00:00.000Z",
        "2013-08-26T00:00:00.000Z",
        "2013-09-11T00:00:00.000Z",
        "2013-09-27T00:00:00.000Z",
        "2013-10-13T00:00:00.000Z",
        "2013-10-29T00:00:00.000Z",
        "2013-11-14T00:00:00.000Z",
        "2013-11-30T00:00:00.000Z",
        "2013-12-16T00:00:00.000Z",
        "2014-01-01T00:00:00.000Z",
        "2014-01-17T00:00:00.000Z",
        "2014-02-02T00:00:00.000Z",
        "2014-02-18T00:00:00.000Z",
        "2014-03-06T00:00:00.000Z",
        "2014-03-22T00:00:00.000Z",
        "2014-04-07T00:00:00.000Z",
        "2014-04-23T00:00:00.000Z",
        "2014-05-09T00:00:00.000Z",
        "2014-05-25T00:00:00.000Z",
        "2014-06-10T00:00:00.000Z",
        "2014-06-26T00:00:00.000Z",
        "2014-07-12T00:00:00.000Z",
        "2014-07-28T00:00:00.000Z",
        "2014-08-13T00:00:00.000Z",
        "2014-08-29T00:00:00.000Z",
        "2014-09-14T00:00:00.000Z",
        "2014-09-30T00:00:00.000Z",
        "2014-10-16T00:00:00.000Z",
        "2014-11-01T00:00:00.000Z",
        "2014-11-17T00:00:00.000Z",
        "2014-12-03T00:00:00.000Z",
        "2014-12-19T00:00:00.000Z",
        "2015-01-04T00:00:00.000Z",
        "2015-01-20T00:00:00.000Z",
        "2015-02-05T00:00:00.000Z",
        "2015-02-21T00:00:00.000Z",
        "2015-03-09T00:00:00.000Z",
        "2015-03-25T00:00:00.000Z",
        "2015-04-10T00:00:00.000Z",
        "2015-04-26T00:00:00.000Z",
        "2015-05-12T00:00:00.000Z",
        "2015-05-28T00:00:00.000Z",
        "2015-06-13T00:00:00.000Z",
        "2015-06-29T00:00:00.000Z",
        "2015-07-15T00:00:00.000Z",
        "2015-07-31T00:00:00.000Z",
        "2015-08-16T00:00:00.000Z",
        "2015-09-01T00:00:00.000Z",
        "2015-09-17T00:00:00.000Z",
        "2015-10-03T00:00:00.000Z",
        "2015-10-19T00:00:00.000Z",
        "2015-11-04T00:00:00.000Z",
        "2015-11-20T00:00:00.000Z",
        "2015-12-06T00:00:00.000Z",
        "2015-12-22T00:00:00.000Z",
        "2016-01-07T00:00:00.000Z",
        "2016-01-23T00:00:00.000Z",
        "2016-02-08T00:00:00.000Z",
        "2016-02-24T00:00:00.000Z",
        "2016-03-11T00:00:00.000Z",
        "2016-03-27T00:00:00.000Z",
        "2016-04-12T00:00:00.000Z",
        "2016-04-28T00:00:00.000Z",
        "2016-05-14T00:00:00.000Z",
        "2016-05-30T00:00:00.000Z",
        "2016-06-15T00:00:00.000Z",
        "2016-07-01T00:00:00.000Z",
        "2016-07-17T00:00:00.000Z",
        "2016-08-02T00:00:00.000Z",
        "2016-08-18T00:00:00.000Z",
        "2016-09-03T00:00:00.000Z",
        "2016-09-19T00:00:00.000Z",
        "2016-10-05T00:00:00.000Z",
        "2016-10-21T00:00:00.000Z",
        "2016-11-06T00:00:00.000Z",
        "2016-11-22T00:00:00.000Z",
        "2016-12-08T00:00:00.000Z",
        "2016-12-24T00:00:00.000Z",
        "2017-01-09T00:00:00.000Z",
        "2017-01-25T00:00:00.000Z",
        "2017-02-10T00:00:00.000Z",
        "2017-02-26T00:00:00.000Z",
        "2017-03-14T00:00:00.000Z",
        "2017-03-30T00:00:00.000Z",
        "2017-04-15T00:00:00.000Z",
        "2017-05-01T00:00:00.000Z",
        "2017-05-17T00:00:00.000Z",
        "2017-06-02T00:00:00.000Z",
        "2017-06-18T00:00:00.000Z",
        "2017-07-04T00:00:00.000Z",
        "2017-07-20T00:00:00.000Z",
        "2017-08-05T00:00:00.000Z",
        "2017-08-21T00:00:00.000Z",
        "2017-09-06T00:00:00.000Z",
        "2017-09-22T00:00:00.000Z",
        "2017-10-08T00:00:00.000Z",
        "2017-10-24T00:00:00.000Z",
        "2017-11-09T00:00:00.000Z",
        "2017-11-25T00:00:00.000Z",
        "2017-12-11T00:00:00.000Z",
        "2017-12-27T00:00:00.000Z",
        "2018-01-12T00:00:00.000Z",
        "2018-01-28T00:00:00.000Z",
        "2018-02-13T00:00:00.000Z",
        "2018-03-01T00:00:00.000Z",
        "2018-03-17T00:00:00.000Z",
        "2018-04-02T00:00:00.000Z",
        "2018-04-18T00:00:00.000Z",
        "2018-05-04T00:00:00.000Z",
        "2018-05-20T00:00:00.000Z",
        "2018-06-05T00:00:00.000Z",
        "2018-06-21T00:00:00.000Z",
        "2018-07-07T00:00:00.000Z"
       ],
       "description": "Date:",
       "index": 0,
       "layout": "IPY_MODEL_141d0816d5804baa814a898a549fb684",
       "style": "IPY_MODEL_39de7571c80a4012a35755c9156d7928"
      }
     },
     "810f5bf79fa8458bb8187ae6ad9b5906": {
      "model_module": "@jupyter-widgets/base",
      "model_module_version": "1.1.0",
      "model_name": "LayoutModel",
      "state": {}
     },
     "81d8b095f27744dd8e8d3a662cc5eef4": {
      "model_module": "@jupyter-widgets/controls",
      "model_module_version": "1.3.0",
      "model_name": "DescriptionStyleModel",
      "state": {
       "description_width": ""
      }
     },
     "81f001152e704c88b0070ab30ba626a9": {
      "model_module": "jupyter-leaflet",
      "model_module_version": "~0.9.0",
      "model_name": "LeafletLayersControlModel",
      "state": {
       "_model_module_version": "~0.9.0",
       "_view_count": null,
       "_view_module_version": "~0.9.0"
      }
     },
     "830ba80e5ac7495a8b8b78e8bd0581e6": {
      "model_module": "@jupyter-widgets/base",
      "model_module_version": "1.1.0",
      "model_name": "LayoutModel",
      "state": {}
     },
     "831a3c1779d8480f9b2dc6691311ff2c": {
      "model_module": "jupyter-leaflet",
      "model_module_version": "~0.9.0",
      "model_name": "LeafletTileLayerModel",
      "state": {
       "_model_module_version": "~0.9.0",
       "_view_count": null,
       "_view_module_version": "~0.9.0",
       "base": true,
       "max_zoom": 19,
       "min_zoom": 1,
       "options": [
        "attribution",
        "tile_size",
        "min_zoom",
        "max_zoom",
        "detect_retina"
       ]
      }
     },
     "841d35f1c52946cda66f1dca072be0c2": {
      "model_module": "@jupyter-widgets/controls",
      "model_module_version": "1.3.0",
      "model_name": "DescriptionStyleModel",
      "state": {
       "description_width": ""
      }
     },
     "844dece2dc4744c0906f8a7ec3a5dd56": {
      "model_module": "@jupyter-widgets/controls",
      "model_module_version": "1.3.0",
      "model_name": "SelectModel",
      "state": {
       "_options_labels": [
        "LS5:GEOMEDIAN:FALSE",
        "LS5:GEOMEDIAN:TRUE",
        "LS5:NBAR:FALSE",
        "LS5:NBAR:TRUE",
        "LS5:NBART:FALSE",
        "LS5:NBART:TRUE",
        "LS7:GEOMEDIAN:FALSE",
        "LS7:GEOMEDIAN:TRUE",
        "LS7:NBAR:FALSE",
        "LS7:NBAR:TRUE",
        "LS7:NBART:FALSE",
        "LS7:NBART:TRUE",
        "LS8:GEOMEDIAN:FALSE",
        "LS8:GEOMEDIAN:TRUE",
        "LS8:NBAR:FALSE",
        "LS8:NBAR:TRUE",
        "LS8:NBART:FALSE",
        "LS8:NBART:TRUE",
        "hltc:high:fc",
        "hltc:high:tc",
        "hltc:low:fc",
        "hltc:low:tc",
        "item:relative",
        "item:stddev"
       ],
       "description": "Layer:",
       "index": 6,
       "layout": "IPY_MODEL_05ee17f5134a49c4a8e9ff0521ffb37d",
       "style": "IPY_MODEL_8785c4334f844e08bd961962967a56a0"
      }
     },
     "848947151198446ea56924f954bd6cab": {
      "model_module": "@jupyter-widgets/base",
      "model_module_version": "1.1.0",
      "model_name": "LayoutModel",
      "state": {}
     },
     "84ab9715a79b4daf9c6edef40a5ee84d": {
      "model_module": "@jupyter-widgets/base",
      "model_module_version": "1.1.0",
      "model_name": "LayoutModel",
      "state": {}
     },
     "84eef660374144cc95962929c41d4fcd": {
      "model_module": "jupyter-leaflet",
      "model_module_version": "~0.9.0",
      "model_name": "LeafletTileLayerModel",
      "state": {
       "_model_module_version": "~0.9.0",
       "_view_count": null,
       "_view_module_version": "~0.9.0",
       "base": true,
       "max_zoom": 19,
       "min_zoom": 1,
       "options": [
        "attribution",
        "tile_size",
        "min_zoom",
        "max_zoom",
        "detect_retina"
       ]
      }
     },
     "8504a99376de42d896ba02903ac3b790": {
      "model_module": "jupyter-leaflet",
      "model_module_version": "~0.9.0",
      "model_name": "LeafletWMSLayerModel",
      "state": {
       "_model_module_version": "~0.9.0",
       "_view_count": null,
       "_view_module_version": "~0.9.0",
       "layers": "hltc:high:fc",
       "name": "hltc:high:fc",
       "options": [
        "styles",
        "crs",
        "attribution",
        "layers",
        "uppercase",
        "format",
        "max_zoom",
        "detect_retina",
        "min_zoom",
        "tile_size",
        "transparent"
       ],
       "transparent": true,
       "url": "http://gsky.nci.org.au/ows"
      }
     },
     "852119066ad44a5a9428079f87014c15": {
      "model_module": "@jupyter-widgets/base",
      "model_module_version": "1.1.0",
      "model_name": "LayoutModel",
      "state": {}
     },
     "854f4befe0c148d3a3e88c8ff7748914": {
      "model_module": "jupyter-leaflet",
      "model_module_version": "~0.9.0",
      "model_name": "LeafletWMSLayerModel",
      "state": {
       "_model_module_version": "~0.9.0",
       "_view_count": null,
       "_view_module_version": "~0.9.0",
       "layers": "hltc:high:fc",
       "name": "hltc:high:fc",
       "options": [
        "styles",
        "crs",
        "attribution",
        "layers",
        "uppercase",
        "format",
        "max_zoom",
        "detect_retina",
        "min_zoom",
        "tile_size",
        "transparent"
       ],
       "url": "http://gsky.nci.org.au/ows"
      }
     },
     "85a2f09246814dab85329094782c26fb": {
      "model_module": "@jupyter-widgets/base",
      "model_module_version": "1.1.0",
      "model_name": "LayoutModel",
      "state": {}
     },
     "85d1666d7bae4d56a653c0833b8b67ac": {
      "model_module": "@jupyter-widgets/base",
      "model_module_version": "1.1.0",
      "model_name": "LayoutModel",
      "state": {}
     },
     "85fd7cc2980948c088d4b68969acecb6": {
      "model_module": "@jupyter-widgets/base",
      "model_module_version": "1.1.0",
      "model_name": "LayoutModel",
      "state": {}
     },
     "867cf439d7d549f48c18870d13f3bd37": {
      "model_module": "@jupyter-widgets/controls",
      "model_module_version": "1.3.0",
      "model_name": "DescriptionStyleModel",
      "state": {
       "description_width": ""
      }
     },
     "86d3ee3372da4ffb959a659f3a7beabb": {
      "model_module": "@jupyter-widgets/controls",
      "model_module_version": "1.3.0",
      "model_name": "DescriptionStyleModel",
      "state": {
       "description_width": ""
      }
     },
     "870b0e9079f641bfac344c06b6309f12": {
      "model_module": "@jupyter-widgets/base",
      "model_module_version": "1.1.0",
      "model_name": "LayoutModel",
      "state": {}
     },
     "8712f2936fd749dcb79a2e4dcf850170": {
      "model_module": "@jupyter-widgets/controls",
      "model_module_version": "1.3.0",
      "model_name": "SelectModel",
      "state": {
       "_options_labels": [
        "1987-01-01T00:00:00.000Z",
        "1988-01-01T00:00:00.000Z",
        "1989-01-01T00:00:00.000Z",
        "1990-01-01T00:00:00.000Z",
        "1991-01-01T00:00:00.000Z",
        "1992-01-01T00:00:00.000Z",
        "1993-01-01T00:00:00.000Z",
        "1994-01-01T00:00:00.000Z",
        "1995-01-01T00:00:00.000Z",
        "1996-01-01T00:00:00.000Z",
        "1997-01-01T00:00:00.000Z",
        "1998-01-01T00:00:00.000Z",
        "1999-01-01T00:00:00.000Z",
        "2000-01-01T00:00:00.000Z",
        "2001-01-01T00:00:00.000Z",
        "2002-01-01T00:00:00.000Z",
        "2003-01-01T00:00:00.000Z",
        "2004-01-01T00:00:00.000Z",
        "2005-01-01T00:00:00.000Z",
        "2006-01-01T00:00:00.000Z",
        "2007-01-01T00:00:00.000Z",
        "2008-01-01T00:00:00.000Z",
        "2009-01-01T00:00:00.000Z",
        "2010-01-01T00:00:00.000Z",
        "2011-01-01T00:00:00.000Z"
       ],
       "description": "Date:",
       "index": 13,
       "layout": "IPY_MODEL_a0f5aeda799f468eb0e1005f11321242",
       "style": "IPY_MODEL_118cf40a6ca143dbaa9ffcf1bf820cf0"
      }
     },
     "874b00636a584bd39e05fb07759abdbf": {
      "model_module": "@jupyter-widgets/base",
      "model_module_version": "1.1.0",
      "model_name": "LayoutModel",
      "state": {}
     },
     "87830885d3ef47cf9004a5e832a5e739": {
      "model_module": "@jupyter-widgets/controls",
      "model_module_version": "1.3.0",
      "model_name": "IntSliderModel",
      "state": {
       "continuous_update": false,
       "description": "Lon:",
       "layout": "IPY_MODEL_315bebf7a7e54a01b6d26da3b98b5988",
       "max": 153,
       "min": 113,
       "style": "IPY_MODEL_8f4d9884f7e8425d851e90faedb0aed5",
       "value": 149
      }
     },
     "8785c4334f844e08bd961962967a56a0": {
      "model_module": "@jupyter-widgets/controls",
      "model_module_version": "1.3.0",
      "model_name": "DescriptionStyleModel",
      "state": {
       "description_width": ""
      }
     },
     "87c74aba365a455389ae4754f40f8546": {
      "model_module": "jupyter-leaflet",
      "model_module_version": "~0.9.0",
      "model_name": "LeafletMapModel",
      "state": {
       "_dom_classes": [],
       "_model_module_version": "~0.9.0",
       "_view_count": null,
       "_view_module_version": "~0.9.0",
       "basemap": {
        "attribution": "Map data (c) <a href=\"https://openstreetmap.org\">OpenStreetMap</a> contributors",
        "max_zoom": 19,
        "url": "https://{s}.tile.openstreetmap.org/{z}/{x}/{y}.png"
       },
       "center": [
        -35,
        151
       ],
       "controls": [
        "IPY_MODEL_1fe0510b95e347349951cbad108c4c42"
       ],
       "east": 161.78466796875003,
       "interpolation": "bilinear",
       "layers": [
        "IPY_MODEL_612e49e3fa0440bc80f013e78b30a655",
        "IPY_MODEL_5c0fffb88fae41f98175b690af84795b",
        "IPY_MODEL_72cfdd9b4bbd4ca8b0fd20b527fc75ba"
       ],
       "layout": "IPY_MODEL_7ea8c4bb473949adb1b9b8eab6b1ec35",
       "modisdate": "yesterday",
       "north": -31.316101383495635,
       "options": [
        "keyboard_pan_offset",
        "tap",
        "attribution_control",
        "max_zoom",
        "min_zoom",
        "bounce_at_zoom_limits",
        "keyboard",
        "scroll_wheel_zoom",
        "dragging",
        "inertia_max_speed",
        "close_popup_on_click",
        "zoom_control",
        "box_zoom",
        "double_click_zoom",
        "interpolation",
        "tap_tolerance",
        "zoom_start",
        "keyboard_zoom_offset",
        "inertia_deceleration",
        "inertia",
        "center",
        "zoom",
        "world_copy_jump",
        "zoom_animation_threshold",
        "touch_zoom",
        "basemap"
       ],
       "south": -38.51378825951164,
       "west": 140.22949218750003,
       "zoom": 6
      }
     },
     "87dbfe57555c458098fc0ccfdaf5fbc6": {
      "model_module": "@jupyter-widgets/controls",
      "model_module_version": "1.3.0",
      "model_name": "SliderStyleModel",
      "state": {
       "description_width": ""
      }
     },
     "87ddf18a9ad3463fbb0accf42a36cb71": {
      "model_module": "jupyter-leaflet",
      "model_module_version": "~0.9.0",
      "model_name": "LeafletTileLayerModel",
      "state": {
       "_model_module_version": "~0.9.0",
       "_view_count": null,
       "_view_module_version": "~0.9.0",
       "base": true,
       "max_zoom": 19,
       "min_zoom": 1,
       "options": [
        "attribution",
        "tile_size",
        "min_zoom",
        "max_zoom",
        "detect_retina"
       ]
      }
     },
     "88257be56aff4825ac8e263ae4972c30": {
      "model_module": "@jupyter-widgets/controls",
      "model_module_version": "1.3.0",
      "model_name": "IntSliderModel",
      "state": {
       "continuous_update": false,
       "description": "Lon:",
       "layout": "IPY_MODEL_85fd7cc2980948c088d4b68969acecb6",
       "max": 153,
       "min": 113,
       "style": "IPY_MODEL_3efc038416fd41018d2770c4b72b9557",
       "value": 151
      }
     },
     "8907011b95f943cb8df6c7fea075d376": {
      "model_module": "jupyter-leaflet",
      "model_module_version": "~0.9.0",
      "model_name": "LeafletMapModel",
      "state": {
       "_dom_classes": [],
       "_model_module_version": "~0.9.0",
       "_view_count": null,
       "_view_module_version": "~0.9.0",
       "basemap": {
        "attribution": "Map data (c) <a href=\"https://openstreetmap.org\">OpenStreetMap</a> contributors",
        "max_zoom": 19,
        "url": "https://{s}.tile.openstreetmap.org/{z}/{x}/{y}.png"
       },
       "center": [
        -35,
        151
       ],
       "east": 161.78466796875003,
       "interpolation": "bilinear",
       "layers": [
        "IPY_MODEL_5c0fffb88fae41f98175b690af84795b"
       ],
       "layout": "IPY_MODEL_2a8657845a2741358eebb0382464d022",
       "modisdate": "yesterday",
       "north": -31.316101383495635,
       "options": [
        "keyboard_pan_offset",
        "tap",
        "attribution_control",
        "max_zoom",
        "min_zoom",
        "bounce_at_zoom_limits",
        "keyboard",
        "scroll_wheel_zoom",
        "dragging",
        "inertia_max_speed",
        "close_popup_on_click",
        "zoom_control",
        "box_zoom",
        "double_click_zoom",
        "interpolation",
        "tap_tolerance",
        "zoom_start",
        "keyboard_zoom_offset",
        "inertia_deceleration",
        "inertia",
        "center",
        "zoom",
        "world_copy_jump",
        "zoom_animation_threshold",
        "touch_zoom",
        "basemap"
       ],
       "south": -38.51378825951164,
       "west": 140.22949218750003,
       "zoom": 6
      }
     },
     "89c5c5531ba149a49ca3d2000f93964c": {
      "model_module": "jupyter-leaflet",
      "model_module_version": "~0.9.0",
      "model_name": "LeafletMapModel",
      "state": {
       "_dom_classes": [],
       "_model_module_version": "~0.9.0",
       "_view_count": null,
       "_view_module_version": "~0.9.0",
       "basemap": {
        "attribution": "Map data (c) <a href=\"https://openstreetmap.org\">OpenStreetMap</a> contributors",
        "max_zoom": 19,
        "url": "https://{s}.tile.openstreetmap.org/{z}/{x}/{y}.png"
       },
       "center": [
        -32,
        153
       ],
       "interpolation": "bilinear",
       "layers": [
        "IPY_MODEL_e4b69f6441c142b481f83398f5e5c005"
       ],
       "layout": "IPY_MODEL_138f0d0c6a7146089cebff3db67900ac",
       "modisdate": "yesterday",
       "options": [
        "keyboard_pan_offset",
        "tap",
        "attribution_control",
        "max_zoom",
        "min_zoom",
        "bounce_at_zoom_limits",
        "keyboard",
        "scroll_wheel_zoom",
        "dragging",
        "inertia_max_speed",
        "close_popup_on_click",
        "zoom_control",
        "box_zoom",
        "double_click_zoom",
        "interpolation",
        "tap_tolerance",
        "zoom_start",
        "keyboard_zoom_offset",
        "inertia_deceleration",
        "inertia",
        "center",
        "zoom",
        "world_copy_jump",
        "zoom_animation_threshold",
        "touch_zoom",
        "basemap"
       ],
       "zoom": 6
      }
     },
     "8a389eee6a0c4752ad76a2ab6cf728ed": {
      "model_module": "@jupyter-widgets/base",
      "model_module_version": "1.1.0",
      "model_name": "LayoutModel",
      "state": {}
     },
     "8a5abd7677e247ab809c891b1ab642c8": {
      "model_module": "jupyter-leaflet",
      "model_module_version": "~0.9.0",
      "model_name": "LeafletWMSLayerModel",
      "state": {
       "_model_module_version": "~0.9.0",
       "_view_count": null,
       "_view_module_version": "~0.9.0",
       "layers": "LS8:GEOMEDIAN:FALSE",
       "name": "LS8:GEOMEDIAN:FALSE",
       "options": [
        "styles",
        "crs",
        "attribution",
        "layers",
        "uppercase",
        "format",
        "max_zoom",
        "detect_retina",
        "min_zoom",
        "tile_size",
        "transparent"
       ],
       "tile_size": 35,
       "transparent": true,
       "url": "http://gsky.nci.org.au/ows"
      }
     },
     "8a5f15271a6141bd84f9222e4874bcc2": {
      "model_module": "@jupyter-widgets/controls",
      "model_module_version": "1.3.0",
      "model_name": "DescriptionStyleModel",
      "state": {
       "description_width": ""
      }
     },
     "8a6a6a7af6a94967ba778af44bbc7f38": {
      "model_module": "@jupyter-widgets/output",
      "model_module_version": "1.0.0",
      "model_name": "OutputModel",
      "state": {
       "layout": "IPY_MODEL_721ffb6790dd464a84589d6979f18251",
       "outputs": [
        {
         "data": {
          "application/vnd.jupyter.widget-view+json": {
           "model_id": "d991a8444f2f4b289410e8e8de27d4ae",
           "version_major": 2,
           "version_minor": 0
          },
          "text/plain": "U2VsZWN0KGRlc2NyaXB0aW9uPXUnTGF5ZXI6Jywgb3B0aW9ucz0oJ0xTNTpHRU9NRURJQU46RkFMU0UnLCAnTFM1OkdFT01FRElBTjpUUlVFJywgJ0xTNTpOQkFSOkZBTFNFJywgJ0xTNTpOQkHigKY=\n"
         },
         "metadata": {},
         "output_type": "display_data"
        }
       ]
      }
     },
     "8ab24b1b42cf480e9949653ca6868b62": {
      "model_module": "@jupyter-widgets/controls",
      "model_module_version": "1.3.0",
      "model_name": "VBoxModel",
      "state": {
       "_dom_classes": [
        "widget-interact"
       ],
       "children": [
        "IPY_MODEL_bf5411ad0b02448cb93886e7d0c00705"
       ],
       "layout": "IPY_MODEL_5450bf19426649c1bd4968590fa2b98b"
      }
     },
     "8b6999f91b3e43e1927df52c8ef2ccbf": {
      "model_module": "jupyter-leaflet",
      "model_module_version": "~0.9.0",
      "model_name": "LeafletWMSLayerModel",
      "state": {
       "_model_module_version": "~0.9.0",
       "_view_count": null,
       "_view_module_version": "~0.9.0",
       "layers": "LS8:GEOMEDIAN:FALSE",
       "name": "LS8:GEOMEDIAN:FALSE",
       "options": [
        "styles",
        "crs",
        "attribution",
        "layers",
        "uppercase",
        "format",
        "max_zoom",
        "detect_retina",
        "min_zoom",
        "tile_size",
        "transparent"
       ],
       "tile_size": 35,
       "transparent": true,
       "url": "http://gsky.nci.org.au/ows"
      }
     },
     "8c0f84dbbf8240ca965e13801a02eee6": {
      "model_module": "jupyter-leaflet",
      "model_module_version": "~0.9.0",
      "model_name": "LeafletMapModel",
      "state": {
       "_dom_classes": [],
       "_model_module_version": "~0.9.0",
       "_view_count": null,
       "_view_module_version": "~0.9.0",
       "basemap": {
        "attribution": "Map data (c) <a href=\"https://openstreetmap.org\">OpenStreetMap</a> contributors",
        "max_zoom": 19,
        "url": "https://{s}.tile.openstreetmap.org/{z}/{x}/{y}.png"
       },
       "center": [
        -31.02887185934526,
        143.9754183590412
       ],
       "east": -180,
       "interpolation": "bilinear",
       "layers": [
        "IPY_MODEL_f3c6c48334634631a4e6698ae1781506",
        "IPY_MODEL_1ee183d5a196429fb57cc8b1dba1947c"
       ],
       "layout": "IPY_MODEL_d796356661354dfda456f48db7e093b3",
       "modisdate": "yesterday",
       "north": -90,
       "options": [
        "keyboard_pan_offset",
        "tap",
        "attribution_control",
        "max_zoom",
        "min_zoom",
        "bounce_at_zoom_limits",
        "keyboard",
        "scroll_wheel_zoom",
        "dragging",
        "inertia_max_speed",
        "close_popup_on_click",
        "zoom_control",
        "box_zoom",
        "double_click_zoom",
        "interpolation",
        "tap_tolerance",
        "zoom_start",
        "keyboard_zoom_offset",
        "inertia_deceleration",
        "inertia",
        "center",
        "zoom",
        "world_copy_jump",
        "zoom_animation_threshold",
        "touch_zoom",
        "basemap"
       ],
       "south": 90,
       "west": 180,
       "zoom": 7
      }
     },
     "8c3691fde16448dc86e3f09e618bfbea": {
      "model_module": "@jupyter-widgets/controls",
      "model_module_version": "1.3.0",
      "model_name": "SelectModel",
      "state": {
       "_options_labels": [
        "LS5:GEOMEDIAN:FALSE",
        "LS5:GEOMEDIAN:TRUE",
        "LS5:NBAR:FALSE",
        "LS5:NBAR:TRUE",
        "LS5:NBART:FALSE",
        "LS5:NBART:TRUE",
        "LS7:GEOMEDIAN:FALSE",
        "LS7:GEOMEDIAN:TRUE",
        "LS7:NBAR:FALSE",
        "LS7:NBAR:TRUE",
        "LS7:NBART:FALSE",
        "LS7:NBART:TRUE",
        "LS8:GEOMEDIAN:FALSE",
        "LS8:GEOMEDIAN:TRUE",
        "LS8:NBAR:FALSE",
        "LS8:NBAR:TRUE",
        "LS8:NBART:FALSE",
        "LS8:NBART:TRUE",
        "hltc:high:fc",
        "hltc:high:tc",
        "hltc:low:fc",
        "hltc:low:tc",
        "item:relative",
        "item:stddev"
       ],
       "description": "Layer:",
       "index": 3,
       "layout": "IPY_MODEL_848947151198446ea56924f954bd6cab",
       "style": "IPY_MODEL_1cdab4b4b7e2468bbd044981c93df06c"
      }
     },
     "8ccfaacfb9f84671844132c8c4728a5c": {
      "model_module": "@jupyter-widgets/base",
      "model_module_version": "1.1.0",
      "model_name": "LayoutModel",
      "state": {}
     },
     "8d8ad784b7e045bc93881a6a2270afa6": {
      "model_module": "jupyter-leaflet",
      "model_module_version": "~0.9.0",
      "model_name": "LeafletWMSLayerModel",
      "state": {
       "_model_module_version": "~0.9.0",
       "_view_count": null,
       "_view_module_version": "~0.9.0",
       "layers": "LS8:GEOMEDIAN:FALSE",
       "name": "LS8:GEOMEDIAN:FALSE",
       "options": [
        "styles",
        "crs",
        "attribution",
        "layers",
        "uppercase",
        "format",
        "max_zoom",
        "detect_retina",
        "min_zoom",
        "tile_size",
        "transparent"
       ],
       "tile_size": 35,
       "transparent": true,
       "url": "http://gsky.nci.org.au/ows"
      }
     },
     "8f3670ddcccb4c1aa685dcb883f4239b": {
      "model_module": "@jupyter-widgets/controls",
      "model_module_version": "1.3.0",
      "model_name": "SelectModel",
      "state": {
       "_options_labels": [
        "2014-01-01T00:00:00.000Z",
        "2015-01-01T00:00:00.000Z",
        "2016-01-01T00:00:00.000Z",
        "2017-01-01T00:00:00.000Z"
       ],
       "description": "Date:",
       "index": 1,
       "layout": "IPY_MODEL_7f0c3997ffa54f738b46caea605ae923",
       "style": "IPY_MODEL_26f68b4ed9d445709c2a6b368c6ee472"
      }
     },
     "8f4d9884f7e8425d851e90faedb0aed5": {
      "model_module": "@jupyter-widgets/controls",
      "model_module_version": "1.3.0",
      "model_name": "SliderStyleModel",
      "state": {
       "description_width": ""
      }
     },
     "911b37b9edb24291916f165d83776590": {
      "model_module": "@jupyter-widgets/base",
      "model_module_version": "1.1.0",
      "model_name": "LayoutModel",
      "state": {}
     },
     "9177e749817647169182ab470c36cd11": {
      "model_module": "jupyter-leaflet",
      "model_module_version": "~0.9.0",
      "model_name": "LeafletWMSLayerModel",
      "state": {
       "_model_module_version": "~0.9.0",
       "_view_count": null,
       "_view_module_version": "~0.9.0",
       "layers": "nasa:bluemarble",
       "name": "nasa:bluemarble",
       "options": [
        "styles",
        "crs",
        "attribution",
        "layers",
        "uppercase",
        "format",
        "max_zoom",
        "detect_retina",
        "min_zoom",
        "tile_size",
        "transparent"
       ],
       "url": "https://demo.boundlessgeo.com/geoserver/ows?"
      }
     },
     "91808abb51384c799be1d05b97924a9b": {
      "model_module": "jupyter-leaflet",
      "model_module_version": "~0.9.0",
      "model_name": "LeafletWMSLayerModel",
      "state": {
       "_model_module_version": "~0.9.0",
       "_view_count": null,
       "_view_module_version": "~0.9.0",
       "layers": "LS8:GEOMEDIAN:TRUE",
       "name": "LS8:GEOMEDIAN:TRUE",
       "options": [
        "styles",
        "crs",
        "attribution",
        "layers",
        "uppercase",
        "format",
        "max_zoom",
        "detect_retina",
        "min_zoom",
        "tile_size",
        "transparent"
       ],
       "tile_size": 35,
       "transparent": true,
       "url": "http://gsky.nci.org.au/ows"
      }
     },
     "9227d5889ef3436e8a92637c36b5322c": {
      "model_module": "jupyter-leaflet",
      "model_module_version": "~0.9.0",
      "model_name": "LeafletWMSLayerModel",
      "state": {
       "_model_module_version": "~0.9.0",
       "_view_count": null,
       "_view_module_version": "~0.9.0",
       "layers": "hltc:high:fc",
       "options": [
        "styles",
        "crs",
        "attribution",
        "layers",
        "uppercase",
        "format",
        "max_zoom",
        "detect_retina",
        "min_zoom",
        "tile_size",
        "transparent"
       ],
       "url": "http://gsky.nci.org.au/ows"
      }
     },
     "925f0c70b9304115b1ec15a6df830de8": {
      "model_module": "jupyter-leaflet",
      "model_module_version": "~0.9.0",
      "model_name": "LeafletMapModel",
      "state": {
       "_dom_classes": [],
       "_model_module_version": "~0.9.0",
       "_view_count": null,
       "_view_module_version": "~0.9.0",
       "basemap": {
        "attribution": "Map data (c) <a href=\"https://openstreetmap.org\">OpenStreetMap</a> contributors",
        "max_zoom": 19,
        "url": "https://{s}.tile.openstreetmap.org/{z}/{x}/{y}.png"
       },
       "center": [
        -32.724966807232555,
        150.2473758906126
       ],
       "east": -180,
       "interpolation": "bilinear",
       "layers": [
        "IPY_MODEL_84eef660374144cc95962929c41d4fcd",
        "IPY_MODEL_cb926363e00a4c3cae3cd799e8d53cf3"
       ],
       "layout": "IPY_MODEL_66faf9cb3e4b4cc8afbcf5bb0a2fbe0c",
       "modisdate": "yesterday",
       "north": -90,
       "options": [
        "keyboard_pan_offset",
        "tap",
        "attribution_control",
        "max_zoom",
        "min_zoom",
        "bounce_at_zoom_limits",
        "keyboard",
        "scroll_wheel_zoom",
        "dragging",
        "inertia_max_speed",
        "close_popup_on_click",
        "zoom_control",
        "box_zoom",
        "double_click_zoom",
        "interpolation",
        "tap_tolerance",
        "zoom_start",
        "keyboard_zoom_offset",
        "inertia_deceleration",
        "inertia",
        "center",
        "zoom",
        "world_copy_jump",
        "zoom_animation_threshold",
        "touch_zoom",
        "basemap"
       ],
       "south": 90,
       "west": 180,
       "zoom": 6
      }
     },
     "92edfd7fe357473b9a3c82b414743e50": {
      "model_module": "jupyter-leaflet",
      "model_module_version": "~0.9.0",
      "model_name": "LeafletMapModel",
      "state": {
       "_dom_classes": [],
       "_model_module_version": "~0.9.0",
       "_view_count": null,
       "_view_module_version": "~0.9.0",
       "basemap": {
        "attribution": "Map data (c) <a href=\"https://openstreetmap.org\">OpenStreetMap</a> contributors",
        "max_zoom": 19,
        "url": "https://{s}.tile.openstreetmap.org/{z}/{x}/{y}.png"
       },
       "center": [
        -32.00807595929104,
        153.00933837890628
       ],
       "controls": [
        "IPY_MODEL_fa58601dff8a4a7b873de9d08133d20e"
       ],
       "east": -180,
       "interpolation": "bilinear",
       "layers": [
        "IPY_MODEL_b208a6cf1f894c0b940d6f53fc4b88da",
        "IPY_MODEL_daa978c788334881960fb1e1fcb2e021",
        "IPY_MODEL_b6dbcf1d389b495dbdf13d3fad116d3d"
       ],
       "layout": "IPY_MODEL_1c29436b5d7044e3954dba1e642c2b33",
       "modisdate": "yesterday",
       "north": -90,
       "options": [
        "keyboard_pan_offset",
        "tap",
        "attribution_control",
        "max_zoom",
        "min_zoom",
        "bounce_at_zoom_limits",
        "keyboard",
        "scroll_wheel_zoom",
        "dragging",
        "inertia_max_speed",
        "close_popup_on_click",
        "zoom_control",
        "box_zoom",
        "double_click_zoom",
        "interpolation",
        "tap_tolerance",
        "zoom_start",
        "keyboard_zoom_offset",
        "inertia_deceleration",
        "inertia",
        "center",
        "zoom",
        "world_copy_jump",
        "zoom_animation_threshold",
        "touch_zoom",
        "basemap"
       ],
       "south": 90,
       "west": 180,
       "zoom": 9
      }
     },
     "93d2c09070794c169ee8ad31dc194f98": {
      "model_module": "@jupyter-widgets/controls",
      "model_module_version": "1.3.0",
      "model_name": "DescriptionStyleModel",
      "state": {
       "description_width": ""
      }
     },
     "93e6926cf818453fa4d034f5c437e4a5": {
      "model_module": "jupyter-leaflet",
      "model_module_version": "~0.9.0",
      "model_name": "LeafletMapModel",
      "state": {
       "_dom_classes": [],
       "_model_module_version": "~0.9.0",
       "_view_count": null,
       "_view_module_version": "~0.9.0",
       "basemap": {
        "attribution": "Map data (c) <a href=\"https://openstreetmap.org\">OpenStreetMap</a> contributors",
        "max_zoom": 19,
        "url": "https://{s}.tile.openstreetmap.org/{z}/{x}/{y}.png"
       },
       "center": [
        -32,
        153
       ],
       "interpolation": "bilinear",
       "layers": [
        "IPY_MODEL_477ac47d2fac4efdbc48729f9e85efa2",
        "IPY_MODEL_cd781f5cc1a340cca69852b450389ac8"
       ],
       "layout": "IPY_MODEL_dff39553a40f46d586622e6055f10efc",
       "modisdate": "yesterday",
       "options": [
        "keyboard_pan_offset",
        "tap",
        "attribution_control",
        "max_zoom",
        "min_zoom",
        "bounce_at_zoom_limits",
        "keyboard",
        "scroll_wheel_zoom",
        "dragging",
        "inertia_max_speed",
        "close_popup_on_click",
        "zoom_control",
        "box_zoom",
        "double_click_zoom",
        "interpolation",
        "tap_tolerance",
        "zoom_start",
        "keyboard_zoom_offset",
        "inertia_deceleration",
        "inertia",
        "center",
        "zoom",
        "world_copy_jump",
        "zoom_animation_threshold",
        "touch_zoom",
        "basemap"
       ],
       "zoom": 6
      }
     },
     "94321938034649f4bfb821ddfc1f447e": {
      "model_module": "jupyter-leaflet",
      "model_module_version": "~0.9.0",
      "model_name": "LeafletMapModel",
      "state": {
       "_dom_classes": [],
       "_model_module_version": "~0.9.0",
       "_view_count": null,
       "_view_module_version": "~0.9.0",
       "basemap": {
        "attribution": "Map data (c) <a href=\"https://openstreetmap.org\">OpenStreetMap</a> contributors",
        "max_zoom": 19,
        "url": "https://{s}.tile.openstreetmap.org/{z}/{x}/{y}.png"
       },
       "center": [
        -35.944506488133456,
        149.81913188472393
       ],
       "controls": [
        "IPY_MODEL_cf58e0175bb142e1aac3a578b7641cdc"
       ],
       "east": -180,
       "interpolation": "bilinear",
       "layers": [
        "IPY_MODEL_22ac36dced5b4359956565c9e0be8a48",
        "IPY_MODEL_8b6999f91b3e43e1927df52c8ef2ccbf",
        "IPY_MODEL_47358773fb204f6fb5c9dffd376b09f1"
       ],
       "layout": "IPY_MODEL_874b00636a584bd39e05fb07759abdbf",
       "modisdate": "yesterday",
       "north": -90,
       "options": [
        "keyboard_pan_offset",
        "tap",
        "attribution_control",
        "max_zoom",
        "min_zoom",
        "bounce_at_zoom_limits",
        "keyboard",
        "scroll_wheel_zoom",
        "dragging",
        "inertia_max_speed",
        "close_popup_on_click",
        "zoom_control",
        "box_zoom",
        "double_click_zoom",
        "interpolation",
        "tap_tolerance",
        "zoom_start",
        "keyboard_zoom_offset",
        "inertia_deceleration",
        "inertia",
        "center",
        "zoom",
        "world_copy_jump",
        "zoom_animation_threshold",
        "touch_zoom",
        "basemap"
       ],
       "south": 90,
       "west": 180,
       "zoom": 9
      }
     },
     "94ef2f1f7a534681a0ff10ae07cf1266": {
      "model_module": "@jupyter-widgets/base",
      "model_module_version": "1.1.0",
      "model_name": "LayoutModel",
      "state": {}
     },
     "9509a2bb2b344258af403208f7ee6a10": {
      "model_module": "jupyter-leaflet",
      "model_module_version": "~0.9.0",
      "model_name": "LeafletWMSLayerModel",
      "state": {
       "_model_module_version": "~0.9.0",
       "_view_count": null,
       "_view_module_version": "~0.9.0",
       "layers": "LS8:GEOMEDIAN:FALSE",
       "name": "LS8:GEOMEDIAN:FALSE",
       "opacity": 0.75,
       "options": [
        "styles",
        "crs",
        "attribution",
        "layers",
        "uppercase",
        "format",
        "max_zoom",
        "detect_retina",
        "min_zoom",
        "tile_size",
        "transparent"
       ],
       "tile_size": 35,
       "transparent": true,
       "url": "http://gsky.nci.org.au/ows"
      }
     },
     "96e94bc35c6c479daf3882acb01ba124": {
      "model_module": "jupyter-leaflet",
      "model_module_version": "~0.9.0",
      "model_name": "LeafletWMSLayerModel",
      "state": {
       "_model_module_version": "~0.9.0",
       "_view_count": null,
       "_view_module_version": "~0.9.0",
       "layers": "hltc:ht:fc",
       "name": "hltc:ht:fc",
       "options": [
        "styles",
        "crs",
        "attribution",
        "layers",
        "uppercase",
        "format",
        "max_zoom",
        "detect_retina",
        "min_zoom",
        "tile_size",
        "transparent"
       ],
       "transparent": true,
       "url": "http://gsky.nci.org.au/ows"
      }
     },
     "96f5a2b7112542c4a756f3267aa31410": {
      "model_module": "jupyter-leaflet",
      "model_module_version": "~0.9.0",
      "model_name": "LeafletTileLayerModel",
      "state": {
       "_model_module_version": "~0.9.0",
       "_view_count": null,
       "_view_module_version": "~0.9.0",
       "base": true,
       "max_zoom": 19,
       "min_zoom": 1,
       "options": [
        "attribution",
        "tile_size",
        "min_zoom",
        "max_zoom",
        "detect_retina"
       ]
      }
     },
     "98a02f30b1c94b3e988860c58d0b6771": {
      "model_module": "jupyter-leaflet",
      "model_module_version": "~0.9.0",
      "model_name": "LeafletWMSLayerModel",
      "state": {
       "_model_module_version": "~0.9.0",
       "_view_count": null,
       "_view_module_version": "~0.9.0",
       "layers": "nasa:bluemarble",
       "name": "nasa:bluemarble",
       "options": [
        "styles",
        "crs",
        "attribution",
        "layers",
        "uppercase",
        "format",
        "max_zoom",
        "detect_retina",
        "min_zoom",
        "tile_size",
        "transparent"
       ],
       "url": "https://demo.boundlessgeo.com/geoserver/ows?"
      }
     },
     "98df1566c339421ebdbbacf1e483d430": {
      "model_module": "@jupyter-widgets/base",
      "model_module_version": "1.1.0",
      "model_name": "LayoutModel",
      "state": {}
     },
     "9a1b3fb5d6634e56b5bf65655ed84a91": {
      "model_module": "@jupyter-widgets/controls",
      "model_module_version": "1.3.0",
      "model_name": "SelectModel",
      "state": {
       "_options_labels": [
        "LS5:NBAR:TRUE",
        "LS5:NBART:TRUE",
        "LS5:NBAR:FALSE",
        "LS5:NBART:FALSE"
       ],
       "description": "Layer:",
       "index": 0,
       "layout": "IPY_MODEL_3c499b0cb2954d408d360678d397e04d",
       "style": "IPY_MODEL_867cf439d7d549f48c18870d13f3bd37"
      }
     },
     "9b89f629427e41beb7f57fbcf2c15f52": {
      "model_module": "@jupyter-widgets/base",
      "model_module_version": "1.1.0",
      "model_name": "LayoutModel",
      "state": {}
     },
     "9bdd55b6a42644d2be518a02a800d544": {
      "model_module": "@jupyter-widgets/base",
      "model_module_version": "1.1.0",
      "model_name": "LayoutModel",
      "state": {}
     },
     "9c6d9710063d45abb7aed7b0c694becc": {
      "model_module": "@jupyter-widgets/base",
      "model_module_version": "1.1.0",
      "model_name": "LayoutModel",
      "state": {}
     },
     "9d2b6b4b03d545df912be749182bcabe": {
      "model_module": "jupyter-leaflet",
      "model_module_version": "~0.9.0",
      "model_name": "LeafletWMSLayerModel",
      "state": {
       "_model_module_version": "~0.9.0",
       "_view_count": null,
       "_view_module_version": "~0.9.0",
       "layers": "LS5:NBAR:TRUE",
       "options": [
        "styles",
        "crs",
        "attribution",
        "layers",
        "uppercase",
        "format",
        "max_zoom",
        "detect_retina",
        "min_zoom",
        "tile_size",
        "transparent"
       ],
       "tile_size": 35,
       "transparent": true,
       "url": "http://gsky.nci.org.au/ows"
      }
     },
     "9d48ee11b4c54bbeb39b0e40fad8f147": {
      "model_module": "@jupyter-widgets/base",
      "model_module_version": "1.1.0",
      "model_name": "LayoutModel",
      "state": {}
     },
     "9de81c543eae4252b15a9c6dfedd46a6": {
      "model_module": "jupyter-leaflet",
      "model_module_version": "~0.9.0",
      "model_name": "LeafletMapModel",
      "state": {
       "_dom_classes": [],
       "_model_module_version": "~0.9.0",
       "_view_count": null,
       "_view_module_version": "~0.9.0",
       "basemap": {
        "attribution": "Map data (c) <a href=\"https://openstreetmap.org\">OpenStreetMap</a> contributors",
        "max_zoom": 19,
        "url": "https://{s}.tile.openstreetmap.org/{z}/{x}/{y}.png"
       },
       "center": [
        -10.001310360636928,
        113.00262451171876
       ],
       "east": -180,
       "interpolation": "bilinear",
       "layers": [
        "IPY_MODEL_261e2d6f40654029b433cfaefeac1475"
       ],
       "layout": "IPY_MODEL_830ba80e5ac7495a8b8b78e8bd0581e6",
       "modisdate": "yesterday",
       "north": -90,
       "options": [
        "keyboard_pan_offset",
        "tap",
        "attribution_control",
        "max_zoom",
        "min_zoom",
        "bounce_at_zoom_limits",
        "keyboard",
        "scroll_wheel_zoom",
        "dragging",
        "inertia_max_speed",
        "close_popup_on_click",
        "zoom_control",
        "box_zoom",
        "double_click_zoom",
        "interpolation",
        "tap_tolerance",
        "zoom_start",
        "keyboard_zoom_offset",
        "inertia_deceleration",
        "inertia",
        "center",
        "zoom",
        "world_copy_jump",
        "zoom_animation_threshold",
        "touch_zoom",
        "basemap"
       ],
       "south": 90,
       "west": 180,
       "zoom": 9
      }
     },
     "9e20c6054167492f85b45e439b917695": {
      "model_module": "jupyter-leaflet",
      "model_module_version": "~0.9.0",
      "model_name": "LeafletLayersControlModel",
      "state": {
       "_model_module_version": "~0.9.0",
       "_view_count": null,
       "_view_module_version": "~0.9.0"
      }
     },
     "9e3f8640ccaa43d7860feefb860933ff": {
      "model_module": "@jupyter-widgets/controls",
      "model_module_version": "1.3.0",
      "model_name": "SelectModel",
      "state": {
       "_options_labels": [
        "LS5:GEOMEDIAN:FALSE",
        "LS5:GEOMEDIAN:TRUE",
        "LS5:NBAR:FALSE",
        "LS5:NBAR:TRUE",
        "LS5:NBART:FALSE",
        "LS5:NBART:TRUE",
        "LS7:GEOMEDIAN:FALSE",
        "LS7:GEOMEDIAN:TRUE",
        "LS7:NBAR:FALSE",
        "LS7:NBAR:TRUE",
        "LS7:NBART:FALSE",
        "LS7:NBART:TRUE",
        "LS8:GEOMEDIAN:FALSE",
        "LS8:GEOMEDIAN:TRUE",
        "LS8:NBAR:FALSE",
        "LS8:NBAR:TRUE",
        "LS8:NBART:FALSE",
        "LS8:NBART:TRUE",
        "hltc:high:fc",
        "hltc:high:tc",
        "hltc:low:fc",
        "hltc:low:tc",
        "item:relative",
        "item:stddev"
       ],
       "description": "Layer:",
       "index": 0,
       "layout": "IPY_MODEL_d1b87847060b4ccf9d9900c02de837d3",
       "style": "IPY_MODEL_67003012c3404884858d7dc18c17597f"
      }
     },
     "9f2b3688244442aa973f9bf0516eac65": {
      "model_module": "@jupyter-widgets/base",
      "model_module_version": "1.1.0",
      "model_name": "LayoutModel",
      "state": {}
     },
     "9f838e4c9d574941ac9ebd66f82e9859": {
      "model_module": "@jupyter-widgets/base",
      "model_module_version": "1.1.0",
      "model_name": "LayoutModel",
      "state": {}
     },
     "a0f5aeda799f468eb0e1005f11321242": {
      "model_module": "@jupyter-widgets/base",
      "model_module_version": "1.1.0",
      "model_name": "LayoutModel",
      "state": {}
     },
     "a18c10b874de430195a38d6b7f0e7107": {
      "model_module": "jupyter-leaflet",
      "model_module_version": "~0.9.0",
      "model_name": "LeafletMapModel",
      "state": {
       "_dom_classes": [],
       "_model_module_version": "~0.9.0",
       "_view_count": null,
       "_view_module_version": "~0.9.0",
       "basemap": {
        "attribution": "Map data (c) <a href=\"https://openstreetmap.org\">OpenStreetMap</a> contributors",
        "max_zoom": 19,
        "url": "https://{s}.tile.openstreetmap.org/{z}/{x}/{y}.png"
       },
       "center": [
        -35.81084592908527,
        149.88918699324134
       ],
       "controls": [
        "IPY_MODEL_dc8024ee579b4245be3fab2b52c99356"
       ],
       "east": -180,
       "interpolation": "bilinear",
       "layers": [
        "IPY_MODEL_b8dfa0c75e3c4dd5ad72c864c073d579",
        "IPY_MODEL_91808abb51384c799be1d05b97924a9b",
        "IPY_MODEL_23907fc33f024fa18be8a7d12623aa84"
       ],
       "layout": "IPY_MODEL_54475501eacc4726b43bf144ea7faa29",
       "modisdate": "yesterday",
       "north": -90,
       "options": [
        "keyboard_pan_offset",
        "tap",
        "attribution_control",
        "max_zoom",
        "min_zoom",
        "bounce_at_zoom_limits",
        "keyboard",
        "scroll_wheel_zoom",
        "dragging",
        "inertia_max_speed",
        "close_popup_on_click",
        "zoom_control",
        "box_zoom",
        "double_click_zoom",
        "interpolation",
        "tap_tolerance",
        "zoom_start",
        "keyboard_zoom_offset",
        "inertia_deceleration",
        "inertia",
        "center",
        "zoom",
        "world_copy_jump",
        "zoom_animation_threshold",
        "touch_zoom",
        "basemap"
       ],
       "south": 90,
       "west": 180,
       "zoom": 9
      }
     },
     "a1d6b5744f224f168d22223da2abb00b": {
      "model_module": "jupyter-leaflet",
      "model_module_version": "~0.9.0",
      "model_name": "LeafletMapModel",
      "state": {
       "_dom_classes": [],
       "_model_module_version": "~0.9.0",
       "_view_count": null,
       "_view_module_version": "~0.9.0",
       "basemap": {
        "attribution": "Map data (c) <a href=\"https://openstreetmap.org\">OpenStreetMap</a> contributors",
        "max_zoom": 19,
        "url": "https://{s}.tile.openstreetmap.org/{z}/{x}/{y}.png"
       },
       "center": [
        -36.000229561780024,
        149.00207519531253
       ],
       "controls": [
        "IPY_MODEL_57788fa4404a41cfbd58192fee5d400c"
       ],
       "east": -180,
       "interpolation": "bilinear",
       "layers": [
        "IPY_MODEL_0f4f39bdf58e4c4f91480f02b2de0b7b",
        "IPY_MODEL_8b6999f91b3e43e1927df52c8ef2ccbf",
        "IPY_MODEL_4d2b5c6502f94687ac6845a3a12088cf"
       ],
       "layout": "IPY_MODEL_61018c89161f49eabcd25500d737549f",
       "modisdate": "yesterday",
       "north": -90,
       "options": [
        "keyboard_pan_offset",
        "tap",
        "attribution_control",
        "max_zoom",
        "min_zoom",
        "bounce_at_zoom_limits",
        "keyboard",
        "scroll_wheel_zoom",
        "dragging",
        "inertia_max_speed",
        "close_popup_on_click",
        "zoom_control",
        "box_zoom",
        "double_click_zoom",
        "interpolation",
        "tap_tolerance",
        "zoom_start",
        "keyboard_zoom_offset",
        "inertia_deceleration",
        "inertia",
        "center",
        "zoom",
        "world_copy_jump",
        "zoom_animation_threshold",
        "touch_zoom",
        "basemap"
       ],
       "south": 90,
       "west": 180,
       "zoom": 9
      }
     },
     "a2348ae81f1d41bcab25ae72782d6753": {
      "model_module": "@jupyter-widgets/controls",
      "model_module_version": "1.3.0",
      "model_name": "DescriptionStyleModel",
      "state": {
       "description_width": ""
      }
     },
     "a336ae4dd2ba4221ac81f8ebe847808b": {
      "model_module": "jupyter-leaflet",
      "model_module_version": "~0.9.0",
      "model_name": "LeafletMapModel",
      "state": {
       "_dom_classes": [],
       "_model_module_version": "~0.9.0",
       "_view_count": null,
       "_view_module_version": "~0.9.0",
       "basemap": {
        "attribution": "Map data (c) <a href=\"https://openstreetmap.org\">OpenStreetMap</a> contributors",
        "max_zoom": 19,
        "url": "https://{s}.tile.openstreetmap.org/{z}/{x}/{y}.png"
       },
       "center": [
        -35,
        151
       ],
       "east": 161.78466796875003,
       "interpolation": "bilinear",
       "layers": [
        "IPY_MODEL_73804a8c5361402d87fe5a9aef70bd62"
       ],
       "layout": "IPY_MODEL_30f24384eac24dafb58302ee3d91fb81",
       "modisdate": "yesterday",
       "north": -31.316101383495635,
       "options": [
        "keyboard_pan_offset",
        "tap",
        "attribution_control",
        "max_zoom",
        "min_zoom",
        "bounce_at_zoom_limits",
        "keyboard",
        "scroll_wheel_zoom",
        "dragging",
        "inertia_max_speed",
        "close_popup_on_click",
        "zoom_control",
        "box_zoom",
        "double_click_zoom",
        "interpolation",
        "tap_tolerance",
        "zoom_start",
        "keyboard_zoom_offset",
        "inertia_deceleration",
        "inertia",
        "center",
        "zoom",
        "world_copy_jump",
        "zoom_animation_threshold",
        "touch_zoom",
        "basemap"
       ],
       "south": -38.51378825951164,
       "west": 140.22949218750003,
       "zoom": 6
      }
     },
     "a3f8ed8abe314871a46b689d69de8aa2": {
      "model_module": "@jupyter-widgets/controls",
      "model_module_version": "1.3.0",
      "model_name": "SliderStyleModel",
      "state": {
       "description_width": ""
      }
     },
     "a41b59424b9f48199325c2bae7eb72df": {
      "model_module": "@jupyter-widgets/base",
      "model_module_version": "1.1.0",
      "model_name": "LayoutModel",
      "state": {}
     },
     "a4351f77e6eb47c08d7b58dc6e11787b": {
      "model_module": "jupyter-leaflet",
      "model_module_version": "~0.9.0",
      "model_name": "LeafletTileLayerModel",
      "state": {
       "_model_module_version": "~0.9.0",
       "_view_count": null,
       "_view_module_version": "~0.9.0",
       "attribution": "Imagery provided by services from the Global Imagery Browse Services (GIBS), operated by the NASA/GSFC/Earth Science Data and Information System (<a href=\"https://earthdata.nasa.gov\">ESDIS</a>) with funding provided by NASA/HQ.",
       "max_zoom": 9,
       "min_zoom": 1,
       "name": "NASAGIBS.ModisTerraTrueColorCR",
       "options": [
        "attribution",
        "tile_size",
        "min_zoom",
        "max_zoom",
        "detect_retina"
       ],
       "url": "https://map1.vis.earthdata.nasa.gov/wmts-webmerc/MODIS_Terra_CorrectedReflectance_TrueColor/default/2018-03-30/GoogleMapsCompatible_Level9/{z}/{y}/{x}.jpg"
      }
     },
     "a47d5440c9eb4fb08be1e3767597124d": {
      "model_module": "@jupyter-widgets/base",
      "model_module_version": "1.1.0",
      "model_name": "LayoutModel",
      "state": {}
     },
     "a6d32ec649364e9ba9f56469aa7f26ba": {
      "model_module": "@jupyter-widgets/base",
      "model_module_version": "1.1.0",
      "model_name": "LayoutModel",
      "state": {}
     },
     "a6e8294d25fd4924a769b50b42724de4": {
      "model_module": "jupyter-leaflet",
      "model_module_version": "~0.9.0",
      "model_name": "LeafletMapModel",
      "state": {
       "_dom_classes": [],
       "_model_module_version": "~0.9.0",
       "_view_count": null,
       "_view_module_version": "~0.9.0",
       "basemap": {
        "attribution": "Map data (c) <a href=\"https://openstreetmap.org\">OpenStreetMap</a> contributors",
        "max_zoom": 19,
        "url": "https://{s}.tile.openstreetmap.org/{z}/{x}/{y}.png"
       },
       "center": [
        -32.00807595929104,
        153.01757812500003
       ],
       "east": -180,
       "interpolation": "bilinear",
       "layers": [
        "IPY_MODEL_87ddf18a9ad3463fbb0accf42a36cb71",
        "IPY_MODEL_10fac7830a254716985433d526918448",
        "IPY_MODEL_1001d08cb0fb407b9610a5231fdaae28",
        "IPY_MODEL_9177e749817647169182ab470c36cd11",
        "IPY_MODEL_5f80ec175c034473a7bb4f2466ebff85"
       ],
       "layout": "IPY_MODEL_c9b90e8b67b04e66b8fc49296bd44f04",
       "modisdate": "yesterday",
       "north": -90,
       "options": [
        "keyboard_pan_offset",
        "tap",
        "attribution_control",
        "max_zoom",
        "min_zoom",
        "bounce_at_zoom_limits",
        "keyboard",
        "scroll_wheel_zoom",
        "dragging",
        "inertia_max_speed",
        "close_popup_on_click",
        "zoom_control",
        "box_zoom",
        "double_click_zoom",
        "interpolation",
        "tap_tolerance",
        "zoom_start",
        "keyboard_zoom_offset",
        "inertia_deceleration",
        "inertia",
        "center",
        "zoom",
        "world_copy_jump",
        "zoom_animation_threshold",
        "touch_zoom",
        "basemap"
       ],
       "south": 90,
       "west": 180,
       "zoom": 6
      }
     },
     "a71a7edd22af41ffa4080f8d20f5b2ec": {
      "model_module": "@jupyter-widgets/base",
      "model_module_version": "1.1.0",
      "model_name": "LayoutModel",
      "state": {}
     },
     "a7637d7f00f4475e87fe91f1287042fd": {
      "model_module": "@jupyter-widgets/controls",
      "model_module_version": "1.3.0",
      "model_name": "SelectModel",
      "state": {
       "_options_labels": [
        "LS5:GEOMEDIAN:FALSE",
        "LS5:GEOMEDIAN:TRUE",
        "LS5:NBAR:FALSE",
        "LS5:NBAR:TRUE",
        "LS5:NBART:FALSE",
        "LS5:NBART:TRUE",
        "LS7:GEOMEDIAN:FALSE",
        "LS7:GEOMEDIAN:TRUE",
        "LS7:NBAR:FALSE",
        "LS7:NBAR:TRUE",
        "LS7:NBART:FALSE",
        "LS7:NBART:TRUE",
        "LS8:GEOMEDIAN:FALSE",
        "LS8:GEOMEDIAN:TRUE",
        "LS8:NBAR:FALSE",
        "LS8:NBAR:TRUE",
        "LS8:NBART:FALSE",
        "LS8:NBART:TRUE",
        "hltc:high:fc",
        "hltc:high:tc",
        "hltc:low:fc",
        "hltc:low:tc",
        "item:relative",
        "item:stddev"
       ],
       "description": "Layer:",
       "index": 0,
       "layout": "IPY_MODEL_e8199b3d70c74ec2aee01de4b7e005bb",
       "style": "IPY_MODEL_2b1c22a87cc848a7866f8692bb332647"
      }
     },
     "a788c459e45f410395cd552c32d6f649": {
      "model_module": "@jupyter-widgets/base",
      "model_module_version": "1.1.0",
      "model_name": "LayoutModel",
      "state": {}
     },
     "a78da21312964904b5b3a8dcf3c3de14": {
      "model_module": "@jupyter-widgets/controls",
      "model_module_version": "1.3.0",
      "model_name": "DescriptionStyleModel",
      "state": {
       "description_width": ""
      }
     },
     "a7acdbccafe74b02893206226f38f491": {
      "model_module": "@jupyter-widgets/base",
      "model_module_version": "1.1.0",
      "model_name": "LayoutModel",
      "state": {}
     },
     "a7e8bf8f9c0047c48cd67228df1d7d1d": {
      "model_module": "@jupyter-widgets/base",
      "model_module_version": "1.1.0",
      "model_name": "LayoutModel",
      "state": {}
     },
     "a7f710659e784ce59bda0b82b1de85fd": {
      "model_module": "jupyter-leaflet",
      "model_module_version": "~0.9.0",
      "model_name": "LeafletMapModel",
      "state": {
       "_dom_classes": [],
       "_model_module_version": "~0.9.0",
       "_view_count": null,
       "_view_module_version": "~0.9.0",
       "basemap": {
        "attribution": "Map data (c) <a href=\"https://openstreetmap.org\">OpenStreetMap</a> contributors",
        "max_zoom": 19,
        "url": "https://{s}.tile.openstreetmap.org/{z}/{x}/{y}.png"
       },
       "center": [
        -35,
        149
       ],
       "controls": [
        "IPY_MODEL_7072b2f264c247a696a8e608dbd9c34f"
       ],
       "east": 159.78515625000003,
       "interpolation": "bilinear",
       "layers": [
        "IPY_MODEL_98a02f30b1c94b3e988860c58d0b6771",
        "IPY_MODEL_4062c2182f424b8ba5c2b6799964551d",
        "IPY_MODEL_b6c2c2068f044dcaaf5e19ee96495433"
       ],
       "layout": "IPY_MODEL_1534b32d368e497d8d236b1d0ae53eb7",
       "modisdate": "yesterday",
       "north": -31.316101383495635,
       "options": [
        "keyboard_pan_offset",
        "tap",
        "attribution_control",
        "max_zoom",
        "min_zoom",
        "bounce_at_zoom_limits",
        "keyboard",
        "scroll_wheel_zoom",
        "dragging",
        "inertia_max_speed",
        "close_popup_on_click",
        "zoom_control",
        "box_zoom",
        "double_click_zoom",
        "interpolation",
        "tap_tolerance",
        "zoom_start",
        "keyboard_zoom_offset",
        "inertia_deceleration",
        "inertia",
        "center",
        "zoom",
        "world_copy_jump",
        "zoom_animation_threshold",
        "touch_zoom",
        "basemap"
       ],
       "south": -38.51378825951164,
       "west": 138.22998046875003,
       "zoom": 6
      }
     },
     "a7f9c66d940e46f989c6c5cee6f820d7": {
      "model_module": "@jupyter-widgets/controls",
      "model_module_version": "1.3.0",
      "model_name": "IntSliderModel",
      "state": {
       "continuous_update": false,
       "description": "Lon:",
       "layout": "IPY_MODEL_3fcf503a557c40bfadb9861396eeb206",
       "max": 153,
       "min": 113,
       "style": "IPY_MODEL_ad792fe7f8c546c998c06fdd76f82dd4",
       "value": 151
      }
     },
     "a855994596184b1e959a694fb8d8542b": {
      "model_module": "@jupyter-widgets/controls",
      "model_module_version": "1.3.0",
      "model_name": "IntSliderModel",
      "state": {
       "continuous_update": false,
       "description": "Lat:",
       "layout": "IPY_MODEL_f9feedf681864749a6c5e1a7e0f528f0",
       "max": -10,
       "min": -43,
       "orientation": "vertical",
       "style": "IPY_MODEL_ff7acef492ce46afb16b20e6b9e8d626",
       "value": -10
      }
     },
     "a86ab647b8594d37a630e0554c94a98c": {
      "model_module": "@jupyter-widgets/controls",
      "model_module_version": "1.3.0",
      "model_name": "SliderStyleModel",
      "state": {
       "description_width": ""
      }
     },
     "a8fd4b09a3fc41bab4b3d8cccc656270": {
      "model_module": "@jupyter-widgets/controls",
      "model_module_version": "1.3.0",
      "model_name": "VBoxModel",
      "state": {
       "_dom_classes": [
        "widget-interact"
       ],
       "children": [
        "IPY_MODEL_e34322ca1a0b49e48e7095ad4140e4c6"
       ],
       "layout": "IPY_MODEL_bdd1c8f7c2954cfb9243d5db5841cdd7"
      }
     },
     "a92737edce4e4c008165ac1540faefe2": {
      "model_module": "@jupyter-widgets/base",
      "model_module_version": "1.1.0",
      "model_name": "LayoutModel",
      "state": {}
     },
     "aa63a815d6094165beac81bb42cd7bc4": {
      "model_module": "jupyter-leaflet",
      "model_module_version": "~0.9.0",
      "model_name": "LeafletLayersControlModel",
      "state": {
       "_model_module_version": "~0.9.0",
       "_view_count": null,
       "_view_module_version": "~0.9.0"
      }
     },
     "aa7856ddad5240a78ebc12d4c8f4ce63": {
      "model_module": "jupyter-leaflet",
      "model_module_version": "~0.9.0",
      "model_name": "LeafletLayersControlModel",
      "state": {
       "_model_module_version": "~0.9.0",
       "_view_count": null,
       "_view_module_version": "~0.9.0"
      }
     },
     "ab058df33b7f43a7bb9b7fee1517f700": {
      "model_module": "jupyter-leaflet",
      "model_module_version": "~0.9.0",
      "model_name": "LeafletMapModel",
      "state": {
       "_dom_classes": [],
       "_model_module_version": "~0.9.0",
       "_view_count": null,
       "_view_module_version": "~0.9.0",
       "basemap": {
        "attribution": "Map data (c) <a href=\"https://openstreetmap.org\">OpenStreetMap</a> contributors",
        "max_zoom": 19,
        "url": "https://{s}.tile.openstreetmap.org/{z}/{x}/{y}.png"
       },
       "center": [
        -31.989441837922893,
        153.01757812500003
       ],
       "east": -180,
       "interpolation": "bilinear",
       "layers": [
        "IPY_MODEL_b557b2662cc44004ac7daecfa87ac5ec",
        "IPY_MODEL_7cc787520a85449a98773e018fd9099c"
       ],
       "layout": "IPY_MODEL_e74d5ffe419f4f4b8272427b7ad91896",
       "modisdate": "yesterday",
       "north": -90,
       "options": [
        "keyboard_pan_offset",
        "tap",
        "attribution_control",
        "max_zoom",
        "min_zoom",
        "bounce_at_zoom_limits",
        "keyboard",
        "scroll_wheel_zoom",
        "dragging",
        "inertia_max_speed",
        "close_popup_on_click",
        "zoom_control",
        "box_zoom",
        "double_click_zoom",
        "interpolation",
        "tap_tolerance",
        "zoom_start",
        "keyboard_zoom_offset",
        "inertia_deceleration",
        "inertia",
        "center",
        "zoom",
        "world_copy_jump",
        "zoom_animation_threshold",
        "touch_zoom",
        "basemap"
       ],
       "south": 90,
       "west": 180,
       "zoom": 5
      }
     },
     "ac23827ab36f47ffb308633db453bc56": {
      "model_module": "jupyter-leaflet",
      "model_module_version": "~0.9.0",
      "model_name": "LeafletMapModel",
      "state": {
       "_dom_classes": [],
       "_model_module_version": "~0.9.0",
       "_view_count": null,
       "_view_module_version": "~0.9.0",
       "basemap": {
        "attribution": "Map data (c) <a href=\"https://openstreetmap.org\">OpenStreetMap</a> contributors",
        "max_zoom": 19,
        "url": "https://{s}.tile.openstreetmap.org/{z}/{x}/{y}.png"
       },
       "center": [
        -32.00807595929104,
        153.01757812500003
       ],
       "east": -180,
       "interpolation": "bilinear",
       "layers": [
        "IPY_MODEL_5ffa263e4b4d4772b4ad55da5ac55339"
       ],
       "layout": "IPY_MODEL_f98c0b0b74df45319e2599c36abf5918",
       "modisdate": "yesterday",
       "north": -90,
       "options": [
        "keyboard_pan_offset",
        "tap",
        "attribution_control",
        "max_zoom",
        "min_zoom",
        "bounce_at_zoom_limits",
        "keyboard",
        "scroll_wheel_zoom",
        "dragging",
        "inertia_max_speed",
        "close_popup_on_click",
        "zoom_control",
        "box_zoom",
        "double_click_zoom",
        "interpolation",
        "tap_tolerance",
        "zoom_start",
        "keyboard_zoom_offset",
        "inertia_deceleration",
        "inertia",
        "center",
        "zoom",
        "world_copy_jump",
        "zoom_animation_threshold",
        "touch_zoom",
        "basemap"
       ],
       "south": 90,
       "west": 180,
       "zoom": 6
      }
     },
     "ac7b0880afbd473487397f0758433078": {
      "model_module": "jupyter-leaflet",
      "model_module_version": "~0.9.0",
      "model_name": "LeafletMapModel",
      "state": {
       "_dom_classes": [],
       "_model_module_version": "~0.9.0",
       "_view_count": null,
       "_view_module_version": "~0.9.0",
       "basemap": {
        "attribution": "Map data (c) <a href=\"https://openstreetmap.org\">OpenStreetMap</a> contributors",
        "max_zoom": 19,
        "url": "https://{s}.tile.openstreetmap.org/{z}/{x}/{y}.png"
       },
       "center": [
        -31.93579658032368,
        151.19563300162557
       ],
       "east": -180,
       "interpolation": "bilinear",
       "layers": [
        "IPY_MODEL_f2a79157bcc84ab381929edb4979125d"
       ],
       "layout": "IPY_MODEL_2fe5f29ab6664b17bf7ce5ee2d89fbf4",
       "modisdate": "yesterday",
       "north": -90,
       "options": [
        "keyboard_pan_offset",
        "tap",
        "attribution_control",
        "max_zoom",
        "min_zoom",
        "bounce_at_zoom_limits",
        "keyboard",
        "scroll_wheel_zoom",
        "dragging",
        "inertia_max_speed",
        "close_popup_on_click",
        "zoom_control",
        "box_zoom",
        "double_click_zoom",
        "interpolation",
        "tap_tolerance",
        "zoom_start",
        "keyboard_zoom_offset",
        "inertia_deceleration",
        "inertia",
        "center",
        "zoom",
        "world_copy_jump",
        "zoom_animation_threshold",
        "touch_zoom",
        "basemap"
       ],
       "south": 90,
       "west": 180,
       "zoom": 9
      }
     },
     "acc79abc2c7d43d5bc98cb35112f2b88": {
      "model_module": "@jupyter-widgets/controls",
      "model_module_version": "1.3.0",
      "model_name": "SliderStyleModel",
      "state": {
       "description_width": ""
      }
     },
     "ad792fe7f8c546c998c06fdd76f82dd4": {
      "model_module": "@jupyter-widgets/controls",
      "model_module_version": "1.3.0",
      "model_name": "SliderStyleModel",
      "state": {
       "description_width": ""
      }
     },
     "adbd36452a894acdad06bf82127f8ae6": {
      "model_module": "@jupyter-widgets/base",
      "model_module_version": "1.1.0",
      "model_name": "LayoutModel",
      "state": {}
     },
     "aedf13062bce4547be4974e8a2757b3e": {
      "model_module": "jupyter-leaflet",
      "model_module_version": "~0.9.0",
      "model_name": "LeafletSplitMapControlModel",
      "state": {
       "_model_module_version": "~0.9.0",
       "_model_name": "LeafletSplitMapControlModel",
       "_view_count": null,
       "_view_module_version": "~0.9.0",
       "_view_name": "LeafletSplitMapControlView",
       "left_layer": "IPY_MODEL_b94b7f380a7c4cb38e01efec635b7dad",
       "right_layer": "IPY_MODEL_f9eb4eb803984382888d213898a138fa"
      }
     },
     "af2215fbb67b45edb096af0aeb01f61c": {
      "model_module": "jupyter-leaflet",
      "model_module_version": "~0.9.0",
      "model_name": "LeafletWMSLayerModel",
      "state": {
       "_model_module_version": "~0.9.0",
       "_view_count": null,
       "_view_module_version": "~0.9.0",
       "layers": "LS8:GEOMEDIAN:FALSE",
       "options": [
        "styles",
        "crs",
        "attribution",
        "layers",
        "uppercase",
        "format",
        "max_zoom",
        "detect_retina",
        "min_zoom",
        "tile_size",
        "transparent"
       ],
       "tile_size": 35,
       "transparent": true,
       "url": "http://gsky.nci.org.au/ows"
      }
     },
     "afd8f22ec4574fa38e23790209250022": {
      "model_module": "jupyter-leaflet",
      "model_module_version": "~0.9.0",
      "model_name": "LeafletWMSLayerModel",
      "state": {
       "_model_module_version": "~0.9.0",
       "_view_count": null,
       "_view_module_version": "~0.9.0",
       "layers": "LS8:GEOMEDIAN:FALSE",
       "name": "LS8:GEOMEDIAN:FALSE",
       "options": [
        "styles",
        "crs",
        "attribution",
        "layers",
        "uppercase",
        "format",
        "max_zoom",
        "detect_retina",
        "min_zoom",
        "tile_size",
        "transparent"
       ],
       "tile_size": 35,
       "transparent": true,
       "url": "http://gsky.nci.org.au/ows"
      }
     },
     "b14de6d9b45644ad87bab88a99fc5281": {
      "model_module": "@jupyter-widgets/controls",
      "model_module_version": "1.3.0",
      "model_name": "SliderStyleModel",
      "state": {
       "description_width": ""
      }
     },
     "b208a6cf1f894c0b940d6f53fc4b88da": {
      "model_module": "jupyter-leaflet",
      "model_module_version": "~0.9.0",
      "model_name": "LeafletTileLayerModel",
      "state": {
       "_model_module_version": "~0.9.0",
       "_view_count": null,
       "_view_module_version": "~0.9.0",
       "base": true,
       "max_zoom": 19,
       "min_zoom": 1,
       "options": [
        "attribution",
        "tile_size",
        "min_zoom",
        "max_zoom",
        "detect_retina"
       ]
      }
     },
     "b2307375874c47989f7e5c5a28b8d92c": {
      "model_module": "@jupyter-widgets/base",
      "model_module_version": "1.1.0",
      "model_name": "LayoutModel",
      "state": {}
     },
     "b2c84b52c1d747ec9102bdc86e0894b0": {
      "model_module": "jupyter-leaflet",
      "model_module_version": "~0.9.0",
      "model_name": "LeafletWMSLayerModel",
      "state": {
       "_model_module_version": "~0.9.0",
       "_view_count": null,
       "_view_module_version": "~0.9.0",
       "layers": "LS8:GEOMEDIAN:FALSE",
       "opacity": 0.75,
       "options": [
        "styles",
        "crs",
        "attribution",
        "layers",
        "uppercase",
        "format",
        "max_zoom",
        "detect_retina",
        "min_zoom",
        "tile_size",
        "transparent"
       ],
       "tile_size": 35,
       "transparent": true,
       "url": "http://gsky.nci.org.au/ows"
      }
     },
     "b32434cdefc046f4af58f09a6af10e83": {
      "model_module": "@jupyter-widgets/base",
      "model_module_version": "1.1.0",
      "model_name": "LayoutModel",
      "state": {}
     },
     "b3d118da70f74cf283a942261d0b9d78": {
      "model_module": "@jupyter-widgets/controls",
      "model_module_version": "1.3.0",
      "model_name": "DescriptionStyleModel",
      "state": {
       "description_width": ""
      }
     },
     "b40177c983a04cd0aa92090586ef08ae": {
      "model_module": "@jupyter-widgets/controls",
      "model_module_version": "1.3.0",
      "model_name": "DescriptionStyleModel",
      "state": {
       "description_width": ""
      }
     },
     "b40ce9c943fc40a792185e80b9ebb3ed": {
      "model_module": "@jupyter-widgets/base",
      "model_module_version": "1.1.0",
      "model_name": "LayoutModel",
      "state": {}
     },
     "b45b74de8c3d4f9fb1a7de55be4bdc37": {
      "model_module": "@jupyter-widgets/controls",
      "model_module_version": "1.3.0",
      "model_name": "SliderStyleModel",
      "state": {
       "description_width": ""
      }
     },
     "b494ae1567ad4d779def64879cb73fe1": {
      "model_module": "jupyter-leaflet",
      "model_module_version": "~0.9.0",
      "model_name": "LeafletWMSLayerModel",
      "state": {
       "_model_module_version": "~0.9.0",
       "_view_count": null,
       "_view_module_version": "~0.9.0",
       "layers": "LS8:GEOMEDIAN:FALSE",
       "options": [
        "styles",
        "crs",
        "attribution",
        "layers",
        "uppercase",
        "format",
        "max_zoom",
        "detect_retina",
        "min_zoom",
        "tile_size",
        "transparent"
       ],
       "tile_size": 35,
       "transparent": true,
       "url": "http://gsky.nci.org.au/ows"
      }
     },
     "b49df963595949d990d0eec38e89d2c7": {
      "model_module": "jupyter-leaflet",
      "model_module_version": "~0.9.0",
      "model_name": "LeafletWMSLayerModel",
      "state": {
       "_model_module_version": "~0.9.0",
       "_view_count": null,
       "_view_module_version": "~0.9.0",
       "layers": "LS5:GEOMEDIAN:FALSE",
       "options": [
        "styles",
        "crs",
        "attribution",
        "layers",
        "uppercase",
        "format",
        "max_zoom",
        "detect_retina",
        "min_zoom",
        "tile_size",
        "transparent"
       ],
       "tile_size": 35,
       "transparent": true,
       "url": "http://gsky.nci.org.au/ows"
      }
     },
     "b557b2662cc44004ac7daecfa87ac5ec": {
      "model_module": "jupyter-leaflet",
      "model_module_version": "~0.9.0",
      "model_name": "LeafletTileLayerModel",
      "state": {
       "_model_module_version": "~0.9.0",
       "_view_count": null,
       "_view_module_version": "~0.9.0",
       "base": true,
       "max_zoom": 19,
       "min_zoom": 1,
       "options": [
        "attribution",
        "tile_size",
        "min_zoom",
        "max_zoom",
        "detect_retina"
       ]
      }
     },
     "b6c2c2068f044dcaaf5e19ee96495433": {
      "model_module": "jupyter-leaflet",
      "model_module_version": "~0.9.0",
      "model_name": "LeafletWMSLayerModel",
      "state": {
       "_model_module_version": "~0.9.0",
       "_view_count": null,
       "_view_module_version": "~0.9.0",
       "layers": "hltc:high:fc",
       "name": "hltc:high:fc",
       "options": [
        "styles",
        "crs",
        "attribution",
        "layers",
        "uppercase",
        "format",
        "max_zoom",
        "detect_retina",
        "min_zoom",
        "tile_size",
        "transparent"
       ],
       "transparent": true,
       "url": "http://gsky.nci.org.au/ows"
      }
     },
     "b6d6592049bf4b31a42cd49de19808a4": {
      "model_module": "@jupyter-widgets/controls",
      "model_module_version": "1.3.0",
      "model_name": "IntSliderModel",
      "state": {
       "continuous_update": false,
       "description": "Lat:",
       "layout": "IPY_MODEL_2d0abe3cd5d44dea9ec0fe4fc8ef4776",
       "max": -10,
       "min": -43,
       "style": "IPY_MODEL_69067fc143494e4dae661a51da166c15",
       "value": -30
      }
     },
     "b6dbcf1d389b495dbdf13d3fad116d3d": {
      "model_module": "jupyter-leaflet",
      "model_module_version": "~0.9.0",
      "model_name": "LeafletWMSLayerModel",
      "state": {
       "_model_module_version": "~0.9.0",
       "_view_count": null,
       "_view_module_version": "~0.9.0",
       "layers": "hltc:high:fc",
       "name": "hltc:high:fc",
       "options": [
        "styles",
        "crs",
        "attribution",
        "layers",
        "uppercase",
        "format",
        "max_zoom",
        "detect_retina",
        "min_zoom",
        "tile_size",
        "transparent"
       ],
       "url": "http://gsky.nci.org.au/ows"
      }
     },
     "b79a779de7b744758f9fed552188f03d": {
      "model_module": "@jupyter-widgets/controls",
      "model_module_version": "1.3.0",
      "model_name": "SliderStyleModel",
      "state": {
       "description_width": ""
      }
     },
     "b8070dbe83ea422e9438413fef44c80b": {
      "model_module": "@jupyter-widgets/controls",
      "model_module_version": "1.3.0",
      "model_name": "SelectModel",
      "state": {
       "_options_labels": [
        "LS5:GEOMEDIAN:FALSE",
        "LS5:GEOMEDIAN:TRUE",
        "LS5:NBAR:FALSE",
        "LS5:NBAR:TRUE",
        "LS5:NBART:FALSE",
        "LS5:NBART:TRUE",
        "LS7:GEOMEDIAN:FALSE",
        "LS7:GEOMEDIAN:TRUE",
        "LS7:NBAR:FALSE",
        "LS7:NBAR:TRUE",
        "LS7:NBART:FALSE",
        "LS7:NBART:TRUE",
        "LS8:GEOMEDIAN:FALSE",
        "LS8:GEOMEDIAN:TRUE",
        "LS8:NBAR:FALSE",
        "LS8:NBAR:TRUE",
        "LS8:NBART:FALSE",
        "LS8:NBART:TRUE",
        "hltc:high:fc",
        "hltc:high:tc",
        "hltc:low:fc",
        "hltc:low:tc",
        "item:relative",
        "item:stddev"
       ],
       "description": "Layer:",
       "index": 3,
       "layout": "IPY_MODEL_85d1666d7bae4d56a653c0833b8b67ac",
       "style": "IPY_MODEL_e7d0f2951f7d47fdab245f4b306495da"
      }
     },
     "b8dfa0c75e3c4dd5ad72c864c073d579": {
      "model_module": "jupyter-leaflet",
      "model_module_version": "~0.9.0",
      "model_name": "LeafletWMSLayerModel",
      "state": {
       "_model_module_version": "~0.9.0",
       "_view_count": null,
       "_view_module_version": "~0.9.0",
       "layers": "nasa:bluemarble",
       "name": "nasa:bluemarble",
       "options": [
        "styles",
        "crs",
        "attribution",
        "layers",
        "uppercase",
        "format",
        "max_zoom",
        "detect_retina",
        "min_zoom",
        "tile_size",
        "transparent"
       ],
       "url": "https://demo.boundlessgeo.com/geoserver/ows?"
      }
     },
     "b8f8cdd6a7514084aa81be0d08a312b1": {
      "model_module": "@jupyter-widgets/base",
      "model_module_version": "1.1.0",
      "model_name": "LayoutModel",
      "state": {}
     },
     "b9360279f6b84b0e8eea2a19f7d69363": {
      "model_module": "@jupyter-widgets/controls",
      "model_module_version": "1.3.0",
      "model_name": "SliderStyleModel",
      "state": {
       "description_width": ""
      }
     },
     "b94b7f380a7c4cb38e01efec635b7dad": {
      "model_module": "jupyter-leaflet",
      "model_module_version": "~0.9.0",
      "model_name": "LeafletTileLayerModel",
      "state": {
       "_model_module_version": "~0.9.0",
       "_view_count": null,
       "_view_module_version": "~0.9.0",
       "options": [
        "attribution",
        "tile_size",
        "min_zoom",
        "max_zoom",
        "detect_retina"
       ]
      }
     },
     "b9959651a47046f4bb8ea80be701bf25": {
      "model_module": "@jupyter-widgets/controls",
      "model_module_version": "1.3.0",
      "model_name": "SelectModel",
      "state": {
       "_options_labels": [
        "LS5:GEOMEDIAN:FALSE",
        "LS5:GEOMEDIAN:TRUE",
        "LS5:NBAR:FALSE",
        "LS5:NBAR:TRUE",
        "LS5:NBART:FALSE",
        "LS5:NBART:TRUE",
        "LS7:GEOMEDIAN:FALSE",
        "LS7:GEOMEDIAN:TRUE",
        "LS7:NBAR:FALSE",
        "LS7:NBAR:TRUE",
        "LS7:NBART:FALSE",
        "LS7:NBART:TRUE",
        "LS8:GEOMEDIAN:FALSE",
        "LS8:GEOMEDIAN:TRUE",
        "LS8:NBAR:FALSE",
        "LS8:NBAR:TRUE",
        "LS8:NBART:FALSE",
        "LS8:NBART:TRUE",
        "hltc:high:fc",
        "hltc:high:tc",
        "hltc:low:fc",
        "hltc:low:tc",
        "item:relative",
        "item:stddev"
       ],
       "description": "Layer:",
       "disabled": true,
       "index": 0,
       "layout": "IPY_MODEL_a6d32ec649364e9ba9f56469aa7f26ba",
       "style": "IPY_MODEL_40eb45559eb349a49060703540447d41"
      }
     },
     "ba10bfefe8594919a36f8f85f194e744": {
      "model_module": "@jupyter-widgets/controls",
      "model_module_version": "1.3.0",
      "model_name": "DescriptionStyleModel",
      "state": {
       "description_width": ""
      }
     },
     "ba5431c8f1694f648809d5718065b965": {
      "model_module": "@jupyter-widgets/controls",
      "model_module_version": "1.3.0",
      "model_name": "SelectModel",
      "state": {
       "_options_labels": [
        "2014-01-01T00:00:00.000Z",
        "2015-01-01T00:00:00.000Z",
        "2016-01-01T00:00:00.000Z",
        "2017-01-01T00:00:00.000Z"
       ],
       "description": "Date:",
       "index": 0,
       "layout": "IPY_MODEL_bd540845356d46218e6794bbea3dbcf4",
       "style": "IPY_MODEL_cad1f7e0ffcd4f4ca1e2d9e46f3f2048"
      }
     },
     "ba664d2ef40b40eab2845ff1b6e6179e": {
      "model_module": "@jupyter-widgets/controls",
      "model_module_version": "1.3.0",
      "model_name": "SliderStyleModel",
      "state": {
       "description_width": ""
      }
     },
     "bb379121c2cd4ac091e3f225ae0a9c14": {
      "model_module": "@jupyter-widgets/controls",
      "model_module_version": "1.3.0",
      "model_name": "SelectModel",
      "state": {
       "_options_labels": [
        "1987-01-01T00:00:00.000Z",
        "1988-01-01T00:00:00.000Z",
        "1989-01-01T00:00:00.000Z",
        "1990-01-01T00:00:00.000Z",
        "1991-01-01T00:00:00.000Z",
        "1992-01-01T00:00:00.000Z",
        "1993-01-01T00:00:00.000Z",
        "1994-01-01T00:00:00.000Z",
        "1995-01-01T00:00:00.000Z",
        "1996-01-01T00:00:00.000Z",
        "1997-01-01T00:00:00.000Z",
        "1998-01-01T00:00:00.000Z",
        "1999-01-01T00:00:00.000Z",
        "2000-01-01T00:00:00.000Z",
        "2001-01-01T00:00:00.000Z",
        "2002-01-01T00:00:00.000Z",
        "2003-01-01T00:00:00.000Z",
        "2004-01-01T00:00:00.000Z",
        "2005-01-01T00:00:00.000Z",
        "2006-01-01T00:00:00.000Z",
        "2007-01-01T00:00:00.000Z",
        "2008-01-01T00:00:00.000Z",
        "2009-01-01T00:00:00.000Z",
        "2010-01-01T00:00:00.000Z",
        "2011-01-01T00:00:00.000Z"
       ],
       "description": "Date:",
       "index": 0,
       "layout": "IPY_MODEL_c48750a2115047679169c07d5fc76705",
       "style": "IPY_MODEL_66b7e9b65f5b46589e7d4943059083f3"
      }
     },
     "bb41f2d8b6064bf7a182387d0ecab071": {
      "model_module": "@jupyter-widgets/base",
      "model_module_version": "1.1.0",
      "model_name": "LayoutModel",
      "state": {}
     },
     "bb4328555a5e43bebd126ce8d6b01580": {
      "model_module": "@jupyter-widgets/controls",
      "model_module_version": "1.3.0",
      "model_name": "DescriptionStyleModel",
      "state": {
       "description_width": ""
      }
     },
     "bb87cc315e8041e3b3698b6c42dac004": {
      "model_module": "jupyter-leaflet",
      "model_module_version": "~0.9.0",
      "model_name": "LeafletMapModel",
      "state": {
       "_dom_classes": [],
       "_model_module_version": "~0.9.0",
       "_view_count": null,
       "_view_module_version": "~0.9.0",
       "basemap": {
        "attribution": "Map data (c) <a href=\"https://openstreetmap.org\">OpenStreetMap</a> contributors",
        "max_zoom": 19,
        "url": "https://{s}.tile.openstreetmap.org/{z}/{x}/{y}.png"
       },
       "center": [
        -31.98778206707251,
        152.42655646987262
       ],
       "controls": [
        "IPY_MODEL_81f001152e704c88b0070ab30ba626a9"
       ],
       "east": -180,
       "interpolation": "bilinear",
       "layers": [
        "IPY_MODEL_381808cc254e4a8ba84e1f377eec75d2",
        "IPY_MODEL_f2a79157bcc84ab381929edb4979125d",
        "IPY_MODEL_1287c35cb9d44dae86d277444e19c347"
       ],
       "layout": "IPY_MODEL_a71a7edd22af41ffa4080f8d20f5b2ec",
       "modisdate": "yesterday",
       "north": -90,
       "options": [
        "keyboard_pan_offset",
        "tap",
        "attribution_control",
        "max_zoom",
        "min_zoom",
        "bounce_at_zoom_limits",
        "keyboard",
        "scroll_wheel_zoom",
        "dragging",
        "inertia_max_speed",
        "close_popup_on_click",
        "zoom_control",
        "box_zoom",
        "double_click_zoom",
        "interpolation",
        "tap_tolerance",
        "zoom_start",
        "keyboard_zoom_offset",
        "inertia_deceleration",
        "inertia",
        "center",
        "zoom",
        "world_copy_jump",
        "zoom_animation_threshold",
        "touch_zoom",
        "basemap"
       ],
       "south": 90,
       "west": 180,
       "zoom": 9
      }
     },
     "bbda4e28c05b4aa2ac2e5a3a552d2100": {
      "model_module": "@jupyter-widgets/base",
      "model_module_version": "1.1.0",
      "model_name": "LayoutModel",
      "state": {}
     },
     "bc16a459f2d14c7ba24de05b3596affc": {
      "model_module": "jupyter-leaflet",
      "model_module_version": "~0.9.0",
      "model_name": "LeafletMapModel",
      "state": {
       "_dom_classes": [],
       "_model_module_version": "~0.9.0",
       "_view_count": null,
       "_view_module_version": "~0.9.0",
       "basemap": {
        "attribution": "Map data (c) <a href=\"https://openstreetmap.org\">OpenStreetMap</a> contributors",
        "max_zoom": 19,
        "url": "https://{s}.tile.openstreetmap.org/{z}/{x}/{y}.png"
       },
       "center": [
        -32.00807595929104,
        153.01757812500003
       ],
       "east": -180,
       "interpolation": "bilinear",
       "layers": [
        "IPY_MODEL_ea8d6033bf22499bb1044e4bb4d1a1b1",
        "IPY_MODEL_8d8ad784b7e045bc93881a6a2270afa6"
       ],
       "layout": "IPY_MODEL_6c8f3799bbb24f39915b085cc8ed7f1a",
       "modisdate": "yesterday",
       "north": -90,
       "options": [
        "keyboard_pan_offset",
        "tap",
        "attribution_control",
        "max_zoom",
        "min_zoom",
        "bounce_at_zoom_limits",
        "keyboard",
        "scroll_wheel_zoom",
        "dragging",
        "inertia_max_speed",
        "close_popup_on_click",
        "zoom_control",
        "box_zoom",
        "double_click_zoom",
        "interpolation",
        "tap_tolerance",
        "zoom_start",
        "keyboard_zoom_offset",
        "inertia_deceleration",
        "inertia",
        "center",
        "zoom",
        "world_copy_jump",
        "zoom_animation_threshold",
        "touch_zoom",
        "basemap"
       ],
       "south": 90,
       "west": 180,
       "zoom": 6
      }
     },
     "bc286cf1256745479482e7f7b7c4dac6": {
      "model_module": "jupyter-leaflet",
      "model_module_version": "~0.9.0",
      "model_name": "LeafletMapModel",
      "state": {
       "_dom_classes": [],
       "_model_module_version": "~0.9.0",
       "_view_count": null,
       "_view_module_version": "~0.9.0",
       "basemap": {
        "attribution": "Map data (c) <a href=\"https://openstreetmap.org\">OpenStreetMap</a> contributors",
        "max_zoom": 19,
        "url": "https://{s}.tile.openstreetmap.org/{z}/{x}/{y}.png"
       },
       "center": [
        -32.00807595929104,
        153.01757812500003
       ],
       "east": -180,
       "interpolation": "bilinear",
       "layers": [
        "IPY_MODEL_2b7778a9b99c4968891a0298a81d208a",
        "IPY_MODEL_8a5abd7677e247ab809c891b1ab642c8"
       ],
       "layout": "IPY_MODEL_852119066ad44a5a9428079f87014c15",
       "modisdate": "yesterday",
       "north": -90,
       "options": [
        "keyboard_pan_offset",
        "tap",
        "attribution_control",
        "max_zoom",
        "min_zoom",
        "bounce_at_zoom_limits",
        "keyboard",
        "scroll_wheel_zoom",
        "dragging",
        "inertia_max_speed",
        "close_popup_on_click",
        "zoom_control",
        "box_zoom",
        "double_click_zoom",
        "interpolation",
        "tap_tolerance",
        "zoom_start",
        "keyboard_zoom_offset",
        "inertia_deceleration",
        "inertia",
        "center",
        "zoom",
        "world_copy_jump",
        "zoom_animation_threshold",
        "touch_zoom",
        "basemap"
       ],
       "south": 90,
       "west": 180,
       "zoom": 6
      }
     },
     "bc297c0d18f54f49afbac52c71aab086": {
      "model_module": "@jupyter-widgets/controls",
      "model_module_version": "1.3.0",
      "model_name": "SelectModel",
      "state": {
       "_options_labels": [
        "1999-05-28T00:00:00.000Z",
        "1999-06-13T00:00:00.000Z",
        "1999-06-29T00:00:00.000Z",
        "1999-07-15T00:00:00.000Z",
        "1999-07-31T00:00:00.000Z",
        "1999-08-16T00:00:00.000Z",
        "1999-09-01T00:00:00.000Z",
        "1999-09-17T00:00:00.000Z",
        "1999-10-03T00:00:00.000Z",
        "1999-10-19T00:00:00.000Z",
        "1999-11-04T00:00:00.000Z",
        "1999-11-20T00:00:00.000Z",
        "1999-12-06T00:00:00.000Z",
        "1999-12-22T00:00:00.000Z",
        "2000-01-07T00:00:00.000Z",
        "2000-01-23T00:00:00.000Z",
        "2000-02-08T00:00:00.000Z",
        "2000-02-24T00:00:00.000Z",
        "2000-03-11T00:00:00.000Z",
        "2000-03-27T00:00:00.000Z",
        "2000-04-12T00:00:00.000Z",
        "2000-04-28T00:00:00.000Z",
        "2000-05-14T00:00:00.000Z",
        "2000-05-30T00:00:00.000Z",
        "2000-06-15T00:00:00.000Z",
        "2000-07-01T00:00:00.000Z",
        "2000-07-17T00:00:00.000Z",
        "2000-08-02T00:00:00.000Z",
        "2000-08-18T00:00:00.000Z",
        "2000-09-03T00:00:00.000Z",
        "2000-09-19T00:00:00.000Z",
        "2000-10-05T00:00:00.000Z",
        "2000-10-21T00:00:00.000Z",
        "2000-11-06T00:00:00.000Z",
        "2000-11-22T00:00:00.000Z",
        "2000-12-08T00:00:00.000Z",
        "2000-12-24T00:00:00.000Z",
        "2001-01-09T00:00:00.000Z",
        "2001-01-25T00:00:00.000Z",
        "2001-02-10T00:00:00.000Z",
        "2001-02-26T00:00:00.000Z",
        "2001-03-14T00:00:00.000Z",
        "2001-03-30T00:00:00.000Z",
        "2001-04-15T00:00:00.000Z",
        "2001-05-01T00:00:00.000Z",
        "2001-05-17T00:00:00.000Z",
        "2001-06-02T00:00:00.000Z",
        "2001-06-18T00:00:00.000Z",
        "2001-07-04T00:00:00.000Z",
        "2001-07-20T00:00:00.000Z",
        "2001-08-05T00:00:00.000Z",
        "2001-08-21T00:00:00.000Z",
        "2001-09-06T00:00:00.000Z",
        "2001-09-22T00:00:00.000Z",
        "2001-10-08T00:00:00.000Z",
        "2001-10-24T00:00:00.000Z",
        "2001-11-09T00:00:00.000Z",
        "2001-11-25T00:00:00.000Z",
        "2001-12-11T00:00:00.000Z",
        "2001-12-27T00:00:00.000Z",
        "2002-01-12T00:00:00.000Z",
        "2002-01-28T00:00:00.000Z",
        "2002-02-13T00:00:00.000Z",
        "2002-03-01T00:00:00.000Z",
        "2002-03-17T00:00:00.000Z",
        "2002-04-02T00:00:00.000Z",
        "2002-04-18T00:00:00.000Z",
        "2002-05-04T00:00:00.000Z",
        "2002-05-20T00:00:00.000Z",
        "2002-06-05T00:00:00.000Z",
        "2002-06-21T00:00:00.000Z",
        "2002-07-07T00:00:00.000Z",
        "2002-07-23T00:00:00.000Z",
        "2002-08-08T00:00:00.000Z",
        "2002-08-24T00:00:00.000Z",
        "2002-09-09T00:00:00.000Z",
        "2002-09-25T00:00:00.000Z",
        "2002-10-11T00:00:00.000Z",
        "2002-10-27T00:00:00.000Z",
        "2002-11-12T00:00:00.000Z",
        "2002-11-28T00:00:00.000Z",
        "2002-12-14T00:00:00.000Z",
        "2002-12-30T00:00:00.000Z",
        "2003-01-15T00:00:00.000Z",
        "2003-01-31T00:00:00.000Z",
        "2003-02-16T00:00:00.000Z",
        "2003-03-04T00:00:00.000Z",
        "2003-03-20T00:00:00.000Z",
        "2003-04-05T00:00:00.000Z",
        "2003-04-21T00:00:00.000Z",
        "2003-05-07T00:00:00.000Z",
        "2003-05-23T00:00:00.000Z",
        "2003-06-08T00:00:00.000Z",
        "2003-06-24T00:00:00.000Z",
        "2003-07-10T00:00:00.000Z",
        "2003-07-26T00:00:00.000Z",
        "2003-08-11T00:00:00.000Z",
        "2003-08-27T00:00:00.000Z",
        "2003-09-12T00:00:00.000Z",
        "2003-09-28T00:00:00.000Z",
        "2003-10-14T00:00:00.000Z",
        "2003-10-30T00:00:00.000Z",
        "2003-11-15T00:00:00.000Z",
        "2003-12-01T00:00:00.000Z",
        "2003-12-17T00:00:00.000Z",
        "2004-01-02T00:00:00.000Z",
        "2004-01-18T00:00:00.000Z",
        "2004-02-03T00:00:00.000Z",
        "2004-02-19T00:00:00.000Z",
        "2004-03-06T00:00:00.000Z",
        "2004-03-22T00:00:00.000Z",
        "2004-04-07T00:00:00.000Z",
        "2004-04-23T00:00:00.000Z",
        "2004-05-09T00:00:00.000Z",
        "2004-05-25T00:00:00.000Z",
        "2004-06-10T00:00:00.000Z",
        "2004-06-26T00:00:00.000Z",
        "2004-07-12T00:00:00.000Z",
        "2004-07-28T00:00:00.000Z",
        "2004-08-13T00:00:00.000Z",
        "2004-08-29T00:00:00.000Z",
        "2004-09-14T00:00:00.000Z",
        "2004-09-30T00:00:00.000Z",
        "2004-10-16T00:00:00.000Z",
        "2004-11-01T00:00:00.000Z",
        "2004-11-17T00:00:00.000Z",
        "2004-12-03T00:00:00.000Z",
        "2004-12-19T00:00:00.000Z",
        "2005-01-04T00:00:00.000Z",
        "2005-01-20T00:00:00.000Z",
        "2005-02-05T00:00:00.000Z",
        "2005-02-21T00:00:00.000Z",
        "2005-03-09T00:00:00.000Z",
        "2005-03-25T00:00:00.000Z",
        "2005-04-10T00:00:00.000Z",
        "2005-04-26T00:00:00.000Z",
        "2005-05-12T00:00:00.000Z",
        "2005-05-28T00:00:00.000Z",
        "2005-06-13T00:00:00.000Z",
        "2005-06-29T00:00:00.000Z",
        "2005-07-15T00:00:00.000Z",
        "2005-07-31T00:00:00.000Z",
        "2005-08-16T00:00:00.000Z",
        "2005-09-01T00:00:00.000Z",
        "2005-09-17T00:00:00.000Z",
        "2005-10-03T00:00:00.000Z",
        "2005-10-19T00:00:00.000Z",
        "2005-11-04T00:00:00.000Z",
        "2005-11-20T00:00:00.000Z",
        "2005-12-06T00:00:00.000Z",
        "2005-12-22T00:00:00.000Z",
        "2006-01-07T00:00:00.000Z",
        "2006-01-23T00:00:00.000Z",
        "2006-02-08T00:00:00.000Z",
        "2006-02-24T00:00:00.000Z",
        "2006-03-12T00:00:00.000Z",
        "2006-03-28T00:00:00.000Z",
        "2006-04-13T00:00:00.000Z",
        "2006-04-29T00:00:00.000Z",
        "2006-05-15T00:00:00.000Z",
        "2006-05-31T00:00:00.000Z",
        "2006-06-16T00:00:00.000Z",
        "2006-07-02T00:00:00.000Z",
        "2006-07-18T00:00:00.000Z",
        "2006-08-03T00:00:00.000Z",
        "2006-08-19T00:00:00.000Z",
        "2006-09-04T00:00:00.000Z",
        "2006-09-20T00:00:00.000Z",
        "2006-10-06T00:00:00.000Z",
        "2006-10-22T00:00:00.000Z",
        "2006-11-07T00:00:00.000Z",
        "2006-11-23T00:00:00.000Z",
        "2006-12-09T00:00:00.000Z",
        "2006-12-25T00:00:00.000Z",
        "2007-01-10T00:00:00.000Z",
        "2007-01-26T00:00:00.000Z",
        "2007-02-11T00:00:00.000Z",
        "2007-02-27T00:00:00.000Z",
        "2007-03-15T00:00:00.000Z",
        "2007-03-31T00:00:00.000Z",
        "2007-04-16T00:00:00.000Z",
        "2007-05-02T00:00:00.000Z",
        "2007-05-18T00:00:00.000Z",
        "2007-06-03T00:00:00.000Z",
        "2007-06-19T00:00:00.000Z",
        "2007-07-05T00:00:00.000Z",
        "2007-07-21T00:00:00.000Z",
        "2007-08-06T00:00:00.000Z",
        "2007-08-22T00:00:00.000Z",
        "2007-09-07T00:00:00.000Z",
        "2007-09-23T00:00:00.000Z",
        "2007-10-09T00:00:00.000Z",
        "2007-10-25T00:00:00.000Z",
        "2007-11-10T00:00:00.000Z",
        "2007-11-26T00:00:00.000Z",
        "2007-12-12T00:00:00.000Z",
        "2007-12-28T00:00:00.000Z",
        "2008-01-13T00:00:00.000Z",
        "2008-01-29T00:00:00.000Z",
        "2008-02-14T00:00:00.000Z",
        "2008-03-01T00:00:00.000Z",
        "2008-03-17T00:00:00.000Z",
        "2008-04-02T00:00:00.000Z",
        "2008-04-18T00:00:00.000Z",
        "2008-05-04T00:00:00.000Z",
        "2008-05-20T00:00:00.000Z",
        "2008-06-05T00:00:00.000Z",
        "2008-06-21T00:00:00.000Z",
        "2008-07-07T00:00:00.000Z",
        "2008-07-23T00:00:00.000Z",
        "2008-08-08T00:00:00.000Z",
        "2008-08-24T00:00:00.000Z",
        "2008-09-09T00:00:00.000Z",
        "2008-09-25T00:00:00.000Z",
        "2008-10-11T00:00:00.000Z",
        "2008-10-27T00:00:00.000Z",
        "2008-11-12T00:00:00.000Z",
        "2008-11-28T00:00:00.000Z",
        "2008-12-14T00:00:00.000Z",
        "2008-12-30T00:00:00.000Z",
        "2009-01-15T00:00:00.000Z",
        "2009-01-31T00:00:00.000Z",
        "2009-02-16T00:00:00.000Z",
        "2009-03-04T00:00:00.000Z",
        "2009-03-20T00:00:00.000Z",
        "2009-04-05T00:00:00.000Z",
        "2009-04-21T00:00:00.000Z",
        "2009-05-07T00:00:00.000Z",
        "2009-05-23T00:00:00.000Z",
        "2009-06-08T00:00:00.000Z",
        "2009-06-24T00:00:00.000Z",
        "2009-07-10T00:00:00.000Z",
        "2009-07-26T00:00:00.000Z",
        "2009-08-11T00:00:00.000Z",
        "2009-08-27T00:00:00.000Z",
        "2009-09-12T00:00:00.000Z",
        "2009-09-28T00:00:00.000Z",
        "2009-10-14T00:00:00.000Z",
        "2009-10-30T00:00:00.000Z",
        "2009-11-15T00:00:00.000Z",
        "2009-12-01T00:00:00.000Z",
        "2009-12-17T00:00:00.000Z",
        "2010-01-02T00:00:00.000Z",
        "2010-01-18T00:00:00.000Z",
        "2010-02-03T00:00:00.000Z",
        "2010-02-19T00:00:00.000Z",
        "2010-03-07T00:00:00.000Z",
        "2010-03-23T00:00:00.000Z",
        "2010-04-08T00:00:00.000Z",
        "2010-04-24T00:00:00.000Z",
        "2010-05-10T00:00:00.000Z",
        "2010-05-26T00:00:00.000Z",
        "2010-06-11T00:00:00.000Z",
        "2010-06-27T00:00:00.000Z",
        "2010-07-13T00:00:00.000Z",
        "2010-07-29T00:00:00.000Z",
        "2010-08-14T00:00:00.000Z",
        "2010-08-30T00:00:00.000Z",
        "2010-09-15T00:00:00.000Z",
        "2010-10-01T00:00:00.000Z",
        "2010-10-17T00:00:00.000Z",
        "2010-11-02T00:00:00.000Z",
        "2010-11-18T00:00:00.000Z",
        "2010-12-04T00:00:00.000Z",
        "2010-12-20T00:00:00.000Z",
        "2011-01-05T00:00:00.000Z",
        "2011-01-21T00:00:00.000Z",
        "2011-02-06T00:00:00.000Z",
        "2011-02-22T00:00:00.000Z",
        "2011-03-10T00:00:00.000Z",
        "2011-03-26T00:00:00.000Z",
        "2011-04-11T00:00:00.000Z",
        "2011-04-27T00:00:00.000Z",
        "2011-05-13T00:00:00.000Z",
        "2011-05-29T00:00:00.000Z",
        "2011-06-14T00:00:00.000Z",
        "2011-06-30T00:00:00.000Z",
        "2011-07-16T00:00:00.000Z",
        "2011-08-01T00:00:00.000Z",
        "2011-08-17T00:00:00.000Z",
        "2011-09-02T00:00:00.000Z",
        "2011-09-18T00:00:00.000Z",
        "2011-10-04T00:00:00.000Z",
        "2011-10-20T00:00:00.000Z",
        "2011-11-05T00:00:00.000Z",
        "2011-11-21T00:00:00.000Z",
        "2011-12-07T00:00:00.000Z",
        "2011-12-23T00:00:00.000Z",
        "2012-01-08T00:00:00.000Z",
        "2012-01-24T00:00:00.000Z",
        "2012-02-09T00:00:00.000Z",
        "2012-02-25T00:00:00.000Z",
        "2012-03-12T00:00:00.000Z",
        "2012-03-28T00:00:00.000Z",
        "2012-04-13T00:00:00.000Z",
        "2012-04-29T00:00:00.000Z",
        "2012-05-15T00:00:00.000Z",
        "2012-05-31T00:00:00.000Z",
        "2012-06-16T00:00:00.000Z",
        "2012-07-02T00:00:00.000Z",
        "2012-07-18T00:00:00.000Z",
        "2012-08-03T00:00:00.000Z",
        "2012-08-19T00:00:00.000Z",
        "2012-09-04T00:00:00.000Z",
        "2012-09-20T00:00:00.000Z",
        "2012-10-06T00:00:00.000Z",
        "2012-10-22T00:00:00.000Z",
        "2012-11-07T00:00:00.000Z",
        "2012-11-23T00:00:00.000Z",
        "2012-12-09T00:00:00.000Z",
        "2012-12-25T00:00:00.000Z",
        "2013-01-10T00:00:00.000Z",
        "2013-01-26T00:00:00.000Z",
        "2013-02-11T00:00:00.000Z",
        "2013-02-27T00:00:00.000Z",
        "2013-03-15T00:00:00.000Z",
        "2013-03-31T00:00:00.000Z",
        "2013-04-16T00:00:00.000Z",
        "2013-05-02T00:00:00.000Z",
        "2013-05-18T00:00:00.000Z",
        "2013-06-03T00:00:00.000Z",
        "2013-06-19T00:00:00.000Z",
        "2013-07-05T00:00:00.000Z",
        "2013-07-21T00:00:00.000Z",
        "2013-08-06T00:00:00.000Z",
        "2013-08-22T00:00:00.000Z",
        "2013-09-07T00:00:00.000Z",
        "2013-09-23T00:00:00.000Z",
        "2013-10-09T00:00:00.000Z",
        "2013-10-25T00:00:00.000Z",
        "2013-11-10T00:00:00.000Z",
        "2013-11-26T00:00:00.000Z",
        "2013-12-12T00:00:00.000Z",
        "2013-12-28T00:00:00.000Z",
        "2014-01-13T00:00:00.000Z",
        "2014-01-29T00:00:00.000Z",
        "2014-02-14T00:00:00.000Z",
        "2014-03-02T00:00:00.000Z",
        "2014-03-18T00:00:00.000Z",
        "2014-04-03T00:00:00.000Z",
        "2014-04-19T00:00:00.000Z",
        "2014-05-05T00:00:00.000Z",
        "2014-05-21T00:00:00.000Z",
        "2014-06-06T00:00:00.000Z",
        "2014-06-22T00:00:00.000Z",
        "2014-07-08T00:00:00.000Z",
        "2014-07-24T00:00:00.000Z",
        "2014-08-09T00:00:00.000Z",
        "2014-08-25T00:00:00.000Z",
        "2014-09-10T00:00:00.000Z",
        "2014-09-26T00:00:00.000Z",
        "2014-10-12T00:00:00.000Z",
        "2014-10-28T00:00:00.000Z",
        "2014-11-13T00:00:00.000Z",
        "2014-11-29T00:00:00.000Z",
        "2014-12-15T00:00:00.000Z",
        "2014-12-31T00:00:00.000Z",
        "2015-01-16T00:00:00.000Z",
        "2015-02-01T00:00:00.000Z",
        "2015-02-17T00:00:00.000Z",
        "2015-03-05T00:00:00.000Z",
        "2015-03-21T00:00:00.000Z",
        "2015-04-06T00:00:00.000Z",
        "2015-04-22T00:00:00.000Z",
        "2015-05-08T00:00:00.000Z",
        "2015-05-24T00:00:00.000Z",
        "2015-06-09T00:00:00.000Z",
        "2015-06-25T00:00:00.000Z",
        "2015-07-11T00:00:00.000Z",
        "2015-07-27T00:00:00.000Z",
        "2015-08-12T00:00:00.000Z",
        "2015-08-28T00:00:00.000Z",
        "2015-09-13T00:00:00.000Z",
        "2015-09-29T00:00:00.000Z",
        "2015-10-15T00:00:00.000Z",
        "2015-10-31T00:00:00.000Z",
        "2015-11-16T00:00:00.000Z",
        "2015-12-02T00:00:00.000Z",
        "2015-12-18T00:00:00.000Z",
        "2016-01-03T00:00:00.000Z",
        "2016-01-19T00:00:00.000Z",
        "2016-02-04T00:00:00.000Z",
        "2016-02-20T00:00:00.000Z",
        "2016-03-07T00:00:00.000Z",
        "2016-03-23T00:00:00.000Z",
        "2016-04-08T00:00:00.000Z",
        "2016-04-24T00:00:00.000Z",
        "2016-05-10T00:00:00.000Z",
        "2016-05-26T00:00:00.000Z",
        "2016-06-11T00:00:00.000Z",
        "2016-06-27T00:00:00.000Z",
        "2016-07-13T00:00:00.000Z",
        "2016-07-29T00:00:00.000Z",
        "2016-08-14T00:00:00.000Z",
        "2016-08-30T00:00:00.000Z",
        "2016-09-15T00:00:00.000Z",
        "2016-10-01T00:00:00.000Z",
        "2016-10-17T00:00:00.000Z",
        "2016-11-02T00:00:00.000Z",
        "2016-11-18T00:00:00.000Z",
        "2016-12-04T00:00:00.000Z",
        "2016-12-20T00:00:00.000Z",
        "2017-01-05T00:00:00.000Z",
        "2017-01-21T00:00:00.000Z",
        "2017-02-06T00:00:00.000Z",
        "2017-02-22T00:00:00.000Z",
        "2017-03-10T00:00:00.000Z",
        "2017-03-26T00:00:00.000Z",
        "2017-04-11T00:00:00.000Z",
        "2017-04-27T00:00:00.000Z",
        "2017-05-13T00:00:00.000Z",
        "2017-05-29T00:00:00.000Z",
        "2017-06-14T00:00:00.000Z",
        "2017-06-30T00:00:00.000Z",
        "2017-07-16T00:00:00.000Z",
        "2017-08-01T00:00:00.000Z",
        "2017-08-17T00:00:00.000Z",
        "2017-09-02T00:00:00.000Z",
        "2017-09-18T00:00:00.000Z",
        "2017-10-04T00:00:00.000Z",
        "2017-10-20T00:00:00.000Z",
        "2017-11-05T00:00:00.000Z",
        "2017-11-21T00:00:00.000Z",
        "2017-12-07T00:00:00.000Z",
        "2017-12-23T00:00:00.000Z",
        "2018-01-08T00:00:00.000Z",
        "2018-01-24T00:00:00.000Z",
        "2018-02-09T00:00:00.000Z",
        "2018-02-25T00:00:00.000Z",
        "2018-03-13T00:00:00.000Z",
        "2018-03-29T00:00:00.000Z",
        "2018-04-14T00:00:00.000Z",
        "2018-04-30T00:00:00.000Z"
       ],
       "description": "Date:",
       "index": 0,
       "layout": "IPY_MODEL_41c08e7b50e44788a124875a7240550e",
       "style": "IPY_MODEL_14af3ae59f8f467e99d7a99ce43f6319"
      }
     },
     "bd540845356d46218e6794bbea3dbcf4": {
      "model_module": "@jupyter-widgets/base",
      "model_module_version": "1.1.0",
      "model_name": "LayoutModel",
      "state": {}
     },
     "bdd1c8f7c2954cfb9243d5db5841cdd7": {
      "model_module": "@jupyter-widgets/base",
      "model_module_version": "1.1.0",
      "model_name": "LayoutModel",
      "state": {}
     },
     "be7e192587a2446d9d6dad8bdd73c058": {
      "model_module": "jupyter-leaflet",
      "model_module_version": "~0.9.0",
      "model_name": "LeafletLayersControlModel",
      "state": {
       "_model_module_version": "~0.9.0",
       "_view_count": null,
       "_view_module_version": "~0.9.0"
      }
     },
     "bf5411ad0b02448cb93886e7d0c00705": {
      "model_module": "@jupyter-widgets/output",
      "model_module_version": "1.0.0",
      "model_name": "OutputModel",
      "state": {
       "layout": "IPY_MODEL_3f63e9f4b41747afbdc77cf4bd0de631",
       "outputs": [
        {
         "data": {
          "application/vnd.jupyter.widget-view+json": {
           "model_id": "592be16eecad42ab891a0c5abf87718e",
           "version_major": 2,
           "version_minor": 0
          },
          "text/plain": "U2VsZWN0KGRlc2NyaXB0aW9uPXUnTGF5ZXI6Jywgb3B0aW9ucz0oJ0xTNTpHRU9NRURJQU46RkFMU0UnLCAnTFM1OkdFT01FRElBTjpUUlVFJywgJ0xTNTpOQkFSOkZBTFNFJywgJ0xTNTpOQkHigKY=\n"
         },
         "metadata": {},
         "output_type": "display_data"
        }
       ]
      }
     },
     "bf5d26c64d5d46b9a5fe2b5673a15357": {
      "model_module": "@jupyter-widgets/controls",
      "model_module_version": "1.3.0",
      "model_name": "SliderStyleModel",
      "state": {
       "description_width": ""
      }
     },
     "bf92f96625c14455849be008ce9e4b3b": {
      "model_module": "@jupyter-widgets/controls",
      "model_module_version": "1.3.0",
      "model_name": "DescriptionStyleModel",
      "state": {
       "description_width": ""
      }
     },
     "bfafde13fd344ea8abb247b67f609433": {
      "model_module": "jupyter-leaflet",
      "model_module_version": "~0.9.0",
      "model_name": "LeafletMapModel",
      "state": {
       "_dom_classes": [],
       "_model_module_version": "~0.9.0",
       "_view_count": null,
       "_view_module_version": "~0.9.0",
       "basemap": {
        "attribution": "Map data (c) <a href=\"https://openstreetmap.org\">OpenStreetMap</a> contributors",
        "max_zoom": 19,
        "url": "https://{s}.tile.openstreetmap.org/{z}/{x}/{y}.png"
       },
       "center": [
        -34.78193151325962,
        150.51848041825
       ],
       "controls": [
        "IPY_MODEL_3820a7f2f924482c9950c59033d83e72"
       ],
       "east": -180,
       "interpolation": "bilinear",
       "layers": [
        "IPY_MODEL_e653a48834924ee693f32e3f4f741a95",
        "IPY_MODEL_8b6999f91b3e43e1927df52c8ef2ccbf",
        "IPY_MODEL_1a258acd04114ca29baae605acf0cdbe"
       ],
       "layout": "IPY_MODEL_c595070ce57c446d95a1d8c066e8cee7",
       "modisdate": "yesterday",
       "north": -90,
       "options": [
        "keyboard_pan_offset",
        "tap",
        "attribution_control",
        "max_zoom",
        "min_zoom",
        "bounce_at_zoom_limits",
        "keyboard",
        "scroll_wheel_zoom",
        "dragging",
        "inertia_max_speed",
        "close_popup_on_click",
        "zoom_control",
        "box_zoom",
        "double_click_zoom",
        "interpolation",
        "tap_tolerance",
        "zoom_start",
        "keyboard_zoom_offset",
        "inertia_deceleration",
        "inertia",
        "center",
        "zoom",
        "world_copy_jump",
        "zoom_animation_threshold",
        "touch_zoom",
        "basemap"
       ],
       "south": 90,
       "west": 180,
       "zoom": 9
      }
     },
     "c008878332f1491f9d4eba91f91b27f1": {
      "model_module": "@jupyter-widgets/base",
      "model_module_version": "1.1.0",
      "model_name": "LayoutModel",
      "state": {}
     },
     "c11e7ddf733b4a39b5476e819ea9aced": {
      "model_module": "@jupyter-widgets/base",
      "model_module_version": "1.1.0",
      "model_name": "LayoutModel",
      "state": {}
     },
     "c1eaf049257f469dbfcb85addbb18412": {
      "model_module": "@jupyter-widgets/controls",
      "model_module_version": "1.3.0",
      "model_name": "SelectModel",
      "state": {
       "_options_labels": [
        "2014-01-01T00:00:00.000Z",
        "2015-01-01T00:00:00.000Z",
        "2016-01-01T00:00:00.000Z",
        "2017-01-01T00:00:00.000Z"
       ],
       "description": "Date:",
       "index": 3,
       "layout": "IPY_MODEL_387bd8801d3a440da2f10a63c2dc0eb8",
       "style": "IPY_MODEL_dd01feeaacb145669eb52879f0ecc088"
      }
     },
     "c257caf003f44f61ba09bcdb127aa055": {
      "model_module": "@jupyter-widgets/base",
      "model_module_version": "1.1.0",
      "model_name": "LayoutModel",
      "state": {}
     },
     "c27110a6c4b1455e9e28a4d301aa8da0": {
      "model_module": "@jupyter-widgets/controls",
      "model_module_version": "1.3.0",
      "model_name": "SelectModel",
      "state": {
       "_options_labels": [
        "1987-01-01T00:00:00.000Z",
        "1988-01-01T00:00:00.000Z",
        "1989-01-01T00:00:00.000Z",
        "1990-01-01T00:00:00.000Z",
        "1991-01-01T00:00:00.000Z",
        "1992-01-01T00:00:00.000Z",
        "1993-01-01T00:00:00.000Z",
        "1994-01-01T00:00:00.000Z",
        "1995-01-01T00:00:00.000Z",
        "1996-01-01T00:00:00.000Z",
        "1997-01-01T00:00:00.000Z",
        "1998-01-01T00:00:00.000Z",
        "1999-01-01T00:00:00.000Z",
        "2000-01-01T00:00:00.000Z",
        "2001-01-01T00:00:00.000Z",
        "2002-01-01T00:00:00.000Z",
        "2003-01-01T00:00:00.000Z",
        "2004-01-01T00:00:00.000Z",
        "2005-01-01T00:00:00.000Z",
        "2006-01-01T00:00:00.000Z",
        "2007-01-01T00:00:00.000Z",
        "2008-01-01T00:00:00.000Z",
        "2009-01-01T00:00:00.000Z",
        "2010-01-01T00:00:00.000Z",
        "2011-01-01T00:00:00.000Z"
       ],
       "description": "Date:",
       "index": 21,
       "layout": "IPY_MODEL_d3b28ef98923429ead4c31e55d157aeb",
       "style": "IPY_MODEL_70dff757b9fc497c836622ade3f388b7"
      }
     },
     "c2a2e11205644bddaa717047a8e7ea47": {
      "model_module": "jupyter-leaflet",
      "model_module_version": "~0.9.0",
      "model_name": "LeafletWMSLayerModel",
      "state": {
       "_model_module_version": "~0.9.0",
       "_view_count": null,
       "_view_module_version": "~0.9.0",
       "layers": "LS8:GEOMEDIAN:FALSE",
       "options": [
        "styles",
        "crs",
        "attribution",
        "layers",
        "uppercase",
        "format",
        "max_zoom",
        "detect_retina",
        "min_zoom",
        "tile_size",
        "transparent"
       ],
       "tile_size": 35,
       "transparent": true,
       "url": "http://gsky.nci.org.au/ows"
      }
     },
     "c32329000e704dbd83547b86bcf25ecc": {
      "model_module": "@jupyter-widgets/controls",
      "model_module_version": "1.3.0",
      "model_name": "IntSliderModel",
      "state": {
       "continuous_update": false,
       "description": "Lon:",
       "layout": "IPY_MODEL_808a907be8d3424792566724aad205d0",
       "max": 153,
       "min": 113,
       "style": "IPY_MODEL_b14de6d9b45644ad87bab88a99fc5281",
       "value": 150
      }
     },
     "c3515b14bd1b45109d44e333e4456826": {
      "model_module": "@jupyter-widgets/controls",
      "model_module_version": "1.3.0",
      "model_name": "SelectModel",
      "state": {
       "_options_labels": [
        "1990-04-20T00:00:00.000Z",
        "1995-04-02T00:00:00.000Z",
        "2000-04-15T00:00:00.000Z",
        "2005-04-13T00:00:00.000Z",
        "2010-04-11T00:00:00.000Z"
       ],
       "description": "Date:",
       "index": 0,
       "layout": "IPY_MODEL_b40ce9c943fc40a792185e80b9ebb3ed",
       "style": "IPY_MODEL_03bc45fe96774f3aac96f5dfa9ee5eca"
      }
     },
     "c43b6ff952184651abf8757ddcd1afa3": {
      "model_module": "@jupyter-widgets/controls",
      "model_module_version": "1.3.0",
      "model_name": "DescriptionStyleModel",
      "state": {
       "description_width": ""
      }
     },
     "c48750a2115047679169c07d5fc76705": {
      "model_module": "@jupyter-widgets/base",
      "model_module_version": "1.1.0",
      "model_name": "LayoutModel",
      "state": {}
     },
     "c49efe1c1ee744eca50ab732fb5a0a60": {
      "model_module": "jupyter-leaflet",
      "model_module_version": "~0.9.0",
      "model_name": "LeafletTileLayerModel",
      "state": {
       "_model_module_version": "~0.9.0",
       "_view_count": null,
       "_view_module_version": "~0.9.0",
       "base": true,
       "max_zoom": 19,
       "min_zoom": 1,
       "options": [
        "attribution",
        "tile_size",
        "min_zoom",
        "max_zoom",
        "detect_retina"
       ]
      }
     },
     "c4e0d1cd9f9f40d6a903752b6f9cf10b": {
      "model_module": "@jupyter-widgets/controls",
      "model_module_version": "1.3.0",
      "model_name": "IntSliderModel",
      "state": {
       "continuous_update": false,
       "description": "Lat:",
       "layout": "IPY_MODEL_2f4523e2dab9416992221d7b14711432",
       "max": -10,
       "min": -43,
       "style": "IPY_MODEL_4bec589ba1e4484f842697776aea274e",
       "value": -35
      }
     },
     "c512daf6570e418a8b1de6f11fbfac7a": {
      "model_module": "@jupyter-widgets/controls",
      "model_module_version": "1.3.0",
      "model_name": "DescriptionStyleModel",
      "state": {
       "description_width": ""
      }
     },
     "c52f83e88bc240f697cab670cc3764d7": {
      "model_module": "@jupyter-widgets/controls",
      "model_module_version": "1.3.0",
      "model_name": "DescriptionStyleModel",
      "state": {
       "description_width": ""
      }
     },
     "c543e4353c9045e9bea17cad4cbdbaa0": {
      "model_module": "jupyter-leaflet",
      "model_module_version": "~0.9.0",
      "model_name": "LeafletMapModel",
      "state": {
       "_dom_classes": [],
       "_model_module_version": "~0.9.0",
       "_view_count": null,
       "_view_module_version": "~0.9.0",
       "basemap": {
        "attribution": "Map data (c) <a href=\"https://openstreetmap.org\">OpenStreetMap</a> contributors",
        "max_zoom": 19,
        "url": "https://{s}.tile.openstreetmap.org/{z}/{x}/{y}.png"
       },
       "center": [
        -35.97652672842585,
        149.6107951551676
       ],
       "controls": [
        "IPY_MODEL_38ec063f1619499bb2e3ed2fee5d0bc0"
       ],
       "east": -180,
       "interpolation": "bilinear",
       "layers": [
        "IPY_MODEL_e2d2ab6bd55b47d19768b75647b89ea4",
        "IPY_MODEL_8b6999f91b3e43e1927df52c8ef2ccbf",
        "IPY_MODEL_2ed3e0a0643a4a0ca3ef33fdbe27bf2f"
       ],
       "layout": "IPY_MODEL_0aaccacf42764237aca372f01cc3c798",
       "modisdate": "yesterday",
       "north": -90,
       "options": [
        "keyboard_pan_offset",
        "tap",
        "attribution_control",
        "max_zoom",
        "min_zoom",
        "bounce_at_zoom_limits",
        "keyboard",
        "scroll_wheel_zoom",
        "dragging",
        "inertia_max_speed",
        "close_popup_on_click",
        "zoom_control",
        "box_zoom",
        "double_click_zoom",
        "interpolation",
        "tap_tolerance",
        "zoom_start",
        "keyboard_zoom_offset",
        "inertia_deceleration",
        "inertia",
        "center",
        "zoom",
        "world_copy_jump",
        "zoom_animation_threshold",
        "touch_zoom",
        "basemap"
       ],
       "south": 90,
       "west": 180,
       "zoom": 9
      }
     },
     "c595070ce57c446d95a1d8c066e8cee7": {
      "model_module": "@jupyter-widgets/base",
      "model_module_version": "1.1.0",
      "model_name": "LayoutModel",
      "state": {}
     },
     "c5e7853c1add4ecb93df511769e8756c": {
      "model_module": "@jupyter-widgets/output",
      "model_module_version": "1.0.0",
      "model_name": "OutputModel",
      "state": {
       "layout": "IPY_MODEL_911b37b9edb24291916f165d83776590",
       "outputs": [
        {
         "data": {
          "application/vnd.jupyter.widget-view+json": {
           "model_id": "b8070dbe83ea422e9438413fef44c80b",
           "version_major": 2,
           "version_minor": 0
          },
          "text/plain": "U2VsZWN0KGRlc2NyaXB0aW9uPXUnTGF5ZXI6Jywgb3B0aW9ucz0oJ0xTNTpHRU9NRURJQU46RkFMU0UnLCAnTFM1OkdFT01FRElBTjpUUlVFJywgJ0xTNTpOQkFSOkZBTFNFJywgJ0xTNTpOQkHigKY=\n"
         },
         "metadata": {},
         "output_type": "display_data"
        }
       ]
      }
     },
     "c6d578f3aa3641a6a08758848d330469": {
      "model_module": "@jupyter-widgets/base",
      "model_module_version": "1.1.0",
      "model_name": "LayoutModel",
      "state": {}
     },
     "c6f529857ff447ac992ba8a79282ce3c": {
      "model_module": "@jupyter-widgets/controls",
      "model_module_version": "1.3.0",
      "model_name": "SliderStyleModel",
      "state": {
       "description_width": ""
      }
     },
     "c871a19147404c369590684e4da9173f": {
      "model_module": "@jupyter-widgets/controls",
      "model_module_version": "1.3.0",
      "model_name": "SliderStyleModel",
      "state": {
       "description_width": ""
      }
     },
     "c9b90e8b67b04e66b8fc49296bd44f04": {
      "model_module": "@jupyter-widgets/base",
      "model_module_version": "1.1.0",
      "model_name": "LayoutModel",
      "state": {}
     },
     "ca37a942a7bc4a66bdf07cd913dcde6a": {
      "model_module": "jupyter-leaflet",
      "model_module_version": "~0.9.0",
      "model_name": "LeafletMapModel",
      "state": {
       "_dom_classes": [],
       "_model_module_version": "~0.9.0",
       "_view_count": null,
       "_view_module_version": "~0.9.0",
       "basemap": {
        "attribution": "Map data (c) <a href=\"https://openstreetmap.org\">OpenStreetMap</a> contributors",
        "max_zoom": 19,
        "url": "https://{s}.tile.openstreetmap.org/{z}/{x}/{y}.png"
       },
       "center": [
        -35.99759086286357,
        149.81260883621874
       ],
       "controls": [
        "IPY_MODEL_0b2186f9ec814a6188be817f58a75017"
       ],
       "east": -180,
       "interpolation": "bilinear",
       "layers": [
        "IPY_MODEL_d2e2c44687434f23811985c4c58dfb43",
        "IPY_MODEL_8b6999f91b3e43e1927df52c8ef2ccbf",
        "IPY_MODEL_7c3a9b9858fd41eb9f43221d1dcd84b1"
       ],
       "layout": "IPY_MODEL_27f04db5dba343a9833b55f6691ccec0",
       "modisdate": "yesterday",
       "north": -90,
       "options": [
        "keyboard_pan_offset",
        "tap",
        "attribution_control",
        "max_zoom",
        "min_zoom",
        "bounce_at_zoom_limits",
        "keyboard",
        "scroll_wheel_zoom",
        "dragging",
        "inertia_max_speed",
        "close_popup_on_click",
        "zoom_control",
        "box_zoom",
        "double_click_zoom",
        "interpolation",
        "tap_tolerance",
        "zoom_start",
        "keyboard_zoom_offset",
        "inertia_deceleration",
        "inertia",
        "center",
        "zoom",
        "world_copy_jump",
        "zoom_animation_threshold",
        "touch_zoom",
        "basemap"
       ],
       "south": 90,
       "west": 180,
       "zoom": 9
      }
     },
     "cad1f7e0ffcd4f4ca1e2d9e46f3f2048": {
      "model_module": "@jupyter-widgets/controls",
      "model_module_version": "1.3.0",
      "model_name": "DescriptionStyleModel",
      "state": {
       "description_width": ""
      }
     },
     "cb84be23ee1048219ccd8b4f604bce5a": {
      "model_module": "jupyter-leaflet",
      "model_module_version": "~0.9.0",
      "model_name": "LeafletWMSLayerModel",
      "state": {
       "_model_module_version": "~0.9.0",
       "_view_count": null,
       "_view_module_version": "~0.9.0",
       "layers": "nasa:bluemarble",
       "name": "nasa:bluemarble",
       "options": [
        "styles",
        "crs",
        "attribution",
        "layers",
        "uppercase",
        "format",
        "max_zoom",
        "detect_retina",
        "min_zoom",
        "tile_size",
        "transparent"
       ],
       "url": "https://demo.boundlessgeo.com/geoserver/ows?"
      }
     },
     "cb926363e00a4c3cae3cd799e8d53cf3": {
      "model_module": "jupyter-leaflet",
      "model_module_version": "~0.9.0",
      "model_name": "LeafletWMSLayerModel",
      "state": {
       "_model_module_version": "~0.9.0",
       "_view_count": null,
       "_view_module_version": "~0.9.0",
       "layers": "LS8:GEOMEDIAN:FALSE",
       "options": [
        "styles",
        "crs",
        "attribution",
        "layers",
        "uppercase",
        "format",
        "max_zoom",
        "detect_retina",
        "min_zoom",
        "tile_size",
        "transparent"
       ],
       "tile_size": 35,
       "transparent": true,
       "url": "http://gsky.nci.org.au/ows"
      }
     },
     "cbdc60e6732a4de6bcc5adec060ca834": {
      "model_module": "@jupyter-widgets/controls",
      "model_module_version": "1.3.0",
      "model_name": "SliderStyleModel",
      "state": {
       "description_width": ""
      }
     },
     "cc5caf74b1c54b0fa3593d2ea3bafaa0": {
      "model_module": "jupyter-leaflet",
      "model_module_version": "~0.9.0",
      "model_name": "LeafletTileLayerModel",
      "state": {
       "_model_module_version": "~0.9.0",
       "_view_count": null,
       "_view_module_version": "~0.9.0",
       "base": true,
       "max_zoom": 19,
       "min_zoom": 1,
       "options": [
        "attribution",
        "tile_size",
        "min_zoom",
        "max_zoom",
        "detect_retina"
       ]
      }
     },
     "cc7ec655aaad40e3bb585ca91facbce4": {
      "model_module": "@jupyter-widgets/controls",
      "model_module_version": "1.3.0",
      "model_name": "DescriptionStyleModel",
      "state": {
       "description_width": ""
      }
     },
     "cd781f5cc1a340cca69852b450389ac8": {
      "model_module": "jupyter-leaflet",
      "model_module_version": "~0.9.0",
      "model_name": "LeafletWMSLayerModel",
      "state": {
       "_model_module_version": "~0.9.0",
       "_view_count": null,
       "_view_module_version": "~0.9.0",
       "layers": "LS8:GEOMEDIAN:FALSE",
       "name": "LS8:GEOMEDIAN:FALSE",
       "opacity": 0.75,
       "options": [
        "styles",
        "crs",
        "attribution",
        "layers",
        "uppercase",
        "format",
        "max_zoom",
        "detect_retina",
        "min_zoom",
        "tile_size",
        "transparent"
       ],
       "tile_size": 35,
       "transparent": true,
       "url": "http://gsky.nci.org.au/ows"
      }
     },
     "cf24e5da7a8d434cb38f26e24588dc55": {
      "model_module": "jupyter-leaflet",
      "model_module_version": "~0.9.0",
      "model_name": "LeafletLayersControlModel",
      "state": {
       "_model_module_version": "~0.9.0",
       "_view_count": null,
       "_view_module_version": "~0.9.0"
      }
     },
     "cf58e0175bb142e1aac3a578b7641cdc": {
      "model_module": "jupyter-leaflet",
      "model_module_version": "~0.9.0",
      "model_name": "LeafletLayersControlModel",
      "state": {
       "_model_module_version": "~0.9.0",
       "_view_count": null,
       "_view_module_version": "~0.9.0"
      }
     },
     "d175ce1fae5e411b8d18ec92e810c6fd": {
      "model_module": "@jupyter-widgets/controls",
      "model_module_version": "1.3.0",
      "model_name": "SliderStyleModel",
      "state": {
       "description_width": ""
      }
     },
     "d1b87847060b4ccf9d9900c02de837d3": {
      "model_module": "@jupyter-widgets/base",
      "model_module_version": "1.1.0",
      "model_name": "LayoutModel",
      "state": {}
     },
     "d2b1be85eea3467fbd0be6ca2fd31136": {
      "model_module": "@jupyter-widgets/base",
      "model_module_version": "1.1.0",
      "model_name": "LayoutModel",
      "state": {}
     },
     "d2b330b51d9847b5b99117fc7df95a3c": {
      "model_module": "@jupyter-widgets/base",
      "model_module_version": "1.1.0",
      "model_name": "LayoutModel",
      "state": {}
     },
     "d2b772825e744bd8b41fcee32bb15e07": {
      "model_module": "jupyter-leaflet",
      "model_module_version": "~0.9.0",
      "model_name": "LeafletLayersControlModel",
      "state": {
       "_model_module_version": "~0.9.0",
       "_view_count": null,
       "_view_module_version": "~0.9.0"
      }
     },
     "d2e2c44687434f23811985c4c58dfb43": {
      "model_module": "jupyter-leaflet",
      "model_module_version": "~0.9.0",
      "model_name": "LeafletWMSLayerModel",
      "state": {
       "_model_module_version": "~0.9.0",
       "_view_count": null,
       "_view_module_version": "~0.9.0",
       "layers": "nasa:bluemarble",
       "name": "nasa:bluemarble",
       "options": [
        "styles",
        "crs",
        "attribution",
        "layers",
        "uppercase",
        "format",
        "max_zoom",
        "detect_retina",
        "min_zoom",
        "tile_size",
        "transparent"
       ],
       "url": "https://demo.boundlessgeo.com/geoserver/ows?"
      }
     },
     "d3b28ef98923429ead4c31e55d157aeb": {
      "model_module": "@jupyter-widgets/base",
      "model_module_version": "1.1.0",
      "model_name": "LayoutModel",
      "state": {}
     },
     "d4b21768348a45978034a6af283c0106": {
      "model_module": "@jupyter-widgets/base",
      "model_module_version": "1.1.0",
      "model_name": "LayoutModel",
      "state": {}
     },
     "d517f76b777544a5b46da4565ed13fa8": {
      "model_module": "jupyter-leaflet",
      "model_module_version": "~0.9.0",
      "model_name": "LeafletTileLayerModel",
      "state": {
       "_model_module_version": "~0.9.0",
       "_view_count": null,
       "_view_module_version": "~0.9.0",
       "base": true,
       "max_zoom": 19,
       "min_zoom": 1,
       "options": [
        "attribution",
        "tile_size",
        "min_zoom",
        "max_zoom",
        "detect_retina"
       ]
      }
     },
     "d5a6df90386b4f8881850023c6b39c35": {
      "model_module": "jupyter-leaflet",
      "model_module_version": "~0.9.0",
      "model_name": "LeafletWMSLayerModel",
      "state": {
       "_model_module_version": "~0.9.0",
       "_view_count": null,
       "_view_module_version": "~0.9.0",
       "layers": "nasa:bluemarble",
       "name": "nasa:bluemarble",
       "options": [
        "styles",
        "crs",
        "attribution",
        "layers",
        "uppercase",
        "format",
        "max_zoom",
        "detect_retina",
        "min_zoom",
        "tile_size",
        "transparent"
       ],
       "url": "https://demo.boundlessgeo.com/geoserver/ows?"
      }
     },
     "d6ac34bdfb0c4bcb8e72465e11e223dd": {
      "model_module": "@jupyter-widgets/base",
      "model_module_version": "1.1.0",
      "model_name": "LayoutModel",
      "state": {}
     },
     "d75e7eb853ce4a0aa45dc1e7f5c37b10": {
      "model_module": "@jupyter-widgets/controls",
      "model_module_version": "1.3.0",
      "model_name": "IntSliderModel",
      "state": {
       "continuous_update": false,
       "description": "Lon:",
       "layout": "IPY_MODEL_810f5bf79fa8458bb8187ae6ad9b5906",
       "max": 153,
       "min": 113,
       "style": "IPY_MODEL_bf5d26c64d5d46b9a5fe2b5673a15357",
       "value": 151
      }
     },
     "d780229471b340ba939831d8f634bb88": {
      "model_module": "jupyter-leaflet",
      "model_module_version": "~0.9.0",
      "model_name": "LeafletWMSLayerModel",
      "state": {
       "_model_module_version": "~0.9.0",
       "_view_count": null,
       "_view_module_version": "~0.9.0",
       "layers": "LS5:GEOMEDIAN:FALSE",
       "name": "LS5:GEOMEDIAN:FALSE",
       "options": [
        "styles",
        "crs",
        "attribution",
        "layers",
        "uppercase",
        "format",
        "max_zoom",
        "detect_retina",
        "min_zoom",
        "tile_size",
        "transparent"
       ],
       "tile_size": 35,
       "transparent": true,
       "url": "http://gsky.nci.org.au/ows"
      }
     },
     "d796356661354dfda456f48db7e093b3": {
      "model_module": "@jupyter-widgets/base",
      "model_module_version": "1.1.0",
      "model_name": "LayoutModel",
      "state": {}
     },
     "d934968024864fcb91131940f6bbc0c6": {
      "model_module": "@jupyter-widgets/controls",
      "model_module_version": "1.3.0",
      "model_name": "FloatTextModel",
      "state": {
       "layout": "IPY_MODEL_38f591b9248c4377b89e4629197d68d0",
       "step": null,
       "style": "IPY_MODEL_a78da21312964904b5b3a8dcf3c3de14",
       "value": -12
      }
     },
     "d9350ee2db9649a7b4f9d301b377cf55": {
      "model_module": "@jupyter-widgets/base",
      "model_module_version": "1.1.0",
      "model_name": "LayoutModel",
      "state": {}
     },
     "d991a8444f2f4b289410e8e8de27d4ae": {
      "model_module": "@jupyter-widgets/controls",
      "model_module_version": "1.3.0",
      "model_name": "SelectModel",
      "state": {
       "_options_labels": [
        "LS5:GEOMEDIAN:FALSE",
        "LS5:GEOMEDIAN:TRUE",
        "LS5:NBAR:FALSE",
        "LS5:NBAR:TRUE",
        "LS5:NBART:FALSE",
        "LS5:NBART:TRUE",
        "LS7:GEOMEDIAN:FALSE",
        "LS7:GEOMEDIAN:TRUE",
        "LS7:NBAR:FALSE",
        "LS7:NBAR:TRUE",
        "LS7:NBART:FALSE",
        "LS7:NBART:TRUE",
        "LS8:GEOMEDIAN:FALSE",
        "LS8:GEOMEDIAN:TRUE",
        "LS8:NBAR:FALSE",
        "LS8:NBAR:TRUE",
        "LS8:NBART:FALSE",
        "LS8:NBART:TRUE",
        "hltc:high:fc",
        "hltc:high:tc",
        "hltc:low:fc",
        "hltc:low:tc",
        "item:relative",
        "item:stddev"
       ],
       "description": "Layer:",
       "index": 3,
       "layout": "IPY_MODEL_f009422519254d9484e89a25ca2274f7",
       "style": "IPY_MODEL_16901f529e4342f6aa4ab77cfb9caac0"
      }
     },
     "da1d9d55bcd54619b68bbad6f0f55741": {
      "model_module": "@jupyter-widgets/base",
      "model_module_version": "1.1.0",
      "model_name": "LayoutModel",
      "state": {}
     },
     "da61fe5188cb45049bf3d105b150376f": {
      "model_module": "jupyter-leaflet",
      "model_module_version": "~0.9.0",
      "model_name": "LeafletMapModel",
      "state": {
       "_dom_classes": [],
       "_model_module_version": "~0.9.0",
       "_view_count": null,
       "_view_module_version": "~0.9.0",
       "basemap": {
        "attribution": "Map data (c) <a href=\"https://openstreetmap.org\">OpenStreetMap</a> contributors",
        "max_zoom": 19,
        "url": "https://{s}.tile.openstreetmap.org/{z}/{x}/{y}.png"
       },
       "center": [
        -34.99400375757576,
        149.00756835937503
       ],
       "east": 159.78515625000003,
       "interpolation": "bilinear",
       "layers": [
        "IPY_MODEL_4062c2182f424b8ba5c2b6799964551d"
       ],
       "layout": "IPY_MODEL_f6dce4d79e3b44dcbffd40f4c4d641eb",
       "modisdate": "yesterday",
       "north": -31.316101383495635,
       "options": [
        "keyboard_pan_offset",
        "tap",
        "attribution_control",
        "max_zoom",
        "min_zoom",
        "bounce_at_zoom_limits",
        "keyboard",
        "scroll_wheel_zoom",
        "dragging",
        "inertia_max_speed",
        "close_popup_on_click",
        "zoom_control",
        "box_zoom",
        "double_click_zoom",
        "interpolation",
        "tap_tolerance",
        "zoom_start",
        "keyboard_zoom_offset",
        "inertia_deceleration",
        "inertia",
        "center",
        "zoom",
        "world_copy_jump",
        "zoom_animation_threshold",
        "touch_zoom",
        "basemap"
       ],
       "south": -38.51378825951164,
       "west": 138.22998046875003,
       "zoom": 6
      }
     },
     "daa978c788334881960fb1e1fcb2e021": {
      "model_module": "jupyter-leaflet",
      "model_module_version": "~0.9.0",
      "model_name": "LeafletWMSLayerModel",
      "state": {
       "_model_module_version": "~0.9.0",
       "_view_count": null,
       "_view_module_version": "~0.9.0",
       "layers": "LS8:GEOMEDIAN:FALSE",
       "name": "LS8:GEOMEDIAN:FALSE",
       "opacity": 0.75,
       "options": [
        "styles",
        "crs",
        "attribution",
        "layers",
        "uppercase",
        "format",
        "max_zoom",
        "detect_retina",
        "min_zoom",
        "tile_size",
        "transparent"
       ],
       "tile_size": 35,
       "transparent": true,
       "url": "http://gsky.nci.org.au/ows"
      }
     },
     "dab6c77296b045e39eec5e513593e696": {
      "model_module": "jupyter-leaflet",
      "model_module_version": "~0.9.0",
      "model_name": "LeafletWMSLayerModel",
      "state": {
       "_model_module_version": "~0.9.0",
       "_view_count": null,
       "_view_module_version": "~0.9.0",
       "layers": "LS8:GEOMEDIAN:FALSE",
       "name": "LS8:GEOMEDIAN:FALSE",
       "opacity": 0.75,
       "options": [
        "styles",
        "crs",
        "attribution",
        "layers",
        "uppercase",
        "format",
        "max_zoom",
        "detect_retina",
        "min_zoom",
        "tile_size",
        "transparent"
       ],
       "tile_size": 35,
       "transparent": true,
       "url": "http://gsky.nci.org.au/ows"
      }
     },
     "dc8024ee579b4245be3fab2b52c99356": {
      "model_module": "jupyter-leaflet",
      "model_module_version": "~0.9.0",
      "model_name": "LeafletLayersControlModel",
      "state": {
       "_model_module_version": "~0.9.0",
       "_view_count": null,
       "_view_module_version": "~0.9.0"
      }
     },
     "dd01feeaacb145669eb52879f0ecc088": {
      "model_module": "@jupyter-widgets/controls",
      "model_module_version": "1.3.0",
      "model_name": "DescriptionStyleModel",
      "state": {
       "description_width": ""
      }
     },
     "dd8b41f2b67c43de9237dfe95a51fcef": {
      "model_module": "jupyter-leaflet",
      "model_module_version": "~0.9.0",
      "model_name": "LeafletMapModel",
      "state": {
       "_dom_classes": [],
       "_model_module_version": "~0.9.0",
       "_view_count": null,
       "_view_module_version": "~0.9.0",
       "basemap": {
        "attribution": "Map data (c) <a href=\"https://openstreetmap.org\">OpenStreetMap</a> contributors",
        "max_zoom": 19,
        "url": "https://{s}.tile.openstreetmap.org/{z}/{x}/{y}.png"
       },
       "center": [
        -32,
        153
       ],
       "interpolation": "bilinear",
       "layers": [
        "IPY_MODEL_9177e749817647169182ab470c36cd11",
        "IPY_MODEL_5f80ec175c034473a7bb4f2466ebff85",
        "IPY_MODEL_2b7778a9b99c4968891a0298a81d208a",
        "IPY_MODEL_8a5abd7677e247ab809c891b1ab642c8"
       ],
       "layout": "IPY_MODEL_213a601727ff461989d913769639844b",
       "modisdate": "yesterday",
       "options": [
        "keyboard_pan_offset",
        "tap",
        "attribution_control",
        "max_zoom",
        "min_zoom",
        "bounce_at_zoom_limits",
        "keyboard",
        "scroll_wheel_zoom",
        "dragging",
        "inertia_max_speed",
        "close_popup_on_click",
        "zoom_control",
        "box_zoom",
        "double_click_zoom",
        "interpolation",
        "tap_tolerance",
        "zoom_start",
        "keyboard_zoom_offset",
        "inertia_deceleration",
        "inertia",
        "center",
        "zoom",
        "world_copy_jump",
        "zoom_animation_threshold",
        "touch_zoom",
        "basemap"
       ],
       "zoom": 6
      }
     },
     "de2e627589cd4cff8833521cb24679cd": {
      "model_module": "@jupyter-widgets/base",
      "model_module_version": "1.1.0",
      "model_name": "LayoutModel",
      "state": {}
     },
     "de85312b2ab54640a0e7aba93a196591": {
      "model_module": "jupyter-leaflet",
      "model_module_version": "~0.9.0",
      "model_name": "LeafletWMSLayerModel",
      "state": {
       "_model_module_version": "~0.9.0",
       "_view_count": null,
       "_view_module_version": "~0.9.0",
       "layers": "hltc:high:fc",
       "name": "hltc:high:fc",
       "options": [
        "styles",
        "crs",
        "attribution",
        "layers",
        "uppercase",
        "format",
        "max_zoom",
        "detect_retina",
        "min_zoom",
        "tile_size",
        "transparent"
       ],
       "url": "http://gsky.nci.org.au/ows"
      }
     },
     "de969b8044b5489b8c14947300421a58": {
      "model_module": "@jupyter-widgets/base",
      "model_module_version": "1.1.0",
      "model_name": "LayoutModel",
      "state": {}
     },
     "deffb67766cc4e3e92b9ed6fd37f4254": {
      "model_module": "jupyter-leaflet",
      "model_module_version": "~0.9.0",
      "model_name": "LeafletWMSLayerModel",
      "state": {
       "_model_module_version": "~0.9.0",
       "_view_count": null,
       "_view_module_version": "~0.9.0",
       "layers": "LS8:GEOMEDIAN:FALSE",
       "name": "LS8:GEOMEDIAN:FALSE",
       "opacity": 0.75,
       "options": [
        "styles",
        "crs",
        "attribution",
        "layers",
        "uppercase",
        "format",
        "max_zoom",
        "detect_retina",
        "min_zoom",
        "tile_size",
        "transparent"
       ],
       "tile_size": 35,
       "transparent": true,
       "url": "http://gsky.nci.org.au/ows"
      }
     },
     "dff39553a40f46d586622e6055f10efc": {
      "model_module": "@jupyter-widgets/base",
      "model_module_version": "1.1.0",
      "model_name": "LayoutModel",
      "state": {}
     },
     "dff7b157c8b74da885e83678b8a396d1": {
      "model_module": "@jupyter-widgets/base",
      "model_module_version": "1.1.0",
      "model_name": "LayoutModel",
      "state": {}
     },
     "e04098fb46f44834ac26be9b9085558d": {
      "model_module": "@jupyter-widgets/controls",
      "model_module_version": "1.3.0",
      "model_name": "DescriptionStyleModel",
      "state": {
       "description_width": ""
      }
     },
     "e0ea17e7781b425d9cfe1e52ae0cdcb7": {
      "model_module": "@jupyter-widgets/base",
      "model_module_version": "1.1.0",
      "model_name": "LayoutModel",
      "state": {}
     },
     "e0ee75e1d21e478d891ba74d0d3629d0": {
      "model_module": "@jupyter-widgets/base",
      "model_module_version": "1.1.0",
      "model_name": "LayoutModel",
      "state": {}
     },
     "e2100a5e503440e7b6564a6aaa7a670f": {
      "model_module": "@jupyter-widgets/controls",
      "model_module_version": "1.3.0",
      "model_name": "DescriptionStyleModel",
      "state": {
       "description_width": ""
      }
     },
     "e2b72c7b6d7049e8aeefd7c7ea647420": {
      "model_module": "@jupyter-widgets/controls",
      "model_module_version": "1.3.0",
      "model_name": "SelectModel",
      "state": {
       "_options_labels": [
        "LS5:GEOMEDIAN:FALSE",
        "LS5:GEOMEDIAN:TRUE",
        "LS5:NBAR:FALSE",
        "LS5:NBAR:TRUE",
        "LS5:NBART:FALSE",
        "LS5:NBART:TRUE",
        "LS7:GEOMEDIAN:FALSE",
        "LS7:GEOMEDIAN:TRUE",
        "LS7:NBAR:FALSE",
        "LS7:NBAR:TRUE",
        "LS7:NBART:FALSE",
        "LS7:NBART:TRUE",
        "LS8:GEOMEDIAN:FALSE",
        "LS8:GEOMEDIAN:TRUE",
        "LS8:NBAR:FALSE",
        "LS8:NBAR:TRUE",
        "LS8:NBART:FALSE",
        "LS8:NBART:TRUE",
        "hltc:high:fc",
        "hltc:high:tc",
        "hltc:low:fc",
        "hltc:low:tc",
        "item:relative",
        "item:stddev"
       ],
       "description": "Layer:",
       "index": 12,
       "layout": "IPY_MODEL_9c6d9710063d45abb7aed7b0c694becc",
       "style": "IPY_MODEL_6b0f0ae1b0f14ae4bdb03d1a262452be"
      }
     },
     "e2d2ab6bd55b47d19768b75647b89ea4": {
      "model_module": "jupyter-leaflet",
      "model_module_version": "~0.9.0",
      "model_name": "LeafletWMSLayerModel",
      "state": {
       "_model_module_version": "~0.9.0",
       "_view_count": null,
       "_view_module_version": "~0.9.0",
       "layers": "nasa:bluemarble",
       "name": "nasa:bluemarble",
       "options": [
        "styles",
        "crs",
        "attribution",
        "layers",
        "uppercase",
        "format",
        "max_zoom",
        "detect_retina",
        "min_zoom",
        "tile_size",
        "transparent"
       ],
       "url": "https://demo.boundlessgeo.com/geoserver/ows?"
      }
     },
     "e2daa38a149549be90f7834fedcbdc65": {
      "model_module": "@jupyter-widgets/controls",
      "model_module_version": "1.3.0",
      "model_name": "SliderStyleModel",
      "state": {
       "description_width": ""
      }
     },
     "e2eb0e4824724a9fb0325b48990be1c0": {
      "model_module": "@jupyter-widgets/base",
      "model_module_version": "1.1.0",
      "model_name": "LayoutModel",
      "state": {}
     },
     "e34322ca1a0b49e48e7095ad4140e4c6": {
      "model_module": "@jupyter-widgets/output",
      "model_module_version": "1.0.0",
      "model_name": "OutputModel",
      "state": {
       "layout": "IPY_MODEL_0814086e56d744f4ae48d994aeaa336d",
       "outputs": [
        {
         "data": {
          "application/vnd.jupyter.widget-view+json": {
           "model_id": "fc78d5261e324a0383c5f4b00f6b8684",
           "version_major": 2,
           "version_minor": 0
          },
          "text/plain": "U2VsZWN0KGRlc2NyaXB0aW9uPXUnTGF5ZXI6Jywgb3B0aW9ucz0oJ0xTNTpHRU9NRURJQU46RkFMU0UnLCAnTFM1OkdFT01FRElBTjpUUlVFJywgJ0xTNTpOQkFSOkZBTFNFJywgJ0xTNTpOQkHigKY=\n"
         },
         "metadata": {},
         "output_type": "display_data"
        },
        {
         "data": {
          "text/plain": "(None, 'LS5:GEOMEDIAN:FALSE')"
         },
         "metadata": {},
         "output_type": "display_data"
        }
       ]
      }
     },
     "e4451dc022444c489a14de6c99a308b4": {
      "model_module": "jupyter-leaflet",
      "model_module_version": "~0.9.0",
      "model_name": "LeafletWMSLayerModel",
      "state": {
       "_model_module_version": "~0.9.0",
       "_view_count": null,
       "_view_module_version": "~0.9.0",
       "layers": "LS8:GEOMEDIAN:FALSE",
       "name": "LS8:GEOMEDIAN:FALSE",
       "options": [
        "styles",
        "crs",
        "attribution",
        "layers",
        "uppercase",
        "format",
        "max_zoom",
        "detect_retina",
        "min_zoom",
        "tile_size",
        "transparent"
       ],
       "tile_size": 35,
       "transparent": true,
       "url": "http://gsky.nci.org.au/ows"
      }
     },
     "e4828374eb124e59823da4cfe5d5eccf": {
      "model_module": "@jupyter-widgets/controls",
      "model_module_version": "1.3.0",
      "model_name": "SliderStyleModel",
      "state": {
       "description_width": ""
      }
     },
     "e4b69f6441c142b481f83398f5e5c005": {
      "model_module": "jupyter-leaflet",
      "model_module_version": "~0.9.0",
      "model_name": "LeafletTileLayerModel",
      "state": {
       "_model_module_version": "~0.9.0",
       "_view_count": null,
       "_view_module_version": "~0.9.0",
       "base": true,
       "max_zoom": 19,
       "min_zoom": 1,
       "options": [
        "attribution",
        "tile_size",
        "min_zoom",
        "max_zoom",
        "detect_retina"
       ]
      }
     },
     "e5ee85d7aa48485dbd0a7c1e013bb389": {
      "model_module": "jupyter-leaflet",
      "model_module_version": "~0.9.0",
      "model_name": "LeafletTileLayerModel",
      "state": {
       "_model_module_version": "~0.9.0",
       "_view_count": null,
       "_view_module_version": "~0.9.0",
       "options": [
        "attribution",
        "tile_size",
        "min_zoom",
        "max_zoom",
        "detect_retina"
       ]
      }
     },
     "e621394e98d6438e935a1dc1254704ef": {
      "model_module": "jupyter-leaflet",
      "model_module_version": "~0.9.0",
      "model_name": "LeafletWMSLayerModel",
      "state": {
       "_model_module_version": "~0.9.0",
       "_view_count": null,
       "_view_module_version": "~0.9.0",
       "layers": "nasa:bluemarble",
       "name": "nasa:bluemarble",
       "options": [
        "styles",
        "crs",
        "attribution",
        "layers",
        "uppercase",
        "format",
        "max_zoom",
        "detect_retina",
        "min_zoom",
        "tile_size",
        "transparent"
       ],
       "url": "https://demo.boundlessgeo.com/geoserver/ows?"
      }
     },
     "e653a48834924ee693f32e3f4f741a95": {
      "model_module": "jupyter-leaflet",
      "model_module_version": "~0.9.0",
      "model_name": "LeafletWMSLayerModel",
      "state": {
       "_model_module_version": "~0.9.0",
       "_view_count": null,
       "_view_module_version": "~0.9.0",
       "layers": "nasa:bluemarble",
       "name": "nasa:bluemarble",
       "options": [
        "styles",
        "crs",
        "attribution",
        "layers",
        "uppercase",
        "format",
        "max_zoom",
        "detect_retina",
        "min_zoom",
        "tile_size",
        "transparent"
       ],
       "url": "https://demo.boundlessgeo.com/geoserver/ows?"
      }
     },
     "e686c7d8dc65424db80850b9c46b344b": {
      "model_module": "jupyter-leaflet",
      "model_module_version": "~0.9.0",
      "model_name": "LeafletMapModel",
      "state": {
       "_dom_classes": [],
       "_model_module_version": "~0.9.0",
       "_view_count": null,
       "_view_module_version": "~0.9.0",
       "basemap": {
        "attribution": "Map data (c) <a href=\"https://openstreetmap.org\">OpenStreetMap</a> contributors",
        "max_zoom": 19,
        "url": "https://{s}.tile.openstreetmap.org/{z}/{x}/{y}.png"
       },
       "center": [
        -32,
        153
       ],
       "interpolation": "bilinear",
       "layers": [
        "IPY_MODEL_1da1b88474bd4c8fbe8ad9b4026df60e",
        "IPY_MODEL_dab6c77296b045e39eec5e513593e696"
       ],
       "layout": "IPY_MODEL_7cd29eeffdca44e890e8a828e143d2b5",
       "modisdate": "yesterday",
       "options": [
        "keyboard_pan_offset",
        "tap",
        "attribution_control",
        "max_zoom",
        "min_zoom",
        "bounce_at_zoom_limits",
        "keyboard",
        "scroll_wheel_zoom",
        "dragging",
        "inertia_max_speed",
        "close_popup_on_click",
        "zoom_control",
        "box_zoom",
        "double_click_zoom",
        "interpolation",
        "tap_tolerance",
        "zoom_start",
        "keyboard_zoom_offset",
        "inertia_deceleration",
        "inertia",
        "center",
        "zoom",
        "world_copy_jump",
        "zoom_animation_threshold",
        "touch_zoom",
        "basemap"
       ],
       "zoom": 6
      }
     },
     "e74d5ffe419f4f4b8272427b7ad91896": {
      "model_module": "@jupyter-widgets/base",
      "model_module_version": "1.1.0",
      "model_name": "LayoutModel",
      "state": {}
     },
     "e7b2c56b1b2545de98b4a3995f6b3425": {
      "model_module": "jupyter-leaflet",
      "model_module_version": "~0.9.0",
      "model_name": "LeafletWMSLayerModel",
      "state": {
       "_model_module_version": "~0.9.0",
       "_view_count": null,
       "_view_module_version": "~0.9.0",
       "layers": "hltc:high:tc",
       "name": "hltc:high:tc",
       "options": [
        "styles",
        "crs",
        "attribution",
        "layers",
        "uppercase",
        "format",
        "max_zoom",
        "detect_retina",
        "min_zoom",
        "tile_size",
        "transparent"
       ],
       "transparent": true,
       "url": "http://gsky.nci.org.au/ows"
      }
     },
     "e7d0f2951f7d47fdab245f4b306495da": {
      "model_module": "@jupyter-widgets/controls",
      "model_module_version": "1.3.0",
      "model_name": "DescriptionStyleModel",
      "state": {
       "description_width": ""
      }
     },
     "e8199b3d70c74ec2aee01de4b7e005bb": {
      "model_module": "@jupyter-widgets/base",
      "model_module_version": "1.1.0",
      "model_name": "LayoutModel",
      "state": {}
     },
     "e82b62f39dd04413b5077b425e820bad": {
      "model_module": "@jupyter-widgets/base",
      "model_module_version": "1.1.0",
      "model_name": "LayoutModel",
      "state": {}
     },
     "e89ee285c92841a48053bfe5e47cb0ed": {
      "model_module": "jupyter-leaflet",
      "model_module_version": "~0.9.0",
      "model_name": "LeafletWMSLayerModel",
      "state": {
       "_model_module_version": "~0.9.0",
       "_view_count": null,
       "_view_module_version": "~0.9.0",
       "layers": "hltc:ht:fc",
       "name": "hltc:ht:fc",
       "options": [
        "styles",
        "crs",
        "attribution",
        "layers",
        "uppercase",
        "format",
        "max_zoom",
        "detect_retina",
        "min_zoom",
        "tile_size",
        "transparent"
       ],
       "transparent": true,
       "url": "http://gsky.nci.org.au/ows"
      }
     },
     "e9a705ea16324982ae0c48cdae069cfc": {
      "model_module": "jupyter-leaflet",
      "model_module_version": "~0.9.0",
      "model_name": "LeafletWMSLayerModel",
      "state": {
       "_model_module_version": "~0.9.0",
       "_view_count": null,
       "_view_module_version": "~0.9.0",
       "layers": "LS5:NBART:TRUE",
       "options": [
        "styles",
        "crs",
        "attribution",
        "layers",
        "uppercase",
        "format",
        "max_zoom",
        "detect_retina",
        "min_zoom",
        "tile_size",
        "transparent"
       ],
       "transparent": true,
       "url": "http://gsky.nci.org.au/ows"
      }
     },
     "e9e13e94043746ad8c4f85cb996ab9c0": {
      "model_module": "@jupyter-widgets/controls",
      "model_module_version": "1.3.0",
      "model_name": "IntSliderModel",
      "state": {
       "continuous_update": false,
       "description": "Lat:",
       "layout": "IPY_MODEL_85a2f09246814dab85329094782c26fb",
       "max": -10,
       "min": -43,
       "style": "IPY_MODEL_4f72e168db0c4d17afef515a5ae058ca",
       "value": -35
      }
     },
     "e9ec3a2b751e4a87b6c154f1975a077d": {
      "model_module": "jupyter-leaflet",
      "model_module_version": "~0.9.0",
      "model_name": "LeafletLayersControlModel",
      "state": {
       "_model_module_version": "~0.9.0",
       "_view_count": null,
       "_view_module_version": "~0.9.0"
      }
     },
     "ea8d6033bf22499bb1044e4bb4d1a1b1": {
      "model_module": "jupyter-leaflet",
      "model_module_version": "~0.9.0",
      "model_name": "LeafletWMSLayerModel",
      "state": {
       "_model_module_version": "~0.9.0",
       "_view_count": null,
       "_view_module_version": "~0.9.0",
       "layers": "nasa:bluemarble",
       "name": "nasa:bluemarble",
       "options": [
        "styles",
        "crs",
        "attribution",
        "layers",
        "uppercase",
        "format",
        "max_zoom",
        "detect_retina",
        "min_zoom",
        "tile_size",
        "transparent"
       ],
       "url": "https://demo.boundlessgeo.com/geoserver/ows?"
      }
     },
     "ec8d223627144f34918036ad62bdbac9": {
      "model_module": "@jupyter-widgets/base",
      "model_module_version": "1.1.0",
      "model_name": "LayoutModel",
      "state": {}
     },
     "ed5b1a01d002472fafe02253b65ec8f3": {
      "model_module": "@jupyter-widgets/controls",
      "model_module_version": "1.3.0",
      "model_name": "IntSliderModel",
      "state": {
       "continuous_update": false,
       "description": "Lat:",
       "layout": "IPY_MODEL_3ee2b9b11eae491a88675296c62fbfb7",
       "max": -10,
       "min": -43,
       "style": "IPY_MODEL_a3f8ed8abe314871a46b689d69de8aa2",
       "value": -32
      }
     },
     "edbed73da60b457b84d246a5e9228af0": {
      "model_module": "@jupyter-widgets/controls",
      "model_module_version": "1.3.0",
      "model_name": "IntSliderModel",
      "state": {
       "continuous_update": false,
       "description": "Lon:",
       "layout": "IPY_MODEL_256450381c534155be9746d9c05b17c5",
       "max": 153,
       "min": 113,
       "style": "IPY_MODEL_15a8af287c1c484483505dd300338e6d",
       "value": 148
      }
     },
     "edc8561667c945f2b4385f3791269523": {
      "model_module": "@jupyter-widgets/base",
      "model_module_version": "1.1.0",
      "model_name": "LayoutModel",
      "state": {}
     },
     "ee8e946a60ab4563ada09c8d48f902fb": {
      "model_module": "jupyter-leaflet",
      "model_module_version": "~0.9.0",
      "model_name": "LeafletWMSLayerModel",
      "state": {
       "_model_module_version": "~0.9.0",
       "_view_count": null,
       "_view_module_version": "~0.9.0",
       "layers": "nasa:bluemarble",
       "name": "nasa:bluemarble",
       "options": [
        "styles",
        "crs",
        "attribution",
        "layers",
        "uppercase",
        "format",
        "max_zoom",
        "detect_retina",
        "min_zoom",
        "tile_size",
        "transparent"
       ],
       "url": "https://demo.boundlessgeo.com/geoserver/ows?"
      }
     },
     "ef130987528b4b78908ff4447be6d792": {
      "model_module": "@jupyter-widgets/controls",
      "model_module_version": "1.3.0",
      "model_name": "SelectModel",
      "state": {
       "_options_labels": [
        "LS5:GEOMEDIAN:FALSE",
        "LS5:GEOMEDIAN:TRUE",
        "LS5:NBAR:FALSE",
        "LS5:NBAR:TRUE",
        "LS5:NBART:FALSE",
        "LS5:NBART:TRUE",
        "LS7:GEOMEDIAN:FALSE",
        "LS7:GEOMEDIAN:TRUE",
        "LS7:NBAR:FALSE",
        "LS7:NBAR:TRUE",
        "LS7:NBART:FALSE",
        "LS7:NBART:TRUE",
        "LS8:GEOMEDIAN:FALSE",
        "LS8:GEOMEDIAN:TRUE",
        "LS8:NBAR:FALSE",
        "LS8:NBAR:TRUE",
        "LS8:NBART:FALSE",
        "LS8:NBART:TRUE",
        "hltc:high:fc",
        "hltc:high:tc",
        "hltc:low:fc",
        "hltc:low:tc",
        "item:relative",
        "item:stddev"
       ],
       "description": "Layer:",
       "index": 12,
       "layout": "IPY_MODEL_a92737edce4e4c008165ac1540faefe2",
       "style": "IPY_MODEL_4986e6ec35a8493b99b58229fbbbe8fc"
      }
     },
     "ef8ee4bcbc9b430e901440b38c75cd46": {
      "model_module": "@jupyter-widgets/controls",
      "model_module_version": "1.3.0",
      "model_name": "LinkModel",
      "state": {
       "source": [
        "IPY_MODEL_d934968024864fcb91131940f6bbc0c6",
        "value"
       ],
       "target": [
        "IPY_MODEL_57f9d28f07e04741aef524ab679dd00d",
        "value"
       ]
      }
     },
     "ef99ce6cc85f4f17bf4e91385d8a1dad": {
      "model_module": "jupyter-leaflet",
      "model_module_version": "~0.9.0",
      "model_name": "LeafletLayersControlModel",
      "state": {
       "_model_module_version": "~0.9.0",
       "_view_count": null,
       "_view_module_version": "~0.9.0"
      }
     },
     "eff207a005034269b4bd57043829884f": {
      "model_module": "@jupyter-widgets/controls",
      "model_module_version": "1.3.0",
      "model_name": "DescriptionStyleModel",
      "state": {
       "description_width": ""
      }
     },
     "f009422519254d9484e89a25ca2274f7": {
      "model_module": "@jupyter-widgets/base",
      "model_module_version": "1.1.0",
      "model_name": "LayoutModel",
      "state": {}
     },
     "f0b524f1398243cba0e390a4c607eb97": {
      "model_module": "jupyter-leaflet",
      "model_module_version": "~0.9.0",
      "model_name": "LeafletWMSLayerModel",
      "state": {
       "_model_module_version": "~0.9.0",
       "_view_count": null,
       "_view_module_version": "~0.9.0",
       "layers": "nasa:bluemarble",
       "name": "nasa:bluemarble",
       "options": [
        "styles",
        "crs",
        "attribution",
        "layers",
        "uppercase",
        "format",
        "max_zoom",
        "detect_retina",
        "min_zoom",
        "tile_size",
        "transparent"
       ],
       "url": "https://demo.boundlessgeo.com/geoserver/ows?"
      }
     },
     "f1475769f79f4cada9dbb8f6726957c0": {
      "model_module": "@jupyter-widgets/base",
      "model_module_version": "1.1.0",
      "model_name": "LayoutModel",
      "state": {}
     },
     "f152b68075de4dad85fe43c765561969": {
      "model_module": "@jupyter-widgets/base",
      "model_module_version": "1.1.0",
      "model_name": "LayoutModel",
      "state": {}
     },
     "f15bf995eada4f2cb8617b921f2cda4e": {
      "model_module": "@jupyter-widgets/base",
      "model_module_version": "1.1.0",
      "model_name": "LayoutModel",
      "state": {}
     },
     "f1a18ec5401b4dfaae811b59da3f125c": {
      "model_module": "@jupyter-widgets/controls",
      "model_module_version": "1.3.0",
      "model_name": "DescriptionStyleModel",
      "state": {
       "description_width": ""
      }
     },
     "f1f3a8f5c98249e79ad84a5e9efa7514": {
      "model_module": "@jupyter-widgets/base",
      "model_module_version": "1.1.0",
      "model_name": "LayoutModel",
      "state": {}
     },
     "f262bcc3a7e546c5a6fb2f06c9eef206": {
      "model_module": "jupyter-leaflet",
      "model_module_version": "~0.9.0",
      "model_name": "LeafletWMSLayerModel",
      "state": {
       "_model_module_version": "~0.9.0",
       "_view_count": null,
       "_view_module_version": "~0.9.0",
       "layers": "hltc:high:fc",
       "name": "LS8:GEOMEDIAN:FALSE",
       "options": [
        "styles",
        "crs",
        "attribution",
        "layers",
        "uppercase",
        "format",
        "max_zoom",
        "detect_retina",
        "min_zoom",
        "tile_size",
        "transparent"
       ],
       "url": "http://gsky.nci.org.au/ows"
      }
     },
     "f2a79157bcc84ab381929edb4979125d": {
      "model_module": "jupyter-leaflet",
      "model_module_version": "~0.9.0",
      "model_name": "LeafletWMSLayerModel",
      "state": {
       "_model_module_version": "~0.9.0",
       "_view_count": null,
       "_view_module_version": "~0.9.0",
       "layers": "LS8:NBAR:TRUE",
       "name": "LS8:NBAR:TRUE",
       "options": [
        "styles",
        "crs",
        "attribution",
        "layers",
        "uppercase",
        "format",
        "max_zoom",
        "detect_retina",
        "min_zoom",
        "tile_size",
        "transparent"
       ],
       "tile_size": 35,
       "transparent": true,
       "url": "http://gsky.nci.org.au/ows"
      }
     },
     "f2ee8acc4db340bd81e260a029212ad0": {
      "model_module": "jupyter-leaflet",
      "model_module_version": "~0.9.0",
      "model_name": "LeafletMapModel",
      "state": {
       "_dom_classes": [],
       "_model_module_version": "~0.9.0",
       "_view_count": null,
       "_view_module_version": "~0.9.0",
       "basemap": {
        "attribution": "Map data (c) <a href=\"https://openstreetmap.org\">OpenStreetMap</a> contributors",
        "max_zoom": 19,
        "url": "https://{s}.tile.openstreetmap.org/{z}/{x}/{y}.png"
       },
       "center": [
        -32.00108860754043,
        153.00109863281253
       ],
       "controls": [
        "IPY_MODEL_44d60f8c79e242efaa0030dbd169050a"
       ],
       "east": -180,
       "interpolation": "bilinear",
       "layers": [
        "IPY_MODEL_2b7778a9b99c4968891a0298a81d208a",
        "IPY_MODEL_8a5abd7677e247ab809c891b1ab642c8",
        "IPY_MODEL_7aa54e55a06e4822a554740868d1c9a1"
       ],
       "layout": "IPY_MODEL_386d446fdd9a4938a31e850a4d53b5c3",
       "modisdate": "yesterday",
       "north": -90,
       "options": [
        "keyboard_pan_offset",
        "tap",
        "attribution_control",
        "max_zoom",
        "min_zoom",
        "bounce_at_zoom_limits",
        "keyboard",
        "scroll_wheel_zoom",
        "dragging",
        "inertia_max_speed",
        "close_popup_on_click",
        "zoom_control",
        "box_zoom",
        "double_click_zoom",
        "interpolation",
        "tap_tolerance",
        "zoom_start",
        "keyboard_zoom_offset",
        "inertia_deceleration",
        "inertia",
        "center",
        "zoom",
        "world_copy_jump",
        "zoom_animation_threshold",
        "touch_zoom",
        "basemap"
       ],
       "south": 90,
       "west": 180,
       "zoom": 9
      }
     },
     "f315f045d30842f889ea1df79d21d606": {
      "model_module": "@jupyter-widgets/base",
      "model_module_version": "1.1.0",
      "model_name": "LayoutModel",
      "state": {}
     },
     "f3c6c48334634631a4e6698ae1781506": {
      "model_module": "jupyter-leaflet",
      "model_module_version": "~0.9.0",
      "model_name": "LeafletTileLayerModel",
      "state": {
       "_model_module_version": "~0.9.0",
       "_view_count": null,
       "_view_module_version": "~0.9.0",
       "base": true,
       "max_zoom": 19,
       "min_zoom": 1,
       "options": [
        "attribution",
        "tile_size",
        "min_zoom",
        "max_zoom",
        "detect_retina"
       ]
      }
     },
     "f46095d68e274b9ea3ed302958ba4d26": {
      "model_module": "@jupyter-widgets/controls",
      "model_module_version": "1.3.0",
      "model_name": "SelectModel",
      "state": {
       "_options_labels": [
        "2014-01-01T00:00:00.000Z",
        "2015-01-01T00:00:00.000Z",
        "2016-01-01T00:00:00.000Z",
        "2017-01-01T00:00:00.000Z"
       ],
       "description": "Date:",
       "index": 3,
       "layout": "IPY_MODEL_469e9acf019a4d67b570c85569aed8c5",
       "style": "IPY_MODEL_eff207a005034269b4bd57043829884f"
      }
     },
     "f49ca961bf004f8e8a3c8c295e995eb0": {
      "model_module": "@jupyter-widgets/controls",
      "model_module_version": "1.3.0",
      "model_name": "IntSliderModel",
      "state": {
       "continuous_update": false,
       "description": "Lat:",
       "layout": "IPY_MODEL_ffe3cf224e9a4d91a4917c2a47021b16",
       "max": -10,
       "min": -43,
       "style": "IPY_MODEL_13193e87a5cc4386a322752227028a9d",
       "value": -35
      }
     },
     "f4c0b9107a094dfabcc6f5870b7bde16": {
      "model_module": "@jupyter-widgets/base",
      "model_module_version": "1.1.0",
      "model_name": "LayoutModel",
      "state": {}
     },
     "f5a571462ad24b53b7c0c5f2ecff8273": {
      "model_module": "@jupyter-widgets/controls",
      "model_module_version": "1.3.0",
      "model_name": "DescriptionStyleModel",
      "state": {
       "description_width": ""
      }
     },
     "f5c1a36a2c544c6d841e98d62217f543": {
      "model_module": "@jupyter-widgets/base",
      "model_module_version": "1.1.0",
      "model_name": "LayoutModel",
      "state": {}
     },
     "f629435ea240413f97ecc0429e915ad8": {
      "model_module": "jupyter-leaflet",
      "model_module_version": "~0.9.0",
      "model_name": "LeafletWMSLayerModel",
      "state": {
       "_model_module_version": "~0.9.0",
       "_view_count": null,
       "_view_module_version": "~0.9.0",
       "layers": "hltc:high:tc",
       "name": "hltc:high:tc",
       "options": [
        "styles",
        "crs",
        "attribution",
        "layers",
        "uppercase",
        "format",
        "max_zoom",
        "detect_retina",
        "min_zoom",
        "tile_size",
        "transparent"
       ],
       "transparent": true,
       "url": "http://gsky.nci.org.au/ows"
      }
     },
     "f6dce4d79e3b44dcbffd40f4c4d641eb": {
      "model_module": "@jupyter-widgets/base",
      "model_module_version": "1.1.0",
      "model_name": "LayoutModel",
      "state": {}
     },
     "f6ecb344d7e14028ba6aaeb3ce4b81a8": {
      "model_module": "@jupyter-widgets/base",
      "model_module_version": "1.1.0",
      "model_name": "LayoutModel",
      "state": {}
     },
     "f79a410641df4981816da21b5443c086": {
      "model_module": "@jupyter-widgets/controls",
      "model_module_version": "1.3.0",
      "model_name": "SelectModel",
      "state": {
       "_options_labels": [
        "LS5:GEOMEDIAN:FALSE",
        "LS5:GEOMEDIAN:TRUE",
        "LS5:NBAR:FALSE",
        "LS5:NBAR:TRUE",
        "LS5:NBART:FALSE",
        "LS5:NBART:TRUE",
        "LS7:GEOMEDIAN:FALSE",
        "LS7:GEOMEDIAN:TRUE",
        "LS7:NBAR:FALSE",
        "LS7:NBAR:TRUE",
        "LS7:NBART:FALSE",
        "LS7:NBART:TRUE",
        "LS8:GEOMEDIAN:FALSE",
        "LS8:GEOMEDIAN:TRUE",
        "LS8:NBAR:FALSE",
        "LS8:NBAR:TRUE",
        "LS8:NBART:FALSE",
        "LS8:NBART:TRUE",
        "hltc:high:fc",
        "hltc:high:tc",
        "hltc:low:fc",
        "hltc:low:tc",
        "item:relative",
        "item:stddev"
       ],
       "description": "Layer:",
       "index": 0,
       "layout": "IPY_MODEL_6d93c38e738841a5916aca9bcf6a43d7",
       "style": "IPY_MODEL_0f6ae38b68ac4c85948cd2dc2fa25dc3"
      }
     },
     "f8064779810240f49a6cd4f87eafa621": {
      "model_module": "@jupyter-widgets/controls",
      "model_module_version": "1.3.0",
      "model_name": "SelectModel",
      "state": {
       "_options_labels": [
        "LS5:GEOMEDIAN:FALSE",
        "LS5:GEOMEDIAN:TRUE",
        "LS5:NBAR:FALSE",
        "LS5:NBAR:TRUE",
        "LS5:NBART:FALSE",
        "LS5:NBART:TRUE",
        "LS7:GEOMEDIAN:FALSE",
        "LS7:GEOMEDIAN:TRUE",
        "LS7:NBAR:FALSE",
        "LS7:NBAR:TRUE",
        "LS7:NBART:FALSE",
        "LS7:NBART:TRUE",
        "LS8:GEOMEDIAN:FALSE",
        "LS8:GEOMEDIAN:TRUE",
        "LS8:NBAR:FALSE",
        "LS8:NBAR:TRUE",
        "LS8:NBART:FALSE",
        "LS8:NBART:TRUE",
        "hltc:high:fc",
        "hltc:high:tc",
        "hltc:low:fc",
        "hltc:low:tc",
        "item:relative",
        "item:stddev"
       ],
       "description": "Layer:",
       "index": 0,
       "layout": "IPY_MODEL_a788c459e45f410395cd552c32d6f649",
       "style": "IPY_MODEL_4e39328434d6419e81c6eb9ff7372fe1"
      }
     },
     "f860ae47bd5e4de4ab0c719c57c4d049": {
      "model_module": "@jupyter-widgets/controls",
      "model_module_version": "1.3.0",
      "model_name": "SelectModel",
      "state": {
       "_options_labels": [
        "2001-01-01T00:00:00.000Z",
        "2002-01-01T00:00:00.000Z",
        "2003-01-01T00:00:00.000Z",
        "2004-01-01T00:00:00.000Z",
        "2005-01-01T00:00:00.000Z",
        "2006-01-01T00:00:00.000Z",
        "2007-01-01T00:00:00.000Z",
        "2008-01-01T00:00:00.000Z",
        "2009-01-01T00:00:00.000Z",
        "2010-01-01T00:00:00.000Z",
        "2011-01-01T00:00:00.000Z",
        "2012-01-01T00:00:00.000Z",
        "2013-01-01T00:00:00.000Z",
        "2014-01-01T00:00:00.000Z",
        "2015-01-01T00:00:00.000Z",
        "2016-01-01T00:00:00.000Z",
        "2017-01-01T00:00:00.000Z"
       ],
       "description": "Date:",
       "index": 15,
       "layout": "IPY_MODEL_0a42ecf4270c4e98aca46c67a31269fc",
       "style": "IPY_MODEL_b40177c983a04cd0aa92090586ef08ae"
      }
     },
     "f8a9e3cdb7bf4f10ba400724a15270d0": {
      "model_module": "jupyter-leaflet",
      "model_module_version": "~0.9.0",
      "model_name": "LeafletMapModel",
      "state": {
       "_dom_classes": [],
       "_model_module_version": "~0.9.0",
       "_view_count": null,
       "_view_module_version": "~0.9.0",
       "basemap": {
        "attribution": "Map data (c) <a href=\"https://openstreetmap.org\">OpenStreetMap</a> contributors",
        "max_zoom": 19,
        "url": "https://{s}.tile.openstreetmap.org/{z}/{x}/{y}.png"
       },
       "center": [
        -10.001310360636928,
        113.00262451171876
       ],
       "east": -180,
       "interpolation": "bilinear",
       "layers": [
        "IPY_MODEL_076d7144a0484db3a524f5ab04cf271a",
        "IPY_MODEL_b49df963595949d990d0eec38e89d2c7"
       ],
       "layout": "IPY_MODEL_e0ee75e1d21e478d891ba74d0d3629d0",
       "modisdate": "yesterday",
       "north": -90,
       "options": [
        "keyboard_pan_offset",
        "tap",
        "attribution_control",
        "max_zoom",
        "min_zoom",
        "bounce_at_zoom_limits",
        "keyboard",
        "scroll_wheel_zoom",
        "dragging",
        "inertia_max_speed",
        "close_popup_on_click",
        "zoom_control",
        "box_zoom",
        "double_click_zoom",
        "interpolation",
        "tap_tolerance",
        "zoom_start",
        "keyboard_zoom_offset",
        "inertia_deceleration",
        "inertia",
        "center",
        "zoom",
        "world_copy_jump",
        "zoom_animation_threshold",
        "touch_zoom",
        "basemap"
       ],
       "south": 90,
       "west": 180,
       "zoom": 9
      }
     },
     "f95996efe94f42ec9b7f1f3385d6b5e5": {
      "model_module": "@jupyter-widgets/base",
      "model_module_version": "1.1.0",
      "model_name": "LayoutModel",
      "state": {}
     },
     "f98c0b0b74df45319e2599c36abf5918": {
      "model_module": "@jupyter-widgets/base",
      "model_module_version": "1.1.0",
      "model_name": "LayoutModel",
      "state": {}
     },
     "f99a16645b494c35b5960e0346e499fc": {
      "model_module": "@jupyter-widgets/controls",
      "model_module_version": "1.3.0",
      "model_name": "VBoxModel",
      "state": {
       "_dom_classes": [
        "widget-interact"
       ],
       "children": [
        "IPY_MODEL_8a6a6a7af6a94967ba778af44bbc7f38"
       ],
       "layout": "IPY_MODEL_f315f045d30842f889ea1df79d21d606"
      }
     },
     "f9eb4eb803984382888d213898a138fa": {
      "model_module": "jupyter-leaflet",
      "model_module_version": "~0.9.0",
      "model_name": "LeafletWMSLayerModel",
      "state": {
       "_model_module_version": "~0.9.0",
       "_view_count": null,
       "_view_module_version": "~0.9.0",
       "layers": "nasa:bluemarble",
       "name": "nasa:bluemarble",
       "options": [
        "styles",
        "crs",
        "attribution",
        "layers",
        "uppercase",
        "format",
        "max_zoom",
        "detect_retina",
        "min_zoom",
        "tile_size",
        "transparent"
       ],
       "url": "https://demo.boundlessgeo.com/geoserver/ows?"
      }
     },
     "f9feedf681864749a6c5e1a7e0f528f0": {
      "model_module": "@jupyter-widgets/base",
      "model_module_version": "1.1.0",
      "model_name": "LayoutModel",
      "state": {}
     },
     "fa58601dff8a4a7b873de9d08133d20e": {
      "model_module": "jupyter-leaflet",
      "model_module_version": "~0.9.0",
      "model_name": "LeafletLayersControlModel",
      "state": {
       "_model_module_version": "~0.9.0",
       "_view_count": null,
       "_view_module_version": "~0.9.0"
      }
     },
     "fa7ac12991ee498ca7b0d4785809ef51": {
      "model_module": "jupyter-leaflet",
      "model_module_version": "~0.9.0",
      "model_name": "LeafletTileLayerModel",
      "state": {
       "_model_module_version": "~0.9.0",
       "_view_count": null,
       "_view_module_version": "~0.9.0",
       "base": true,
       "max_zoom": 19,
       "min_zoom": 1,
       "options": [
        "attribution",
        "tile_size",
        "min_zoom",
        "max_zoom",
        "detect_retina"
       ]
      }
     },
     "fb0dbf3fe8b94f5bb6876c748b04745b": {
      "model_module": "@jupyter-widgets/base",
      "model_module_version": "1.1.0",
      "model_name": "LayoutModel",
      "state": {}
     },
     "fb42dfb3323a45f3b80e11b00b5060f1": {
      "model_module": "jupyter-leaflet",
      "model_module_version": "~0.9.0",
      "model_name": "LeafletMapModel",
      "state": {
       "_dom_classes": [],
       "_model_module_version": "~0.9.0",
       "_view_count": null,
       "_view_module_version": "~0.9.0",
       "basemap": {
        "attribution": "Map data (c) <a href=\"https://openstreetmap.org\">OpenStreetMap</a> contributors",
        "max_zoom": 19,
        "url": "https://{s}.tile.openstreetmap.org/{z}/{x}/{y}.png"
       },
       "center": [
        -34.54477024265587,
        150.9361837618053
       ],
       "controls": [
        "IPY_MODEL_6e6d9a367a4a4902a60749d069d44c1f"
       ],
       "east": 153.63058073446157,
       "interpolation": "bilinear",
       "layers": [
        "IPY_MODEL_e621394e98d6438e935a1dc1254704ef",
        "IPY_MODEL_4062c2182f424b8ba5c2b6799964551d",
        "IPY_MODEL_031bba481f9b4e0b97c730cd1725d549"
       ],
       "layout": "IPY_MODEL_4bfad03c25534a1494b0402d8d9d30f8",
       "modisdate": "yesterday",
       "north": -33.63494528920123,
       "options": [
        "keyboard_pan_offset",
        "tap",
        "attribution_control",
        "max_zoom",
        "min_zoom",
        "bounce_at_zoom_limits",
        "keyboard",
        "scroll_wheel_zoom",
        "dragging",
        "inertia_max_speed",
        "close_popup_on_click",
        "zoom_control",
        "box_zoom",
        "double_click_zoom",
        "interpolation",
        "tap_tolerance",
        "zoom_start",
        "keyboard_zoom_offset",
        "inertia_deceleration",
        "inertia",
        "center",
        "zoom",
        "world_copy_jump",
        "zoom_animation_threshold",
        "touch_zoom",
        "basemap"
       ],
       "south": -35.44475682266372,
       "west": 148.24178678914907,
       "zoom": 8
      }
     },
     "fbb6d7a3c0e747918ae479c65efba9e5": {
      "model_module": "jupyter-leaflet",
      "model_module_version": "~0.9.0",
      "model_name": "LeafletMapModel",
      "state": {
       "_dom_classes": [],
       "_model_module_version": "~0.9.0",
       "_view_count": null,
       "_view_module_version": "~0.9.0",
       "basemap": {
        "attribution": "Map data (c) <a href=\"https://openstreetmap.org\">OpenStreetMap</a> contributors",
        "max_zoom": 19,
        "url": "https://{s}.tile.openstreetmap.org/{z}/{x}/{y}.png"
       },
       "center": [
        -36.000229561780024,
        149.00207519531253
       ],
       "controls": [
        "IPY_MODEL_aa7856ddad5240a78ebc12d4c8f4ce63",
        "IPY_MODEL_63fc7a4a63114752a303ddf0c9b0bd49"
       ],
       "east": -180,
       "interpolation": "bilinear",
       "layers": [
        "IPY_MODEL_ee8e946a60ab4563ada09c8d48f902fb",
        "IPY_MODEL_8b6999f91b3e43e1927df52c8ef2ccbf",
        "IPY_MODEL_e7b2c56b1b2545de98b4a3995f6b3425"
       ],
       "layout": "IPY_MODEL_a47d5440c9eb4fb08be1e3767597124d",
       "modisdate": "yesterday",
       "north": -90,
       "options": [
        "keyboard_pan_offset",
        "tap",
        "attribution_control",
        "max_zoom",
        "min_zoom",
        "bounce_at_zoom_limits",
        "keyboard",
        "scroll_wheel_zoom",
        "dragging",
        "inertia_max_speed",
        "close_popup_on_click",
        "zoom_control",
        "box_zoom",
        "double_click_zoom",
        "interpolation",
        "tap_tolerance",
        "zoom_start",
        "keyboard_zoom_offset",
        "inertia_deceleration",
        "inertia",
        "center",
        "zoom",
        "world_copy_jump",
        "zoom_animation_threshold",
        "touch_zoom",
        "basemap"
       ],
       "south": 90,
       "west": 180,
       "zoom": 9
      }
     },
     "fbebdfb1cad54937bf42da79667ddfbe": {
      "model_module": "@jupyter-widgets/controls",
      "model_module_version": "1.3.0",
      "model_name": "SelectModel",
      "state": {
       "_options_labels": [
        "2014-01-01T00:00:00.000Z",
        "2015-01-01T00:00:00.000Z",
        "2016-01-01T00:00:00.000Z",
        "2017-01-01T00:00:00.000Z"
       ],
       "description": "Date:",
       "index": 0,
       "layout": "IPY_MODEL_f1475769f79f4cada9dbb8f6726957c0",
       "style": "IPY_MODEL_663d2d66a817446f870e17c92056e5ad"
      }
     },
     "fc78d5261e324a0383c5f4b00f6b8684": {
      "model_module": "@jupyter-widgets/controls",
      "model_module_version": "1.3.0",
      "model_name": "SelectModel",
      "state": {
       "_options_labels": [
        "LS5:GEOMEDIAN:FALSE",
        "LS5:GEOMEDIAN:TRUE",
        "LS5:NBAR:FALSE",
        "LS5:NBAR:TRUE",
        "LS5:NBART:FALSE",
        "LS5:NBART:TRUE",
        "LS7:GEOMEDIAN:FALSE",
        "LS7:GEOMEDIAN:TRUE",
        "LS7:NBAR:FALSE",
        "LS7:NBAR:TRUE",
        "LS7:NBART:FALSE",
        "LS7:NBART:TRUE",
        "LS8:GEOMEDIAN:FALSE",
        "LS8:GEOMEDIAN:TRUE",
        "LS8:NBAR:FALSE",
        "LS8:NBAR:TRUE",
        "LS8:NBART:FALSE",
        "LS8:NBART:TRUE",
        "hltc:high:fc",
        "hltc:high:tc",
        "hltc:low:fc",
        "hltc:low:tc",
        "item:relative",
        "item:stddev"
       ],
       "description": "Layer:",
       "index": 6,
       "layout": "IPY_MODEL_94ef2f1f7a534681a0ff10ae07cf1266",
       "style": "IPY_MODEL_62c30cc42e094778bbd41a15f3d58ff9"
      }
     },
     "ff127dcf6abc41e2bf484872c31ca897": {
      "model_module": "@jupyter-widgets/controls",
      "model_module_version": "1.3.0",
      "model_name": "DescriptionStyleModel",
      "state": {
       "description_width": ""
      }
     },
     "ff7acef492ce46afb16b20e6b9e8d626": {
      "model_module": "@jupyter-widgets/controls",
      "model_module_version": "1.3.0",
      "model_name": "SliderStyleModel",
      "state": {
       "description_width": ""
      }
     },
     "ffe3cf224e9a4d91a4917c2a47021b16": {
      "model_module": "@jupyter-widgets/base",
      "model_module_version": "1.1.0",
      "model_name": "LayoutModel",
      "state": {}
     }
    },
    "version_major": 2,
    "version_minor": 0
   }
  }
 },
 "nbformat": 4,
 "nbformat_minor": 2
}
